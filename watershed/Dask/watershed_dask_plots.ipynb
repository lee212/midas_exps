{
 "cells": [
  {
   "cell_type": "markdown",
   "metadata": {},
   "source": [
    "# Plots of Watershed Algorithm on Dask"
   ]
  },
  {
   "cell_type": "code",
   "execution_count": 2,
   "metadata": {},
   "outputs": [
    {
     "data": {
      "text/html": [
       "<style>.container { width:100% !important; }</style>"
      ],
      "text/plain": [
       "<IPython.core.display.HTML object>"
      ]
     },
     "metadata": {},
     "output_type": "display_data"
    }
   ],
   "source": [
    "%matplotlib inline\n",
    "import os\n",
    "import pandas as pd\n",
    "pd.options.display.width = 180\n",
    "import matplotlib.pyplot as plt\n",
    "from matplotlib import cm\n",
    "import glob\n",
    "from glob import glob\n",
    "\n",
    "from pprint import PrettyPrinter\n",
    "pp = PrettyPrinter(indent=4).pprint\n",
    "\n",
    "import numpy as np\n",
    "\n",
    "import ast\n",
    "from bokeh.palettes import viridis\n",
    "from toolz import valmap, merge, memoize\n",
    "import random\n",
    "import itertools\n",
    "\n",
    "blues   = cm.get_cmap(plt.get_cmap('Blues'))\n",
    "greens  = cm.get_cmap(plt.get_cmap('Greens'))\n",
    "reds    = cm.get_cmap(plt.get_cmap('Reds'))\n",
    "oranges = cm.get_cmap(plt.get_cmap('Oranges'))\n",
    "purples = cm.get_cmap(plt.get_cmap('Purples'))\n",
    "greys   = cm.get_cmap(plt.get_cmap('Greys'))\n",
    "\n",
    "from IPython.core.display import display, HTML\n",
    "display(HTML(\"<style>.container { width:100% !important; }</style>\"))\n",
    "\n",
    "import warnings\n",
    "warnings.filterwarnings('ignore')\n",
    "\n",
    "def merge_dicts(x, y):\n",
    "    z = x.copy()   # start with x's keys and values\n",
    "    z.update(y)    # modifies z with y's keys and values & returns None\n",
    "    return z"
   ]
  },
  {
   "cell_type": "code",
   "execution_count": 3,
   "metadata": {},
   "outputs": [],
   "source": [
    "# %load Dask_Profile_analyzer.py\n",
    "task_stream_palette = list(viridis(25))\n",
    "random.shuffle(task_stream_palette)\n",
    "\n",
    "counter = itertools.count()\n",
    "\n",
    "_incrementing_index_cache = dict()\n",
    "\n",
    "\n",
    "@memoize(cache=_incrementing_index_cache)\n",
    "def incrementing_index(o):\n",
    "    return next(counter)\n",
    "\n",
    "\n",
    "def color_of(o, palette=task_stream_palette):\n",
    "    return palette[incrementing_index(o) % len(palette)]\n",
    "\n",
    "def color_of_message(key):\n",
    "        return color_of(key)\n",
    "\n",
    "colors = {'transfer': 'red',\n",
    "          'disk-write': 'orange',\n",
    "          'disk-read': 'orange',\n",
    "          'deserialize': 'gray',\n",
    "          'compute': color_of_message}\n",
    "\n",
    "\n",
    "alphas = {'transfer': 0.4,\n",
    "          'compute': 1,\n",
    "          'deserialize': 0.4,\n",
    "          'disk-write': 0.4,\n",
    "          'disk-read': 0.4}\n",
    "\n",
    "\n",
    "prefix = {'transfer': 'transfer-',\n",
    "          'disk-write': 'disk-write-',\n",
    "          'disk-read': 'disk-read-',\n",
    "          'deserialize': 'deserialize-',\n",
    "          'compute': ''}\n",
    "\n",
    "\n",
    "def key_split(s):\n",
    "\n",
    "    if type(s) is bytes:\n",
    "        s = s.decode()\n",
    "    if type(s) is tuple:\n",
    "        s = s[0]\n",
    "    try:\n",
    "        words = s.split('-')\n",
    "        if not words[0][0].isalpha():\n",
    "            result = words[0].lstrip(\"'(\\\"\")\n",
    "        else:\n",
    "            result = words[0]\n",
    "        for word in words[1:]:\n",
    "            if word.isalpha() and not (len(word) == 8 and\n",
    "                                       hex_pattern.match(word) is not None):\n",
    "                result += '-' + word\n",
    "            else:\n",
    "                break\n",
    "        if len(result) == 32 and re.match(r'[a-f0-9]{32}', result):\n",
    "            return 'data'\n",
    "        else:\n",
    "            if result[0] == '<':\n",
    "                result = result.strip('<>').split()[0].split('.')[-1]\n",
    "            return result\n",
    "    except:\n",
    "        return 'Other'\n",
    "\n",
    "\n",
    "\n",
    "def daskprofiler(filename):\n",
    "\n",
    "    profFile = open(filename)\n",
    "    profiles = profFile.readlines()\n",
    "    buffer = [ast.literal_eval(x) for x in profiles]\n",
    "    workIds = {}\n",
    "    id = 1\n",
    "\n",
    "    L_start = []\n",
    "    L_stop = []\n",
    "    L_duration = []\n",
    "    L_key = []\n",
    "    L_action = []\n",
    "    L_name = []\n",
    "    L_color = []\n",
    "    L_alpha = []\n",
    "    L_y = []\n",
    "\n",
    "    for msg in buffer:\n",
    "        key = msg[0]\n",
    "        name = key_split(key)\n",
    "        startstops = msg[-1]\n",
    "        if not workIds.has_key(msg[3]):\n",
    "            workIds[msg[3]]=id\n",
    "            id+=1\n",
    "\n",
    "        for action, start, stop in startstops:\n",
    "            color = colors[action]\n",
    "            if type(color) is not str:\n",
    "                color = color(name)\n",
    "\n",
    "            L_start.append(start)\n",
    "            L_stop.append(stop)\n",
    "            L_duration.append((stop - start))\n",
    "            L_key.append(key)\n",
    "            L_action.append(action)\n",
    "            L_name.append(name)\n",
    "            L_color.append(color)\n",
    "            L_alpha.append(alphas[action])\n",
    "            L_y.append(workIds[msg[3]])\n",
    "\n",
    "\n",
    "    return pd.DataFrame.from_dict({'start': L_start,\n",
    "                                   'stop': L_stop,\n",
    "                                   'duration': L_duration,\n",
    "                                   'key': L_key,\n",
    "                                   'name': L_name,\n",
    "                                   'action':L_action,\n",
    "                                   'color': L_color,\n",
    "                                   'alpha': L_alpha,\n",
    "                                   'y': L_y\n",
    "                                  })"
   ]
  },
  {
   "cell_type": "markdown",
   "metadata": {},
   "source": [
    "Wrangle data from watershed dask runs"
   ]
  },
  {
   "cell_type": "code",
   "execution_count": 4,
   "metadata": {},
   "outputs": [],
   "source": [
    "folder = 'data_watershed_dask'\n",
    "weak_data_configs   = [{'config' : '24tasks_24cores',   'nodes' : 1},\n",
    "                       {'config' : '48tasks_48cores',   'nodes' : 2},\n",
    "                       {'config' : '96tasks_96cores',   'nodes' : 4},\n",
    "                       {'config' : '192tasks_192cores', 'nodes' : 8}\n",
    "                      ]\n",
    "strong_data_configs = [{'config' : '192tasks_24cores',  'nodes' : 1},\n",
    "                       {'config' : '192tasks_48cores',  'nodes' : 2},\n",
    "                       {'config' : '192tasks_96cores',  'nodes' : 4},\n",
    "                       {'config' : '192tasks_192cores', 'nodes' : 8}\n",
    "                      ]\n",
    "\n",
    "relevant_features = ['action', 'duration', 'key', 'start', 'stop']\n",
    "\n",
    "raw_weakdf    = pd.DataFrame(columns=relevant_features)\n",
    "raw_strongdf  = pd.DataFrame(columns=relevant_features)"
   ]
  },
  {
   "cell_type": "code",
   "execution_count": 5,
   "metadata": {},
   "outputs": [
    {
     "name": "stdout",
     "output_type": "stream",
     "text": [
      "data_watershed_dask/dask_192tasks_24cores_0.txt\n",
      "    action     duration                                                key         start          stop            config  nodes\n",
      "0  compute  2260.720872  watershed_multi-0150927a-7b22-4d98-aa6c-17d615...  1.527451e+09  1.527453e+09  192tasks_24cores    1.0\n",
      "1  compute  2261.532967  watershed_multi-0396dfea-6d31-495f-8707-dc3d03...  1.527451e+09  1.527453e+09  192tasks_24cores    1.0\n",
      "2  compute  2262.649229  watershed_multi-0eb6bc04-390f-4170-b330-3055b3...  1.527451e+09  1.527453e+09  192tasks_24cores    1.0\n",
      "3  compute  2264.296089  watershed_multi-09cd67e7-71f6-44ef-ad37-b335b3...  1.527451e+09  1.527453e+09  192tasks_24cores    1.0\n",
      "4  compute  2272.233684  watershed_multi-08181e60-0953-4dc9-845e-f7df77...  1.527451e+09  1.527453e+09  192tasks_24cores    1.0\n",
      "19379.986157894135\n"
     ]
    }
   ],
   "source": [
    "weak_config, strong_config = weak_data_configs[0], strong_data_configs[0]\n",
    "\n",
    "singular_data = glob(os.path.join(folder, '*' + strong_config['config'] + '*'))[0]\n",
    "\n",
    "print singular_data\n",
    "\n",
    "singular_df = daskprofiler(singular_data)[relevant_features]\n",
    "singular_df['config'] = strong_config['config']\n",
    "singular_df['nodes']  = strong_config['nodes']\n",
    "\n",
    "compute_df = singular_df.where(singular_df['action'] == 'compute').dropna().reset_index(drop=True)\n",
    "\n",
    "print compute_df.head()\n",
    "\n",
    "print compute_df['stop'].max() -  compute_df['start'].min()"
   ]
  },
  {
   "cell_type": "code",
   "execution_count": 97,
   "metadata": {},
   "outputs": [
    {
     "data": {
      "text/plain": [
       "(array([ 1.,  0.,  0.,  1.,  4.,  2.,  4.,  9.,  7., 13., 16., 16., 16.,\n",
       "        23., 23., 18.,  8., 10., 12.,  0.,  1.,  2.,  3.,  3.]),\n",
       " array([2262.34840202, 2271.32372452, 2280.29904701, 2289.27436951,\n",
       "        2298.249692  , 2307.2250145 , 2316.20033699, 2325.17565949,\n",
       "        2334.15098198, 2343.12630448, 2352.10162697, 2361.07694947,\n",
       "        2370.05227196, 2379.02759446, 2388.00291695, 2396.97823945,\n",
       "        2405.95356194, 2414.92888444, 2423.90420693, 2432.87952943,\n",
       "        2441.85485192, 2450.83017442, 2459.80549691, 2468.78081941,\n",
       "        2477.7561419 ]),\n",
       " <a list of 24 Patch objects>)"
      ]
     },
     "execution_count": 97,
     "metadata": {},
     "output_type": "execute_result"
    },
    {
     "data": {
      "image/png": "[encoded data removed]",
      "text/plain": [
       "<Figure size 432x288 with 1 Axes>"
      ]
     },
     "metadata": {},
     "output_type": "display_data"
    }
   ],
   "source": [
    "folder = 'data_watershed_dask'\n",
    "weak_data_configs   = [{'config' : '24tasks_24cores',   'nodes' : 1},\n",
    "                       {'config' : '48tasks_48cores',   'nodes' : 2},\n",
    "                       {'config' : '96tasks_96cores',   'nodes' : 4},\n",
    "                       {'config' : '192tasks_192cores', 'nodes' : 8}\n",
    "                      ]\n",
    "strong_data_configs = [{'config' : '192tasks_24cores',  'nodes' : 1},\n",
    "                       {'config' : '192tasks_48cores',  'nodes' : 2},\n",
    "                       {'config' : '192tasks_96cores',  'nodes' : 4},\n",
    "                       {'config' : '192tasks_192cores', 'nodes' : 8}\n",
    "                      ]\n",
    "\n",
    "relevant_features = ['action', 'duration', 'ttc', 'config', 'nodes']\n",
    "\n",
    "raw_weakdf    = pd.DataFrame(columns=relevant_features)\n",
    "raw_strongdf  = pd.DataFrame(columns=relevant_features)\n",
    "\n",
    "weak_config, strong_config = weak_data_configs[3], strong_data_configs[0]\n",
    "\n",
    "# gather weak scale data\n",
    "singular_data = glob(os.path.join(folder, '*' + weak_config['config'] + '*'))[0]\n",
    "\n",
    "dask_profiles = daskprofiler(singular_data)\n",
    "\n",
    "compute_profiles = dask_profiles.where(dask_profiles['action'] == 'compute').dropna().reset_index(drop=True)\n",
    "compute_summary  = {'action'   : 'compute',\n",
    "                    'config'   : weak_config['config'],\n",
    "                    'nodes'    : weak_config['nodes']\n",
    "                   }\n",
    "\n",
    "deserialize_profiles = dask_profiles.where(dask_profiles['action'] == 'deserialize').dropna()\n",
    "deserialize_summary  = {'action'   : 'deserialize',\n",
    "                        'config'   : weak_config['config'],\n",
    "                        'nodes'    : weak_config['nodes']\n",
    "                        }\n",
    "\n",
    "\n",
    "raw_weakdf = raw_weakdf.append(compute_summary, ignore_index=True).reset_index(drop=True)\n",
    "raw_weakdf['duration'] =  compute_profiles['duration']\n",
    "\n",
    "plt.hist(compute_profiles['duration'], bins=24)\n"
   ]
  },
  {
   "cell_type": "code",
   "execution_count": null,
   "metadata": {},
   "outputs": [],
   "source": []
  },
  {
   "cell_type": "code",
   "execution_count": null,
   "metadata": {},
   "outputs": [],
   "source": []
  },
  {
   "cell_type": "code",
   "execution_count": 83,
   "metadata": {},
   "outputs": [
    {
     "name": "stdout",
     "output_type": "stream",
     "text": [
      "weak scaling data found\n",
      "weak_mean\n",
      "                ttc\n",
      "action      compute\n",
      "nodes              \n",
      "1       2462.459090\n",
      "2       2459.468511\n",
      "4       2478.331224\n",
      "8       2497.755142\n",
      "weak error\n",
      "               ttc\n",
      "action     compute\n",
      "nodes             \n",
      "1         6.104469\n",
      "2        31.579349\n",
      "4         8.686067\n",
      "8       119.463631\n",
      "strong scaling data found\n",
      "strong mean\n",
      "                 ttc\n",
      "action       compute\n",
      "nodes               \n",
      "1       18179.311924\n",
      "2        9755.183123\n",
      "4        4134.036938\n",
      "8        2497.755142\n",
      "strong error\n",
      "                ttc\n",
      "action      compute\n",
      "nodes              \n",
      "1       2476.975493\n",
      "2         36.864501\n",
      "4       1292.413247\n",
      "8        119.463631\n"
     ]
    }
   ],
   "source": [
    "folder = 'data_watershed_dask'\n",
    "weak_data_configs   = [{'config' : '24tasks_24cores',   'nodes' : 1},\n",
    "                       {'config' : '48tasks_48cores',   'nodes' : 2},\n",
    "                       {'config' : '96tasks_96cores',   'nodes' : 4},\n",
    "                       {'config' : '192tasks_192cores', 'nodes' : 8}\n",
    "                      ]\n",
    "strong_data_configs = [{'config' : '192tasks_24cores',  'nodes' : 1},\n",
    "                       {'config' : '192tasks_48cores',  'nodes' : 2},\n",
    "                       {'config' : '192tasks_96cores',  'nodes' : 4},\n",
    "                       {'config' : '192tasks_192cores', 'nodes' : 8}\n",
    "                      ]\n",
    "\n",
    "relevant_features = ['action', 'duration', 'ttc', 'config', 'nodes']\n",
    "\n",
    "raw_weakdf    = pd.DataFrame(columns=relevant_features)\n",
    "raw_strongdf  = pd.DataFrame(columns=relevant_features)\n",
    "\n",
    "for weak_config, strong_config in zip(weak_data_configs, strong_data_configs):\n",
    "\n",
    "    # gather weak scale data\n",
    "    for singular_data in glob(os.path.join(folder, '*' + weak_config['config'] + '*')):\n",
    "\n",
    "        dask_profiles = daskprofiler(singular_data)\n",
    "        \n",
    "        compute_profiles = dask_profiles.where(dask_profiles['action'] == 'compute').dropna()\n",
    "        compute_summary  = {'action'   : 'compute',\n",
    "                            'duration' : compute_profiles['duration'],\n",
    "                            'ttc'      : compute_profiles['stop'].max() - compute_profiles['start'].min(),\n",
    "                            'config'   : weak_config['config'],\n",
    "                            'nodes'    : weak_config['nodes']\n",
    "                           }\n",
    "        \n",
    "        deserialize_profiles = dask_profiles.where(dask_profiles['action'] == 'deserialize').dropna()\n",
    "        deserialize_summary  = {'action'   : 'deserialize',\n",
    "                                'duration' : deserialize_profiles['duration'],\n",
    "                                'ttc'      : deserialize_profiles['stop'].max() - deserialize_profiles['start'].min(),\n",
    "                                'config'   : weak_config['config'],\n",
    "                                'nodes'    : weak_config['nodes']\n",
    "                                }\n",
    "        \n",
    "        raw_weakdf = raw_weakdf.append(compute_summary, ignore_index=True).reset_index(drop=True)\n",
    "        raw_weakdf = raw_weakdf.append(deserialize_summary, ignore_index=True).reset_index(drop=True)\n",
    "    \n",
    "    # gather strong scale data\n",
    "    for singular_data in glob(os.path.join(folder, '*' + strong_config['config'] + '*')):\n",
    "        \n",
    "        dask_profiles = daskprofiler(singular_data)\n",
    "        \n",
    "        compute_profiles = dask_profiles.where(dask_profiles['action'] == 'compute').dropna()\n",
    "        compute_summary  = {'action'   : 'compute',\n",
    "                            'duration' : compute_profiles['duration'].mean(),\n",
    "                            'ttc'      : compute_profiles['stop'].max() - compute_profiles['start'].min(),\n",
    "                            'config'   : weak_config['config'],\n",
    "                            'nodes'    : weak_config['nodes']\n",
    "                           }\n",
    "        \n",
    "        deserialize_profiles = dask_profiles.where(dask_profiles['action'] == 'deserialize').dropna()\n",
    "        deserialize_summary  = {'action'   : 'deserialize',\n",
    "                                'duration' : deserialize_profiles['duration'].mean(),\n",
    "                                'ttc'      : deserialize_profiles['stop'].max() - deserialize_profiles['start'].min(),\n",
    "                                'config'   : weak_config['config'],\n",
    "                                'nodes'    : weak_config['nodes']\n",
    "                                }\n",
    "        \n",
    "        raw_strongdf = raw_strongdf.append(compute_summary, ignore_index=True).reset_index(drop=True)\n",
    "        raw_strongdf = raw_strongdf.append(deserialize_summary, ignore_index=True).reset_index(drop=True)\n",
    "\n",
    "        \n",
    "weak_compute_df = raw_weakdf.where(raw_weakdf['action'] == 'compute').dropna().reset_index(drop=True)\n",
    "\n",
    "strong_compute_df = raw_strongdf.where(raw_strongdf['action'] == 'compute').dropna().reset_index(drop=True)\n",
    "\n",
    "try:\n",
    "    weak_mean    = weak_compute_df[['ttc', 'nodes', 'action']].groupby(['nodes', 'action']).mean().unstack()\n",
    "    weak_error   = weak_compute_df[['ttc', 'nodes', 'action']].groupby(['nodes', 'action']).std().unstack()\n",
    "    print 'weak scaling data found'\n",
    "    print 'weak_mean'\n",
    "    print weak_mean\n",
    "    print 'weak error'\n",
    "    print weak_error\n",
    "except KeyError:\n",
    "    print 'no weak scaling data found'\n",
    "    pass\n",
    "\n",
    "try:\n",
    "    strong_mean  = strong_compute_df[['ttc', 'nodes', 'action']].groupby(['nodes', 'action']).mean().unstack()\n",
    "    strong_error = strong_compute_df[['ttc', 'nodes', 'action']].groupby(['nodes', 'action']).std().unstack()\n",
    "    print 'strong scaling data found'\n",
    "    print 'strong mean'\n",
    "    print strong_mean\n",
    "    print 'strong error'\n",
    "    print strong_error\n",
    "except KeyError:\n",
    "    print '\\n'\n",
    "    print 'no strong scaling data found'\n",
    "    pass\n"
   ]
  },
  {
   "cell_type": "code",
   "execution_count": 7,
   "metadata": {},
   "outputs": [
    {
     "data": {
      "text/plain": [
       "<matplotlib.legend.Legend at 0x117b03c90>"
      ]
     },
     "execution_count": 7,
     "metadata": {},
     "output_type": "execute_result"
    },
    {
     "data": {
      "image/png": "[encoded data removed]",
      "text/plain": [
       "<Figure size 864x720 with 2 Axes>"
      ]
     },
     "metadata": {},
     "output_type": "display_data"
    }
   ],
   "source": [
    "fig, axes = plt.subplots(nrows=2,ncols=1,sharex=True,sharey=True)\n",
    "fig.set_size_inches(12,10)\n",
    "width = 0.2\n",
    "\n",
    "shared_kwargs = {'kind'     : 'bar',\n",
    "                 'log'      : True,\n",
    "                 'fontsize' : 14\n",
    "                }\n",
    "\n",
    "weak_title    = {'title'    : 'Weak Scaling of Watershed Algorithm Using Dask (24 tasks per node)',\n",
    "                 'ax'       : axes[0],\n",
    "                 'yerr'     : weak_error\n",
    "                  }\n",
    "strong_title  = {'title'    : 'Strong Scaling of Watershed Algorithm Using Dask (192 tasks in total)',\n",
    "                 'ax'       : axes[1],\n",
    "                 'yerr'     : strong_error\n",
    "                }\n",
    "\n",
    "weak_kwargs     = merge_dicts(shared_kwargs, weak_title)\n",
    "weak_scale_plot = weak_mean.plot(**weak_kwargs)\n",
    "weak_scale_plot.set_ylabel('Duration (seconds)', fontsize=14)\n",
    "weak_scale_plot.set_yticks([1, 10, 100, 1000, 10000])\n",
    "weak_scale_plot.set_yticklabels(['1','10','100','1000', '10000'], fontsize=14)\n",
    "weak_scale_plot.grid('on', which='both', linestyle=':')\n",
    "weak_scale_plot.set_xlabel('Nodes', fontsize=14)\n",
    "axes[0].legend(['Total Time for Execution'])\n",
    "\n",
    "strong_kwargs     = merge_dicts(shared_kwargs, strong_title)\n",
    "strong_scale_plot = strong_mean.plot(**strong_kwargs)\n",
    "strong_scale_plot.set_ylabel('Duration (seconds)', fontsize=14)\n",
    "strong_scale_plot.set_yticks([1, 10, 100, 1000, 10000])\n",
    "strong_scale_plot.set_yticklabels(['1','10','100','1000', '10000'], fontsize=14)\n",
    "strong_scale_plot.set_xticklabels(['1','2','4','8'], rotation=0, fontsize=14)\n",
    "strong_scale_plot.grid('on', which='both', linestyle=':')\n",
    "strong_scale_plot.set_xlabel('Nodes', fontsize=14)\n",
    "axes[1].legend(['Total Time for Execution'])\n"
   ]
  },
  {
   "cell_type": "code",
   "execution_count": 18,
   "metadata": {},
   "outputs": [
    {
     "data": {
      "text/plain": [
       "2459.468510746956"
      ]
     },
     "execution_count": 18,
     "metadata": {},
     "output_type": "execute_result"
    }
   ],
   "source": [
    "weak_mean['ttc']['compute'].iloc[1]"
   ]
  },
  {
   "cell_type": "code",
   "execution_count": 34,
   "metadata": {},
   "outputs": [
    {
     "data": {
      "text/plain": [
       "[<matplotlib.lines.Line2D at 0x11c3b8150>]"
      ]
     },
     "execution_count": 34,
     "metadata": {},
     "output_type": "execute_result"
    },
    {
     "data": {
      "image/png": "[encoded data removed]",
      "text/plain": [
       "<Figure size 432x288 with 1 Axes>"
      ]
     },
     "metadata": {},
     "output_type": "display_data"
    }
   ],
   "source": [
    "speedups = list()\n",
    "for i in range(len(weak_mean['ttc']['compute'])):\n",
    "    speedup = weak_mean['ttc']['compute'].iloc[0] / weak_mean['ttc']['compute'].iloc[i]\n",
    "    speedups.append(speedup)\n",
    "\n",
    "plt.grid()\n",
    "plt.plot(speedups, scalex=False)\n",
    "\n",
    "\n",
    "speedups = list()\n",
    "for i in range(len(strong_mean['ttc']['compute'])):\n",
    "    speedup = strong_mean['ttc']['compute'].iloc[0] / strong_mean['ttc']['compute'].iloc[i]\n",
    "    speedups.append(speedup)\n",
    "\n",
    "plt.xlim(0,3)\n",
    "plt.plot(speedups, scalex=False)\n",
    "\n",
    "\n"
   ]
  },
  {
   "cell_type": "code",
   "execution_count": 32,
   "metadata": {},
   "outputs": [
    {
     "name": "stdout",
     "output_type": "stream",
     "text": [
      "[1.0, 1.8635541428796918, 4.397472058613716, 7.278260234277861]\n"
     ]
    }
   ],
   "source": [
    "print speedups"
   ]
  },
  {
   "cell_type": "code",
   "execution_count": null,
   "metadata": {},
   "outputs": [],
   "source": []
  }
 ],
 "metadata": {
  "kernelspec": {
   "display_name": "Python [conda env:watershed_Dask]",
   "language": "python",
   "name": "conda-env-watershed_Dask-py"
  },
  "language_info": {
   "codemirror_mode": {
    "name": "ipython",
    "version": 2
   },
   "file_extension": ".py",
   "mimetype": "text/x-python",
   "name": "python",
   "nbconvert_exporter": "python",
   "pygments_lexer": "ipython2",
   "version": "2.7.15"
  }
 },
 "nbformat": 4,
 "nbformat_minor": 2
}
