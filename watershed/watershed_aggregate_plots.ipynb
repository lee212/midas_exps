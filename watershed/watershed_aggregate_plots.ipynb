{
 "cells": [
  {
   "cell_type": "markdown",
   "metadata": {},
   "source": [
    "# Plots of Profiles of Dask, RADICAL-Pilot, and Spark <br> Running Watershed Algorithm"
   ]
  },
  {
   "cell_type": "code",
   "execution_count": 136,
   "metadata": {},
   "outputs": [
    {
     "data": {
      "text/html": [
       "<style>.container { width:100% !important; }</style>"
      ],
      "text/plain": [
       "<IPython.core.display.HTML object>"
      ]
     },
     "metadata": {},
     "output_type": "display_data"
    }
   ],
   "source": [
    "%matplotlib inline\n",
    "\n",
    "from __future__ import division\n",
    "\n",
    "import os\n",
    "\n",
    "import pandas as pd\n",
    "pd.options.display.width = 180\n",
    "\n",
    "import matplotlib.pyplot as plt\n",
    "from matplotlib import cm\n",
    "\n",
    "from glob import glob\n",
    "import re\n",
    "\n",
    "from pprint import PrettyPrinter\n",
    "pp = PrettyPrinter(indent=4).pprint\n",
    "\n",
    "import numpy as np\n",
    "\n",
    "import ast\n",
    "from bokeh.palettes import viridis\n",
    "from toolz import valmap, merge, memoize\n",
    "import random\n",
    "import itertools\n",
    "\n",
    "from IPython.core.display import display, HTML\n",
    "display(HTML(\"<style>.container { width:100% !important; }</style>\"))\n",
    "\n",
    "import warnings\n",
    "warnings.filterwarnings('ignore')"
   ]
  },
  {
   "cell_type": "markdown",
   "metadata": {},
   "source": [
    "## _Dask Data_"
   ]
  },
  {
   "cell_type": "code",
   "execution_count": 137,
   "metadata": {},
   "outputs": [],
   "source": [
    "task_stream_palette = list(viridis(25))\n",
    "random.shuffle(task_stream_palette)\n",
    "\n",
    "counter = itertools.count()\n",
    "\n",
    "_incrementing_index_cache = dict()\n",
    "\n",
    "\n",
    "@memoize(cache=_incrementing_index_cache)\n",
    "def incrementing_index(o):\n",
    "    return next(counter)\n",
    "\n",
    "\n",
    "def color_of(o, palette=task_stream_palette):\n",
    "    return palette[incrementing_index(o) % len(palette)]\n",
    "\n",
    "def color_of_message(key):\n",
    "        return color_of(key)\n",
    "\n",
    "colors = {'transfer': 'red',\n",
    "          'disk-write': 'orange',\n",
    "          'disk-read': 'orange',\n",
    "          'deserialize': 'gray',\n",
    "          'compute': color_of_message}\n",
    "\n",
    "\n",
    "alphas = {'transfer': 0.4,\n",
    "          'compute': 1,\n",
    "          'deserialize': 0.4,\n",
    "          'disk-write': 0.4,\n",
    "          'disk-read': 0.4}\n",
    "\n",
    "\n",
    "prefix = {'transfer': 'transfer-',\n",
    "          'disk-write': 'disk-write-',\n",
    "          'disk-read': 'disk-read-',\n",
    "          'deserialize': 'deserialize-',\n",
    "          'compute': ''}\n",
    "\n",
    "\n",
    "def key_split(s):\n",
    "\n",
    "    if type(s) is bytes:\n",
    "        s = s.decode()\n",
    "    if type(s) is tuple:\n",
    "        s = s[0]\n",
    "    try:\n",
    "        words = s.split('-')\n",
    "        if not words[0][0].isalpha():\n",
    "            result = words[0].lstrip(\"'(\\\"\")\n",
    "        else:\n",
    "            result = words[0]\n",
    "        for word in words[1:]:\n",
    "            if word.isalpha() and not (len(word) == 8 and\n",
    "                                       hex_pattern.match(word) is not None):\n",
    "                result += '-' + word\n",
    "            else:\n",
    "                break\n",
    "        if len(result) == 32 and re.match(r'[a-f0-9]{32}', result):\n",
    "            return 'data'\n",
    "        else:\n",
    "            if result[0] == '<':\n",
    "                result = result.strip('<>').split()[0].split('.')[-1]\n",
    "            return result\n",
    "    except:\n",
    "        return 'Other'\n",
    "\n",
    "\n",
    "\n",
    "def daskprofiler(filename):\n",
    "\n",
    "    profFile = open(filename)\n",
    "    profiles = profFile.readlines()\n",
    "    buffer = [ast.literal_eval(x) for x in profiles]\n",
    "    workIds = {}\n",
    "    id = 1\n",
    "\n",
    "    L_start = []\n",
    "    L_stop = []\n",
    "    L_duration = []\n",
    "    L_key = []\n",
    "    L_action = []\n",
    "    L_name = []\n",
    "    L_color = []\n",
    "    L_alpha = []\n",
    "    L_y = []\n",
    "\n",
    "    for msg in buffer:\n",
    "        key = msg[0]\n",
    "        name = key_split(key)\n",
    "        startstops = msg[-1]\n",
    "        if not workIds.has_key(msg[3]):\n",
    "            workIds[msg[3]]=id\n",
    "            id+=1\n",
    "\n",
    "        for action, start, stop in startstops:\n",
    "            color = colors[action]\n",
    "            if type(color) is not str:\n",
    "                color = color(name)\n",
    "\n",
    "            L_start.append(start)\n",
    "            L_stop.append(stop)\n",
    "            L_duration.append((stop - start))\n",
    "            L_key.append(key)\n",
    "            L_action.append(action)\n",
    "            L_name.append(name)\n",
    "            L_color.append(color)\n",
    "            L_alpha.append(alphas[action])\n",
    "            L_y.append(workIds[msg[3]])\n",
    "\n",
    "\n",
    "    return pd.DataFrame.from_dict({'start': L_start,\n",
    "                                   'stop': L_stop,\n",
    "                                   'duration': L_duration,\n",
    "                                   'key': L_key,\n",
    "                                   'name': L_name,\n",
    "                                   'action':L_action,\n",
    "                                   'color': L_color,\n",
    "                                   'alpha': L_alpha,\n",
    "                                   'y': L_y\n",
    "                                  })"
   ]
  },
  {
   "cell_type": "markdown",
   "metadata": {},
   "source": [
    "### Dask Constants"
   ]
  },
  {
   "cell_type": "code",
   "execution_count": 138,
   "metadata": {},
   "outputs": [],
   "source": [
    "folder = 'Dask/data_watershed_dask'\n",
    "\n",
    "data_range = '1[1-9]'\n",
    "weak_data_configs   = [{'config' : '24tasks_24cores_%s'   % (data_range),   'nodes' : 1},\n",
    "                       {'config' : '48tasks_48cores_%s'   % (data_range),   'nodes' : 2},\n",
    "                       {'config' : '96tasks_96cores_%s'   % (data_range),   'nodes' : 4},\n",
    "                       {'config' : '192tasks_192cores_%s' % (data_range), 'nodes' : 8}\n",
    "                      ]\n",
    "strong_data_configs = [{'config' : '192tasks_24cores_%s'  % (data_range),  'nodes' : 1},\n",
    "                       {'config' : '192tasks_48cores_%s'  % (data_range),  'nodes' : 2},\n",
    "                       {'config' : '192tasks_96cores_%s'  % (data_range),  'nodes' : 4},\n",
    "                       {'config' : '192tasks_192cores_%s' % (data_range), 'nodes' : 8}\n",
    "                      ]\n",
    "\n",
    "relevant_features = ['action', 'duration', 'ttc', 'config', 'nodes', 'client_ttc']"
   ]
  },
  {
   "cell_type": "markdown",
   "metadata": {},
   "source": [
    "### Wrangle Dask Data"
   ]
  },
  {
   "cell_type": "code",
   "execution_count": 139,
   "metadata": {},
   "outputs": [],
   "source": [
    "raw_weakdf    = pd.DataFrame(columns=relevant_features)\n",
    "raw_strongdf  = pd.DataFrame(columns=relevant_features)\n",
    "\n",
    "for weak_config, strong_config in zip(weak_data_configs, strong_data_configs):\n",
    "\n",
    "    weak_task_profile_files = glob(os.path.join(folder, '*' + weak_config['config'] + '.txt'))\n",
    "    weak_client_profile_files = glob(os.path.join(folder, '*' + weak_config['config'] + '.csv'))\n",
    "        \n",
    "    # gather weak scale data\n",
    "    for task_profile_file, client_profile_file in zip(weak_task_profile_files, weak_client_profile_files):\n",
    "\n",
    "        dask_profiles = daskprofiler(task_profile_file)\n",
    "        client_profiles = pd.read_csv(client_profile_file).set_index('headers')\n",
    "        client_ttc = client_profiles.loc['stop_client']['times'] - client_profiles.loc['start_client']['times']\n",
    "                \n",
    "        compute_profiles = dask_profiles.where(dask_profiles['action'] == 'compute').dropna()\n",
    "        compute_summary  = {'action'     : 'compute',\n",
    "                            'duration'   : compute_profiles['duration'],\n",
    "                            'ttc'        : compute_profiles['stop'].max() - compute_profiles['start'].min(),\n",
    "                            'config'     : weak_config['config'],\n",
    "                            'nodes'      : weak_config['nodes'],\n",
    "                            'client_ttc' : client_ttc\n",
    "                           }\n",
    "        \n",
    "        deserialize_profiles = dask_profiles.where(dask_profiles['action'] == 'deserialize').dropna()\n",
    "        deserialize_summary  = {'action'     : 'deserialize',\n",
    "                                'duration'   : deserialize_profiles['duration'],\n",
    "                                'ttc'        : deserialize_profiles['stop'].max() - deserialize_profiles['start'].min(),\n",
    "                                'config'     : weak_config['config'],\n",
    "                                'nodes'      : weak_config['nodes'],\n",
    "                                'client_ttc' : client_ttc\n",
    "                                }\n",
    "        \n",
    "        raw_weakdf = raw_weakdf.append(compute_summary, ignore_index=True).reset_index(drop=True)\n",
    "        raw_weakdf = raw_weakdf.append(deserialize_summary, ignore_index=True).reset_index(drop=True)\n",
    "    \n",
    "    strong_dask_profile_files = glob(os.path.join(folder, '*' + strong_config['config'] + '.txt'))\n",
    "    strong_client_profile_files = glob(os.path.join(folder, '*' + strong_config['config'] + '.csv'))\n",
    "    \n",
    "    # gather strong scale data\n",
    "    for task_profile_file, client_profile_file in zip(strong_dask_profile_files, strong_client_profile_files):\n",
    "         \n",
    "        dask_profiles = daskprofiler(task_profile_file)\n",
    "        client_profiles = pd.read_csv(client_profile_file).set_index('headers')\n",
    "        client_ttc = client_profiles.loc['stop_client']['times'] - client_profiles.loc['start_client']['times']\n",
    "       \n",
    "        compute_profiles = dask_profiles.where(dask_profiles['action'] == 'compute').dropna()\n",
    "        compute_summary  = {'action'     : 'compute',\n",
    "                            'duration'   : compute_profiles['duration'].mean(),\n",
    "                            'ttc'        : compute_profiles['stop'].max() - compute_profiles['start'].min(),\n",
    "                            'config'     : weak_config['config'],\n",
    "                            'nodes'      : weak_config['nodes'],\n",
    "                            'client_ttc' : client_ttc\n",
    "                           }\n",
    "        \n",
    "        deserialize_profiles = dask_profiles.where(dask_profiles['action'] == 'deserialize').dropna()\n",
    "        deserialize_summary  = {'action'     : 'deserialize',\n",
    "                                'duration'   : deserialize_profiles['duration'].mean(),\n",
    "                                'ttc'        : deserialize_profiles['stop'].max() - deserialize_profiles['start'].min(),\n",
    "                                'config'     : weak_config['config'],\n",
    "                                'nodes'      : weak_config['nodes'],\n",
    "                                'client_ttc' : client_ttc\n",
    "                                }\n",
    "        \n",
    "        raw_strongdf = raw_strongdf.append(compute_summary, ignore_index=True).reset_index(drop=True)\n",
    "        raw_strongdf = raw_strongdf.append(deserialize_summary, ignore_index=True).reset_index(drop=True)\n",
    "\n",
    "        \n",
    "weak_compute_df = raw_weakdf.where(raw_weakdf['action'] == 'compute').dropna().reset_index(drop=True)\n",
    "\n",
    "strong_compute_df = raw_strongdf.where(raw_strongdf['action'] == 'compute').dropna().reset_index(drop=True)\n",
    "\n",
    "try:\n",
    "    weak_mean    = weak_compute_df[['client_ttc', 'ttc', 'nodes', 'action']].groupby(['nodes', 'action']).mean().unstack()\n",
    "    weak_error   = weak_compute_df[['client_ttc', 'ttc', 'nodes', 'action']].groupby(['nodes', 'action']).std().unstack()\n",
    "except KeyError:\n",
    "    pass\n",
    "\n",
    "try:\n",
    "    strong_mean  = strong_compute_df[['client_ttc', 'ttc', 'nodes', 'action']].groupby(['nodes', 'action']).mean().unstack()\n",
    "    strong_error = strong_compute_df[['client_ttc', 'ttc', 'nodes', 'action']].groupby(['nodes', 'action']).std().unstack()\n",
    "except KeyError:\n",
    "    pass\n",
    "\n",
    "\n",
    "dask_weak_mean    = weak_mean.drop(columns=[('client_ttc', 'compute')])\n",
    "dask_weak_error   = weak_error.drop(columns=[('client_ttc', 'compute')])\n",
    "dask_strong_mean  = strong_mean.drop(columns=[('client_ttc', 'compute')])\n",
    "dask_strong_error = strong_error.drop(columns=[('client_ttc', 'compute')])"
   ]
  },
  {
   "cell_type": "markdown",
   "metadata": {},
   "source": [
    "## _RP Data_"
   ]
  },
  {
   "cell_type": "markdown",
   "metadata": {},
   "source": [
    "### RP Constants"
   ]
  },
  {
   "cell_type": "code",
   "execution_count": 140,
   "metadata": {},
   "outputs": [],
   "source": [
    "folder      = 'Vanilla/rpV0.47.10/data_watershed_rp'\n",
    "weak_data   = 'watershed_rp_weak_20to29.csv'\n",
    "strong_data = 'watershed_rp_strong_20to29.csv'\n",
    "\n",
    "columns=['nodes', 'duration_TTC', 'duration_Units']"
   ]
  },
  {
   "cell_type": "markdown",
   "metadata": {},
   "source": [
    "### Wrangle RP Data"
   ]
  },
  {
   "cell_type": "code",
   "execution_count": 141,
   "metadata": {},
   "outputs": [],
   "source": [
    "raw_weakdf   = pd.read_csv(os.path.join(folder, weak_data))[columns]\n",
    "raw_strongdf = pd.read_csv(os.path.join(folder, strong_data))[columns]\n",
    "\n",
    "rp_weak_mean    = raw_weakdf.groupby('nodes').mean().drop(columns=['duration_TTC'])\n",
    "rp_weak_error   = raw_weakdf.groupby('nodes').std().drop(columns=['duration_TTC'])\n",
    "rp_strong_mean  = raw_strongdf.groupby('nodes').mean().drop(columns=['duration_TTC'])\n",
    "rp_strong_error = raw_strongdf.groupby('nodes').std().drop(columns=['duration_TTC'])\n",
    "\n",
    "# rp_weak_diff    = rp_weak_mean.copy()\n",
    "# rp_weak_diff['duration_diff'] = rp_weak_diff['duration_TTC'] - rp_weak_diff['duration_Units']\n",
    "# rp_weak_diff    = rp_weak_diff.drop(columns=['duration_TTC', 'duration_Units'])\n",
    "# rp_strong_diff    = rp_strong_mean.copy()\n",
    "# rp_strong_diff['duration_diff'] = rp_strong_diff['duration_TTC'] - rp_strong_diff['duration_Units']\n",
    "# rp_strong_diff    = rp_strong_diff.drop(columns=['duration_TTC', 'duration_Units'])"
   ]
  },
  {
   "cell_type": "markdown",
   "metadata": {},
   "source": [
    "## _Spark Data_"
   ]
  },
  {
   "cell_type": "code",
   "execution_count": 142,
   "metadata": {},
   "outputs": [],
   "source": [
    "def SparkLogToDataFrame(filename):\n",
    "    import json\n",
    "    import pandas\n",
    "    import numpy as np\n",
    "\n",
    "    columns=['StageID','TaskId','ExecutorID','LaunchTime','SchedulerDelay','DeserializeTime','Runtime','GettingResultTime','ResultSerializationTime','FinishTime','ResultSize']\n",
    "\n",
    "    stat_file=open(filename)\n",
    "    stats=list();\n",
    "    for line in stat_file:\n",
    "        stats.append(json.loads(line))\n",
    "\n",
    "    data=pandas.DataFrame(columns=columns,dtype=np.int64)\n",
    "    data_point = np.zeros((1,11),dtype=np.int64)\n",
    "    for stat in stats:\n",
    "        if stat['Event'] == 'SparkListenerTaskEnd':\n",
    "            data_point[0,0] = int(stat['Stage ID'])\n",
    "            data_point[0,1] = int(stat['Task Info']['Task ID'])\n",
    "            data_point[0,2] = int(stat['Task Info']['Executor ID'])\n",
    "            data_point[0,3] = int(stat['Task Info']['Launch Time'])\n",
    "            data_point[0,5] = int(stat['Task Metrics']['Executor Deserialize Time'])\n",
    "            data_point[0,6] = int(stat['Task Metrics']['Executor Run Time'])\n",
    "            data_point[0,7] = int(stat['Task Info']['Finish Time'])-int(stat['Task Info']['Getting Result Time']) if int(stat['Task Info']['Getting Result Time'])!=0 else 0 \n",
    "            data_point[0,8] = int(stat['Task Metrics']['Result Serialization Time'])\n",
    "            data_point[0,9] = int(stat['Task Info']['Finish Time'])\n",
    "            data_point[0,10] = int(stat['Task Metrics']['Result Size'])\n",
    "            \n",
    "            data_point[0,4]= data_point[0,9]-data_point[0,3]-data_point[0,5]-data_point[0,6]-data_point[0,8]-data_point[0,7]\n",
    "            data_case = pandas.DataFrame(data_point,columns=columns)\n",
    "            data = data.append(data_case,ignore_index=True)\n",
    "            \n",
    "    return data"
   ]
  },
  {
   "cell_type": "markdown",
   "metadata": {},
   "source": [
    "### Wrangle Spark Data"
   ]
  },
  {
   "cell_type": "code",
   "execution_count": 143,
   "metadata": {},
   "outputs": [],
   "source": [
    "folders = glob('Spark/*/app-*')\n",
    "plotting_df = pd.DataFrame(columns=['Nodes','Time_ms', 'Scaling'])\n",
    "for name in folders:\n",
    "    df = SparkLogToDataFrame(name)\n",
    "    time = df['FinishTime'].max()-df['LaunchTime'].min()\n",
    "    time /= 1000.\n",
    "    node = int(re.findall('\\d+', name)[0])\n",
    "    name = name.replace('Spark', '')\n",
    "    if 'W' in name:\n",
    "        scale = 'W'\n",
    "    elif 'S' in name:\n",
    "        scale = 'S'\n",
    "    else:\n",
    "        scale = 'WS'\n",
    "    plotting_df.loc[len(plotting_df)]=[node, time, scale]"
   ]
  },
  {
   "cell_type": "code",
   "execution_count": 164,
   "metadata": {},
   "outputs": [],
   "source": [
    "# test_iterations = 10\n",
    "test_iterations = len(plotting_df.where((plotting_df['Nodes'] == 1) & (plotting_df['Scaling'] == 'W')).dropna())\n",
    "tests = len(plotting_df)\n",
    "num_tests = tests / test_iterations \n",
    "\n",
    "times_spark = pd.DataFrame(columns=['nodes','time'])\n",
    "scaling = list()\n",
    "stderr = list()\n",
    "for i in range(int(num_tests)):\n",
    "    times_spark.loc[i] = plotting_df[i*test_iterations : (i+1)*test_iterations].mean().values\n",
    "    scaling.append(plotting_df['Scaling'][i*test_iterations])\n",
    "    stderr.append(plotting_df['Time_ms'][i*test_iterations : (i+1)*test_iterations].std()) \n",
    "    \n",
    "times_spark['scaling'] = scaling\n",
    "times_spark['stderr'] = stderr\n",
    "\n",
    "times_spark = times_spark.sort_values(by=['nodes']).set_index(['nodes'])\n",
    "\n",
    "spark_weak_mean    = times_spark.where((times_spark['scaling'] == 'W') | (times_spark['scaling'] == 'WS')).dropna().drop(columns=['scaling', 'stderr'])\n",
    "spark_weak_error   = times_spark.where((times_spark['scaling'] == 'W') | (times_spark['scaling'] == 'WS')).dropna().drop(columns=['scaling', 'time'])\n",
    "spark_strong_mean  = times_spark.where((times_spark['scaling'] == 'S') | (times_spark['scaling'] == 'WS')).dropna().drop(columns=['scaling', 'stderr'])\n",
    "spark_strong_error = times_spark.where((times_spark['scaling'] == 'S') | (times_spark['scaling'] == 'WS')).dropna().drop(columns=['scaling', 'time'])"
   ]
  },
  {
   "cell_type": "markdown",
   "metadata": {},
   "source": [
    "## _Plot Dask, RP, and Spark Data_"
   ]
  },
  {
   "cell_type": "markdown",
   "metadata": {},
   "source": [
    "### Aggregate Dask, RP, and Spark Data"
   ]
  },
  {
   "cell_type": "code",
   "execution_count": 213,
   "metadata": {},
   "outputs": [],
   "source": [
    "dask_weak_mean.columns    = ['dask_tasks_time']\n",
    "dask_weak_error.columns   = ['dask_tasks_time']\n",
    "dask_strong_mean.columns  = ['dask_tasks_time']\n",
    "dask_strong_error.columns = ['dask_tasks_time']\n",
    "\n",
    "rp_weak_mean.columns    = ['rp_tasks_time']\n",
    "rp_weak_error.columns   = ['rp_tasks_time']\n",
    "rp_strong_mean.columns  = ['rp_tasks_time']\n",
    "rp_strong_error.columns = ['rp_tasks_time']\n",
    "\n",
    "spark_weak_mean.columns    = ['spark_tasks_time']\n",
    "spark_weak_error.columns   = ['spark_tasks_time']\n",
    "spark_strong_mean.columns  = ['spark_tasks_time']\n",
    "spark_strong_error.columns = ['spark_tasks_time']\n",
    "\n",
    "agg_weak_mean    = pd.concat([dask_weak_mean, rp_weak_mean, spark_weak_mean], axis=1, sort=False)\n",
    "agg_weak_error   = pd.concat([dask_weak_error, rp_weak_error, spark_weak_error], axis=1, sort=False)\n",
    "agg_strong_mean  = pd.concat([dask_strong_mean, rp_strong_mean, spark_strong_mean], axis=1, sort=False)\n",
    "agg_strong_error = pd.concat([dask_strong_error, rp_strong_error, spark_strong_error], axis=1, sort=False)"
   ]
  },
  {
   "cell_type": "markdown",
   "metadata": {},
   "source": [
    "### Plot Aggregate Date"
   ]
  },
  {
   "cell_type": "code",
   "execution_count": 214,
   "metadata": {},
   "outputs": [],
   "source": [
    "yticks = [1, 10, 100, 1000, 10000, 100000]\n",
    "yticklabels = [str(ytick) for ytick in yticks]\n",
    "\n",
    "xticks = [1, 2, 4, 8]\n",
    "xticklabels = ['%s/%s' % (24*nodes, nodes) for nodes in xticks]\n",
    "\n",
    "blues   = cm.get_cmap(plt.get_cmap('Blues'))\n",
    "greens  = cm.get_cmap(plt.get_cmap('Greens'))\n",
    "reds    = cm.get_cmap(plt.get_cmap('Reds'))\n",
    "oranges = cm.get_cmap(plt.get_cmap('Oranges'))\n",
    "purples = cm.get_cmap(plt.get_cmap('Purples'))\n",
    "greys   = cm.get_cmap(plt.get_cmap('Greys'))\n",
    "\n",
    "dask_color = reds(150)\n",
    "rp_color = blues(150)\n",
    "spark_color = greens(150)"
   ]
  },
  {
   "cell_type": "code",
   "execution_count": 218,
   "metadata": {},
   "outputs": [
    {
     "data": {
      "text/plain": [
       "<matplotlib.legend.Legend at 0x7f5e9bc7f910>"
      ]
     },
     "execution_count": 218,
     "metadata": {},
     "output_type": "execute_result"
    },
    {
     "data": {
      "image/png": "[encoded data removed]",
      "text/plain": [
       "<Figure size 864x720 with 2 Axes>"
      ]
     },
     "metadata": {},
     "output_type": "display_data"
    }
   ],
   "source": [
    "fig, axes = plt.subplots(nrows=2,ncols=1,sharex=True,sharey=True)\n",
    "fig.set_size_inches(12,10)\n",
    "\n",
    "weak_kwargs    = {\n",
    "                 'kind'     : 'bar',\n",
    "                 'log'      : True,\n",
    "                 'fontsize' : 14,\n",
    "                 'title'    : 'Weak Scaling of Watershed Algorithm(24 tasks per node)',\n",
    "                 'ax'       : axes[0],\n",
    "                 'yerr'     : agg_weak_error,\n",
    "                 'color'    : [dask_color, rp_color, spark_color]\n",
    "                  }\n",
    "strong_kwargs  = {\n",
    "                 'kind'     : 'bar',\n",
    "                 'log'      : True,\n",
    "                 'fontsize' : 14,\n",
    "                 'title'    : 'Strong Scaling of Watershed Algorithm(192 tasks in total)',\n",
    "                 'ax'       : axes[1],\n",
    "                 'yerr'     : agg_strong_error,\n",
    "                 'color'    : [dask_color, rp_color, spark_color]\n",
    "                }\n",
    "\n",
    "weak_scale_plot = agg_weak_mean.plot(**weak_kwargs)\n",
    "weak_scale_plot.set_ylabel('Duration (seconds)', fontsize=14)\n",
    "weak_scale_plot.set_ylim(bottom=min(yticks), top=max(yticks))\n",
    "weak_scale_plot.set_yticks(yticks)\n",
    "weak_scale_plot.set_yticklabels(yticklabels, fontsize=14)\n",
    "weak_scale_plot.grid('on', which='both', linestyle=':')\n",
    "axes[0].legend().set_visible(False)\n",
    "\n",
    "strong_scale_plot = agg_strong_mean.plot(**strong_kwargs)\n",
    "strong_scale_plot.set_ylabel('Duration (seconds)', fontsize=14)\n",
    "strong_scale_plot.set_ylim(bottom=min(yticks), top=max(yticks))\n",
    "strong_scale_plot.set_yticks(yticks)\n",
    "strong_scale_plot.set_yticklabels(yticklabels, fontsize=14)\n",
    "strong_scale_plot.set_xticklabels(xticklabels, rotation=0, fontsize=14)\n",
    "strong_scale_plot.grid('on', which='both', linestyle=':')\n",
    "strong_scale_plot.set_xlabel('Cores per Nodes', fontsize=14)\n",
    "# axes[1].legend(['Dask', 'RADICAL-Pilot', 'Spark'])\n",
    "axes[1].legend(['Dask', 'RADICAL-Pilot', 'Spark'],fontsize=14,bbox_to_anchor=(0., -0.3, 1.5, .102), loc='lower center',ncol=3, borderaxespad=0.)"
   ]
  },
  {
   "cell_type": "code",
   "execution_count": null,
   "metadata": {},
   "outputs": [],
   "source": []
  }
 ],
 "metadata": {
  "kernelspec": {
   "display_name": "Python 2",
   "language": "python",
   "name": "python2"
  },
  "language_info": {
   "codemirror_mode": {
    "name": "ipython",
    "version": 2
   },
   "file_extension": ".py",
   "mimetype": "text/x-python",
   "name": "python",
   "nbconvert_exporter": "python",
   "pygments_lexer": "ipython2",
   "version": "2.7.15"
  }
 },
 "nbformat": 4,
 "nbformat_minor": 2
}
