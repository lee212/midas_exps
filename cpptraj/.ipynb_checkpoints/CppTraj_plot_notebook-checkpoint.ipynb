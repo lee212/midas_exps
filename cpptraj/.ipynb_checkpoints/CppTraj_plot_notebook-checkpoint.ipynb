{
 "cells": [
  {
   "cell_type": "code",
   "execution_count": 1,
   "metadata": {
    "collapsed": true
   },
   "outputs": [],
   "source": [
    "%matplotlib inline\n",
    "import matplotlib.pyplot as plt\n",
    "import numpy as np\n",
    "import csv"
   ]
  },
  {
   "cell_type": "code",
   "execution_count": 3,
   "metadata": {
    "collapsed": false
   },
   "outputs": [],
   "source": [
    "#CppTraj RMSD Analysis single trajectory, Vanilla execution\n",
    "cpptral_1 = np.mean([564.5859,568.8731,566.5191])\n",
    "cpptral_2 = np.mean([283.6768,283.5894,284.4723])\n",
    "cpptral_4 = np.mean([142.7122,143.9257,143.2807])\n",
    "cpptral_8 = np.mean([73.1578,72.4248,72.6958])\n",
    "cpptral_16 = np.mean([37.0447,37.0347,36.9493])\n",
    "cpptral_32 = np.mean([18.4021,18.2681,18.3764])\n",
    "\n",
    "cpptral_1_std = np.std([564.5859,568.8731,566.5191])\n",
    "cpptral_2_std = np.std([283.6768,283.5894,284.4723])\n",
    "cpptral_4_std = np.std([142.7122,143.9257,143.2807])\n",
    "cpptral_8_std = np.std([73.1578,72.4248,72.6958])\n",
    "cpptral_16_std = np.std([37.0447,37.0347,36.9493])\n",
    "cpptral_32_std = np.std([18.4021,18.2681,18.3764])"
   ]
  },
  {
   "cell_type": "code",
   "execution_count": null,
   "metadata": {
    "collapsed": true
   },
   "outputs": [],
   "source": [
    "rp_cpptraj_1_1 = csv.reader(open('rp_cpptraj/cpptraj_tr_1_1-1.csv'))\n",
    "rp_cpptraj_1_2 = csv.reader(open('rp_cpptraj/cpptraj_tr_1_2-1.csv'))\n",
    "rp_cpptraj_1_3 = csv.reader(open('rp_cpptraj/cpptraj_tr_1_3-1.csv'))\n",
    "rp_cpptraj_2_1 = csv.reader(open('rp_cpptraj/cpptraj_tr_2_1-2.csv'))\n",
    "rp_cpptraj_2_2 = csv.reader(open('rp_cpptraj/cpptraj_tr_2_2-2.csv'))\n",
    "rp_cpptraj_2_3 = csv.reader(open('rp_cpptraj/cpptraj_tr_2_3-2.csv'))\n",
    "rp_cpptraj_4_1 = csv.reader(open('rp_cpptraj/cpptraj_tr_4_1-4.csv'))\n",
    "rp_cpptraj_4_2 = csv.reader(open('rp_cpptraj/cpptraj_tr_4_2-4.csv'))\n",
    "rp_cpptraj_4_3 = csv.reader(open('rp_cpptraj/cpptraj_tr_4_3-4.csv'))\n",
    "rp_cpptraj_8_1 = csv.reader(open('rp_cpptraj/cpptraj_tr_8_1-8.csv'))\n",
    "rp_cpptraj_8_2 = csv.reader(open('rp_cpptraj/cpptraj_tr_8_2-8.csv'))\n",
    "rp_cpptraj_8_3 = csv.reader(open('rp_cpptraj/cpptraj_tr_8_3-8.csv'))\n",
    "rp_cpptraj_16_1 = csv.reader(open('rp_cpptraj/cpptraj_tr_16_1-16.csv'))\n",
    "rp_cpptraj_16_2 = csv.reader(open('rp_cpptraj/cpptraj_tr_16_2-16.csv'))\n",
    "rp_cpptraj_16_3 = csv.reader(open('rp_cpptraj/cpptraj_tr_16_3-16.csv'))\n",
    "rp_cpptraj_32_1 = csv.reader(open('rp_cpptraj/cpptraj_tr_32_1-32.csv'))\n",
    "rp_cpptraj_32_2 = csv.reader(open('rp_cpptraj/cpptraj_tr_32_2-32.csv'))\n",
    "rp_cpptraj_32_3 = csv.reader(open('rp_cpptraj/cpptraj_tr_32_3-32.csv'))"
   ]
  },
  {
   "cell_type": "code",
   "execution_count": null,
   "metadata": {
    "collapsed": true
   },
   "outputs": [],
   "source": [
    "def extract_timing(csv_file):\n",
    "    import numpy as np\n",
    "    results = list()\n",
    "    for row in csv_file:\n",
    "        results.append(float(row[5]))\n",
    "        \n"
   ]
  },
  {
   "cell_type": "code",
   "execution_count": 8,
   "metadata": {
    "collapsed": false
   },
   "outputs": [
    {
     "ename": "NameError",
     "evalue": "name 'a2' is not defined",
     "output_type": "error",
     "traceback": [
      "\u001b[1;31m---------------------------------------------------------------------------\u001b[0m",
      "\u001b[1;31mNameError\u001b[0m                                 Traceback (most recent call last)",
      "\u001b[1;32m<ipython-input-8-988e3d89ff79>\u001b[0m in \u001b[0;36m<module>\u001b[1;34m()\u001b[0m\n\u001b[0;32m      9\u001b[0m \u001b[0mplt\u001b[0m\u001b[1;33m.\u001b[0m\u001b[0mxticks\u001b[0m\u001b[1;33m(\u001b[0m\u001b[0mindex\u001b[0m\u001b[1;33m+\u001b[0m\u001b[0mbar_width\u001b[0m\u001b[1;33m,\u001b[0m\u001b[1;33m(\u001b[0m\u001b[1;34m'1'\u001b[0m\u001b[1;33m,\u001b[0m\u001b[1;34m'2'\u001b[0m\u001b[1;33m,\u001b[0m\u001b[1;34m'4'\u001b[0m\u001b[1;33m,\u001b[0m\u001b[1;34m'8'\u001b[0m\u001b[1;33m,\u001b[0m\u001b[1;34m'16'\u001b[0m\u001b[1;33m,\u001b[0m\u001b[1;34m'32'\u001b[0m\u001b[1;33m)\u001b[0m\u001b[1;33m)\u001b[0m\u001b[1;33m\u001b[0m\u001b[0m\n\u001b[0;32m     10\u001b[0m \u001b[0mplt\u001b[0m\u001b[1;33m.\u001b[0m\u001b[0mxlabel\u001b[0m\u001b[1;33m(\u001b[0m\u001b[1;34m'Number of cores'\u001b[0m\u001b[1;33m)\u001b[0m\u001b[1;33m\u001b[0m\u001b[0m\n\u001b[1;32m---> 11\u001b[1;33m \u001b[0mlgd\u001b[0m\u001b[1;33m=\u001b[0m\u001b[0mplt\u001b[0m\u001b[1;33m.\u001b[0m\u001b[0mfiglegend\u001b[0m\u001b[1;33m(\u001b[0m\u001b[1;33m(\u001b[0m\u001b[0ma1\u001b[0m\u001b[1;33m,\u001b[0m\u001b[0ma2\u001b[0m\u001b[1;33m)\u001b[0m\u001b[1;33m,\u001b[0m\u001b[1;33m(\u001b[0m\u001b[1;34m'CppTraj MPI'\u001b[0m\u001b[1;33m,\u001b[0m\u001b[1;34m'RADICAL-Pilot'\u001b[0m\u001b[1;33m)\u001b[0m\u001b[1;33m,\u001b[0m\u001b[0mloc\u001b[0m\u001b[1;33m=\u001b[0m\u001b[1;34m'lower center'\u001b[0m\u001b[1;33m,\u001b[0m\u001b[0mncol\u001b[0m\u001b[1;33m=\u001b[0m\u001b[1;36m2\u001b[0m\u001b[1;33m,\u001b[0m\u001b[0mfontsize\u001b[0m\u001b[1;33m=\u001b[0m\u001b[1;36m10\u001b[0m\u001b[1;33m,\u001b[0m\u001b[0mborderaxespad\u001b[0m\u001b[1;33m=\u001b[0m\u001b[1;36m0.15\u001b[0m\u001b[1;33m)\u001b[0m\u001b[1;33m\u001b[0m\u001b[0m\n\u001b[0m\u001b[0;32m     12\u001b[0m \u001b[0ma\u001b[0m\u001b[1;33m.\u001b[0m\u001b[0msubplots_adjust\u001b[0m\u001b[1;33m(\u001b[0m\u001b[0mbottom\u001b[0m\u001b[1;33m=\u001b[0m\u001b[1;36m0.30\u001b[0m\u001b[1;33m)\u001b[0m\u001b[1;33m\u001b[0m\u001b[0m\n\u001b[0;32m     13\u001b[0m \u001b[0mplt\u001b[0m\u001b[1;33m.\u001b[0m\u001b[0mylim\u001b[0m\u001b[1;33m(\u001b[0m\u001b[0mymax\u001b[0m\u001b[1;33m=\u001b[0m\u001b[1;36m2400\u001b[0m\u001b[1;33m)\u001b[0m\u001b[1;33m\u001b[0m\u001b[0m\n",
      "\u001b[1;31mNameError\u001b[0m: name 'a2' is not defined"
     ]
    },
    {
     "data": {
      "image/png": "[encoded data removed]",
      "text/plain": [
       "<matplotlib.figure.Figure at 0x7fb88ed2e810>"
      ]
     },
     "metadata": {},
     "output_type": "display_data"
    }
   ],
   "source": [
    "a=plt.figure()\n",
    "plt.title('Time to Completion @ Stampede')\n",
    "plt.ylabel('Time to Completion (secs)',fontsize=14)\n",
    "n_groups=6\n",
    "index=np.arange(n_groups)\n",
    "bar_width=0.25\n",
    "opacity=1.0\n",
    "a1=plt.bar(index,[cpptral_1,cpptral_2,cpptral_4,cpptral_8,cpptral_16,cpptral_32],bar_width,yerr=[cpptral_1_std,cpptral_2_std,cpptral_4_std,cpptral_8_std,cpptral_16_std,cpptral_32_std],alpha=opacity,color='darkgreen')\n",
    "plt.xticks(index+bar_width,('1','2','4','8','16','32'))\n",
    "plt.xlabel('Number of cores')\n",
    "lgd=plt.figlegend((a1,a2),('CppTraj MPI','RADICAL-Pilot'),loc='lower center',ncol=2,fontsize=10,borderaxespad=0.15)\n",
    "a.subplots_adjust(bottom=0.30)\n",
    "plt.ylim(ymax=2400)\n",
    "#a.savefig('leafletfinder_rp_spark.png',dpi=800,bbox_extra_artists=(lgd,))"
   ]
  },
  {
   "cell_type": "code",
   "execution_count": null,
   "metadata": {
    "collapsed": true
   },
   "outputs": [],
   "source": []
  }
 ],
 "metadata": {
  "kernelspec": {
   "display_name": "Python 2",
   "language": "python",
   "name": "python2"
  },
  "language_info": {
   "codemirror_mode": {
    "name": "ipython",
    "version": 2
   },
   "file_extension": ".py",
   "mimetype": "text/x-python",
   "name": "python",
   "nbconvert_exporter": "python",
   "pygments_lexer": "ipython2",
   "version": "2.7.11"
  }
 },
 "nbformat": 4,
 "nbformat_minor": 0
}
