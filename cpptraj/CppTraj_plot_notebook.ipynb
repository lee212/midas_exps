{
 "cells": [
  {
   "cell_type": "code",
   "execution_count": 9,
   "metadata": {
    "collapsed": true
   },
   "outputs": [],
   "source": [
    "%matplotlib inline\n",
    "import matplotlib.pyplot as plt\n",
    "import numpy as np\n",
    "import csv"
   ]
  },
  {
   "cell_type": "code",
   "execution_count": 10,
   "metadata": {
    "collapsed": false
   },
   "outputs": [],
   "source": [
    "#CppTraj RMSD Analysis single trajectory, Vanilla execution\n",
    "cpptral_1 = np.mean([564.5859,568.8731,566.5191])\n",
    "cpptral_2 = np.mean([283.6768,283.5894,284.4723])\n",
    "cpptral_4 = np.mean([142.7122,143.9257,143.2807])\n",
    "cpptral_8 = np.mean([73.1578,72.4248,72.6958])\n",
    "cpptral_16 = np.mean([37.0447,37.0347,36.9493])\n",
    "cpptral_32 = np.mean([18.4021,18.2681,18.3764])\n",
    "\n",
    "cpptral_1_std = np.std([564.5859,568.8731,566.5191])\n",
    "cpptral_2_std = np.std([283.6768,283.5894,284.4723])\n",
    "cpptral_4_std = np.std([142.7122,143.9257,143.2807])\n",
    "cpptral_8_std = np.std([73.1578,72.4248,72.6958])\n",
    "cpptral_16_std = np.std([37.0447,37.0347,36.9493])\n",
    "cpptral_32_std = np.std([18.4021,18.2681,18.3764])"
   ]
  },
  {
   "cell_type": "code",
   "execution_count": 14,
   "metadata": {
    "collapsed": false
   },
   "outputs": [],
   "source": [
    "rp_cpptraj_1_1 = csv.reader(open('rp_cpptraj/rp_cpptraj_1_1-1.csv'))\n",
    "rp_cpptraj_1_2 = csv.reader(open('rp_cpptraj/rp_cpptraj_1_2-1.csv'))\n",
    "rp_cpptraj_1_3 = csv.reader(open('rp_cpptraj/rp_cpptraj_1_3-1.csv'))\n",
    "rp_cpptraj_2_1 = csv.reader(open('rp_cpptraj/rp_cpptraj_2_1-2.csv'))\n",
    "rp_cpptraj_2_2 = csv.reader(open('rp_cpptraj/rp_cpptraj_2_2-2.csv'))\n",
    "rp_cpptraj_2_3 = csv.reader(open('rp_cpptraj/rp_cpptraj_2_3-2.csv'))\n",
    "rp_cpptraj_4_1 = csv.reader(open('rp_cpptraj/rp_cpptraj_4_1-4.csv'))\n",
    "rp_cpptraj_4_2 = csv.reader(open('rp_cpptraj/rp_cpptraj_4_2-4.csv'))\n",
    "rp_cpptraj_4_3 = csv.reader(open('rp_cpptraj/rp_cpptraj_4_3-4.csv'))\n",
    "rp_cpptraj_8_1 = csv.reader(open('rp_cpptraj/rp_cpptraj_8_1-8.csv'))\n",
    "rp_cpptraj_8_2 = csv.reader(open('rp_cpptraj/rp_cpptraj_8_2-8.csv'))\n",
    "rp_cpptraj_8_3 = csv.reader(open('rp_cpptraj/rp_cpptraj_8_3-8.csv'))\n",
    "rp_cpptraj_16_1 = csv.reader(open('rp_cpptraj/rp_cpptraj_16_1-16.csv'))\n",
    "rp_cpptraj_16_2 = csv.reader(open('rp_cpptraj/rp_cpptraj_16_2-16.csv'))\n",
    "rp_cpptraj_16_3 = csv.reader(open('rp_cpptraj/rp_cpptraj_16_3-16.csv'))\n",
    "rp_cpptraj_32_1 = csv.reader(open('rp_cpptraj/rp_cpptraj_32_1-32.csv'))\n",
    "rp_cpptraj_32_2 = csv.reader(open('rp_cpptraj/rp_cpptraj_32_2-32.csv'))\n",
    "rp_cpptraj_32_3 = csv.reader(open('rp_cpptraj/rp_cpptraj_32_3-32.csv'))"
   ]
  },
  {
   "cell_type": "code",
   "execution_count": 17,
   "metadata": {
    "collapsed": false
   },
   "outputs": [],
   "source": [
    "def extract_timing(csv_file):\n",
    "    import numpy as np\n",
    "    results = list()\n",
    "    for row in csv_file:\n",
    "        if row[5]!='StageOut':\n",
    "            results.append(float(row[5]))\n",
    "    \n",
    "    return np.array(results).max()\n",
    "        \n",
    "cpptraj_rp11 = extract_timing(rp_cpptraj_1_1)\n",
    "cpptraj_rp12 = extract_timing(rp_cpptraj_1_2)\n",
    "cpptraj_rp13 = extract_timing(rp_cpptraj_1_3)\n",
    "cpptraj_rp21 = extract_timing(rp_cpptraj_2_1)\n",
    "cpptraj_rp22 = extract_timing(rp_cpptraj_2_2)\n",
    "cpptraj_rp23 = extract_timing(rp_cpptraj_2_3)\n",
    "cpptraj_rp41 = extract_timing(rp_cpptraj_4_1)\n",
    "cpptraj_rp42 = extract_timing(rp_cpptraj_4_2)\n",
    "cpptraj_rp43 = extract_timing(rp_cpptraj_4_3)\n",
    "cpptraj_rp81 = extract_timing(rp_cpptraj_8_1)\n",
    "cpptraj_rp82 = extract_timing(rp_cpptraj_8_2)\n",
    "cpptraj_rp83 = extract_timing(rp_cpptraj_8_3)\n",
    "cpptraj_rp161 = extract_timing(rp_cpptraj_16_1)\n",
    "cpptraj_rp162 = extract_timing(rp_cpptraj_16_2)\n",
    "cpptraj_rp163 = extract_timing(rp_cpptraj_16_3)\n",
    "cpptraj_rp321 = extract_timing(rp_cpptraj_32_1)\n",
    "cpptraj_rp322 = extract_timing(rp_cpptraj_32_2)\n",
    "cpptraj_rp323 = extract_timing(rp_cpptraj_32_3)\n",
    "\n",
    "cpptraj_rp1 = np.mean([cpptraj_rp11,cpptraj_rp12,cpptraj_rp13])\n",
    "cpptraj_rp2 = np.mean([cpptraj_rp21,cpptraj_rp22,cpptraj_rp23])\n",
    "cpptraj_rp4 = np.mean([cpptraj_rp41,cpptraj_rp42,cpptraj_rp43])\n",
    "cpptraj_rp8 = np.mean([cpptraj_rp81,cpptraj_rp82,cpptraj_rp83])\n",
    "cpptraj_rp16 = np.mean([cpptraj_rp161,cpptraj_rp162,cpptraj_rp163])\n",
    "cpptraj_rp32 = np.mean([cpptraj_rp321,cpptraj_rp322,cpptraj_rp323])\n",
    "\n",
    "cpptraj_rp1_std = np.std([cpptraj_rp11,cpptraj_rp12,cpptraj_rp13])\n",
    "cpptraj_rp2_std = np.std([cpptraj_rp21,cpptraj_rp22,cpptraj_rp23])\n",
    "cpptraj_rp4_std = np.std([cpptraj_rp41,cpptraj_rp42,cpptraj_rp43])\n",
    "cpptraj_rp8_std = np.std([cpptraj_rp81,cpptraj_rp82,cpptraj_rp83])\n",
    "cpptraj_rp16_std = np.std([cpptraj_rp161,cpptraj_rp162,cpptraj_rp163])\n",
    "cpptraj_rp32_std = np.std([cpptraj_rp321,cpptraj_rp322,cpptraj_rp323])"
   ]
  },
  {
   "cell_type": "code",
   "execution_count": 23,
   "metadata": {
    "collapsed": false
   },
   "outputs": [
    {
     "data": {
      "image/png": "[encoded data removed]",
      "text/plain": [
       "<matplotlib.figure.Figure at 0x7fb88eaf4a10>"
      ]
     },
     "metadata": {},
     "output_type": "display_data"
    }
   ],
   "source": [
    "a=plt.figure()\n",
    "plt.title('Time to Completion @ Stampede')\n",
    "plt.ylabel('Time to Completion (secs)',fontsize=14)\n",
    "n_groups=6\n",
    "index=np.arange(n_groups)\n",
    "bar_width=0.25\n",
    "opacity=1.0\n",
    "a1=plt.bar(index,[cpptral_1,cpptral_2,cpptral_4,cpptral_8,cpptral_16,cpptral_32],bar_width,yerr=[cpptral_1_std,cpptral_2_std,cpptral_4_std,cpptral_8_std,cpptral_16_std,cpptral_32_std],alpha=opacity,color='darkgreen')\n",
    "a2=plt.bar(index+bar_width,[cpptraj_rp1,cpptraj_rp2,cpptraj_rp4,cpptraj_rp8,cpptraj_rp16,cpptraj_rp32],bar_width,yerr=[cpptraj_rp1_std,cpptraj_rp2_std,cpptraj_rp4_std,cpptraj_rp8_std,cpptraj_rp16_std,cpptraj_rp32_std],alpha=opacity,color='blue')\n",
    "plt.xticks(index+bar_width,('1','2','4','8','16','32'))\n",
    "plt.xlabel('Number of cores')\n",
    "lgd=plt.figlegend((a1,a2),('CppTraj MPI','RADICAL-Pilot'),loc='lower center',ncol=2,fontsize=10,borderaxespad=0.15)\n",
    "a.subplots_adjust(bottom=0.18)\n",
    "a.savefig('cpptraj_single_traj_rp_vs_vanilla.png',dpi=800,bbox_extra_artists=(lgd,))"
   ]
  },
  {
   "cell_type": "code",
   "execution_count": null,
   "metadata": {
    "collapsed": true
   },
   "outputs": [],
   "source": []
  }
 ],
 "metadata": {
  "kernelspec": {
   "display_name": "Python 2",
   "language": "python",
   "name": "python2"
  },
  "language_info": {
   "codemirror_mode": {
    "name": "ipython",
    "version": 2
   },
   "file_extension": ".py",
   "mimetype": "text/x-python",
   "name": "python",
   "nbconvert_exporter": "python",
   "pygments_lexer": "ipython2",
   "version": "2.7.11"
  }
 },
 "nbformat": 4,
 "nbformat_minor": 0
}
