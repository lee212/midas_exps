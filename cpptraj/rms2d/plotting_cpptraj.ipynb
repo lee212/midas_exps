{
 "cells": [
  {
   "cell_type": "code",
   "execution_count": 2,
   "metadata": {
    "collapsed": false
   },
   "outputs": [],
   "source": [
    "%matplotlib inline\n",
    "import matplotlib.pyplot as plt\n",
    "import numpy as np\n",
    "import csv"
   ]
  },
  {
   "cell_type": "code",
   "execution_count": 3,
   "metadata": {
    "collapsed": false,
    "scrolled": true
   },
   "outputs": [
    {
     "name": "stdout",
     "output_type": "stream",
     "text": [
      "['Scenario', 'Par', 'Nodes', 'Type', 'Time', 'Time', 'Time']\n",
      "['small', 'omp', '1', 'read', '155.6851', '133.4531', '144.6506']\n",
      "['small', 'omp', '1', 'exec', '269.7567', '272.4512', '253.1332']\n",
      "['small', 'omp', '1', 'write', '223.7209', '222.9694', '223.6599']\n",
      "['small', 'mpi', '1', 'read', '49.5894', '199.8003', '87.0614']\n",
      "['small', 'mpi', '1', 'exec', '234.2093', '230.8826', '233.7765']\n",
      "['small', 'mpi', '1', 'write', '14.0723', '14.1607', '14.1460']\n",
      "['small', 'mpi', '2', 'read', '44.2566', '42.3310', '42.1245']\n",
      "['small', 'mpi', '2', 'exec', '233.0346', '232.8755', '231.7468']\n",
      "['small', 'mpi', '2', 'write', '14.1875', '14.2462', '14.2718']\n",
      "['small', 'mpi', '4', 'read', '35.2085', '36.0686', '33.3102']\n",
      "['small', 'mpi', '4', 'exec', '227.0627', '227.0792', '227.1124']\n",
      "['small', 'mpi', '4', 'write', '14.3328', '14.1496', '14.1192']\n",
      "['medium', 'mpi', '1', 'read', '57.4029', '60.5565', '54.1781']\n",
      "['medium', 'mpi', '1', 'exec', '953.7868', '954.3838', '954.5257']\n",
      "['medium', 'mpi', '1', 'write', '58.7108', '59.5923', '58.2298']\n",
      "['medium', 'mpi', '2', 'read', '51.4408', '48.5266', '47.4901']\n",
      "['medium', 'mpi', '2', 'exec', '935.0366', '933.9333', '933.1705']\n",
      "['medium', 'mpi', '2', 'write', '56.3363', '56.4463', '56.4671']\n",
      "['medium', 'mpi', '4', 'read', '38.8340', '42.6559', '40.0065']\n",
      "['medium', 'mpi', '4', 'exec', '907.9359', '909.0642', '907.8906']\n",
      "['medium', 'mpi', '4', 'write', '56.4834', '56.8250', '56.9316']\n"
     ]
    }
   ],
   "source": [
    "data_file = open('rmsd.csv')\n",
    "RawData = csv.reader(data_file)\n",
    "RawDataList = list()\n",
    "for row in RawData:\n",
    "    print row\n",
    "    RawDataList.append(row)"
   ]
  },
  {
   "cell_type": "code",
   "execution_count": 4,
   "metadata": {
    "collapsed": false
   },
   "outputs": [],
   "source": [
    "small_1_read_omp = np.mean(map(float,RawDataList[1][4:]))\n",
    "small_1_exec_omp = np.mean(map(float,RawDataList[2][4:]))\n",
    "small_1_writ_omp = np.mean(map(float,RawDataList[3][4:]))\n",
    "small_1_read_mpi = np.mean(map(float,RawDataList[4][4:]))\n",
    "small_1_exec_mpi = np.mean(map(float,RawDataList[5][4:]))\n",
    "small_1_writ_mpi = np.mean(map(float,RawDataList[6][4:]))\n",
    "small_2_read_mpi = np.mean(map(float,RawDataList[7][4:]))\n",
    "small_2_exec_mpi = np.mean(map(float,RawDataList[8][4:]))\n",
    "small_2_writ_mpi = np.mean(map(float,RawDataList[9][4:]))\n",
    "small_4_read_mpi = np.mean(map(float,RawDataList[10][4:]))\n",
    "small_4_exec_mpi = np.mean(map(float,RawDataList[11][4:]))\n",
    "small_4_writ_mpi = np.mean(map(float,RawDataList[12][4:]))\n",
    "\n",
    "med_1_read_mpi = np.mean(map(float,RawDataList[13][4:]))\n",
    "med_1_exec_mpi = np.mean(map(float,RawDataList[14][4:]))\n",
    "med_1_writ_mpi = np.mean(map(float,RawDataList[15][4:]))\n",
    "med_2_read_mpi = np.mean(map(float,RawDataList[16][4:]))\n",
    "med_2_exec_mpi = np.mean(map(float,RawDataList[17][4:]))\n",
    "med_2_writ_mpi = np.mean(map(float,RawDataList[18][4:]))\n",
    "med_4_read_mpi = np.mean(map(float,RawDataList[19][4:]))\n",
    "med_4_exec_mpi = np.mean(map(float,RawDataList[20][4:]))\n",
    "med_4_writ_mpi = np.mean(map(float,RawDataList[21][4:]))"
   ]
  },
  {
   "cell_type": "code",
   "execution_count": null,
   "metadata": {
    "collapsed": true
   },
   "outputs": [],
   "source": [
    "\n",
    "\n",
    "\n",
    "\n",
    "\n"
   ]
  },
  {
   "cell_type": "code",
   "execution_count": 35,
   "metadata": {
    "collapsed": false
   },
   "outputs": [
    {
     "data": {
      "image/png": "[encoded data removed]",
      "text/plain": [
       "<matplotlib.figure.Figure at 0x7faa8d13a8d0>"
      ]
     },
     "metadata": {},
     "output_type": "display_data"
    }
   ],
   "source": [
    "a=plt.figure()\n",
    "plt.suptitle('CPPTraj RMS2D on Stampede Time to Completion',y=1.06,fontsize=14)\n",
    "plt.subplot(1,2,1)\n",
    "plt.ylabel('Time to Completion (secs)',fontsize=14)\n",
    "n_groups=3\n",
    "index=np.arange(n_groups)\n",
    "bar_width=0.5\n",
    "opacity=1.0\n",
    "plt.bar(index,[small_1_writ_mpi+small_1_exec_mpi+small_1_read_mpi,small_2_writ_mpi+small_2_exec_mpi+small_2_read_mpi,small_4_writ_mpi+small_4_exec_mpi+small_4_read_mpi],bar_width,alpha=opacity,color='darkgreen',label='Write')\n",
    "plt.bar(index,[small_1_exec_mpi+small_1_read_mpi,small_2_exec_mpi+small_2_read_mpi,small_4_exec_mpi+small_4_read_mpi],bar_width,alpha=opacity,color='blue',label='Exec')\n",
    "plt.bar(index,[small_1_read_mpi,small_2_read_mpi,small_4_read_mpi],bar_width,alpha=opacity,color='orange',label='Read')\n",
    "plt.title('4 Ensembles'+'\\n'+'5000 frames/Ensemble')\n",
    "plt.xticks(index+0.5*bar_width,('1','2','4'))\n",
    "plt.ylim(ymax=1200)\n",
    "plt.subplot(1,2,2)\n",
    "n_groups=3\n",
    "index=np.arange(n_groups)\n",
    "bar_width=0.5\n",
    "opacity=1.0\n",
    "b1=plt.bar(index,[med_1_writ_mpi+med_1_exec_mpi+med_1_read_mpi,med_2_writ_mpi+med_2_exec_mpi+med_2_read_mpi,med_4_writ_mpi+med_4_exec_mpi+med_4_read_mpi],bar_width,alpha=opacity,color='darkgreen',label='Write')\n",
    "b2=plt.bar(index,[med_1_exec_mpi+med_1_read_mpi,med_2_exec_mpi+med_2_read_mpi,med_4_exec_mpi+med_4_read_mpi],bar_width,alpha=opacity,color='blue',label='Exec')\n",
    "b3=plt.bar(index,[med_1_read_mpi,med_2_read_mpi,med_4_read_mpi],bar_width,alpha=opacity,color='orange',label='Read')\n",
    "plt.title('4 Ensembles'+'\\n'+'10000 frames/Ensemble')\n",
    "plt.xticks(index+0.5*bar_width,('1','2','4'))\n",
    "a.text(0.5,0.10,'Number of Nodes',ha='center',fontsize=14)\n",
    "lgd=plt.figlegend((b1,b2,b3),('Write','Exec','Read'),\n",
    "              loc='lower center',ncol=3,fontsize=10,borderaxespad=0.15)\n",
    "a.subplots_adjust(bottom=0.20)\n",
    "a.savefig('cpptraj-native.png',dpi=800,bbox_extra_artists=(lgd,))"
   ]
  },
  {
   "cell_type": "code",
   "execution_count": 5,
   "metadata": {
    "collapsed": false
   },
   "outputs": [
    {
     "name": "stdout",
     "output_type": "stream",
     "text": [
      "['r']\n",
      "['m']\n",
      "['s']\n",
      "['d']\n",
      "['.']\n",
      "['c']\n",
      "['s']\n",
      "['v']\n"
     ]
    }
   ],
   "source": [
    "index = np.arange(3)\n",
    "width = 0.35\n",
    "opacity = 1.0\n",
    "\n",
    "plt.bar(index,DoneReduce,width,yerr=DoneReduceStd,color='red',alpha=opacity)"
   ]
  },
  {
   "cell_type": "code",
   "execution_count": null,
   "metadata": {
    "collapsed": true
   },
   "outputs": [],
   "source": [
    "help"
   ]
  }
 ],
 "metadata": {
  "kernelspec": {
   "display_name": "Python 2",
   "language": "python",
   "name": "python2"
  },
  "language_info": {
   "codemirror_mode": {
    "name": "ipython",
    "version": 2
   },
   "file_extension": ".py",
   "mimetype": "text/x-python",
   "name": "python",
   "nbconvert_exporter": "python",
   "pygments_lexer": "ipython2",
   "version": "2.7.11"
  }
 },
 "nbformat": 4,
 "nbformat_minor": 0
}
