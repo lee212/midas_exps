{
 "cells": [
  {
   "cell_type": "code",
   "execution_count": 1,
   "metadata": {
    "collapsed": false
   },
   "outputs": [
    {
     "name": "stderr",
     "output_type": "stream",
     "text": [
      "/home/iparask/anaconda2/lib/python2.7/site-packages/matplotlib/font_manager.py:273: UserWarning: Matplotlib is building the font cache using fc-list. This may take a moment.\n",
      "  warnings.warn('Matplotlib is building the font cache using fc-list. This may take a moment.')\n"
     ]
    }
   ],
   "source": [
    "%matplotlib inline\n",
    "import matplotlib.pyplot as plt\n",
    "import numpy as np\n",
    "import csv"
   ]
  },
  {
   "cell_type": "code",
   "execution_count": 7,
   "metadata": {
    "collapsed": false
   },
   "outputs": [
    {
     "name": "stdout",
     "output_type": "stream",
     "text": [
      "['Scenario', 'Par', 'Nodes', 'Type', 'Time', 'Time', 'Time']\n",
      "['small', 'omp', '1', 'read', '155.6851', '133.4531', '144.6506']\n",
      "['small', 'omp', '1', 'exec', '269.7567', '272.4512', '253.1332']\n",
      "['small', 'omp', '1', 'write', '223.7209', '222.9694', '223.6599']\n",
      "['small', 'mpi', '1', 'read', '49.5894', '199.8003', '87.0614']\n",
      "['small', 'mpi', '1', 'exec', '234.2093', '230.8826', '233.7765']\n",
      "['small', 'mpi', '1', 'write', '14.0723', '14.1607', '14.1460']\n",
      "['small', 'mpi', '2', 'read', '44.2566', '42.3310', '42.1245']\n",
      "['small', 'mpi', '2', 'exec', '233.0346', '232.8755', '231.7468']\n",
      "['small', 'mpi', '2', 'write', '14.1875', '14.2462', '14.2718']\n",
      "['small', 'mpi', '4', 'read', '35.2085', '36.0686', '33.3102']\n",
      "['small', 'mpi', '4', 'exec', '227.0627', '227.0792', '227.1124']\n",
      "['small', 'mpi', '4', 'write', '14.3328', '14.1496', '14.1192']\n",
      "['medium', 'mpi', '1', 'read', '57.4029', '60.5565', '54.1781']\n",
      "['medium', 'mpi', '1', 'exec', '953.7868', '954.3838', '954.5257']\n",
      "['medium', 'mpi', '1', 'write', '58.7108', '59.5923', '58.2298']\n",
      "['medium', 'mpi', '2', 'read', '51.4408', '48.5266', '47.4901']\n",
      "['medium', 'mpi', '2', 'exec', '935.0366', '933.9333', '933.1705']\n",
      "['medium', 'mpi', '2', 'write', '56.3363', '56.4463', '56.4671']\n",
      "['medium', 'mpi', '4', 'read', '38.8340', '42.6559', '40.0065']\n",
      "['medium', 'mpi', '4', 'exec', '907.9359', '909.0642', '907.8906']\n",
      "['medium', 'mpi', '4', 'write', '56.4834', '56.8250', '56.9316']\n"
     ]
    }
   ],
   "source": [
    "data_file = open('rmsd.csv')\n",
    "RawData = csv.reader(data_file)\n",
    "for row in RawData:\n",
    "    print row"
   ]
  },
  {
   "cell_type": "code",
   "execution_count": null,
   "metadata": {
    "collapsed": true
   },
   "outputs": [],
   "source": []
  },
  {
   "cell_type": "code",
   "execution_count": 5,
   "metadata": {
    "collapsed": false
   },
   "outputs": [
    {
     "name": "stdout",
     "output_type": "stream",
     "text": [
      "['r']\n",
      "['m']\n",
      "['s']\n",
      "['d']\n",
      "['.']\n",
      "['c']\n",
      "['s']\n",
      "['v']\n"
     ]
    }
   ],
   "source": [
    "index = np.arange(3)\n",
    "width = 0.35\n",
    "opacity = 1.0\n",
    "\n",
    "plt.bar(index,DoneReduce,width,yerr=DoneReduceStd,color='red',alpha=opacity)"
   ]
  },
  {
   "cell_type": "code",
   "execution_count": null,
   "metadata": {
    "collapsed": true
   },
   "outputs": [],
   "source": [
    "help"
   ]
  }
 ],
 "metadata": {
  "kernelspec": {
   "display_name": "Python 2",
   "language": "python",
   "name": "python2"
  },
  "language_info": {
   "codemirror_mode": {
    "name": "ipython",
    "version": 2
   },
   "file_extension": ".py",
   "mimetype": "text/x-python",
   "name": "python",
   "nbconvert_exporter": "python",
   "pygments_lexer": "ipython2",
   "version": "2.7.11"
  }
 },
 "nbformat": 4,
 "nbformat_minor": 0
}
