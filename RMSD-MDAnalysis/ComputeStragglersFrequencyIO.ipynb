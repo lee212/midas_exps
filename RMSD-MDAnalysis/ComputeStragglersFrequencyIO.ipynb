{
 "cells": [
  {
   "cell_type": "code",
   "execution_count": 1,
   "metadata": {},
   "outputs": [
    {
     "data": {
      "text/html": [
       "<style>.container { width:100% !important; }</style>"
      ],
      "text/plain": [
       "<IPython.core.display.HTML object>"
      ]
     },
     "metadata": {},
     "output_type": "display_data"
    }
   ],
   "source": [
    "%matplotlib inline\n",
    "from __future__ import division\n",
    "import numpy as np\n",
    "from matplotlib import pyplot as plt\n",
    "from matplotlib import cm\n",
    "import csv\n",
    "import pandas as pd\n",
    "import matplotlib as mpl\n",
    "mpl.rcParams['text.usetex'] = True\n",
    "mpl.rcParams['text.latex.unicode'] = True\n",
    "\n",
    "blues = cm.get_cmap(plt.get_cmap('Blues'))\n",
    "greens = cm.get_cmap(plt.get_cmap('Greens'))\n",
    "reds = cm.get_cmap(plt.get_cmap('Reds'))\n",
    "oranges = cm.get_cmap(plt.get_cmap('Oranges'))\n",
    "purples = cm.get_cmap(plt.get_cmap('Purples'))\n",
    "\n",
    "from IPython.core.display import display, HTML\n",
    "display(HTML(\"<style>.container { width:100% !important; }</style>\"))"
   ]
  },
  {
   "cell_type": "code",
   "execution_count": 2,
   "metadata": {
    "collapsed": true
   },
   "outputs": [],
   "source": [
    "comet_mpi4py      = pd.DataFrame.from_csv('stragglers/tidy_data/StrongScaling/comet_mpi4py_IO.csv')\n",
    "comet_mpi4pyBreak = pd.DataFrame.from_csv('stragglers/tidy_data/StrongScaling/comet_mpi4py_IO_break.csv')\n",
    "comet_rp          = pd.DataFrame.from_csv('stragglers/tidy_data/StrongScaling/comet_rp_IO.csv')\n",
    "comet_spark       = pd.DataFrame.from_csv('stragglers/tidy_data/StrongScaling/comet_spark_IO.csv')\n",
    "#comet_dask   = pd.DataFrame.from_csv('stragglers/tidy_data/comet_dask_NoIO.csv')"
   ]
  },
  {
   "cell_type": "code",
   "execution_count": 3,
   "metadata": {
    "collapsed": true
   },
   "outputs": [],
   "source": [
    "comet_mpi4py1 = comet_mpi4py[comet_mpi4py['Nodes']==1].drop(['Nodes'],axis=1)\n",
    "comet_mpi4py2 = comet_mpi4py[comet_mpi4py['Nodes']==2].drop(['Nodes'],axis=1)\n",
    "comet_mpi4py3 = comet_mpi4py[comet_mpi4py['Nodes']==3].drop(['Nodes'],axis=1)\n",
    "\n",
    "comet_mpi4py1Ex = comet_mpi4py1[comet_mpi4py1['Measurement']=='Execution'].drop(['Run','ID','Measurement'],axis=1)\n",
    "comet_mpi4py1Comm = comet_mpi4py1[comet_mpi4py1['Measurement']=='Communication'].drop(['Run','ID','Measurement'],axis=1)\n",
    "comet_mpi4pyTx1 = comet_mpi4py1Ex + comet_mpi4py1Comm\n",
    "\n",
    "comet_mpi4py2Ex = comet_mpi4py2[comet_mpi4py2['Measurement']=='Execution'].drop(['Run','ID','Measurement'],axis=1)\n",
    "comet_mpi4py2Comm = comet_mpi4py2[comet_mpi4py2['Measurement']=='Communication'].drop(['Run','ID','Measurement'],axis=1)\n",
    "comet_mpi4pyTx2 = comet_mpi4py2Ex.reset_index(drop='index') + comet_mpi4py2Comm.reset_index(drop='index')\n",
    "\n",
    "comet_mpi4py3Ex = comet_mpi4py3[comet_mpi4py3['Measurement']=='Execution'].drop(['Run','ID','Measurement'],axis=1)\n",
    "comet_mpi4py3Comm = comet_mpi4py3[comet_mpi4py3['Measurement']=='Communication'].drop(['Run','ID','Measurement'],axis=1)\n",
    "comet_mpi4pyTx3 = comet_mpi4py3Ex.reset_index(drop='index') + comet_mpi4py3Comm.reset_index(drop='index')\n",
    "\n",
    "comet_spark1 = comet_spark[comet_spark['Nodes']==1].drop(['Framework','Nodes'],axis=1)\n",
    "comet_spark2 = comet_spark[comet_spark['Nodes']==2].drop(['Framework','Nodes'],axis=1)\n",
    "comet_spark3 = comet_spark[comet_spark['Nodes']==3].drop(['Framework','Nodes'],axis=1)\n",
    "\n",
    "comet_rp1 = comet_rp[comet_rp['Nodes']==1].drop(['Framework','Nodes'],axis=1)\n",
    "comet_rp2 = comet_rp[comet_rp['Nodes']==2].drop(['Framework','Nodes'],axis=1)\n",
    "comet_rp3 = comet_rp[comet_rp['Nodes']==3].drop(['Framework','Nodes'],axis=1)\n",
    "\n",
    "#comet_dask1 = comet_dask[comet_dask['Nodes']==1].drop(['Framework','Nodes'],axis=1)\n",
    "#comet_dask2 = comet_dask[comet_dask['Nodes']==2].drop(['Framework','Nodes'],axis=1)\n",
    "#comet_dask3 = comet_dask[comet_dask['Nodes']==3].drop(['Framework','Nodes'],axis=1)\n",
    "\n",
    "#comet_dask1 = comet_dask[comet_dask['Nodes']==1].drop(['Framework','Nodes'],axis=1)\n",
    "#comet_dask2 = comet_dask[comet_dask['Nodes']==2].drop(['Framework','Nodes'],axis=1)\n",
    "#comet_dask3 = comet_dask[comet_dask['Nodes']==3].drop(['Framework','Nodes'],axis=1)"
   ]
  },
  {
   "cell_type": "code",
   "execution_count": 4,
   "metadata": {
    "collapsed": true
   },
   "outputs": [],
   "source": [
    "comet_mpi4py1B = comet_mpi4pyBreak[comet_mpi4pyBreak['Nodes']==1].drop(['Nodes'],axis=1)\n",
    "comet_mpi4py2B = comet_mpi4pyBreak[comet_mpi4pyBreak['Nodes']==2].drop(['Nodes'],axis=1)\n",
    "comet_mpi4py3B = comet_mpi4pyBreak[comet_mpi4pyBreak['Nodes']==3].drop(['Nodes'],axis=1)\n",
    "\n",
    "comet_mpi4py1Comp = comet_mpi4py1B[comet_mpi4py1B['Measurement']=='Compute'].drop(['Run','ID','Measurement'],axis=1)\n",
    "comet_mpi4py1IO = comet_mpi4py1B[comet_mpi4py1B['Measurement']=='IO'].drop(['Run','ID','Measurement'],axis=1)\n",
    "\n",
    "comet_mpi4py2Comp = comet_mpi4py2B[comet_mpi4py2B['Measurement']=='Compute'].drop(['Run','ID','Measurement'],axis=1)\n",
    "comet_mpi4py2IO = comet_mpi4py2B[comet_mpi4py2B['Measurement']=='IO'].drop(['Run','ID','Measurement'],axis=1)\n",
    "\n",
    "comet_mpi4py3Comp = comet_mpi4py3B[comet_mpi4py3B['Measurement']=='Compute'].drop(['Run','ID','Measurement'],axis=1)\n",
    "comet_mpi4py3IO = comet_mpi4py3B[comet_mpi4py3B['Measurement']=='IO'].drop(['Run','ID','Measurement'],axis=1)\n",
    "\n"
   ]
  },
  {
   "cell_type": "code",
   "execution_count": 5,
   "metadata": {
    "collapsed": true
   },
   "outputs": [],
   "source": [
    "Cmpi4pyS = [0,#((comet_mpi4py1Ex>(comet_mpi4py1Ex.mean()+3*comet_mpi4py1Ex.std()))==True).sum().values[0]/len(comet_mpi4py1Ex),\n",
    "            ((comet_mpi4pyTx2>(comet_mpi4pyTx2.mean()+3*comet_mpi4pyTx2.std()))==True).sum().values[0]/len(comet_mpi4pyTx2),\n",
    "            ((comet_mpi4pyTx3>(comet_mpi4pyTx3.mean()+3*comet_mpi4pyTx3.std()))==True).sum().values[0]/len(comet_mpi4pyTx3)]\n",
    "\n",
    "CsparkS = [0,#((comet_spark1>(comet_spark1.mean()+3*comet_spark1.std()))==True).sum().values[0]/len(comet_spark1),\n",
    "            ((comet_spark2>(comet_spark2.mean()+2*comet_spark2.std()))==True).sum().values[0]/len(comet_spark2),\n",
    "            ((comet_spark3>(comet_spark3.mean()+2*comet_spark3.std()))==True).sum().values[0]/len(comet_spark3)]\n",
    "\n",
    "CrpS   = [0,#((comet_rp1>(comet_rp1.mean()+3*comet_rp1.std()))==True).sum().values[0]/len(comet_rp1),\n",
    "            ((comet_rp2>(comet_rp2.mean()+3*comet_rp2.std()))==True).sum().values[0]/len(comet_rp2),\n",
    "            ((comet_rp3>(comet_rp3.mean()+3*comet_rp3.std()))==True).sum().values[0]/len(comet_rp3)]"
   ]
  },
  {
   "cell_type": "code",
   "execution_count": 6,
   "metadata": {
    "collapsed": true
   },
   "outputs": [],
   "source": [
    "#wrangler_mpi4py = pd.DataFrame.from_csv('stragglers/tidy_data/wrangler_mpi4py_NoIO.csv')\n",
    "#wrangler_mpicpp = pd.DataFrame.from_csv('stragglers/tidy_data/wrangler_mpic++_NoIO.csv')\n",
    "#wrangler_dask   = pd.DataFrame.from_csv('stragglers/tidy_data/wrangler_dask_NoIO.csv')\n",
    "#wrangler_spark  = pd.DataFrame.from_csv('stragglers/tidy_data/wrangler_spark_NoIO.csv')\n",
    "#wrangler_rp     = pd.DataFrame.from_csv('stragglers/tidy_data/wrangler_rp_NoIO.csv')"
   ]
  },
  {
   "cell_type": "code",
   "execution_count": 7,
   "metadata": {
    "collapsed": true
   },
   "outputs": [],
   "source": [
    "#wrangler_mpi4py1 = wrangler_mpi4py[wrangler_mpi4py['Nodes']==1].drop(['Framework','Nodes'],axis=1)\n",
    "#wrangler_mpi4py2 = wrangler_mpi4py[wrangler_mpi4py['Nodes']==2].drop(['Framework','Nodes'],axis=1)\n",
    "#wrangler_mpi4py3 = wrangler_mpi4py[wrangler_mpi4py['Nodes']==3].drop(['Framework','Nodes'],axis=1)\n",
    "\n",
    "#wrangler_mpicpp1 = wrangler_mpicpp[wrangler_mpicpp['Nodes']==1].drop(['Framework','Nodes'],axis=1)\n",
    "#wrangler_mpicpp2 = wrangler_mpicpp[wrangler_mpicpp['Nodes']==2].drop(['Framework','Nodes'],axis=1)\n",
    "#wrangler_mpicpp3 = wrangler_mpicpp[wrangler_mpicpp['Nodes']==3].drop(['Framework','Nodes'],axis=1)\n",
    "\n",
    "#wrangler_dask1 = wrangler_dask[wrangler_dask['Nodes']==1].drop(['Framework','Nodes'],axis=1)\n",
    "#wrangler_dask2 = wrangler_dask[wrangler_dask['Nodes']==2].drop(['Framework','Nodes'],axis=1)\n",
    "#wrangler_dask3 = wrangler_dask[wrangler_dask['Nodes']==3].drop(['Framework','Nodes'],axis=1)\n",
    "\n",
    "#wrangler_spark1 = wrangler_spark[wrangler_spark['Nodes']==1].drop(['Framework','Nodes'],axis=1)\n",
    "#wrangler_spark2 = wrangler_spark[wrangler_spark['Nodes']==2].drop(['Framework','Nodes'],axis=1)\n",
    "#wrangler_spark3 = wrangler_spark[wrangler_spark['Nodes']==3].drop(['Framework','Nodes'],axis=1)\n",
    "\n",
    "#wrangler_rp1 = wrangler_rp[wrangler_rp['Nodes']==1].drop(['Framework','Nodes'],axis=1)\n",
    "#wrangler_rp2 = wrangler_rp[wrangler_rp['Nodes']==2].drop(['Framework','Nodes'],axis=1)\n",
    "#wrangler_rp3 = wrangler_rp[wrangler_rp['Nodes']==3].drop(['Framework','Nodes'],axis=1)"
   ]
  },
  {
   "cell_type": "code",
   "execution_count": 8,
   "metadata": {
    "collapsed": true
   },
   "outputs": [],
   "source": [
    "#Wmpi4pyS = [((wrangler_mpi4py1>(wrangler_mpi4py1.mean()+3*wrangler_mpi4py1.std()))==True).sum().values[0]/len(wrangler_mpi4py1),\n",
    "#            ((wrangler_mpi4py2>(wrangler_mpi4py2.mean()+3*wrangler_mpi4py2.std()))==True).sum().values[0]/len(wrangler_mpi4py2),\n",
    "#            ((wrangler_mpi4py3>(wrangler_mpi4py3.mean()+3*wrangler_mpi4py3.std()))==True).sum().values[0]/len(wrangler_mpi4py3)]\n",
    "\n",
    "#WmpicppS = [((wrangler_mpicpp1>(wrangler_mpicpp1.mean()+3*wrangler_mpicpp1.std()))==True).sum().values[0]/len(wrangler_mpicpp1),\n",
    "#            ((wrangler_mpicpp2>(wrangler_mpicpp2.mean()+3*wrangler_mpicpp2.std()))==True).sum().values[0]/len(wrangler_mpicpp2),\n",
    "#            ((wrangler_mpicpp3>(wrangler_mpicpp3.mean()+3*wrangler_mpicpp3.std()))==True).sum().values[0]/len(wrangler_mpicpp3)]\n",
    "\n",
    "#WdaskS   = [((wrangler_dask1>(wrangler_dask1.mean()+3*wrangler_dask1.std()))==True).sum().values[0]/len(wrangler_dask1),\n",
    "#            ((wrangler_dask2>(wrangler_dask2.mean()+3*wrangler_dask2.std()))==True).sum().values[0]/len(wrangler_dask2),\n",
    "#            ((wrangler_dask3>(wrangler_dask3.mean()+3*wrangler_dask3.std()))==True).sum().values[0]/len(wrangler_dask3)]\n",
    "\n",
    "#WsparkS  = [((wrangler_spark1>(wrangler_spark1.mean()+3*wrangler_spark1.std()))==True).sum().values[0]/len(wrangler_spark1),\n",
    "#            ((wrangler_spark2>(wrangler_spark2.mean()+3*wrangler_spark2.std()))==True).sum().values[0]/len(wrangler_spark2),\n",
    "#            ((wrangler_spark3>(wrangler_spark3.mean()+3*wrangler_spark3.std()))==True).sum().values[0]/len(wrangler_spark3)]\n",
    "\n",
    "#WrpS     = [((wrangler_rp1>(wrangler_rp1.mean()+3*wrangler_rp1.std()))==True).sum().values[0]/len(wrangler_rp1),\n",
    "#            ((wrangler_rp2>(wrangler_rp2.mean()+3*wrangler_rp2.std()))==True).sum().values[0]/len(wrangler_rp2),\n",
    "#            ((wrangler_rp3>(wrangler_rp3.mean()+3*wrangler_rp3.std()))==True).sum().values[0]/len(wrangler_rp3)]"
   ]
  },
  {
   "cell_type": "code",
   "execution_count": 9,
   "metadata": {},
   "outputs": [
    {
     "data": {
      "text/plain": [
       "<matplotlib.legend.Legend at 0x103bbca50>"
      ]
     },
     "execution_count": 9,
     "metadata": {},
     "output_type": "execute_result"
    },
    {
     "data": {
      "image/png": "[encoded data removed]",
      "text/plain": [
       "<matplotlib.figure.Figure at 0x1042bb7d0>"
      ]
     },
     "metadata": {},
     "output_type": "display_data"
    }
   ],
   "source": [
    "fig,axes = plt.subplots(nrows=1,ncols=1, sharex=True,sharey=True,figsize=[12,5],gridspec_kw={'wspace':0.05, 'hspace':0.05})\n",
    "x = np.arange(3)\n",
    "width = 0.15\n",
    "#axes[0].bar(x-2*width,CmpicppS,color=blues(150),width=width,label='MPIC++')\n",
    "axes.bar(x-width,Cmpi4pyS,color=greens(150),width=width,label='MPI4py')\n",
    "#axes[0].bar(x+0*width,CdaskS,color=reds(150),width=width,label='Dask')\n",
    "axes.bar(x+1*width,CsparkS,color=oranges(150),width=width,label='Spark')\n",
    "axes.bar(x+2*width,CrpS,color=purples(150),width=width,label='RADICAL-Pilot')\n",
    "\n",
    "#axes[1].bar(x-2*width,WmpicppS,color=blues(150),width=width,label='MPIC++')\n",
    "#axes[1].bar(x-width,Wmpi4pyS,color=greens(150),width=width,label='MPI4py')\n",
    "#axes[1].bar(x+0*width,WdaskS,color=reds(150),width=width,label='Dask')\n",
    "#axes[1].bar(x+1*width,WsparkS,color=oranges(150),width=width,label='Spark')\n",
    "#axes[1].bar(x+2*width,WrpS,color=purples(150),width=width,label='RADICAL-Pilot')\n",
    "axes.grid('on',which='both',linestyle=':')\n",
    "#axes[1].grid('on',which='both',linestyle=':')\n",
    "axes.set_xlabel('Number of Tasks (1 Task per core)',fontsize=14)\n",
    "axes.set_xticks([0,1,2])\n",
    "axes.set_xticklabels(['24','48','72'],fontsize=14)\n",
    "axes.set_ylabel('Probability',fontsize=14)\n",
    "#axes[1].set_ylabel('Probability',fontsize=14)\n",
    "#axes[0].text(2.35,0.06, 'Comet',fontsize=18,bbox={'facecolor':'grey', 'alpha':0, 'pad':8},horizontalalignment='left',verticalalignment='top',rotation=270)\n",
    "#axes[1].text(2.35,.07, 'Wrangler',fontsize=18,bbox={'facecolor':'grey', 'alpha':0, 'pad':8},horizontalalignment='left',verticalalignment='top',rotation=270)\n",
    "axes.legend(['MPI4py','Spark','RADICAL-Pilot'],fontsize=12,bbox_to_anchor=(0., -.55, 1,0), loc='lower center',ncol=5, borderaxespad=0.)\n",
    "#fig.savefig('straggler_prob_NoIO.pdf',dpi=800,bbox_inches='tight',pad_inches=0)"
   ]
  },
  {
   "cell_type": "code",
   "execution_count": 10,
   "metadata": {},
   "outputs": [
    {
     "data": {
      "text/plain": [
       "<matplotlib.text.Text at 0x110061dd0>"
      ]
     },
     "execution_count": 10,
     "metadata": {},
     "output_type": "execute_result"
    },
    {
     "data": {
      "image/png": "[encoded data removed]",
      "text/plain": [
       "<matplotlib.figure.Figure at 0x10fea7890>"
      ]
     },
     "metadata": {},
     "output_type": "display_data"
    }
   ],
   "source": [
    "hist,edges = np.histogram((comet_mpi4py2Comp)['Duration'].values,bins=60)\n",
    "hist = hist/float(len((comet_mpi4py2Comp)['Duration'].values))\n",
    "width = 0.9 * (edges[1] - edges[0])\n",
    "center = (edges[:-1] + edges[1:]) / 2\n",
    "\n",
    "hist2,edges2 = np.histogram((comet_mpi4py3Comp)['Duration'].values,bins=80)\n",
    "hist2 = hist2/float(len((comet_mpi4py3Comp)['Duration'].values))\n",
    "width2 = 0.9 * (edges2[1] - edges2[0])\n",
    "center2 = (edges2[:-1] + edges2[1:]) / 2\n",
    "\n",
    "\n",
    "fig,axes = plt.subplots(nrows=1,ncols=2, sharex=False,sharey=True,figsize=[24,5],gridspec_kw={'wspace':0.05, 'hspace':0.05})\n",
    "#axes[0].hist((comet_mpi4py1Comp)['Duration'].values,40)\n",
    "axes[0].bar(center, hist, align='center', width=width)\n",
    "axes[1].bar(center2, hist2, align='center', width=width2)\n",
    "fig.suptitle('Histograms of the Execution time of RMSD with IO on Comet with MPI4py',fontsize=18)\n",
    "#axes[0].set_title('$\\mu=$%f,$\\sigma$=%f'%((comet_mpi4py1Comp/1.0)['Duration'].mean(),(comet_mpi4py1Comp/1.0)['Duration'].std()),fontsize=12)\n",
    "axes[0].set_title('$\\mu=$%f,$\\sigma$=%f'%((comet_mpi4py2Comp/1.0)['Duration'].mean(),(comet_mpi4py2Comp/1.0)['Duration'].std()),fontsize=12)\n",
    "axes[1].set_title('$\\mu=$%f,$\\sigma$=%f'%((comet_mpi4py3Comp/1.0)['Duration'].mean(),(comet_mpi4py3Comp/1.0)['Duration'].std()),fontsize=12)\n",
    "#axes[0].set_xlabel('Execution Times for 1 node', fontsize=14)\n",
    "axes[0].set_xlabel('Execution Times for 2 nodes',fontsize=14)\n",
    "axes[1].set_xlabel('Execution Times for 3 nodes',fontsize=14)"
   ]
  },
  {
   "cell_type": "code",
   "execution_count": 11,
   "metadata": {},
   "outputs": [
    {
     "data": {
      "text/plain": [
       "<matplotlib.text.Text at 0x11092cdd0>"
      ]
     },
     "execution_count": 11,
     "metadata": {},
     "output_type": "execute_result"
    },
    {
     "data": {
      "image/png": "[encoded data removed]",
      "text/plain": [
       "<matplotlib.figure.Figure at 0x110156e90>"
      ]
     },
     "metadata": {},
     "output_type": "display_data"
    }
   ],
   "source": [
    "hist,edges = np.histogram((comet_mpi4py2IO)['Duration'].values,bins=60)\n",
    "hist = hist/float(len((comet_mpi4py2IO)['Duration'].values))\n",
    "width = 0.9 * (edges[1] - edges[0])\n",
    "center = (edges[:-1] + edges[1:]) / 2\n",
    "\n",
    "hist2,edges2 = np.histogram((comet_mpi4py3IO)['Duration'].values,bins=80)\n",
    "hist2 = hist2/float(len((comet_mpi4py3IO)['Duration'].values))\n",
    "width2 = 0.9 * (edges2[1] - edges2[0])\n",
    "center2 = (edges2[:-1] + edges2[1:]) / 2\n",
    "\n",
    "\n",
    "fig,axes = plt.subplots(nrows=1,ncols=2, sharex=False,sharey=True,figsize=[24,5],gridspec_kw={'wspace':0.05, 'hspace':0.05})\n",
    "#axes[0].hist((comet_mpi4py1Comp)['Duration'].values,40)\n",
    "axes[0].bar(center, hist, align='center', width=width)\n",
    "axes[1].bar(center2, hist2, align='center', width=width2)\n",
    "fig.suptitle('Histograms of the Read time of RMSD with IO on Comet with MPI4py',fontsize=18)\n",
    "#axes[0].set_title('$\\mu=$%f,$\\sigma$=%f'%((comet_mpi4py1Comp/1.0)['Duration'].mean(),(comet_mpi4py1Comp/1.0)['Duration'].std()),fontsize=12)\n",
    "axes[0].set_title('$\\mu=$%f,$\\sigma$=%f'%((comet_mpi4py2IO/1.0)['Duration'].mean(),(comet_mpi4py2IO/1.0)['Duration'].std()),fontsize=12)\n",
    "axes[1].set_title('$\\mu=$%f,$\\sigma$=%f'%((comet_mpi4py3IO/1.0)['Duration'].mean(),(comet_mpi4py3IO/1.0)['Duration'].std()),fontsize=12)\n",
    "#axes[0].set_xlabel('Execution Times for 1 node', fontsize=14)\n",
    "axes[0].set_xlabel('Execution Times for 2 nodes',fontsize=14)\n",
    "axes[1].set_xlabel('Execution Times for 3 nodes',fontsize=14)"
   ]
  },
  {
   "cell_type": "code",
   "execution_count": 12,
   "metadata": {
    "collapsed": true
   },
   "outputs": [],
   "source": [
    "#fig,axes = plt.subplots(nrows=1,ncols=3, sharex=False,sharey=True,figsize=[24,5],gridspec_kw={'wspace':0.05, 'hspace':0.05})\n",
    "#axes[0].hist((wrangler_mpi4py1)['Duration'].values,40)\n",
    "#axes[1].hist((wrangler_mpi4py2)['Duration'].values,80)\n",
    "#axes[2].hist((wrangler_mpi4py3)['Duration'].values,120)\n",
    "#fig.suptitle('Histograms of the Compute time of RMSD with no IO on Wrangler with MPI4py',fontsize=18)\n",
    "#axes[0].set_title('$\\mu=$%f,$\\sigma$=%f'%((wrangler_mpi4py1/1.0)['Duration'].mean(),(wrangler_mpi4py1/1.0)['Duration'].std()),fontsize=12)\n",
    "#axes[1].set_title('$\\mu=$%f,$\\sigma$=%f'%((wrangler_mpi4py2/1.0)['Duration'].mean(),(wrangler_mpi4py2/1.0)['Duration'].std()),fontsize=12)\n",
    "#axes[2].set_title('$\\mu=$%f,$\\sigma$=%f'%((wrangler_mpi4py3/1.0)['Duration'].mean(),(wrangler_mpi4py3/1.0)['Duration'].std()),fontsize=12)\n",
    "#axes[0].set_xlabel('Compute Times for 1 node', fontsize=14)\n",
    "#axes[1].set_xlabel('Compute Times for 2 nodes',fontsize=14)\n",
    "#axes[2].set_xlabel('Compute Times for 3 nodes',fontsize=14)"
   ]
  },
  {
   "cell_type": "code",
   "execution_count": 13,
   "metadata": {
    "collapsed": true
   },
   "outputs": [],
   "source": [
    "#fig,axes = plt.subplots(nrows=1,ncols=3, sharex=False,sharey=True,figsize=[24,5],gridspec_kw={'wspace':0.05, 'hspace':0.05})\n",
    "#axes[0].hist((comet_dask1)['Duration'].values/1000.0,40)\n",
    "#axes[1].hist((comet_dask2)['Duration'].values/1000.0,80)\n",
    "#axes[2].hist((comet_dask3)['Duration'].values/1000.0,120)\n",
    "#fig.suptitle('Histograms of the Compute time of RMSD with no IO on Comet with Dask',fontsize=18)\n",
    "#axes[0].set_title('$\\mu=$%f,$\\sigma$=%f'%((comet_dask1/1000.0)['Duration'].mean(),(comet_dask1/1000.0)['Duration'].std()),fontsize=12)\n",
    "#axes[1].set_title('$\\mu=$%f,$\\sigma$=%f'%((comet_dask2/1000.0)['Duration'].mean(),(comet_dask2/1000.0)['Duration'].std()),fontsize=12)\n",
    "#axes[2].set_title('$\\mu=$%f,$\\sigma$=%f'%((comet_dask3/1000.0)['Duration'].mean(),(comet_dask3/1000.0)['Duration'].std()),fontsize=12)\n",
    "#axes[0].set_xlabel('Compute Times for 1 node', fontsize=14)\n",
    "#axes[1].set_xlabel('Compute Times for 2 nodes',fontsize=14)\n",
    "#axes[2].set_xlabel('Compute Times for 3 nodes',fontsize=14)"
   ]
  },
  {
   "cell_type": "code",
   "execution_count": 14,
   "metadata": {
    "collapsed": true
   },
   "outputs": [],
   "source": [
    "#fig,axes = plt.subplots(nrows=1,ncols=3, sharex=False,sharey=True,figsize=[24,5],gridspec_kw={'wspace':0.05, 'hspace':0.05})\n",
    "#axes[0].hist((wrangler_dask1)['Duration'].values/1000.0,40)\n",
    "#axes[1].hist((wrangler_dask2)['Duration'].values/1000.0,80)\n",
    "#axes[2].hist((wrangler_dask3)['Duration'].values/1000.0,120)\n",
    "#fig.suptitle('Histograms of the Compute time of RMSD with no IO on Wrangler with Dask',fontsize=18)\n",
    "#axes[0].set_title('$\\mu=$%f,$\\sigma$=%f'%((wrangler_dask1/1000.0)['Duration'].mean(),(wrangler_dask1/1000.0)['Duration'].std()),fontsize=12)\n",
    "#axes[1].set_title('$\\mu=$%f,$\\sigma$=%f'%((wrangler_dask2/1000.0)['Duration'].mean(),(wrangler_dask2/1000.0)['Duration'].std()),fontsize=12)\n",
    "#axes[2].set_title('$\\mu=$%f,$\\sigma$=%f'%((wrangler_dask3/1000.0)['Duration'].mean(),(wrangler_dask3/1000.0)['Duration'].std()),fontsize=12)\n",
    "#axes[0].set_xlabel('Compute Times for 1 node', fontsize=14)\n",
    "#axes[1].set_xlabel('Compute Times for 2 nodes',fontsize=14)\n",
    "#axes[2].set_xlabel('Compute Times for 3 nodes',fontsize=14)"
   ]
  },
  {
   "cell_type": "code",
   "execution_count": 15,
   "metadata": {
    "collapsed": true
   },
   "outputs": [],
   "source": [
    "#fig,axes = plt.subplots(nrows=1,ncols=3, sharex=False,sharey=True,figsize=[24,5],gridspec_kw={'wspace':0.05, 'hspace':0.05})\n",
    "#axes[0].hist((wrangler_spark1)['Duration'].values/1000.0,40)\n",
    "#axes[1].hist((wrangler_spark2)['Duration'].values/1000.0,80)\n",
    "#axes[2].hist((wrangler_spark3)['Duration'].values/1000.0,120)\n",
    "#fig.suptitle('Histograms of the Compute time of RMSD with no IO on Wrangler with Spark',fontsize=18)\n",
    "#axes[0].set_title('$\\mu=$%f,$\\sigma$=%f'%((wrangler_spark1/1000.0)['Duration'].mean(),(wrangler_spark1/1000.0)['Duration'].std()),fontsize=12)\n",
    "#axes[1].set_title('$\\mu=$%f,$\\sigma$=%f'%((wrangler_spark2/1000.0)['Duration'].mean(),(wrangler_spark2/1000.0)['Duration'].std()),fontsize=12)\n",
    "#axes[2].set_title('$\\mu=$%f,$\\sigma$=%f'%((wrangler_spark3/1000.0)['Duration'].mean(),(wrangler_spark3/1000.0)['Duration'].std()),fontsize=12)\n",
    "#axes[0].set_xlabel('Compute Times for 1 node', fontsize=14)\n",
    "#axes[1].set_xlabel('Compute Times for 2 nodes',fontsize=14)\n",
    "#axes[2].set_xlabel('Compute Times for 3 nodes',fontsize=14)"
   ]
  },
  {
   "cell_type": "code",
   "execution_count": 16,
   "metadata": {
    "collapsed": true
   },
   "outputs": [],
   "source": [
    "#fig,axes = plt.subplots(nrows=1,ncols=3, sharex=False,sharey=True,figsize=[24,5],gridspec_kw={'wspace':0.05, 'hspace':0.05})\n",
    "#axes[0].hist((wrangler_rp1)['Duration'].values,40)\n",
    "#axes[1].hist((wrangler_rp2)['Duration'].values,80)\n",
    "#axes[2].hist((wrangler_rp3)['Duration'].values,120)\n",
    "#fig.suptitle('Histograms of the Compute time of RMSD with no IO on Wrangler with RADICAL-Pilot',fontsize=18)\n",
    "#axes[0].set_title('$\\mu=$%f,$\\sigma$=%f'%((wrangler_rp1)['Duration'].mean(),(wrangler_rp1)['Duration'].std()),fontsize=12)\n",
    "#axes[1].set_title('$\\mu=$%f,$\\sigma$=%f'%((wrangler_rp2)['Duration'].mean(),(wrangler_rp2)['Duration'].std()),fontsize=12)\n",
    "#axes[2].set_title('$\\mu=$%f,$\\sigma$=%f'%((wrangler_rp3)['Duration'].mean(),(wrangler_rp3)['Duration'].std()),fontsize=12)\n",
    "#axes[0].set_xlabel('Compute Times for 1 node', fontsize=14)\n",
    "#axes[1].set_xlabel('Compute Times for 2 nodes',fontsize=14)\n",
    "#axes[2].set_xlabel('Compute Times for 3 nodes',fontsize=14)"
   ]
  }
 ],
 "metadata": {
  "kernelspec": {
   "display_name": "Python 2",
   "language": "python",
   "name": "python2"
  },
  "language_info": {
   "codemirror_mode": {
    "name": "ipython",
    "version": 2
   },
   "file_extension": ".py",
   "mimetype": "text/x-python",
   "name": "python",
   "nbconvert_exporter": "python",
   "pygments_lexer": "ipython2",
   "version": "2.7.13"
  }
 },
 "nbformat": 4,
 "nbformat_minor": 2
}
