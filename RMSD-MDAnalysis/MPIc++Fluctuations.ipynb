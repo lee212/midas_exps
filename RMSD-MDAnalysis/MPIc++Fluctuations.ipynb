{
 "cells": [
  {
   "cell_type": "code",
   "execution_count": null,
   "metadata": {},
   "outputs": [],
   "source": [
    "%matplotlib inline\n",
    "from __future__ import division\n",
    "import numpy as np\n",
    "from matplotlib import pyplot as plt\n",
    "from matplotlib import cm\n",
    "import csv\n",
    "import pandas as pd\n",
    "import matplotlib as mpl\n",
    "from util.stragglers import straggler_freq,task_hist,straggler_samples\n",
    "mpl.rcParams['text.usetex'] = True\n",
    "mpl.rcParams['text.latex.unicode'] = True\n",
    "\n",
    "blues = cm.get_cmap(plt.get_cmap('Blues'))\n",
    "greens = cm.get_cmap(plt.get_cmap('Greens'))\n",
    "reds = cm.get_cmap(plt.get_cmap('Reds'))\n",
    "oranges = cm.get_cmap(plt.get_cmap('Oranges'))\n",
    "purples = cm.get_cmap(plt.get_cmap('Purples'))\n",
    "\n",
    "from IPython.core.display import display, HTML\n",
    "#display(HTML(\"<style>.container { width:100% !important; }</style>\"))"
   ]
  },
  {
   "cell_type": "markdown",
   "metadata": {},
   "source": [
    "# Fluctuations due to data size"
   ]
  },
  {
   "cell_type": "code",
   "execution_count": null,
   "metadata": {
    "collapsed": true
   },
   "outputs": [],
   "source": [
    "wrangler_mpicppx1 = pd.DataFrame.from_csv('stragglers/tidy_data/StrongScaling/wrangler_mpic++_NoIO.csv').drop(['Framework'],axis=1)\n",
    "wrangler_mpicppx2 = pd.DataFrame.from_csv('stragglers/tidy_data/StrongScaling/wrangler_mpic++_NoIOx2.csv').drop(['Framework'],axis=1)\n",
    "wrangler_mpicppx4 = pd.DataFrame.from_csv('stragglers/tidy_data/StrongScaling/wrangler_mpic++_NoIOx4.csv').drop(['Framework'],axis=1)\n",
    "wrangler_mpicppx8 = pd.DataFrame.from_csv('stragglers/tidy_data/StrongScaling/wrangler_mpic++_NoIOx8.csv').drop(['Framework'],axis=1)\n"
   ]
  },
  {
   "cell_type": "code",
   "execution_count": null,
   "metadata": {
    "collapsed": true
   },
   "outputs": [],
   "source": [
    "histWranglerMpiCpp1,edgesWranglerMpiCpp1,meanWranglerMpiCpp1,stdWranglerMpiCpp1,_,_ = task_hist(df=wrangler_mpicppx1,node=1,bins=40,div=1000000.0)\n",
    "histWranglerMpiCpp2,edgesWranglerMpiCpp2,meanWranglerMpiCpp2,stdWranglerMpiCpp2,_,_ = task_hist(df=wrangler_mpicppx1,node=2,bins=80,div=1000000.0)\n",
    "histWranglerMpiCpp3,edgesWranglerMpiCpp3,meanWranglerMpiCpp3,stdWranglerMpiCpp3,_,_ = task_hist(df=wrangler_mpicppx1,node=3,bins=160,div=1000000.0)\n",
    "\n",
    "widthWranglerMpiCpp1 = 0.9 * (edgesWranglerMpiCpp1[1] - edgesWranglerMpiCpp1[0])\n",
    "centerWranglerMpiCpp1 = (edgesWranglerMpiCpp1[:-1] + edgesWranglerMpiCpp1[1:]) / 2\n",
    "\n",
    "widthWranglerMpiCpp2 = 0.9 * (edgesWranglerMpiCpp2[1] - edgesWranglerMpiCpp2[0])\n",
    "centerWranglerMpiCpp2 = (edgesWranglerMpiCpp2[:-1] + edgesWranglerMpiCpp2[1:]) / 2\n",
    "\n",
    "widthWranglerMpiCpp3 = 0.9 * (edgesWranglerMpiCpp3[1] - edgesWranglerMpiCpp3[0])\n",
    "centerWranglerMpiCpp3 = (edgesWranglerMpiCpp3[:-1] + edgesWranglerMpiCpp3[1:]) / 2"
   ]
  },
  {
   "cell_type": "code",
   "execution_count": null,
   "metadata": {},
   "outputs": [],
   "source": [
    "hist2WranglerMpiCpp1,edges2WranglerMpiCpp1,mean2WranglerMpiCpp1,std2WranglerMpiCpp1,_,_ = task_hist(df=wrangler_mpicppx2,node=1,bins=40,div=1000000.0)\n",
    "hist2WranglerMpiCpp2,edges2WranglerMpiCpp2,mean2WranglerMpiCpp2,std2WranglerMpiCpp2,_,_ = task_hist(df=wrangler_mpicppx2,node=2,bins=80,div=1000000.0)\n",
    "hist2WranglerMpiCpp3,edges2WranglerMpiCpp3,mean2WranglerMpiCpp3,std2WranglerMpiCpp3,_,_ = task_hist(df=wrangler_mpicppx2,node=3,bins=160,div=1000000.0)\n",
    "\n",
    "width2WranglerMpiCpp1 = 0.9 * (edges2WranglerMpiCpp1[1] - edges2WranglerMpiCpp1[0])\n",
    "center2WranglerMpiCpp1 = (edges2WranglerMpiCpp1[:-1] + edges2WranglerMpiCpp1[1:]) / 2\n",
    "\n",
    "width2WranglerMpiCpp2 = 0.9 * (edges2WranglerMpiCpp2[1] - edges2WranglerMpiCpp2[0])\n",
    "center2WranglerMpiCpp2 = (edges2WranglerMpiCpp2[:-1] + edges2WranglerMpiCpp2[1:]) / 2\n",
    "\n",
    "width2WranglerMpiCpp3 = 0.9 * (edges2WranglerMpiCpp3[1] - edges2WranglerMpiCpp3[0])\n",
    "center2WranglerMpiCpp3 = (edges2WranglerMpiCpp3[:-1] + edges2WranglerMpiCpp3[1:]) / 2"
   ]
  },
  {
   "cell_type": "code",
   "execution_count": null,
   "metadata": {},
   "outputs": [],
   "source": [
    "hist4WranglerMpiCpp1,edges4WranglerMpiCpp1,mean4WranglerMpiCpp1,std4WranglerMpiCpp1,_,_ = task_hist(df=wrangler_mpicppx4,node=1,bins=40,div=1000000.0)\n",
    "hist4WranglerMpiCpp2,edges4WranglerMpiCpp2,mean4WranglerMpiCpp2,std4WranglerMpiCpp2,_,_ = task_hist(df=wrangler_mpicppx4,node=2,bins=80,div=1000000.0)\n",
    "hist4WranglerMpiCpp3,edges4WranglerMpiCpp3,mean4WranglerMpiCpp3,std4WranglerMpiCpp3,_,_ = task_hist(df=wrangler_mpicppx4,node=3,bins=160,div=1000000.0)\n",
    "\n",
    "width4WranglerMpiCpp1 = 0.9 * (edges4WranglerMpiCpp1[1] - edges4WranglerMpiCpp1[0])\n",
    "center4WranglerMpiCpp1 = (edges4WranglerMpiCpp1[:-1] + edges4WranglerMpiCpp1[1:]) / 2\n",
    "\n",
    "width4WranglerMpiCpp2 = 0.9 * (edges4WranglerMpiCpp2[1] - edges4WranglerMpiCpp2[0])\n",
    "center4WranglerMpiCpp2 = (edges4WranglerMpiCpp2[:-1] + edges4WranglerMpiCpp2[1:]) / 2\n",
    "\n",
    "width4WranglerMpiCpp3 = 0.9 * (edges4WranglerMpiCpp3[1] - edges4WranglerMpiCpp3[0])\n",
    "center4WranglerMpiCpp3 = (edges4WranglerMpiCpp3[:-1] + edges4WranglerMpiCpp3[1:]) / 2"
   ]
  },
  {
   "cell_type": "code",
   "execution_count": null,
   "metadata": {
    "collapsed": true
   },
   "outputs": [],
   "source": [
    "hist8WranglerMpiCpp1,edges8WranglerMpiCpp1,mean8WranglerMpiCpp1,std8WranglerMpiCpp1,_,_ = task_hist(df=wrangler_mpicppx8,node=1,bins=40,div=1000000.0)\n",
    "hist8WranglerMpiCpp2,edges8WranglerMpiCpp2,mean8WranglerMpiCpp2,std8WranglerMpiCpp2,_,_ = task_hist(df=wrangler_mpicppx8,node=2,bins=80,div=1000000.0)\n",
    "hist8WranglerMpiCpp3,edges8WranglerMpiCpp3,mean8WranglerMpiCpp3,std8WranglerMpiCpp3,_,_ = task_hist(df=wrangler_mpicppx8,node=3,bins=160,div=1000000.0)\n",
    "\n",
    "width8WranglerMpiCpp1 = 0.9 * (edges8WranglerMpiCpp1[1] - edges8WranglerMpiCpp1[0])\n",
    "center8WranglerMpiCpp1 = (edges8WranglerMpiCpp1[:-1] + edges8WranglerMpiCpp1[1:]) / 2\n",
    "\n",
    "width8WranglerMpiCpp2 = 0.9 * (edges8WranglerMpiCpp2[1] - edges8WranglerMpiCpp2[0])\n",
    "center8WranglerMpiCpp2 = (edges8WranglerMpiCpp2[:-1] + edges8WranglerMpiCpp2[1:]) / 2\n",
    "\n",
    "width8WranglerMpiCpp3 = 0.9 * (edges8WranglerMpiCpp3[1] - edges8WranglerMpiCpp3[0])\n",
    "center8WranglerMpiCpp3 = (edges8WranglerMpiCpp3[:-1] + edges8WranglerMpiCpp3[1:]) / 2"
   ]
  },
  {
   "cell_type": "code",
   "execution_count": null,
   "metadata": {},
   "outputs": [],
   "source": [
    "fig,axes = plt.subplots(nrows=1,ncols=4, sharex=False,sharey=True,figsize=[48,5],gridspec_kw={'wspace':0.05, 'hspace':0.05})\n",
    "axes[0].bar(centerWranglerMpiCpp1, histWranglerMpiCpp1, align='center', width=widthWranglerMpiCpp1)\n",
    "axes[1].bar(center2WranglerMpiCpp1, hist2WranglerMpiCpp1, align='center', width=width2WranglerMpiCpp1)\n",
    "axes[2].bar(center4WranglerMpiCpp1, hist4WranglerMpiCpp1, align='center', width=width4WranglerMpiCpp1)\n",
    "axes[3].bar(center8WranglerMpiCpp1, hist8WranglerMpiCpp1, align='center', width=width8WranglerMpiCpp1)\n",
    "fig.suptitle('Histograms of the Compute time of RMSD with no IO on Wrangler with MpiCpp. 1 node',fontsize=18)\n",
    "axes[0].set_title('Frame size: 146 atoms. $\\mu=$%f,$\\sigma$=%f'%(meanWranglerMpiCpp1,stdWranglerMpiCpp1),fontsize=12)\n",
    "axes[1].set_title('Frame size: 292 atoms. $\\mu=$%f,$\\sigma$=%f'%(mean2WranglerMpiCpp1,std2WranglerMpiCpp1),fontsize=12)\n",
    "axes[2].set_title('Frame size: 584 atoms. $\\mu=$%f,$\\sigma$=%f'%(mean4WranglerMpiCpp1,std4WranglerMpiCpp1),fontsize=12)\n",
    "axes[3].set_title('Frame size: 1168 atoms. $\\mu=$%f,$\\sigma$=%f'%(mean8WranglerMpiCpp1,std8WranglerMpiCpp1),fontsize=12)\n",
    "axes[0].set_xlabel('Compute Times in sec', fontsize=14)\n",
    "axes[1].set_xlabel('Compute Times in sec',fontsize=14)\n",
    "axes[2].set_xlabel('Compute Times in sec', fontsize=14)\n",
    "axes[3].set_xlabel('Compute Times in sec',fontsize=14)\n",
    "axes[0].set_ylabel('Relative Frequency',fontsize=14)"
   ]
  },
  {
   "cell_type": "code",
   "execution_count": null,
   "metadata": {},
   "outputs": [],
   "source": [
    "fig,axes = plt.subplots(nrows=1,ncols=4, sharex=False,sharey=True,figsize=[48,5],gridspec_kw={'wspace':0.05, 'hspace':0.05})\n",
    "axes[0].bar(centerWranglerMpiCpp2, histWranglerMpiCpp2, align='center', width=widthWranglerMpiCpp2)\n",
    "axes[1].bar(center2WranglerMpiCpp2, hist2WranglerMpiCpp2, align='center', width=width2WranglerMpiCpp2)\n",
    "axes[2].bar(center4WranglerMpiCpp2, hist4WranglerMpiCpp2, align='center', width=width4WranglerMpiCpp2)\n",
    "axes[3].bar(center8WranglerMpiCpp2, hist8WranglerMpiCpp2, align='center', width=width8WranglerMpiCpp2)\n",
    "fig.suptitle('Histograms of the Compute time of RMSD with no IO on Wrangler with MpiCpp. 2 node',fontsize=18)\n",
    "axes[0].set_title('Frame size: 146 atoms. $\\mu=$%f,$\\sigma$=%f'%(meanWranglerMpiCpp2,stdWranglerMpiCpp2),fontsize=12)\n",
    "axes[1].set_title('Frame size: 292 atoms. $\\mu=$%f,$\\sigma$=%f'%(mean2WranglerMpiCpp2,std2WranglerMpiCpp2),fontsize=12)\n",
    "axes[2].set_title('Frame size: 584 atoms. $\\mu=$%f,$\\sigma$=%f'%(mean4WranglerMpiCpp2,std4WranglerMpiCpp2),fontsize=12)\n",
    "axes[3].set_title('Frame size: 1168 atoms. $\\mu=$%f,$\\sigma$=%f'%(mean8WranglerMpiCpp2,std8WranglerMpiCpp2),fontsize=12)\n",
    "axes[0].set_xlabel('Compute Times in sec', fontsize=14)\n",
    "axes[1].set_xlabel('Compute Times in sec',fontsize=14)\n",
    "axes[2].set_xlabel('Compute Times in sec', fontsize=14)\n",
    "axes[3].set_xlabel('Compute Times in sec',fontsize=14)\n",
    "axes[0].set_ylabel('Relative Frequency',fontsize=14)"
   ]
  },
  {
   "cell_type": "code",
   "execution_count": null,
   "metadata": {},
   "outputs": [],
   "source": [
    "fig,axes = plt.subplots(nrows=1,ncols=4, sharex=False,sharey=True,figsize=[48,5],gridspec_kw={'wspace':0.05, 'hspace':0.05})\n",
    "axes[0].bar(centerWranglerMpiCpp3, histWranglerMpiCpp3, align='center', width=widthWranglerMpiCpp3)\n",
    "axes[1].bar(center2WranglerMpiCpp3, hist2WranglerMpiCpp3, align='center', width=width2WranglerMpiCpp3)\n",
    "axes[2].bar(center4WranglerMpiCpp3, hist4WranglerMpiCpp3, align='center', width=width4WranglerMpiCpp3)\n",
    "axes[3].bar(center8WranglerMpiCpp3, hist8WranglerMpiCpp3, align='center', width=width8WranglerMpiCpp3)\n",
    "fig.suptitle('Histograms of the Compute time of RMSD with no IO on Wrangler with MpiCpp. 3 node',fontsize=18)\n",
    "axes[0].set_title('Frame size: 146 atoms. $\\mu=$%f,$\\sigma$=%f'%(meanWranglerMpiCpp3,stdWranglerMpiCpp3),fontsize=12)\n",
    "axes[1].set_title('Frame size: 292 atoms. $\\mu=$%f,$\\sigma$=%f'%(mean2WranglerMpiCpp3,std2WranglerMpiCpp3),fontsize=12)\n",
    "axes[2].set_title('Frame size: 584 atoms. $\\mu=$%f,$\\sigma$=%f'%(mean4WranglerMpiCpp3,std4WranglerMpiCpp3),fontsize=12)\n",
    "axes[3].set_title('Frame size: 1168 atoms. $\\mu=$%f,$\\sigma$=%f'%(mean8WranglerMpiCpp3,std8WranglerMpiCpp3),fontsize=12)\n",
    "axes[0].set_xlabel('Compute Times in sec', fontsize=14)\n",
    "axes[1].set_xlabel('Compute Times in sec',fontsize=14)\n",
    "axes[2].set_xlabel('Compute Times in sec', fontsize=14)\n",
    "axes[3].set_xlabel('Compute Times in sec',fontsize=14)\n",
    "axes[0].set_ylabel('Relative Frequency',fontsize=14)"
   ]
  },
  {
   "cell_type": "markdown",
   "metadata": {},
   "source": [
    "This experiment was run on Wrangler. We know that the RMSD calculation is $O(n)$, where $n$ is the number of atoms in a frame. Every time we double the data the $\\mu$ and $\\sigma$ values are doubled as expected. "
   ]
  },
  {
   "cell_type": "markdown",
   "metadata": {},
   "source": [
    "# Fluctuations due to System"
   ]
  },
  {
   "cell_type": "markdown",
   "metadata": {},
   "source": [
    "The following figure shows the histograms of an RMSD execution where each process calculated over 104675 frames. The experiment was run on Comet, Wrangler and SuperMic. All three system show a standard deviation in the order of millisenconds for Comet and Supermic. Wrangler show a STD of 150ms.\n",
    "\n",
    "This concludes that the $\\sigma$ we see are system independent."
   ]
  },
  {
   "cell_type": "code",
   "execution_count": null,
   "metadata": {},
   "outputs": [],
   "source": [
    "comet_mpicppx1    = pd.DataFrame.from_csv('stragglers/tidy_data/StrongScaling/comet_mpic++_NoIO.csv').drop(['Framework'],axis=1)\n",
    "supermic_mpicppx1 = pd.DataFrame.from_csv('stragglers/tidy_data/StrongScaling/supermic_mpic++_NoIO.csv').drop(['Framework'],axis=1)\n",
    "\n",
    "histCometMpiCpp1,edgesCometMpiCpp1,meanCometMpiCpp1,stdCometMpiCpp1,_,_             = task_hist(df=comet_mpicppx1,node=1,bins=40,div=1000000.0)\n",
    "histSuperMicMpiCpp1,edgesSuperMicMpiCpp1,meanSuperMicMpiCpp1,stdSuperMicMpiCpp1,_,_ = task_hist(df=supermic_mpicppx1,node=1,bins=40,div=1000000.0)\n",
    "\n",
    "widthCometMpiCpp1 = 0.9 * (edgesCometMpiCpp1[1] - edgesCometMpiCpp1[0])\n",
    "centerCometMpiCpp1 = (edgesCometMpiCpp1[:-1] + edgesCometMpiCpp1[1:]) / 2\n",
    "\n",
    "widthSuperMicMpiCpp1 = 0.9 * (edgesSuperMicMpiCpp1[1] - edgesSuperMicMpiCpp1[0])\n",
    "centerSuperMicMpiCpp1 = (edgesSuperMicMpiCpp1[:-1] + edgesSuperMicMpiCpp1[1:]) / 2\n",
    "\n",
    "\n",
    "fig,axes = plt.subplots(nrows=1,ncols=3, sharex=False,sharey=True,figsize=[36,5],gridspec_kw={'wspace':0.05, 'hspace':0.05})\n",
    "axes[0].bar(centerCometMpiCpp1, histCometMpiCpp1, align='center', width=widthCometMpiCpp1)\n",
    "axes[1].bar(centerWranglerMpiCpp1, histWranglerMpiCpp1, align='center', width=widthWranglerMpiCpp1)\n",
    "axes[2].bar(centerSuperMicMpiCpp1, histSuperMicMpiCpp1, align='center', width=widthSuperMicMpiCpp1)\n",
    "fig.suptitle('Histograms of the Compute time of RMSD with no IO on 1 node with MpiCpp. 3 resources',fontsize=18)\n",
    "axes[0].set_title('Comet. $\\mu=$%f,$\\sigma$=%f'%(meanCometMpiCpp1,stdCometMpiCpp1),fontsize=14)\n",
    "axes[1].set_title('Wrangler. $\\mu=$%f,$\\sigma$=%f'%(meanWranglerMpiCpp1,stdWranglerMpiCpp1),fontsize=14)\n",
    "axes[2].set_title('SuperMic. $\\mu=$%f,$\\sigma$=%f'%(meanSuperMicMpiCpp1,stdSuperMicMpiCpp1),fontsize=14)\n",
    "axes[0].set_xlabel('Compute Times in sec', fontsize=14)\n",
    "axes[1].set_xlabel('Compute Times in sec',fontsize=14)\n",
    "axes[2].set_xlabel('Compute Times in sec', fontsize=14)\n",
    "axes[0].set_ylabel('Relative Frequency',fontsize=14)"
   ]
  }
 ],
 "metadata": {
  "kernelspec": {
   "display_name": "Python 2",
   "language": "python",
   "name": "python2"
  },
  "language_info": {
   "codemirror_mode": {
    "name": "ipython",
    "version": 2
   },
   "file_extension": ".py",
   "mimetype": "text/x-python",
   "name": "python",
   "nbconvert_exporter": "python",
   "pygments_lexer": "ipython2",
   "version": "2.7.13"
  }
 },
 "nbformat": 4,
 "nbformat_minor": 2
}
