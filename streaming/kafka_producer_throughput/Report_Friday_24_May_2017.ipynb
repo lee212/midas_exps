{
 "cells": [
  {
   "cell_type": "markdown",
   "metadata": {},
   "source": [
    "# Experiments - Pilot Kafka Perfomance"
   ]
  },
  {
   "cell_type": "markdown",
   "metadata": {},
   "source": [
    "## Latency  Experiments  "
   ]
  },
  {
   "cell_type": "markdown",
   "metadata": {},
   "source": [
    "### #1 Experiment - End-to-end  Latency \n",
    "How long does it take a message we send to be delivered to the consumer?  <br>\n",
    "For this test, we will create producer and consumer and repeatedly time how long it takes for a producer to send a message to the kafka cluster and then be received by our consumer \n",
    "#### Experimental setup:\n",
    "System: wrangler <br>\n",
    "Nodes: 1 <br>\n",
    "Brokers : 1  <br>\n",
    "Kafka producers : 1 <br>\n",
    "Kafa consumers: 1 <br>\n",
    "Partitions: 1 <br>\n",
    "\n"
   ]
  },
  {
   "cell_type": "markdown",
   "metadata": {},
   "source": [
    "### #2 Experiment - Latency vs Number of Partitions \n",
    "\n",
    "How does the number of partitions effect the latency of the system?  By default, a Kafka broker only uses a single thread to replicate data from another broker, for all partitions that share replicas between the two brokers. \n",
    "**Kafka only exposes a message to a consumer after it has been committed when the message is replicated to all the in-sync replicas**\n",
    "For this test we create a producer and a  consumer and we vary the number of partitions of the system\n",
    "#### Experimental setup:\n",
    "System: wrangler <br>\n",
    "Nodes: 1 <br>\n",
    "Brokers : 1  <br>\n",
    "Kafka producers : 1 <br>\n",
    "Kafa consumers: 1 <br>\n",
    "Partitions: Vary <br>"
   ]
  },
  {
   "cell_type": "markdown",
   "metadata": {},
   "source": [
    "## Producer/Consumer Experiments - Throughput"
   ]
  },
  {
   "cell_type": "markdown",
   "metadata": {},
   "source": [
    "### #3 Experiment - Effect of Message Size\n",
    "How does the message size effect the throughput of the system? \n",
    "In this experiment we will create one producer and  time how long it takes to produce the same volume  of messages (in MB) by varying the size of each message.\n",
    "\n",
    "#### Experimental setup:\n",
    "System: wrangler <br>\n",
    "Nodes: 1 <br>\n",
    "Brokers : 1  <br>\n",
    "Kafka producers : 1 <br>\n",
    "Partitions: 1 <br>\n",
    "Message Size : Vary <br>\n",
    "Total Messages Size: Vary <br>"
   ]
  },
  {
   "cell_type": "markdown",
   "metadata": {},
   "source": [
    "### #4 Experiment - Producer throughput vs number of partitions\n",
    "Expectation. More partitions lead to higher throughput\n",
    "#### Experimental setup:\n",
    "System: wrangler <br>\n",
    "Nodes: 1 <br>\n",
    "Brokers : 1  <br>\n",
    "Kafka producers : 1 <br>\n",
    "Partitions: 1 <br>\n",
    "Total Messages Size: Vary <br>\n"
   ]
  },
  {
   "cell_type": "markdown",
   "metadata": {},
   "source": [
    "### #5 Experiment - Producer throughput vs number of partitions\n",
    "Same experiment using multiple producers this time\n",
    "#### Experimental setup:\n",
    "System: wrangler <br>\n",
    "Nodes: Varying <br>\n",
    "Brokers : Varying  <br>\n",
    "Kafka producers : Varying <br>\n",
    "Partitions: 1 <br>\n",
    "Total Messages Size: Vary <br>\n"
   ]
  },
  {
   "cell_type": "markdown",
   "metadata": {},
   "source": [
    "### #6 Experiment - Consumer throughput vs number of partitions\n",
    "Measure  the consumer total time to completion. How fast is the consumer reading the messages?\n",
    "\n",
    "#### Experimental setup:\n",
    "System: wrangler <br>\n",
    "Nodes: 1 <br>\n",
    "Brokers : 1  <br>\n",
    "Kafka producers : 1 <br>\n",
    "Kafka consumers : 1\n",
    "Partitions: 1 <br>\n",
    "Total Messages Size: Vary <br>"
   ]
  },
  {
   "cell_type": "markdown",
   "metadata": {},
   "source": [
    "### #7 Experiment - Consumer throughput vs number of partitions\n",
    "Measure  the consumer's total time to completion. How fast is the consumer reading the messages? \n",
    "In this experiment we measure how fast a kafka consumer is reading messages that have already been produced by a producer.\n",
    "\n",
    "#### Experimental setup:\n",
    "System: wrangler <br>\n",
    "Nodes: 1 <br>\n",
    "Brokers : 1  <br>\n",
    "Kafka consumers : 1 <br>\n",
    "Partitions: 1 <br>\n",
    "Total Messages Size: Vary <br>"
   ]
  },
  {
   "cell_type": "code",
   "execution_count": null,
   "metadata": {
    "collapsed": true
   },
   "outputs": [],
   "source": []
  }
 ],
 "metadata": {
  "anaconda-cloud": {},
  "kernelspec": {
   "display_name": "Python [conda root]",
   "language": "python",
   "name": "conda-root-py"
  },
  "language_info": {
   "codemirror_mode": {
    "name": "ipython",
    "version": 2
   },
   "file_extension": ".py",
   "mimetype": "text/x-python",
   "name": "python",
   "nbconvert_exporter": "python",
   "pygments_lexer": "ipython2",
   "version": "2.7.12"
  }
 },
 "nbformat": 4,
 "nbformat_minor": 1
}
