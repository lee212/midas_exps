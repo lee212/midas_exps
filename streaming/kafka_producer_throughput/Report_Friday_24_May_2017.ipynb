{
 "cells": [
  {
   "cell_type": "markdown",
   "metadata": {},
   "source": [
    "# Experiments - Pilot Kafka Perfomance"
   ]
  },
  {
   "cell_type": "code",
   "execution_count": 117,
   "metadata": {
    "collapsed": true
   },
   "outputs": [],
   "source": [
    "import pandas as pd\n",
    "import matplotlib.pyplot as plt"
   ]
  },
  {
   "cell_type": "markdown",
   "metadata": {},
   "source": [
    "## Latency  Experiments  "
   ]
  },
  {
   "cell_type": "markdown",
   "metadata": {},
   "source": [
    "### #1 Experiment - End-to-end  Latency \n",
    "How long does it take a message we send to be delivered to the consumer?  <br>\n",
    "For this test, we will create producer and consumer and repeatedly time how long it takes for a producer to send a message to the kafka cluster and then be received by our consumer \n",
    "#### Experimental setup:\n",
    "System: wrangler <br>\n",
    "Nodes: 1 <br>\n",
    "Brokers : 1  <br>\n",
    "Kafka producers : 1 <br>\n",
    "Kafa consumers: 1 <br>\n",
    "Partitions: 1 <br>\n",
    "window interval : Varying <br>\n",
    "\n"
   ]
  },
  {
   "cell_type": "code",
   "execution_count": 136,
   "metadata": {
    "collapsed": false
   },
   "outputs": [
    {
     "data": {
      "text/html": [
       "<div>\n",
       "<table border=\"1\" class=\"dataframe\">\n",
       "  <thead>\n",
       "    <tr style=\"text-align: right;\">\n",
       "      <th></th>\n",
       "      <th>latency</th>\n",
       "    </tr>\n",
       "    <tr>\n",
       "      <th>window</th>\n",
       "      <th></th>\n",
       "    </tr>\n",
       "  </thead>\n",
       "  <tbody>\n",
       "    <tr>\n",
       "      <th>1.0</th>\n",
       "      <td>0.584834</td>\n",
       "    </tr>\n",
       "    <tr>\n",
       "      <th>10.0</th>\n",
       "      <td>0.609040</td>\n",
       "    </tr>\n",
       "    <tr>\n",
       "      <th>100.0</th>\n",
       "      <td>0.560743</td>\n",
       "    </tr>\n",
       "    <tr>\n",
       "      <th>1000.0</th>\n",
       "      <td>0.552467</td>\n",
       "    </tr>\n",
       "    <tr>\n",
       "      <th>10000.0</th>\n",
       "      <td>0.477026</td>\n",
       "    </tr>\n",
       "    <tr>\n",
       "      <th>100000.0</th>\n",
       "      <td>0.438834</td>\n",
       "    </tr>\n",
       "  </tbody>\n",
       "</table>\n",
       "</div>"
      ],
      "text/plain": [
       "           latency\n",
       "window            \n",
       "1.0       0.584834\n",
       "10.0      0.609040\n",
       "100.0     0.560743\n",
       "1000.0    0.552467\n",
       "10000.0   0.477026\n",
       "100000.0  0.438834"
      ]
     },
     "execution_count": 136,
     "metadata": {},
     "output_type": "execute_result"
    }
   ],
   "source": [
    "latency = pd.read_csv('../latency/kafka-latency.csv', skipinitialspace=True) \n",
    "cols = ['window','latency']\n",
    "latency = latency[cols].groupby(['window'])\n",
    "a = latency.mean()\n",
    "a"
   ]
  },
  {
   "cell_type": "code",
   "execution_count": 153,
   "metadata": {
    "collapsed": false
   },
   "outputs": [
    {
     "data": {
      "image/png": "[encoded data removed]",
      "text/plain": [
       "<matplotlib.figure.Figure at 0x7fd03d9ea790>"
      ]
     },
     "metadata": {},
     "output_type": "display_data"
    }
   ],
   "source": [
    "ax = a.plot( y=['latency'], #x=['Message_Size_in_Bytes'], \n",
    "                      title='Kafka Latency test', \n",
    "                      #legend=None,\n",
    "                      marker='.',\n",
    "                      #yerr= latency.std(),\n",
    "                        \n",
    "                      )\n",
    "ax.set_xscale('log', basex=2)\n",
    "#ax.set_yscale('log',basey=2)\n",
    "#ax.set_xlabel(\"Message Size in Bytes\")\n",
    "ax.set_ylabel(\"Latency (in sec)\")\n",
    "ax.grid()\n",
    "plt.show()"
   ]
  },
  {
   "cell_type": "markdown",
   "metadata": {},
   "source": [
    "The latency is increased when the producing message rate is increased. Kafka exposes a message to a consumer after it has been committed. "
   ]
  },
  {
   "cell_type": "markdown",
   "metadata": {},
   "source": [
    "### #2 Experiment - Latency vs Number of Partitions \n",
    "\n",
    "How does the number of partitions effect the latency of the system?  By default, a Kafka broker only uses a single thread to replicate data from another broker, for all partitions that share replicas between the two brokers. \n",
    "**Kafka only exposes a message to a consumer after it has been committed when the message is replicated to all the in-sync replicas**\n",
    "For this test we create a producer and a  consumer and we vary the number of partitions of the system\n",
    "#### Experimental setup:\n",
    "System: wrangler <br>\n",
    "Nodes: 1 <br>\n",
    "Brokers : 1  <br>\n",
    "Kafka producers : 1 <br>\n",
    "Kafa consumers: 1 <br>\n",
    "Partitions: Vary <br>"
   ]
  },
  {
   "cell_type": "markdown",
   "metadata": {},
   "source": [
    "## Producer/Consumer Experiments - Throughput"
   ]
  },
  {
   "cell_type": "markdown",
   "metadata": {},
   "source": [
    "### #3 Experiment - Effect of Message Size\n",
    "How does the message size effect the throughput of the system? \n",
    "In this experiment we will create one producer and  time how long it takes to produce the same volume  of messages (in MB) by varying the size of each message.\n",
    "\n",
    "#### Experimental setup:\n",
    "System: wrangler <br>\n",
    "Nodes: 1 <br>\n",
    "Brokers : 1  <br>\n",
    "Kafka producers : 1 <br>\n",
    "Partitions: 1 <br>\n",
    "Message Size : Vary <br>\n",
    "Total Messages Size: Vary <br>"
   ]
  },
  {
   "cell_type": "code",
   "execution_count": 109,
   "metadata": {
    "collapsed": true
   },
   "outputs": [],
   "source": [
    "data_89 = pd.read_csv('kafka_producer_throughput_size_20.csv', skipinitialspace=True) #89 bytes\n",
    "data_89['Message_Size_in_Bytes']=89\n",
    "#data_89"
   ]
  },
  {
   "cell_type": "code",
   "execution_count": 108,
   "metadata": {
    "collapsed": false
   },
   "outputs": [],
   "source": [
    "data_48 = pd.read_csv('kafka_producer_throughput_size_5.csv', skipinitialspace=True) #48 bytes\n",
    "data_48['Message_Size_in_Bytes']=48\n",
    "#data_48"
   ]
  },
  {
   "cell_type": "code",
   "execution_count": 107,
   "metadata": {
    "collapsed": false
   },
   "outputs": [],
   "source": [
    "data_59 = pd.read_csv('kafka_producer_throughput_size_10.csv', skipinitialspace=True) #59 bytes\n",
    "data_59['Message_Size_in_Bytes']=59\n",
    "#data_59"
   ]
  },
  {
   "cell_type": "code",
   "execution_count": 72,
   "metadata": {
    "collapsed": false
   },
   "outputs": [
    {
     "data": {
      "text/html": [
       "<div>\n",
       "<table border=\"1\" class=\"dataframe\">\n",
       "  <thead>\n",
       "    <tr style=\"text-align: right;\">\n",
       "      <th></th>\n",
       "      <th>Number_of_points</th>\n",
       "      <th>Number_of_partitions</th>\n",
       "      <th>ttc</th>\n",
       "      <th>Message_Size_in_Bytes</th>\n",
       "    </tr>\n",
       "  </thead>\n",
       "  <tbody>\n",
       "    <tr>\n",
       "      <th>8</th>\n",
       "      <td>100000</td>\n",
       "      <td>1</td>\n",
       "      <td>45.103489</td>\n",
       "      <td>89</td>\n",
       "    </tr>\n",
       "    <tr>\n",
       "      <th>9</th>\n",
       "      <td>100000</td>\n",
       "      <td>4</td>\n",
       "      <td>45.981632</td>\n",
       "      <td>89</td>\n",
       "    </tr>\n",
       "    <tr>\n",
       "      <th>10</th>\n",
       "      <td>100000</td>\n",
       "      <td>8</td>\n",
       "      <td>45.668582</td>\n",
       "      <td>89</td>\n",
       "    </tr>\n",
       "    <tr>\n",
       "      <th>17</th>\n",
       "      <td>100000</td>\n",
       "      <td>1</td>\n",
       "      <td>85.288833</td>\n",
       "      <td>59</td>\n",
       "    </tr>\n",
       "    <tr>\n",
       "      <th>19</th>\n",
       "      <td>100000</td>\n",
       "      <td>4</td>\n",
       "      <td>84.710301</td>\n",
       "      <td>59</td>\n",
       "    </tr>\n",
       "    <tr>\n",
       "      <th>20</th>\n",
       "      <td>100000</td>\n",
       "      <td>8</td>\n",
       "      <td>85.651325</td>\n",
       "      <td>59</td>\n",
       "    </tr>\n",
       "    <tr>\n",
       "      <th>21</th>\n",
       "      <td>100000</td>\n",
       "      <td>8</td>\n",
       "      <td>162.701857</td>\n",
       "      <td>48</td>\n",
       "    </tr>\n",
       "    <tr>\n",
       "      <th>22</th>\n",
       "      <td>100000</td>\n",
       "      <td>4</td>\n",
       "      <td>160.567509</td>\n",
       "      <td>48</td>\n",
       "    </tr>\n",
       "    <tr>\n",
       "      <th>23</th>\n",
       "      <td>100000</td>\n",
       "      <td>1</td>\n",
       "      <td>163.795167</td>\n",
       "      <td>48</td>\n",
       "    </tr>\n",
       "  </tbody>\n",
       "</table>\n",
       "</div>"
      ],
      "text/plain": [
       "    Number_of_points  Number_of_partitions         ttc  Message_Size_in_Bytes\n",
       "8             100000                     1   45.103489                     89\n",
       "9             100000                     4   45.981632                     89\n",
       "10            100000                     8   45.668582                     89\n",
       "17            100000                     1   85.288833                     59\n",
       "19            100000                     4   84.710301                     59\n",
       "20            100000                     8   85.651325                     59\n",
       "21            100000                     8  162.701857                     48\n",
       "22            100000                     4  160.567509                     48\n",
       "23            100000                     1  163.795167                     48"
      ]
     },
     "execution_count": 72,
     "metadata": {},
     "output_type": "execute_result"
    }
   ],
   "source": [
    "bigdata = pd.concat([data_89,data_59, data_48], ignore_index=True)\n",
    "bigdata = bigdata[(bigdata.system == 'stampede')]\n",
    "cols = ['Number_of_points','Number_of_partitions','ttc','Message_Size_in_Bytes']\n",
    "bigdata =  bigdata[cols]\n",
    "bigdata = bigdata[(bigdata.Number_of_partitions==1) | (bigdata.Number_of_partitions==4) | (bigdata.Number_of_partitions==8)]\n",
    "bigdata = bigdata[(bigdata.Number_of_points==100000)]\n",
    "bigdata"
   ]
  },
  {
   "cell_type": "markdown",
   "metadata": {},
   "source": [
    "**Number of partitions does't matter in this setup, which is something I didn't expect. **\n"
   ]
  },
  {
   "cell_type": "code",
   "execution_count": 106,
   "metadata": {
    "collapsed": false
   },
   "outputs": [
    {
     "data": {
      "text/html": [
       "<div>\n",
       "<table border=\"1\" class=\"dataframe\">\n",
       "  <thead>\n",
       "    <tr style=\"text-align: right;\">\n",
       "      <th></th>\n",
       "      <th>Number_of_points</th>\n",
       "      <th>Number_of_partitions</th>\n",
       "      <th>ttc</th>\n",
       "      <th>Message_Size_in_Bytes</th>\n",
       "    </tr>\n",
       "  </thead>\n",
       "  <tbody>\n",
       "    <tr>\n",
       "      <th>23</th>\n",
       "      <td>100000</td>\n",
       "      <td>1</td>\n",
       "      <td>163.795167</td>\n",
       "      <td>48</td>\n",
       "    </tr>\n",
       "    <tr>\n",
       "      <th>17</th>\n",
       "      <td>100000</td>\n",
       "      <td>1</td>\n",
       "      <td>85.288833</td>\n",
       "      <td>59</td>\n",
       "    </tr>\n",
       "    <tr>\n",
       "      <th>8</th>\n",
       "      <td>100000</td>\n",
       "      <td>1</td>\n",
       "      <td>45.103489</td>\n",
       "      <td>89</td>\n",
       "    </tr>\n",
       "  </tbody>\n",
       "</table>\n",
       "</div>"
      ],
      "text/plain": [
       "    Number_of_points  Number_of_partitions         ttc  Message_Size_in_Bytes\n",
       "23            100000                     1  163.795167                     48\n",
       "17            100000                     1   85.288833                     59\n",
       "8             100000                     1   45.103489                     89"
      ]
     },
     "execution_count": 106,
     "metadata": {},
     "output_type": "execute_result"
    }
   ],
   "source": [
    "bigdata = bigdata[(bigdata.Number_of_partitions==1)]\n",
    "bigdata = bigdata.sort_values('Message_Size_in_Bytes')\n",
    "bigdata"
   ]
  },
  {
   "cell_type": "code",
   "execution_count": 111,
   "metadata": {
    "collapsed": false
   },
   "outputs": [
    {
     "data": {
      "image/png": "[encoded data removed]",
      "text/plain": [
       "<matplotlib.figure.Figure at 0x7fd041717910>"
      ]
     },
     "metadata": {},
     "output_type": "display_data"
    }
   ],
   "source": [
    "ax = bigdata.plot(y=['ttc'], x=['Message_Size_in_Bytes'], \n",
    "                      title='Kafka Message size effect', \n",
    "                      #legend=None,\n",
    "                      marker='.',\n",
    "                      #yerr= plot_std.unstack(),\n",
    "                      )\n",
    "#ax.set_xscale('log', basex=2)\n",
    "#pyplot.xscale('log')\n",
    "#ax.set_yscale('log',basey=2)\n",
    "ax.set_xlabel(\"Message Size in Bytes\")\n",
    "ax.set_ylabel(\"Time (in sec)\")\n",
    "ax.grid()\n",
    "plt.show()"
   ]
  },
  {
   "cell_type": "markdown",
   "metadata": {},
   "source": [
    "**The bigger the message size,the better the throughput of the system**"
   ]
  },
  {
   "cell_type": "markdown",
   "metadata": {},
   "source": [
    "### #4 Experiment - Producer throughput vs number of partitions\n",
    "Expectation. More partitions lead to higher throughput\n",
    "#### Experimental setup:\n",
    "System: wrangler <br>\n",
    "Nodes: 1 <br>\n",
    "Brokers : 1  <br>\n",
    "Kafka producers : 1 <br>\n",
    "Partitions: 1 <br>\n",
    "Total Messages Size: Vary <br>\n"
   ]
  },
  {
   "cell_type": "markdown",
   "metadata": {},
   "source": [
    "### #5 Experiment - Producer throughput vs number of partitions\n",
    "Same experiment using multiple producers this time\n",
    "#### Experimental setup:\n",
    "System: wrangler <br>\n",
    "Nodes: Varying <br>\n",
    "Brokers : Varying  <br>\n",
    "Kafka producers : Varying <br>\n",
    "Partitions: 1 <br>\n",
    "Total Messages Size: Vary <br>\n"
   ]
  },
  {
   "cell_type": "markdown",
   "metadata": {},
   "source": [
    "### #6 Experiment - Consumer throughput vs number of partitions\n",
    "Measure  the consumer total time to completion. How fast is the consumer reading the messages?\n",
    "\n",
    "#### Experimental setup:\n",
    "System: wrangler <br>\n",
    "Nodes: 1 <br>\n",
    "Brokers : 1  <br>\n",
    "Kafka producers : 1 <br>\n",
    "Kafka consumers : 1\n",
    "Partitions: 1 <br>\n",
    "Total Messages Size: Vary <br>"
   ]
  },
  {
   "cell_type": "markdown",
   "metadata": {},
   "source": [
    "### #7 Experiment - Consumer throughput vs number of partitions\n",
    "Measure  the consumer's total time to completion. How fast is the consumer reading the messages? \n",
    "In this experiment we measure how fast a kafka consumer is reading messages that have already been produced by a producer.\n",
    "\n",
    "#### Experimental setup:\n",
    "System: wrangler <br>\n",
    "Nodes: 1 <br>\n",
    "Brokers : 1  <br>\n",
    "Kafka consumers : 1 <br>\n",
    "Partitions: 1 <br>\n",
    "Total Messages Size: Vary <br>"
   ]
  },
  {
   "cell_type": "markdown",
   "metadata": {
    "collapsed": true
   },
   "source": [
    "### Daybook"
   ]
  },
  {
   "cell_type": "code",
   "execution_count": 157,
   "metadata": {
    "collapsed": false
   },
   "outputs": [
    {
     "data": {
      "text/html": [
       "<div>\n",
       "<table border=\"1\" class=\"dataframe\">\n",
       "  <thead>\n",
       "    <tr style=\"text-align: right;\">\n",
       "      <th></th>\n",
       "      <th>Nodes</th>\n",
       "      <th>Number_of_points</th>\n",
       "      <th>Number_of_partitions</th>\n",
       "      <th>ttc</th>\n",
       "      <th>system</th>\n",
       "    </tr>\n",
       "  </thead>\n",
       "  <tbody>\n",
       "    <tr>\n",
       "      <th>0</th>\n",
       "      <td>1</td>\n",
       "      <td>1000000</td>\n",
       "      <td>16</td>\n",
       "      <td>439.959164</td>\n",
       "      <td>wrangler</td>\n",
       "    </tr>\n",
       "    <tr>\n",
       "      <th>1</th>\n",
       "      <td>1</td>\n",
       "      <td>1000000</td>\n",
       "      <td>16</td>\n",
       "      <td>431.650054</td>\n",
       "      <td>wrangler</td>\n",
       "    </tr>\n",
       "    <tr>\n",
       "      <th>2</th>\n",
       "      <td>1</td>\n",
       "      <td>1000000</td>\n",
       "      <td>64</td>\n",
       "      <td>473.713585</td>\n",
       "      <td>wrangler</td>\n",
       "    </tr>\n",
       "    <tr>\n",
       "      <th>3</th>\n",
       "      <td>1</td>\n",
       "      <td>1000000</td>\n",
       "      <td>90</td>\n",
       "      <td>447.717588</td>\n",
       "      <td>wrangler</td>\n",
       "    </tr>\n",
       "    <tr>\n",
       "      <th>4</th>\n",
       "      <td>1</td>\n",
       "      <td>3000000</td>\n",
       "      <td>120</td>\n",
       "      <td>1239.627581</td>\n",
       "      <td>wrangler</td>\n",
       "    </tr>\n",
       "    <tr>\n",
       "      <th>5</th>\n",
       "      <td>1</td>\n",
       "      <td>3000000</td>\n",
       "      <td>90</td>\n",
       "      <td>1255.802454</td>\n",
       "      <td>wrangler</td>\n",
       "    </tr>\n",
       "    <tr>\n",
       "      <th>6</th>\n",
       "      <td>1</td>\n",
       "      <td>1000000</td>\n",
       "      <td>90</td>\n",
       "      <td>417.272083</td>\n",
       "      <td>wrangler</td>\n",
       "    </tr>\n",
       "    <tr>\n",
       "      <th>7</th>\n",
       "      <td>1</td>\n",
       "      <td>3000000</td>\n",
       "      <td>90</td>\n",
       "      <td>1231.633964</td>\n",
       "      <td>wrangler</td>\n",
       "    </tr>\n",
       "    <tr>\n",
       "      <th>8</th>\n",
       "      <td>1</td>\n",
       "      <td>100000</td>\n",
       "      <td>1</td>\n",
       "      <td>45.103489</td>\n",
       "      <td>stampede</td>\n",
       "    </tr>\n",
       "    <tr>\n",
       "      <th>9</th>\n",
       "      <td>1</td>\n",
       "      <td>100000</td>\n",
       "      <td>4</td>\n",
       "      <td>45.981632</td>\n",
       "      <td>stampede</td>\n",
       "    </tr>\n",
       "    <tr>\n",
       "      <th>10</th>\n",
       "      <td>1</td>\n",
       "      <td>100000</td>\n",
       "      <td>8</td>\n",
       "      <td>45.668582</td>\n",
       "      <td>stampede</td>\n",
       "    </tr>\n",
       "    <tr>\n",
       "      <th>11</th>\n",
       "      <td>1</td>\n",
       "      <td>100000</td>\n",
       "      <td>16</td>\n",
       "      <td>47.105571</td>\n",
       "      <td>stampede</td>\n",
       "    </tr>\n",
       "    <tr>\n",
       "      <th>12</th>\n",
       "      <td>1</td>\n",
       "      <td>100000</td>\n",
       "      <td>32</td>\n",
       "      <td>49.702882</td>\n",
       "      <td>stampede</td>\n",
       "    </tr>\n",
       "  </tbody>\n",
       "</table>\n",
       "</div>"
      ],
      "text/plain": [
       "    Nodes  Number_of_points  Number_of_partitions          ttc    system\n",
       "0       1           1000000                    16   439.959164  wrangler\n",
       "1       1           1000000                    16   431.650054  wrangler\n",
       "2       1           1000000                    64   473.713585  wrangler\n",
       "3       1           1000000                    90   447.717588  wrangler\n",
       "4       1           3000000                   120  1239.627581  wrangler\n",
       "5       1           3000000                    90  1255.802454  wrangler\n",
       "6       1           1000000                    90   417.272083  wrangler\n",
       "7       1           3000000                    90  1231.633964  wrangler\n",
       "8       1            100000                     1    45.103489  stampede\n",
       "9       1            100000                     4    45.981632  stampede\n",
       "10      1            100000                     8    45.668582  stampede\n",
       "11      1            100000                    16    47.105571  stampede\n",
       "12      1            100000                    32    49.702882  stampede"
      ]
     },
     "execution_count": 157,
     "metadata": {},
     "output_type": "execute_result"
    }
   ],
   "source": [
    "test_data = pd.read_csv('kafka_producer_throughput_size_20.csv', skipinitialspace=True) #89 bytes\n",
    "test_data"
   ]
  },
  {
   "cell_type": "markdown",
   "metadata": {},
   "source": [
    "I increase the number of partitions but there is still no speedup trend to my producer experiments. <b>\n",
    "A possible explanation is because  I stress the producer so much that fails to speedup. <br>\n",
    "Therefore, I decided to add a time interval of 0.02 seconds to see if the trend continues.  <br>\n"
   ]
  },
  {
   "cell_type": "code",
   "execution_count": 164,
   "metadata": {
    "collapsed": false
   },
   "outputs": [
    {
     "data": {
      "text/html": [
       "<div>\n",
       "<table border=\"1\" class=\"dataframe\">\n",
       "  <thead>\n",
       "    <tr style=\"text-align: right;\">\n",
       "      <th></th>\n",
       "      <th>Nodes</th>\n",
       "      <th>Number_of_points</th>\n",
       "      <th>Number_of_partitions</th>\n",
       "      <th>ttc</th>\n",
       "      <th>system</th>\n",
       "      <th>sleep_time</th>\n",
       "    </tr>\n",
       "  </thead>\n",
       "  <tbody>\n",
       "    <tr>\n",
       "      <th>0</th>\n",
       "      <td>1</td>\n",
       "      <td>100000</td>\n",
       "      <td>1</td>\n",
       "      <td>520.144978</td>\n",
       "      <td>stampede</td>\n",
       "      <td>0.02</td>\n",
       "    </tr>\n",
       "    <tr>\n",
       "      <th>1</th>\n",
       "      <td>1</td>\n",
       "      <td>100000</td>\n",
       "      <td>8</td>\n",
       "      <td>495.545048</td>\n",
       "      <td>stampede</td>\n",
       "      <td>0.02</td>\n",
       "    </tr>\n",
       "    <tr>\n",
       "      <th>2</th>\n",
       "      <td>1</td>\n",
       "      <td>100000</td>\n",
       "      <td>16</td>\n",
       "      <td>497.390657</td>\n",
       "      <td>stampede</td>\n",
       "      <td>0.02</td>\n",
       "    </tr>\n",
       "    <tr>\n",
       "      <th>3</th>\n",
       "      <td>1</td>\n",
       "      <td>100000</td>\n",
       "      <td>4</td>\n",
       "      <td>513.354598</td>\n",
       "      <td>stampede</td>\n",
       "      <td>0.02</td>\n",
       "    </tr>\n",
       "  </tbody>\n",
       "</table>\n",
       "</div>"
      ],
      "text/plain": [
       "   Nodes  Number_of_points  Number_of_partitions         ttc    system  \\\n",
       "0      1            100000                     1  520.144978  stampede   \n",
       "1      1            100000                     8  495.545048  stampede   \n",
       "2      1            100000                    16  497.390657  stampede   \n",
       "3      1            100000                     4  513.354598  stampede   \n",
       "\n",
       "   sleep_time  \n",
       "0        0.02  \n",
       "1        0.02  \n",
       "2        0.02  \n",
       "3        0.02  "
      ]
     },
     "execution_count": 164,
     "metadata": {},
     "output_type": "execute_result"
    }
   ],
   "source": [
    "sleep_data = pd.read_csv('kafka_producer_throughput_sleep.csv', skipinitialspace=True) #89 bytes\n",
    "sleep_data"
   ]
  },
  {
   "cell_type": "code",
   "execution_count": null,
   "metadata": {
    "collapsed": true
   },
   "outputs": [],
   "source": []
  }
 ],
 "metadata": {
  "anaconda-cloud": {},
  "kernelspec": {
   "display_name": "Python [conda root]",
   "language": "python",
   "name": "conda-root-py"
  },
  "language_info": {
   "codemirror_mode": {
    "name": "ipython",
    "version": 2
   },
   "file_extension": ".py",
   "mimetype": "text/x-python",
   "name": "python",
   "nbconvert_exporter": "python",
   "pygments_lexer": "ipython2",
   "version": "2.7.12"
  }
 },
 "nbformat": 4,
 "nbformat_minor": 1
}
