{
 "cells": [
  {
   "cell_type": "code",
   "execution_count": 34,
   "metadata": {
    "collapsed": false
   },
   "outputs": [],
   "source": [
    "import pandas as pd\n",
    "import matplotlib.pyplot as plt\n",
    "data = pd.read_csv('kafka_producer_throughput.csv', skipinitialspace=True)"
   ]
  },
  {
   "cell_type": "code",
   "execution_count": 4,
   "metadata": {
    "collapsed": false
   },
   "outputs": [
    {
     "data": {
      "text/html": [
       "<div>\n",
       "<table border=\"1\" class=\"dataframe\">\n",
       "  <thead>\n",
       "    <tr style=\"text-align: right;\">\n",
       "      <th></th>\n",
       "      <th>Nodes</th>\n",
       "      <th>Number_of_points</th>\n",
       "      <th>Number_of_partitions</th>\n",
       "      <th>ttc</th>\n",
       "      <th>system</th>\n",
       "    </tr>\n",
       "  </thead>\n",
       "  <tbody>\n",
       "    <tr>\n",
       "      <th>0</th>\n",
       "      <td>2</td>\n",
       "      <td>10000</td>\n",
       "      <td>24</td>\n",
       "      <td>11.459536</td>\n",
       "      <td>stampede</td>\n",
       "    </tr>\n",
       "    <tr>\n",
       "      <th>1</th>\n",
       "      <td>2</td>\n",
       "      <td>10000</td>\n",
       "      <td>24</td>\n",
       "      <td>11.420531</td>\n",
       "      <td>stampede</td>\n",
       "    </tr>\n",
       "    <tr>\n",
       "      <th>2</th>\n",
       "      <td>2</td>\n",
       "      <td>10000</td>\n",
       "      <td>24</td>\n",
       "      <td>6.108983</td>\n",
       "      <td>stampede</td>\n",
       "    </tr>\n",
       "    <tr>\n",
       "      <th>3</th>\n",
       "      <td>2</td>\n",
       "      <td>100000</td>\n",
       "      <td>24</td>\n",
       "      <td>12.122861</td>\n",
       "      <td>stampede</td>\n",
       "    </tr>\n",
       "    <tr>\n",
       "      <th>4</th>\n",
       "      <td>2</td>\n",
       "      <td>100000</td>\n",
       "      <td>24</td>\n",
       "      <td>13.160052</td>\n",
       "      <td>stampede</td>\n",
       "    </tr>\n",
       "  </tbody>\n",
       "</table>\n",
       "</div>"
      ],
      "text/plain": [
       "   Nodes  Number_of_points  Number_of_partitions        ttc    system\n",
       "0      2             10000                    24  11.459536  stampede\n",
       "1      2             10000                    24  11.420531  stampede\n",
       "2      2             10000                    24   6.108983  stampede\n",
       "3      2            100000                    24  12.122861  stampede\n",
       "4      2            100000                    24  13.160052  stampede"
      ]
     },
     "execution_count": 4,
     "metadata": {},
     "output_type": "execute_result"
    }
   ],
   "source": [
    "data.head()"
   ]
  },
  {
   "cell_type": "markdown",
   "metadata": {},
   "source": [
    "### Stampede "
   ]
  },
  {
   "cell_type": "code",
   "execution_count": 55,
   "metadata": {
    "collapsed": false
   },
   "outputs": [
    {
     "data": {
      "text/html": [
       "<div>\n",
       "<table border=\"1\" class=\"dataframe\">\n",
       "  <thead>\n",
       "    <tr>\n",
       "      <th></th>\n",
       "      <th colspan=\"3\" halign=\"left\">ttc</th>\n",
       "    </tr>\n",
       "    <tr>\n",
       "      <th>Number_of_partitions</th>\n",
       "      <th>24</th>\n",
       "      <th>48</th>\n",
       "      <th>96</th>\n",
       "    </tr>\n",
       "    <tr>\n",
       "      <th>Number_of_points</th>\n",
       "      <th></th>\n",
       "      <th></th>\n",
       "      <th></th>\n",
       "    </tr>\n",
       "  </thead>\n",
       "  <tbody>\n",
       "    <tr>\n",
       "      <th>1000</th>\n",
       "      <td>0.050630</td>\n",
       "      <td>NaN</td>\n",
       "      <td>NaN</td>\n",
       "    </tr>\n",
       "    <tr>\n",
       "      <th>10000</th>\n",
       "      <td>0.369507</td>\n",
       "      <td>NaN</td>\n",
       "      <td>1.848784</td>\n",
       "    </tr>\n",
       "    <tr>\n",
       "      <th>100000</th>\n",
       "      <td>0.389874</td>\n",
       "      <td>NaN</td>\n",
       "      <td>NaN</td>\n",
       "    </tr>\n",
       "    <tr>\n",
       "      <th>1000000</th>\n",
       "      <td>0.124013</td>\n",
       "      <td>NaN</td>\n",
       "      <td>NaN</td>\n",
       "    </tr>\n",
       "    <tr>\n",
       "      <th>10000000</th>\n",
       "      <td>0.562285</td>\n",
       "      <td>NaN</td>\n",
       "      <td>NaN</td>\n",
       "    </tr>\n",
       "    <tr>\n",
       "      <th>100000000</th>\n",
       "      <td>NaN</td>\n",
       "      <td>3.163702</td>\n",
       "      <td>NaN</td>\n",
       "    </tr>\n",
       "  </tbody>\n",
       "</table>\n",
       "</div>"
      ],
      "text/plain": [
       "                           ttc                    \n",
       "Number_of_partitions        24        48        96\n",
       "Number_of_points                                  \n",
       "1000                  0.050630       NaN       NaN\n",
       "10000                 0.369507       NaN  1.848784\n",
       "100000                0.389874       NaN       NaN\n",
       "1000000               0.124013       NaN       NaN\n",
       "10000000              0.562285       NaN       NaN\n",
       "100000000                  NaN  3.163702       NaN"
      ]
     },
     "execution_count": 55,
     "metadata": {},
     "output_type": "execute_result"
    }
   ],
   "source": [
    "stampede_data = data[(data.system == 'stampede')]\n",
    "stampede_data = data[(data.Nodes==1)]\n",
    "cols = ['Number_of_points','Number_of_partitions','ttc']\n",
    "stampede_data =  stampede_data[cols]\n",
    "plot_data = stampede_data.groupby(['Number_of_points','Number_of_partitions']).mean()\n",
    "plot_std = stampede_data.groupby(['Number_of_points','Number_of_partitions']).std()\n",
    "plot_data.unstack()"
   ]
  },
  {
   "cell_type": "code",
   "execution_count": 60,
   "metadata": {
    "collapsed": false
   },
   "outputs": [
    {
     "data": {
      "image/png": "[encoded data removed]",
      "text/plain": [
       "<matplotlib.figure.Figure at 0x10e68eed0>"
      ]
     },
     "metadata": {},
     "output_type": "display_data"
    }
   ],
   "source": [
    "ax = plot_data.unstack().plot(y=['ttc'], \n",
    "                      title='Kafka Producer Perfomance  on Stampede', \n",
    "                      #legend=None,\n",
    "                      marker='.',\n",
    "                      yerr= plot_std.unstack(),\n",
    "                      #xlim=(0,100000*1000),\n",
    "                      #xticks = [0,10*1000,100*1000,1000*1000,10000*1000,100000*1000],\n",
    "                      )\n",
    "#ax.set_xscale('log', basex=2)\n",
    "ax.set_xlabel(\"Number of Points\")\n",
    "ax.set_ylabel(\"Time (in sec)\")\n",
    "#ax.annotate('Spark Download', xy=(2, 1), xytext=(2, 11),)\n",
    "#ax.annotate('Kafka Download', xy=(2, 1), xytext=(2, 4),)\n",
    "#ax.annotate('Spark Startup', xy=(2, 1), xytext=(2, 21),)\n",
    "#ax.annotate('Kafka Startup', xy=(2, 1), xytext=(2, 1), )\n",
    "ax.grid()\n",
    "plt.show()\n",
    "#plt.savefig('rp-streaming_startup.pdf')"
   ]
  },
  {
   "cell_type": "code",
   "execution_count": null,
   "metadata": {
    "collapsed": true
   },
   "outputs": [],
   "source": []
  }
 ],
 "metadata": {
  "anaconda-cloud": {},
  "kernelspec": {
   "display_name": "Python [conda root]",
   "language": "python",
   "name": "conda-root-py"
  },
  "language_info": {
   "codemirror_mode": {
    "name": "ipython",
    "version": 2
   },
   "file_extension": ".py",
   "mimetype": "text/x-python",
   "name": "python",
   "nbconvert_exporter": "python",
   "pygments_lexer": "ipython2",
   "version": "2.7.12"
  }
 },
 "nbformat": 4,
 "nbformat_minor": 1
}
