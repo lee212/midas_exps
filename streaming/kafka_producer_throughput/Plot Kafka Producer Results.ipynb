{
 "cells": [
  {
   "cell_type": "code",
   "execution_count": 2,
   "metadata": {
    "collapsed": false
   },
   "outputs": [],
   "source": [
    "import pandas as pd\n",
    "import matplotlib.pyplot as plt\n",
    "data = pd.read_csv('kafka_producer_throughput.csv', skipinitialspace=True)"
   ]
  },
  {
   "cell_type": "code",
   "execution_count": 7,
   "metadata": {
    "collapsed": false
   },
   "outputs": [
    {
     "data": {
      "text/html": [
       "<div>\n",
       "<table border=\"1\" class=\"dataframe\">\n",
       "  <thead>\n",
       "    <tr style=\"text-align: right;\">\n",
       "      <th></th>\n",
       "      <th>Nodes</th>\n",
       "      <th>Number_of_points</th>\n",
       "      <th>Number_of_partitions</th>\n",
       "      <th>ttc</th>\n",
       "      <th>system</th>\n",
       "    </tr>\n",
       "  </thead>\n",
       "  <tbody>\n",
       "    <tr>\n",
       "      <th>0</th>\n",
       "      <td>2</td>\n",
       "      <td>10000</td>\n",
       "      <td>1</td>\n",
       "      <td>82.373709</td>\n",
       "      <td>stampede</td>\n",
       "    </tr>\n",
       "    <tr>\n",
       "      <th>1</th>\n",
       "      <td>2</td>\n",
       "      <td>10000</td>\n",
       "      <td>1</td>\n",
       "      <td>82.584508</td>\n",
       "      <td>stampede</td>\n",
       "    </tr>\n",
       "  </tbody>\n",
       "</table>\n",
       "</div>"
      ],
      "text/plain": [
       "   Nodes  Number_of_points  Number_of_partitions        ttc    system\n",
       "0      2             10000                     1  82.373709  stampede\n",
       "1      2             10000                     1  82.584508  stampede"
      ]
     },
     "execution_count": 7,
     "metadata": {},
     "output_type": "execute_result"
    }
   ],
   "source": [
    "number_of_points_group"
   ]
  },
  {
   "cell_type": "markdown",
   "metadata": {},
   "source": [
    "### Stampede "
   ]
  },
  {
   "cell_type": "code",
   "execution_count": 12,
   "metadata": {
    "collapsed": false
   },
   "outputs": [],
   "source": [
    "stampede_data = data[(data.system== 'stampede')]\n",
    "stampede_data_number_of_points_mean = stampede_data.groupby(['Number_of_points']).mean()\n",
    "stampede_data_number_of_points_std = stampede_data.groupby(['Number_of_points']).std()"
   ]
  },
  {
   "cell_type": "code",
   "execution_count": 16,
   "metadata": {
    "collapsed": false
   },
   "outputs": [],
   "source": [
    "ax = stampede_data_number_of_points_mean.plot(y=['ttc'], \n",
    "                      title='Kafka Producer Perfomance  on Stampede', \n",
    "                      #legend=None,\n",
    "                      #xlim=(0,16),\n",
    "                      #xticks = [0,1,2,3,4,5,6,7,8,16],\n",
    "                      #ylim=(0,12),\n",
    "                      marker='.',\n",
    "                      yerr= stampede_data_number_of_points_std\n",
    "                      )\n",
    "#ax.set_xscale('log', basex=2)\n",
    "ax.set_xlabel(\"Number of Points\")\n",
    "ax.set_ylabel(\"Time (in sec)\")\n",
    "#ax.annotate('Spark Download', xy=(2, 1), xytext=(2, 11),)\n",
    "#ax.annotate('Kafka Download', xy=(2, 1), xytext=(2, 4),)\n",
    "#ax.annotate('Spark Startup', xy=(2, 1), xytext=(2, 21),)\n",
    "#ax.annotate('Kafka Startup', xy=(2, 1), xytext=(2, 1), )\n",
    "ax.grid()\n",
    "plt.show()\n",
    "#plt.savefig('rp-streaming_startup.pdf')"
   ]
  },
  {
   "cell_type": "code",
   "execution_count": null,
   "metadata": {
    "collapsed": true
   },
   "outputs": [],
   "source": []
  }
 ],
 "metadata": {
  "anaconda-cloud": {},
  "kernelspec": {
   "display_name": "Python [conda root]",
   "language": "python",
   "name": "conda-root-py"
  },
  "language_info": {
   "codemirror_mode": {
    "name": "ipython",
    "version": 2
   },
   "file_extension": ".py",
   "mimetype": "text/x-python",
   "name": "python",
   "nbconvert_exporter": "python",
   "pygments_lexer": "ipython2",
   "version": "2.7.12"
  }
 },
 "nbformat": 4,
 "nbformat_minor": 1
}
