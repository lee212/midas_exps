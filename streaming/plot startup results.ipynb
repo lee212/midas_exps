{
 "cells": [
  {
   "cell_type": "markdown",
   "metadata": {},
   "source": [
    "## Plot Spark and Kafka startup times"
   ]
  },
  {
   "cell_type": "code",
   "execution_count": 152,
   "metadata": {
    "collapsed": true
   },
   "outputs": [],
   "source": [
    "import pandas as pd\n",
    "import matplotlib.pyplot as plt\n",
    "data = pd.read_csv('rp-streaming_startup.csv', skipinitialspace=True)"
   ]
  },
  {
   "cell_type": "code",
   "execution_count": 153,
   "metadata": {
    "collapsed": false
   },
   "outputs": [
    {
     "data": {
      "text/html": [
       "<div>\n",
       "<table border=\"1\" class=\"dataframe\">\n",
       "  <thead>\n",
       "    <tr style=\"text-align: right;\">\n",
       "      <th></th>\n",
       "      <th>Spark download</th>\n",
       "      <th>Spark startup</th>\n",
       "      <th>kafka download</th>\n",
       "      <th>kafka startup</th>\n",
       "      <th>nodes</th>\n",
       "      <th>system</th>\n",
       "    </tr>\n",
       "  </thead>\n",
       "  <tbody>\n",
       "    <tr>\n",
       "      <th>0</th>\n",
       "      <td>8.098390</td>\n",
       "      <td>18.277243</td>\n",
       "      <td>3.108133</td>\n",
       "      <td>0.070536</td>\n",
       "      <td>2</td>\n",
       "      <td>stampede</td>\n",
       "    </tr>\n",
       "    <tr>\n",
       "      <th>1</th>\n",
       "      <td>9.125283</td>\n",
       "      <td>19.306798</td>\n",
       "      <td>2.492341</td>\n",
       "      <td>0.070543</td>\n",
       "      <td>2</td>\n",
       "      <td>stampede</td>\n",
       "    </tr>\n",
       "    <tr>\n",
       "      <th>6</th>\n",
       "      <td>10.876481</td>\n",
       "      <td>19.074302</td>\n",
       "      <td>2.615791</td>\n",
       "      <td>0.070538</td>\n",
       "      <td>2</td>\n",
       "      <td>stampede</td>\n",
       "    </tr>\n",
       "    <tr>\n",
       "      <th>2</th>\n",
       "      <td>9.039998</td>\n",
       "      <td>19.592994</td>\n",
       "      <td>2.694539</td>\n",
       "      <td>0.118231</td>\n",
       "      <td>4</td>\n",
       "      <td>stampede</td>\n",
       "    </tr>\n",
       "    <tr>\n",
       "      <th>7</th>\n",
       "      <td>11.905472</td>\n",
       "      <td>17.422300</td>\n",
       "      <td>2.641349</td>\n",
       "      <td>0.112357</td>\n",
       "      <td>4</td>\n",
       "      <td>stampede</td>\n",
       "    </tr>\n",
       "    <tr>\n",
       "      <th>8</th>\n",
       "      <td>9.632933</td>\n",
       "      <td>17.794380</td>\n",
       "      <td>2.524638</td>\n",
       "      <td>0.109197</td>\n",
       "      <td>4</td>\n",
       "      <td>stampede</td>\n",
       "    </tr>\n",
       "    <tr>\n",
       "      <th>3</th>\n",
       "      <td>10.815126</td>\n",
       "      <td>18.519438</td>\n",
       "      <td>2.563526</td>\n",
       "      <td>0.213992</td>\n",
       "      <td>8</td>\n",
       "      <td>stampede</td>\n",
       "    </tr>\n",
       "    <tr>\n",
       "      <th>4</th>\n",
       "      <td>10.831146</td>\n",
       "      <td>18.891010</td>\n",
       "      <td>2.428749</td>\n",
       "      <td>0.216599</td>\n",
       "      <td>8</td>\n",
       "      <td>stampede</td>\n",
       "    </tr>\n",
       "    <tr>\n",
       "      <th>5</th>\n",
       "      <td>9.098822</td>\n",
       "      <td>18.795048</td>\n",
       "      <td>2.693121</td>\n",
       "      <td>0.213992</td>\n",
       "      <td>8</td>\n",
       "      <td>stampede</td>\n",
       "    </tr>\n",
       "    <tr>\n",
       "      <th>9</th>\n",
       "      <td>16.535883</td>\n",
       "      <td>19.734709</td>\n",
       "      <td>2.713063</td>\n",
       "      <td>0.400925</td>\n",
       "      <td>16</td>\n",
       "      <td>stampede</td>\n",
       "    </tr>\n",
       "    <tr>\n",
       "      <th>10</th>\n",
       "      <td>11.006400</td>\n",
       "      <td>20.058585</td>\n",
       "      <td>2.624217</td>\n",
       "      <td>0.400385</td>\n",
       "      <td>16</td>\n",
       "      <td>stampede</td>\n",
       "    </tr>\n",
       "    <tr>\n",
       "      <th>11</th>\n",
       "      <td>10.534986</td>\n",
       "      <td>19.779189</td>\n",
       "      <td>2.487833</td>\n",
       "      <td>0.406313</td>\n",
       "      <td>16</td>\n",
       "      <td>stampede</td>\n",
       "    </tr>\n",
       "  </tbody>\n",
       "</table>\n",
       "</div>"
      ],
      "text/plain": [
       "    Spark download  Spark startup  kafka download  kafka startup  nodes  \\\n",
       "0         8.098390      18.277243        3.108133       0.070536      2   \n",
       "1         9.125283      19.306798        2.492341       0.070543      2   \n",
       "6        10.876481      19.074302        2.615791       0.070538      2   \n",
       "2         9.039998      19.592994        2.694539       0.118231      4   \n",
       "7        11.905472      17.422300        2.641349       0.112357      4   \n",
       "8         9.632933      17.794380        2.524638       0.109197      4   \n",
       "3        10.815126      18.519438        2.563526       0.213992      8   \n",
       "4        10.831146      18.891010        2.428749       0.216599      8   \n",
       "5         9.098822      18.795048        2.693121       0.213992      8   \n",
       "9        16.535883      19.734709        2.713063       0.400925     16   \n",
       "10       11.006400      20.058585        2.624217       0.400385     16   \n",
       "11       10.534986      19.779189        2.487833       0.406313     16   \n",
       "\n",
       "       system  \n",
       "0    stampede  \n",
       "1    stampede  \n",
       "6    stampede  \n",
       "2    stampede  \n",
       "7    stampede  \n",
       "8   stampede   \n",
       "3    stampede  \n",
       "4    stampede  \n",
       "5    stampede  \n",
       "9   stampede   \n",
       "10  stampede   \n",
       "11  stampede   "
      ]
     },
     "execution_count": 153,
     "metadata": {},
     "output_type": "execute_result"
    }
   ],
   "source": [
    "data = data.sort_values(by='nodes')\n",
    "data"
   ]
  },
  {
   "cell_type": "code",
   "execution_count": 155,
   "metadata": {
    "collapsed": false
   },
   "outputs": [
    {
     "data": {
      "text/html": [
       "<div>\n",
       "<table border=\"1\" class=\"dataframe\">\n",
       "  <thead>\n",
       "    <tr style=\"text-align: right;\">\n",
       "      <th></th>\n",
       "      <th>Spark download</th>\n",
       "      <th>Spark startup</th>\n",
       "      <th>kafka download</th>\n",
       "      <th>kafka startup</th>\n",
       "    </tr>\n",
       "    <tr>\n",
       "      <th>nodes</th>\n",
       "      <th></th>\n",
       "      <th></th>\n",
       "      <th></th>\n",
       "      <th></th>\n",
       "    </tr>\n",
       "  </thead>\n",
       "  <tbody>\n",
       "    <tr>\n",
       "      <th>2</th>\n",
       "      <td>9.366718</td>\n",
       "      <td>18.886114</td>\n",
       "      <td>2.738755</td>\n",
       "      <td>0.070539</td>\n",
       "    </tr>\n",
       "    <tr>\n",
       "      <th>4</th>\n",
       "      <td>10.192801</td>\n",
       "      <td>18.269891</td>\n",
       "      <td>2.620175</td>\n",
       "      <td>0.113262</td>\n",
       "    </tr>\n",
       "    <tr>\n",
       "      <th>8</th>\n",
       "      <td>10.248365</td>\n",
       "      <td>18.735165</td>\n",
       "      <td>2.561799</td>\n",
       "      <td>0.214861</td>\n",
       "    </tr>\n",
       "    <tr>\n",
       "      <th>16</th>\n",
       "      <td>12.692423</td>\n",
       "      <td>19.857494</td>\n",
       "      <td>2.608371</td>\n",
       "      <td>0.402541</td>\n",
       "    </tr>\n",
       "  </tbody>\n",
       "</table>\n",
       "</div>"
      ],
      "text/plain": [
       "       Spark download  Spark startup  kafka download  kafka startup\n",
       "nodes                                                              \n",
       "2            9.366718      18.886114        2.738755       0.070539\n",
       "4           10.192801      18.269891        2.620175       0.113262\n",
       "8           10.248365      18.735165        2.561799       0.214861\n",
       "16          12.692423      19.857494        2.608371       0.402541"
      ]
     },
     "execution_count": 155,
     "metadata": {},
     "output_type": "execute_result"
    }
   ],
   "source": [
    "spark_download_group = data.groupby(['nodes','Spark download']).mean()\n",
    "\n",
    "spark_download_group\n",
    "data.groupby(['nodes']).mean()\n",
    "#data.groupby(['nodes']).std()"
   ]
  },
  {
   "cell_type": "code",
   "execution_count": 161,
   "metadata": {
    "collapsed": false
   },
   "outputs": [
    {
     "data": {
      "image/png": "[encoded data removed]",
      "text/plain": [
       "<matplotlib.figure.Figure at 0x110a50490>"
      ]
     },
     "metadata": {},
     "output_type": "display_data"
    }
   ],
   "source": [
    "nodes_group = data.groupby(['nodes']).mean()\n",
    "ax = nodes_group.plot(y=['Spark download','kafka startup','Spark startup','kafka download'], \n",
    "                      title='Streaming Startup executed on Stampede', \n",
    "                      legend=None,\n",
    "                      xlim=(0,16),\n",
    "                      #xticks = [0,1,2,3,4,5,6,7,8,16],\n",
    "                      #ylim=(0,12),\n",
    "                      marker='.'\n",
    "                      )\n",
    "ax.set_xlabel(\"Number of Nodes\")\n",
    "ax.set_ylabel(\"Time (in sec)\")\n",
    "ax.annotate('Spark Download', xy=(2, 1), xytext=(2, 11),\n",
    "            )\n",
    "ax.annotate('Kafka Download', xy=(2, 1), xytext=(2, 4),\n",
    "            )\n",
    "ax.annotate('Spark Startup', xy=(2, 1), xytext=(2, 17),\n",
    "            )\n",
    "ax.annotate('Kafka Startup', xy=(2, 1), xytext=(2, 1),\n",
    "            )\n",
    "ax.grid()\n",
    "plt.show()\n",
    "#plt.savefig('rp-streaming_startup.pdf')"
   ]
  },
  {
   "cell_type": "code",
   "execution_count": null,
   "metadata": {
    "collapsed": true
   },
   "outputs": [],
   "source": []
  }
 ],
 "metadata": {
  "anaconda-cloud": {},
  "kernelspec": {
   "display_name": "Python [conda root]",
   "language": "python",
   "name": "conda-root-py"
  },
  "language_info": {
   "codemirror_mode": {
    "name": "ipython",
    "version": 2
   },
   "file_extension": ".py",
   "mimetype": "text/x-python",
   "name": "python",
   "nbconvert_exporter": "python",
   "pygments_lexer": "ipython2",
   "version": "2.7.12"
  }
 },
 "nbformat": 4,
 "nbformat_minor": 1
}
