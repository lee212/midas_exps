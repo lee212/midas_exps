{
 "cells": [
  {
   "cell_type": "markdown",
   "metadata": {},
   "source": [
    "## Plot Spark and Kafka startup times"
   ]
  },
  {
   "cell_type": "code",
   "execution_count": 21,
   "metadata": {
    "collapsed": true
   },
   "outputs": [],
   "source": [
    "import pandas as pd\n",
    "import matplotlib.pyplot as plt\n",
    "data = pd.read_csv('rp-streaming_startup.csv', skipinitialspace=True)"
   ]
  },
  {
   "cell_type": "code",
   "execution_count": 148,
   "metadata": {
    "collapsed": false
   },
   "outputs": [
    {
     "data": {
      "text/html": [
       "<div>\n",
       "<table border=\"1\" class=\"dataframe\">\n",
       "  <thead>\n",
       "    <tr style=\"text-align: right;\">\n",
       "      <th></th>\n",
       "      <th>a/a</th>\n",
       "      <th>Spark download</th>\n",
       "      <th>Spark startup</th>\n",
       "      <th>kafka download</th>\n",
       "      <th>kafka startup</th>\n",
       "      <th>nodes</th>\n",
       "      <th>system</th>\n",
       "    </tr>\n",
       "  </thead>\n",
       "  <tbody>\n",
       "    <tr>\n",
       "      <th>0</th>\n",
       "      <td>1</td>\n",
       "      <td>8.098390</td>\n",
       "      <td>18.277243</td>\n",
       "      <td>3.108133</td>\n",
       "      <td>0.070536</td>\n",
       "      <td>2</td>\n",
       "      <td>stampede</td>\n",
       "    </tr>\n",
       "    <tr>\n",
       "      <th>1</th>\n",
       "      <td>2</td>\n",
       "      <td>9.125283</td>\n",
       "      <td>19.306798</td>\n",
       "      <td>2.492341</td>\n",
       "      <td>0.070543</td>\n",
       "      <td>2</td>\n",
       "      <td>stampede</td>\n",
       "    </tr>\n",
       "    <tr>\n",
       "      <th>6</th>\n",
       "      <td>7</td>\n",
       "      <td>10.876481</td>\n",
       "      <td>19.074302</td>\n",
       "      <td>2.615791</td>\n",
       "      <td>0.070538</td>\n",
       "      <td>2</td>\n",
       "      <td>stampede</td>\n",
       "    </tr>\n",
       "    <tr>\n",
       "      <th>2</th>\n",
       "      <td>3</td>\n",
       "      <td>9.039998</td>\n",
       "      <td>19.592994</td>\n",
       "      <td>2.694539</td>\n",
       "      <td>0.118231</td>\n",
       "      <td>4</td>\n",
       "      <td>stampede</td>\n",
       "    </tr>\n",
       "    <tr>\n",
       "      <th>7</th>\n",
       "      <td>8</td>\n",
       "      <td>11.905472</td>\n",
       "      <td>17.422300</td>\n",
       "      <td>2.641349</td>\n",
       "      <td>0.112357</td>\n",
       "      <td>4</td>\n",
       "      <td>stampede</td>\n",
       "    </tr>\n",
       "    <tr>\n",
       "      <th>8</th>\n",
       "      <td>9</td>\n",
       "      <td>9.632933</td>\n",
       "      <td>17.794380</td>\n",
       "      <td>2.524638</td>\n",
       "      <td>0.109197</td>\n",
       "      <td>4</td>\n",
       "      <td>stampede</td>\n",
       "    </tr>\n",
       "    <tr>\n",
       "      <th>3</th>\n",
       "      <td>4</td>\n",
       "      <td>10.815126</td>\n",
       "      <td>18.519438</td>\n",
       "      <td>2.563526</td>\n",
       "      <td>0.213992</td>\n",
       "      <td>8</td>\n",
       "      <td>stampede</td>\n",
       "    </tr>\n",
       "    <tr>\n",
       "      <th>4</th>\n",
       "      <td>5</td>\n",
       "      <td>10.831146</td>\n",
       "      <td>18.891010</td>\n",
       "      <td>2.428749</td>\n",
       "      <td>0.216599</td>\n",
       "      <td>8</td>\n",
       "      <td>stampede</td>\n",
       "    </tr>\n",
       "    <tr>\n",
       "      <th>5</th>\n",
       "      <td>6</td>\n",
       "      <td>9.098822</td>\n",
       "      <td>18.795048</td>\n",
       "      <td>2.693121</td>\n",
       "      <td>0.213992</td>\n",
       "      <td>8</td>\n",
       "      <td>stampede</td>\n",
       "    </tr>\n",
       "  </tbody>\n",
       "</table>\n",
       "</div>"
      ],
      "text/plain": [
       "   a/a      Spark download     Spark startup     kafka download        \\\n",
       "0        1           8.098390         18.277243              3.108133   \n",
       "1        2           9.125283         19.306798              2.492341   \n",
       "6        7          10.876481         19.074302              2.615791   \n",
       "2        3           9.039998         19.592994              2.694539   \n",
       "7        8          11.905472         17.422300              2.641349   \n",
       "8        9           9.632933         17.794380              2.524638   \n",
       "3        4          10.815126         18.519438              2.563526   \n",
       "4        5          10.831146         18.891010              2.428749   \n",
       "5        6           9.098822         18.795048              2.693121   \n",
       "\n",
       "   kafka startup  nodes     system  \n",
       "0       0.070536      2   stampede  \n",
       "1       0.070543      2   stampede  \n",
       "6       0.070538      2   stampede  \n",
       "2       0.118231      4   stampede  \n",
       "7       0.112357      4   stampede  \n",
       "8       0.109197      4  stampede   \n",
       "3       0.213992      8   stampede  \n",
       "4       0.216599      8   stampede  \n",
       "5       0.213992      8   stampede  "
      ]
     },
     "execution_count": 148,
     "metadata": {},
     "output_type": "execute_result"
    }
   ],
   "source": [
    "data = data.sort_values(by='nodes')\n",
    "data"
   ]
  },
  {
   "cell_type": "code",
   "execution_count": 114,
   "metadata": {
    "collapsed": false
   },
   "outputs": [
    {
     "data": {
      "text/html": [
       "<div>\n",
       "<table border=\"1\" class=\"dataframe\">\n",
       "  <thead>\n",
       "    <tr style=\"text-align: right;\">\n",
       "      <th></th>\n",
       "      <th>a/a</th>\n",
       "      <th>Spark download</th>\n",
       "      <th>Spark startup</th>\n",
       "      <th>kafka download</th>\n",
       "      <th>kafka startup</th>\n",
       "    </tr>\n",
       "    <tr>\n",
       "      <th>nodes</th>\n",
       "      <th></th>\n",
       "      <th></th>\n",
       "      <th></th>\n",
       "      <th></th>\n",
       "      <th></th>\n",
       "    </tr>\n",
       "  </thead>\n",
       "  <tbody>\n",
       "    <tr>\n",
       "      <th>2</th>\n",
       "      <td>3.333333</td>\n",
       "      <td>9.366718</td>\n",
       "      <td>18.886114</td>\n",
       "      <td>2.738755</td>\n",
       "      <td>0.070539</td>\n",
       "    </tr>\n",
       "    <tr>\n",
       "      <th>4</th>\n",
       "      <td>6.666667</td>\n",
       "      <td>10.192801</td>\n",
       "      <td>18.269891</td>\n",
       "      <td>2.620175</td>\n",
       "      <td>0.113262</td>\n",
       "    </tr>\n",
       "    <tr>\n",
       "      <th>8</th>\n",
       "      <td>5.000000</td>\n",
       "      <td>10.248365</td>\n",
       "      <td>18.735165</td>\n",
       "      <td>2.561799</td>\n",
       "      <td>0.214861</td>\n",
       "    </tr>\n",
       "  </tbody>\n",
       "</table>\n",
       "</div>"
      ],
      "text/plain": [
       "        a/a      Spark download     Spark startup     kafka download        \\\n",
       "nodes                                                                        \n",
       "2      3.333333           9.366718         18.886114              2.738755   \n",
       "4      6.666667          10.192801         18.269891              2.620175   \n",
       "8      5.000000          10.248365         18.735165              2.561799   \n",
       "\n",
       "       kafka startup  \n",
       "nodes                 \n",
       "2           0.070539  \n",
       "4           0.113262  \n",
       "8           0.214861  "
      ]
     },
     "execution_count": 114,
     "metadata": {},
     "output_type": "execute_result"
    }
   ],
   "source": [
    "spark_download_group = data.groupby(['nodes','Spark download   ']).mean()\n",
    "\n",
    "spark_download_group\n",
    "data.groupby(['nodes']).mean()\n",
    "#data.groupby(['nodes']).std()"
   ]
  },
  {
   "cell_type": "code",
   "execution_count": 147,
   "metadata": {
    "collapsed": false
   },
   "outputs": [],
   "source": [
    "nodes_group = data.groupby(['nodes']).mean()\n",
    "ax = nodes_group.plot(y=['Spark download   ','kafka startup','Spark startup   ','kafka download      '], \n",
    "                      title='Streaming Startup executed on Spark', \n",
    "                      legend=None,\n",
    "                      xlim=(0,8),\n",
    "                      xticks = [0,1,2,3,4,5,6,7,8],\n",
    "                      #ylim=(0,12),\n",
    "                      marker='.'\n",
    "                      )\n",
    "ax.set_xlabel(\"Number of Nodes\")\n",
    "ax.set_ylabel(\"Time (in sec)\")\n",
    "ax.annotate('Spark Download', xy=(2, 1), xytext=(2, 11),\n",
    "            )\n",
    "ax.annotate('Kafka Download', xy=(2, 1), xytext=(2, 4),\n",
    "            )\n",
    "ax.annotate('Spark Startup', xy=(2, 1), xytext=(2, 17),\n",
    "            )\n",
    "ax.annotate('Kafka Startup', xy=(2, 1), xytext=(2, 1),\n",
    "            )\n",
    "ax.grid()\n",
    "#plt.show()\n",
    "plt.savefig('rp-streaming_startup.pdf')"
   ]
  },
  {
   "cell_type": "code",
   "execution_count": null,
   "metadata": {
    "collapsed": true
   },
   "outputs": [],
   "source": []
  }
 ],
 "metadata": {
  "anaconda-cloud": {},
  "kernelspec": {
   "display_name": "Python [conda root]",
   "language": "python",
   "name": "conda-root-py"
  },
  "language_info": {
   "codemirror_mode": {
    "name": "ipython",
    "version": 2
   },
   "file_extension": ".py",
   "mimetype": "text/x-python",
   "name": "python",
   "nbconvert_exporter": "python",
   "pygments_lexer": "ipython2",
   "version": "2.7.12"
  }
 },
 "nbformat": 4,
 "nbformat_minor": 1
}
