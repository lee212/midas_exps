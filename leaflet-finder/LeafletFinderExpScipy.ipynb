{
 "cells": [
  {
   "cell_type": "markdown",
   "metadata": {
    "collapsed": true
   },
   "source": [
    "# Introduction\n",
    "\n",
    "This notebook will be used only to analyze data from the SciPy execution of Leaflet Finder. The experiment setup is as follows:\n",
    "\n",
    "1. Execution was done on Comet.\n",
    "2. The core count was 64,256,1024 cores\n",
    "3. One CU/task per core\n",
    "4. The calculation was done over 131072 atoms and the whole matrix was calculated.\n",
    "5. The produced matrix was aggregated to a single Unit to calculate the connected components."
   ]
  },
  {
   "cell_type": "code",
   "execution_count": 61,
   "metadata": {
    "collapsed": false
   },
   "outputs": [],
   "source": [
    "%matplotlib inline\n",
    "import numpy as np\n",
    "import matplotlib\n",
    "matplotlib.use('Qt5Agg')\n",
    "from matplotlib import pyplot as plt\n",
    "import csv\n",
    "import pandas"
   ]
  },
  {
   "cell_type": "code",
   "execution_count": 2,
   "metadata": {
    "collapsed": true
   },
   "outputs": [],
   "source": [
    "def CsvToPandas(csvfile):\n",
    "    csv_data = list()\n",
    "    for row in csvfile:\n",
    "        if row[0].startswith('unit.'):\n",
    "            csv_data.append(float(row[-2]))\n",
    "    csvdata=np.array(csv_data)\n",
    "    return csvdata.max()"
   ]
  },
  {
   "cell_type": "code",
   "execution_count": 3,
   "metadata": {
    "collapsed": true
   },
   "outputs": [],
   "source": [
    "def SparkLogToDataFrame(filename,path):\n",
    "    import json\n",
    "    import pandas\n",
    "    import numpy as np\n",
    "\n",
    "    columns=['StageID','TaskId','LaunchTime','SchedulerDelay','DeserializeTime','Runtime','ResultSerialization','FinishTime','ResultSize']\n",
    "\n",
    "    stat_file=open(path+filename)\n",
    "    stats=list();\n",
    "    for line in stat_file:\n",
    "        stats.append(json.loads(line))\n",
    "\n",
    "    data=pandas.DataFrame(columns=columns,dtype=np.int64)\n",
    "    data_point = np.zeros((1,9),dtype=np.int64)\n",
    "    for stat in stats:\n",
    "        if stat['Event'] == 'SparkListenerTaskEnd':\n",
    "            data_point[0,0] = int(stat['Stage ID'])\n",
    "            data_point[0,1] = int(stat['Task Info']['Task ID'])\n",
    "            data_point[0,2] = int(stat['Task Info']['Launch Time'])\n",
    "            data_point[0,4] = int(stat['Task Metrics']['Executor Deserialize Time'])\n",
    "            data_point[0,5] = int(stat['Task Metrics']['Executor Run Time'])\n",
    "            data_point[0,6] = int(stat['Task Metrics']['Result Serialization Time'])\n",
    "            data_point[0,7] = int(stat['Task Info']['Finish Time'])\n",
    "            data_point[0,8] = int(stat['Task Metrics']['Result Size'])\n",
    "            data_point[0,3] = data_point[0,7] - (data_point[0,2] + data_point[0,4] \\\n",
    "                                           + data_point[0,5] + data_point[0,6])\n",
    "            data_case = pandas.DataFrame(data_point,columns=columns)\n",
    "            data = data.append(data_case,ignore_index=True)\n",
    "            \n",
    "    return data\n"
   ]
  },
  {
   "cell_type": "code",
   "execution_count": 4,
   "metadata": {
    "collapsed": false
   },
   "outputs": [],
   "source": [
    "def SparkSessionToDataFrame(sessionName,path,appName):\n",
    "    import json\n",
    "    import pandas\n",
    "    import numpy as np\n",
    "\n",
    "    columns=['TaskId','LaunchTime','SchedulerDelay','DeserializeTime','Runtime','ResultSerialization','FinishTime','ResultSize','ReadTime','Exec']\n",
    "    data=pandas.DataFrame(np.zeros((1,10)),columns=columns,dtype=np.int64)\n",
    "    data_point = np.zeros((10,1),dtype=np.int64)\n",
    "    \n",
    "    if appName != 'miss':\n",
    "        appPath = path + sessionName + '/' + appName\n",
    "        print appPath\n",
    "        timings = np.load(path + sessionName + '/timing.npz.npy')\n",
    "\n",
    "        stat_file=open(appPath)\n",
    "        stats=list();\n",
    "        for line in stat_file:\n",
    "            stats.append(json.loads(line))\n",
    "\n",
    "        for stat in stats:\n",
    "            if stat['Event'] == 'SparkListenerTaskEnd':\n",
    "                data_point[0] = int(stat['Task Info']['Task ID'])\n",
    "                data_point[1] = int(stat['Task Info']['Launch Time'])\n",
    "                data_point[3] = int(stat['Task Metrics']['Executor Deserialize Time'])\n",
    "                data_point[4] = int(stat['Task Metrics']['Executor Run Time'])\n",
    "                data_point[5] = int(stat['Task Metrics']['Result Serialization Time'])\n",
    "                data_point[6] = int(stat['Task Info']['Finish Time'])\n",
    "                data_point[7] = int(stat['Task Metrics']['Result Size'])\n",
    "                data_point[2] = data_point[6] - (data_point[1] + data_point[3] \\\n",
    "                                           + data_point[4] + data_point[5])\n",
    "                data_point[8] = timings[data_point[0],1]-timings[data_point[0],0]\n",
    "                data_point[9] = timings[data_point[0],2]-timings[data_point[0],1]\n",
    "                data_case = pandas.DataFrame(data_point.reshape((1,10)),columns=columns)\n",
    "                data = data.append(data_case,ignore_index=True)\n",
    "            \n",
    "    return data"
   ]
  },
  {
   "cell_type": "code",
   "execution_count": 5,
   "metadata": {
    "collapsed": false
   },
   "outputs": [],
   "source": [
    "def SessionToPandas(path,sessionName,cores):\n",
    "    \n",
    "    unit_path = path+sessionName+'/'\n",
    "    \n",
    "    sessionDataFrame = pandas.DataFrame(columns=['Read','Exec','Write'],dtype=np.float)\n",
    "    for i in range(0,cores):\n",
    "        data_point = np.zeros((1,3),dtype=np.float)\n",
    "        stdoutFile = open(unit_path + 'unit.%06i'%i+'/STDOUT')\n",
    "        for line in stdoutFile:\n",
    "            if line.startswith('Data Read:'):\n",
    "                lineList=line.split()\n",
    "                data_point[0,0] = np.float(lineList[2])\n",
    "                data_point[0,1] = np.float(lineList[5])\n",
    "            elif line.startswith('Total Time'):\n",
    "                lineList = line.split()\n",
    "                data_point[0,2] = np.float(lineList[6]) - data_point[0,0] - data_point[0,1]\n",
    "            \n",
    "        sessionDataFrame = sessionDataFrame.append(pandas.DataFrame((data_point),columns=['Read','Exec','Write']),ignore_index=True)\n",
    "            \n",
    "    return sessionDataFrame"
   ]
  },
  {
   "cell_type": "markdown",
   "metadata": {},
   "source": [
    "# 1. Vanilla Experiments"
   ]
  },
  {
   "cell_type": "markdown",
   "metadata": {},
   "source": [
    "## 1.1 Setting up everything"
   ]
  },
  {
   "cell_type": "code",
   "execution_count": 6,
   "metadata": {
    "collapsed": false
   },
   "outputs": [],
   "source": [
    "rp_lf_64_16384_1 = pandas.DataFrame.from_csv('Vanilla/Iteration7/rplfco_64_1.csv',index_col=None)\n",
    "rp_lf_64_16384_2 = pandas.DataFrame.from_csv('Vanilla/Iteration7/rplfco_64_2.csv',index_col=None)\n",
    "rp_lf_64_16384_3 = pandas.DataFrame.from_csv('Vanilla/Iteration7/rplfco_64_3.csv',index_col=None)\n",
    "rp_lf_256_8192_1 = pandas.DataFrame.from_csv('Vanilla/Iteration7/rplfco_256_1.csv',index_col=None)\n",
    "rp_lf_256_8192_2 = pandas.DataFrame.from_csv('Vanilla/Iteration7/rplfco_256_2.csv',index_col=None)\n",
    "rp_lf_256_8192_3 = pandas.DataFrame.from_csv('Vanilla/Iteration7/rplfco_256_3.csv',index_col=None)\n"
   ]
  },
  {
   "cell_type": "code",
   "execution_count": 7,
   "metadata": {
    "collapsed": false
   },
   "outputs": [],
   "source": [
    "rp_lf_64_16384_tmp = pandas.concat([rp_lf_64_16384_1,rp_lf_64_16384_2,rp_lf_64_16384_3],ignore_index=True)\n",
    "rp_lf_256_8192_tmp = pandas.concat([rp_lf_256_8192_1,rp_lf_256_8192_2,rp_lf_256_8192_3],ignore_index=True)"
   ]
  },
  {
   "cell_type": "code",
   "execution_count": 8,
   "metadata": {
    "collapsed": false
   },
   "outputs": [],
   "source": [
    "rp_lf=pandas.DataFrame(columns=['Overhead','ExecDist','DataMove','CompExec'])\n",
    "\n",
    "stageInPending=np.mean([(rp_lf_64_16384_1[0:-1]['StageIn']).max(),\\\n",
    "                        (rp_lf_64_16384_2[0:-1]['StageIn']).max(),\\\n",
    "                        (rp_lf_64_16384_3[0:-1]['StageIn']).max()])\n",
    "StageIn =      np.mean([(rp_lf_64_16384_1[0:-1]['Allocate']-    rp_lf_64_16384_1[0:-1]['StageIn']),\\\n",
    "                        (rp_lf_64_16384_2[0:-1]['Allocate']-    rp_lf_64_16384_2[0:-1]['StageIn']),\\\n",
    "                        (rp_lf_64_16384_3[0:-1]['Allocate']-    rp_lf_64_16384_3[0:-1]['StageIn'])])                 \n",
    "allocate =     np.mean([(rp_lf_64_16384_1[0:-1]['Exec']-        rp_lf_64_16384_1[0:-1]['Allocate']),\\\n",
    "                        (rp_lf_64_16384_2[0:-1]['Exec']-        rp_lf_64_16384_2[0:-1]['Allocate']),\\\n",
    "                        (rp_lf_64_16384_3[0:-1]['Exec']-        rp_lf_64_16384_3[0:-1]['Allocate'])])\n",
    "Exec=          np.mean([(rp_lf_64_16384_1[0:-1]['StageOut']-    rp_lf_64_16384_1[0:-1]['Exec']),\\\n",
    "                        (rp_lf_64_16384_2[0:-1]['StageOut']-    rp_lf_64_16384_2[0:-1]['Exec']),\\\n",
    "                        (rp_lf_64_16384_3[0:-1]['StageOut']-    rp_lf_64_16384_3[0:-1]['Exec'])])      \n",
    "dataMovement = np.mean([(rp_lf_64_16384_1.iloc[64]['Exec']-    (rp_lf_64_16384_1[0:-1]['StageOut'].max())),\\\n",
    "                        (rp_lf_64_16384_2.iloc[64]['Exec']-    (rp_lf_64_16384_2[0:-1]['StageOut'].max())),\\\n",
    "                        (rp_lf_64_16384_3.iloc[64]['Exec']-    (rp_lf_64_16384_3[0:-1]['StageOut'].max()))])\n",
    "connX =        np.mean([(rp_lf_64_16384_1.iloc[64]['StageOut']- rp_lf_64_16384_1.iloc[64]['Exec']),\\\n",
    "                        (rp_lf_64_16384_2.iloc[64]['StageOut']- rp_lf_64_16384_2.iloc[64]['Exec']),\\\n",
    "                        (rp_lf_64_16384_3.iloc[64]['StageOut']- rp_lf_64_16384_3.iloc[64]['Exec'])])\n",
    "rp_lf.loc[64]=np.array([stageInPending+StageIn+allocate,Exec,dataMovement,connX])\n",
    "\n",
    "\n",
    "stageInPending=np.mean([(rp_lf_256_8192_1[0:-1]['StageIn']).max(),\\\n",
    "                        (rp_lf_256_8192_2[0:-1]['StageIn']).max(),\\\n",
    "                        (rp_lf_256_8192_3[0:-1]['StageIn']).max()])\n",
    "StageIn =      np.mean([(rp_lf_256_8192_1[0:-1]['Allocate']-    rp_lf_256_8192_1[0:-1]['StageIn']),\\\n",
    "                        (rp_lf_256_8192_2[0:-1]['Allocate']-    rp_lf_256_8192_2[0:-1]['StageIn']),\\\n",
    "                        (rp_lf_256_8192_3[0:-1]['Allocate']-    rp_lf_256_8192_3[0:-1]['StageIn'])])                 \n",
    "allocate =     np.mean([(rp_lf_256_8192_1[0:-1]['Exec']-        rp_lf_256_8192_1[0:-1]['Allocate']),\\\n",
    "                        (rp_lf_256_8192_2[0:-1]['Exec']-        rp_lf_256_8192_2[0:-1]['Allocate']),\\\n",
    "                        (rp_lf_256_8192_3[0:-1]['Exec']-        rp_lf_256_8192_3[0:-1]['Allocate'])])\n",
    "Exec=          np.mean([(rp_lf_256_8192_1[0:-1]['StageOut']-    rp_lf_256_8192_1[0:-1]['Exec']),\\\n",
    "                        (rp_lf_256_8192_2[0:-1]['StageOut']-    rp_lf_256_8192_2[0:-1]['Exec']),\\\n",
    "                        (rp_lf_256_8192_3[0:-1]['StageOut']-    rp_lf_256_8192_3[0:-1]['Exec'])])      \n",
    "dataMovement = np.mean([(rp_lf_256_8192_1.iloc[256]['Exec']-    (rp_lf_256_8192_1[0:-1]['StageOut'].max())),\\\n",
    "                        (rp_lf_256_8192_2.iloc[256]['Exec']-    (rp_lf_256_8192_2[0:-1]['StageOut'].max())),\\\n",
    "                        (rp_lf_256_8192_3.iloc[256]['Exec']-    (rp_lf_256_8192_3[0:-1]['StageOut'].max()))])\n",
    "connX =        np.mean([(rp_lf_256_8192_1.iloc[256]['StageOut']- rp_lf_256_8192_1.iloc[256]['Exec']),\\\n",
    "                        (rp_lf_256_8192_2.iloc[256]['StageOut']- rp_lf_256_8192_2.iloc[256]['Exec']),\\\n",
    "                        (rp_lf_256_8192_3.iloc[256]['StageOut']- rp_lf_256_8192_3.iloc[256]['Exec'])])\n",
    "rp_lf.loc[256]=np.array([stageInPending+StageIn+allocate,Exec,dataMovement,connX])"
   ]
  },
  {
   "cell_type": "code",
   "execution_count": 9,
   "metadata": {
    "collapsed": true
   },
   "outputs": [],
   "source": [
    "rpsc_lf_64_16384_1 = pandas.DataFrame.from_csv('Vanilla/SciPyIter1/lfscipyvan_64_1.csv',index_col=None)\n",
    "rpsc_lf_64_16384_2 = pandas.DataFrame.from_csv('Vanilla/SciPyIter1/lfscipyvan_64_2.csv',index_col=None)\n",
    "rpsc_lf_64_16384_3 = pandas.DataFrame.from_csv('Vanilla/SciPyIter1/lfscipyvan_64_3.csv',index_col=None)\n",
    "rpsc_lf_256_8192_1 = pandas.DataFrame.from_csv('Vanilla/SciPyIter1/lfscipyvan_256_1.csv',index_col=None)\n",
    "rpsc_lf_256_8192_2 = pandas.DataFrame.from_csv('Vanilla/SciPyIter1/lfscipyvan_256_2.csv',index_col=None)\n",
    "rpsc_lf_256_8192_3 = pandas.DataFrame.from_csv('Vanilla/SciPyIter1/lfscipyvan_256_3.csv',index_col=None)\n",
    "rpsc_lf_1024_4096_1 = pandas.DataFrame.from_csv('Vanilla/SciPyIter1/lfscipyvan_1024_1.csv',index_col=None)\n",
    "rpsc_lf_1024_4096_2 = pandas.DataFrame.from_csv('Vanilla/SciPyIter1/lfscipyvan_1024_2.csv',index_col=None)\n",
    "rpsc_lf_1024_4096_3 = pandas.DataFrame.from_csv('Vanilla/SciPyIter1/lfscipyvan_1024_3.csv',index_col=None)"
   ]
  },
  {
   "cell_type": "code",
   "execution_count": 46,
   "metadata": {
    "collapsed": true
   },
   "outputs": [],
   "source": [
    "rpsc_lf=pandas.DataFrame(columns=['RADICAL-Pilot Overhead','RADICAL-Pilot ExecDist','RADICAL-Pilot DataMove','RADICAL-Pilot CompExec'])\n",
    "stageInPending=np.mean([(rpsc_lf_64_16384_1[0:-1]['StageIn']).max(),\\\n",
    "                        (rpsc_lf_64_16384_2[0:-1]['StageIn']).max(),\\\n",
    "                        (rpsc_lf_64_16384_3[0:-1]['StageIn']).max()])\n",
    "StageIn =      np.mean([(rpsc_lf_64_16384_1[0:-1]['Allocate']-    rpsc_lf_64_16384_1[0:-1]['StageIn']),\\\n",
    "                        (rpsc_lf_64_16384_2[0:-1]['Allocate']-    rpsc_lf_64_16384_2[0:-1]['StageIn']),\\\n",
    "                        (rpsc_lf_64_16384_3[0:-1]['Allocate']-    rpsc_lf_64_16384_3[0:-1]['StageIn'])])                 \n",
    "allocate =     np.mean([(rpsc_lf_64_16384_1[0:-1]['Exec']-        rpsc_lf_64_16384_1[0:-1]['Allocate']),\\\n",
    "                        (rpsc_lf_64_16384_2[0:-1]['Exec']-        rpsc_lf_64_16384_2[0:-1]['Allocate']),\\\n",
    "                        (rpsc_lf_64_16384_3[0:-1]['Exec']-        rpsc_lf_64_16384_3[0:-1]['Allocate'])])\n",
    "Exec=          np.mean([(rpsc_lf_64_16384_1[0:-1]['StageOut']-    rpsc_lf_64_16384_1[0:-1]['Exec']),\\\n",
    "                        (rpsc_lf_64_16384_2[0:-1]['StageOut']-    rpsc_lf_64_16384_2[0:-1]['Exec']),\\\n",
    "                        (rpsc_lf_64_16384_3[0:-1]['StageOut']-    rpsc_lf_64_16384_3[0:-1]['Exec'])])      \n",
    "dataMovement = np.mean([(rpsc_lf_64_16384_1.iloc[64]['Exec']-    (rpsc_lf_64_16384_1[0:-1]['StageOut'].max())),\\\n",
    "                        (rpsc_lf_64_16384_2.iloc[64]['Exec']-    (rpsc_lf_64_16384_2[0:-1]['StageOut'].max())),\\\n",
    "                        (rpsc_lf_64_16384_3.iloc[64]['Exec']-    (rpsc_lf_64_16384_3[0:-1]['StageOut'].max()))])\n",
    "connX =        np.mean([(rpsc_lf_64_16384_1.iloc[64]['StageOut']- rpsc_lf_64_16384_1.iloc[64]['Exec']),\\\n",
    "                        (rpsc_lf_64_16384_2.iloc[64]['StageOut']- rpsc_lf_64_16384_2.iloc[64]['Exec']),\\\n",
    "                        (rpsc_lf_64_16384_3.iloc[64]['StageOut']- rpsc_lf_64_16384_3.iloc[64]['Exec'])])\n",
    "rpsc_lf.loc[64]=np.array([stageInPending+StageIn+allocate,Exec,dataMovement,connX])\n",
    "\n",
    "\n",
    "stageInPending=np.mean([(rpsc_lf_256_8192_1[0:-1]['StageIn']).max(),\\\n",
    "                        (rpsc_lf_256_8192_2[0:-1]['StageIn']).max(),\\\n",
    "                        (rpsc_lf_256_8192_3[0:-1]['StageIn']).max()])\n",
    "StageIn =      np.mean([(rpsc_lf_256_8192_1[0:-1]['Allocate']-     rpsc_lf_256_8192_1[0:-1]['StageIn']),\\\n",
    "                        (rpsc_lf_256_8192_2[0:-1]['Allocate']-     rpsc_lf_256_8192_2[0:-1]['StageIn']),\\\n",
    "                        (rpsc_lf_256_8192_3[0:-1]['Allocate']-     rpsc_lf_256_8192_3[0:-1]['StageIn'])])                 \n",
    "allocate =     np.mean([(rpsc_lf_256_8192_1[0:-1]['Exec']-         rpsc_lf_256_8192_1[0:-1]['Allocate']),\\\n",
    "                        (rpsc_lf_256_8192_2[0:-1]['Exec']-         rpsc_lf_256_8192_2[0:-1]['Allocate']),\\\n",
    "                        (rpsc_lf_256_8192_3[0:-1]['Exec']-         rpsc_lf_256_8192_3[0:-1]['Allocate'])])\n",
    "Exec=          np.mean([(rpsc_lf_256_8192_1[0:-1]['StageOut']-     rpsc_lf_256_8192_1[0:-1]['Exec']),\\\n",
    "                        (rpsc_lf_256_8192_2[0:-1]['StageOut']-     rpsc_lf_256_8192_2[0:-1]['Exec']),\\\n",
    "                        (rpsc_lf_256_8192_3[0:-1]['StageOut']-     rpsc_lf_256_8192_3[0:-1]['Exec'])])      \n",
    "dataMovement = np.mean([(rpsc_lf_256_8192_1.iloc[256]['Exec']-    (rpsc_lf_256_8192_1[0:-1]['StageOut'].max())),\\\n",
    "                        (rpsc_lf_256_8192_2.iloc[256]['Exec']-    (rpsc_lf_256_8192_2[0:-1]['StageOut'].max())),\\\n",
    "                        (rpsc_lf_256_8192_3.iloc[256]['Exec']-    (rpsc_lf_256_8192_3[0:-1]['StageOut'].max()))])\n",
    "connX =        np.mean([(rpsc_lf_256_8192_1.iloc[256]['StageOut']- rpsc_lf_256_8192_1.iloc[256]['Exec']),\\\n",
    "                        (rpsc_lf_256_8192_2.iloc[256]['StageOut']- rpsc_lf_256_8192_2.iloc[256]['Exec']),\\\n",
    "                        (rpsc_lf_256_8192_3.iloc[256]['StageOut']- rpsc_lf_256_8192_3.iloc[256]['Exec'])])\n",
    "rpsc_lf.loc[256]=np.array([stageInPending+StageIn+allocate,Exec,dataMovement,connX])\n",
    "\n",
    "stageInPending=np.mean([(rpsc_lf_1024_4096_1[0:-1]['StageIn']).max(),\\\n",
    "                        (rpsc_lf_1024_4096_2[0:-1]['StageIn']).max(),\\\n",
    "                        (rpsc_lf_1024_4096_3[0:-1]['StageIn']).max()])\n",
    "StageIn =      np.mean([(rpsc_lf_1024_4096_1[0:-1]['Allocate']-     rpsc_lf_1024_4096_1[0:-1]['StageIn']),\\\n",
    "                        (rpsc_lf_1024_4096_2[0:-1]['Allocate']-     rpsc_lf_1024_4096_2[0:-1]['StageIn']),\\\n",
    "                        (rpsc_lf_1024_4096_3[0:-1]['Allocate']-     rpsc_lf_1024_4096_3[0:-1]['StageIn'])])                 \n",
    "allocate =     np.mean([(rpsc_lf_1024_4096_1[0:-1]['Exec']-         rpsc_lf_1024_4096_1[0:-1]['Allocate']),\\\n",
    "                        (rpsc_lf_1024_4096_2[0:-1]['Exec']-         rpsc_lf_1024_4096_2[0:-1]['Allocate']),\\\n",
    "                        (rpsc_lf_1024_4096_3[0:-1]['Exec']-         rpsc_lf_1024_4096_3[0:-1]['Allocate'])])\n",
    "Exec=          np.mean([(rpsc_lf_1024_4096_1[0:-1]['StageOut']-     rpsc_lf_1024_4096_1[0:-1]['Exec']),\\\n",
    "                        (rpsc_lf_1024_4096_2[0:-1]['StageOut']-     rpsc_lf_1024_4096_2[0:-1]['Exec']),\\\n",
    "                        (rpsc_lf_1024_4096_3[0:-1]['StageOut']-     rpsc_lf_1024_4096_3[0:-1]['Exec'])])      \n",
    "dataMovement = np.mean([(rpsc_lf_1024_4096_1.iloc[1024]['Exec']-    (rpsc_lf_1024_4096_1[0:-1]['StageOut'].max())),\\\n",
    "                        (rpsc_lf_1024_4096_2.iloc[1024]['Exec']-    (rpsc_lf_1024_4096_2[0:-1]['StageOut'].max())),\\\n",
    "                        (rpsc_lf_1024_4096_3.iloc[1024]['Exec']-    (rpsc_lf_1024_4096_3[0:-1]['StageOut'].max()))])\n",
    "connX =        np.mean([(rpsc_lf_1024_4096_1.iloc[1024]['StageOut']- rpsc_lf_1024_4096_1.iloc[1024]['Exec']),\\\n",
    "                        (rpsc_lf_1024_4096_2.iloc[1024]['StageOut']- rpsc_lf_1024_4096_2.iloc[1024]['Exec']),\\\n",
    "                        (rpsc_lf_1024_4096_3.iloc[1024]['StageOut']- rpsc_lf_1024_4096_3.iloc[1024]['Exec'])])\n",
    "rpsc_lf.loc[1024]=np.array([stageInPending+StageIn+allocate,Exec,dataMovement,connX])"
   ]
  },
  {
   "cell_type": "code",
   "execution_count": 47,
   "metadata": {
    "collapsed": false
   },
   "outputs": [
    {
     "data": {
      "text/html": [
       "<div>\n",
       "<table border=\"1\" class=\"dataframe\">\n",
       "  <thead>\n",
       "    <tr style=\"text-align: right;\">\n",
       "      <th></th>\n",
       "      <th>RADICAL-Pilot Overhead</th>\n",
       "      <th>RADICAL-Pilot ExecDist</th>\n",
       "      <th>RADICAL-Pilot DataMove</th>\n",
       "      <th>RADICAL-Pilot CompExec</th>\n",
       "    </tr>\n",
       "  </thead>\n",
       "  <tbody>\n",
       "    <tr>\n",
       "      <th>64</th>\n",
       "      <td>6.300298</td>\n",
       "      <td>42.014193</td>\n",
       "      <td>9.346097</td>\n",
       "      <td>73.865654</td>\n",
       "    </tr>\n",
       "    <tr>\n",
       "      <th>256</th>\n",
       "      <td>125.404087</td>\n",
       "      <td>21.359088</td>\n",
       "      <td>7.504659</td>\n",
       "      <td>72.268781</td>\n",
       "    </tr>\n",
       "    <tr>\n",
       "      <th>1024</th>\n",
       "      <td>83.026851</td>\n",
       "      <td>8.824270</td>\n",
       "      <td>11.548451</td>\n",
       "      <td>81.367286</td>\n",
       "    </tr>\n",
       "  </tbody>\n",
       "</table>\n",
       "</div>"
      ],
      "text/plain": [
       "      RADICAL-Pilot Overhead  RADICAL-Pilot ExecDist  RADICAL-Pilot DataMove  \\\n",
       "64                  6.300298               42.014193                9.346097   \n",
       "256               125.404087               21.359088                7.504659   \n",
       "1024               83.026851                8.824270               11.548451   \n",
       "\n",
       "      RADICAL-Pilot CompExec  \n",
       "64                 73.865654  \n",
       "256                72.268781  \n",
       "1024               81.367286  "
      ]
     },
     "execution_count": 47,
     "metadata": {},
     "output_type": "execute_result"
    }
   ],
   "source": [
    "rpsc_lf"
   ]
  },
  {
   "cell_type": "markdown",
   "metadata": {},
   "source": [
    "## Dataframes for statistics"
   ]
  },
  {
   "cell_type": "markdown",
   "metadata": {},
   "source": [
    "# Spark Experiments"
   ]
  },
  {
   "cell_type": "code",
   "execution_count": 15,
   "metadata": {
    "collapsed": false
   },
   "outputs": [
    {
     "data": {
      "text/html": [
       "<div>\n",
       "<table border=\"1\" class=\"dataframe\">\n",
       "  <thead>\n",
       "    <tr style=\"text-align: right;\">\n",
       "      <th></th>\n",
       "      <th>Cores</th>\n",
       "      <th>Try</th>\n",
       "      <th>Overhead</th>\n",
       "      <th>AdjMatrix</th>\n",
       "      <th>ConnComp</th>\n",
       "      <th>SessionName</th>\n",
       "      <th>JsonName</th>\n",
       "    </tr>\n",
       "    <tr>\n",
       "      <th>Index</th>\n",
       "      <th></th>\n",
       "      <th></th>\n",
       "      <th></th>\n",
       "      <th></th>\n",
       "      <th></th>\n",
       "      <th></th>\n",
       "      <th></th>\n",
       "    </tr>\n",
       "  </thead>\n",
       "  <tbody>\n",
       "    <tr>\n",
       "      <th>0</th>\n",
       "      <td>64</td>\n",
       "      <td>1</td>\n",
       "      <td>5.394496</td>\n",
       "      <td>225.805678</td>\n",
       "      <td>48.119440</td>\n",
       "      <td>spcolfsci_64_1</td>\n",
       "      <td>app-20170119202928-0000</td>\n",
       "    </tr>\n",
       "    <tr>\n",
       "      <th>1</th>\n",
       "      <td>64</td>\n",
       "      <td>2</td>\n",
       "      <td>5.397450</td>\n",
       "      <td>233.837047</td>\n",
       "      <td>48.067829</td>\n",
       "      <td>spcolfsci_64_2</td>\n",
       "      <td>app-20170119203612-0000</td>\n",
       "    </tr>\n",
       "    <tr>\n",
       "      <th>2</th>\n",
       "      <td>64</td>\n",
       "      <td>3</td>\n",
       "      <td>7.751938</td>\n",
       "      <td>167.612077</td>\n",
       "      <td>45.645021</td>\n",
       "      <td>spcolfsci_64_3</td>\n",
       "      <td>app-20170119204755-0000</td>\n",
       "    </tr>\n",
       "    <tr>\n",
       "      <th>3</th>\n",
       "      <td>256</td>\n",
       "      <td>1</td>\n",
       "      <td>5.532979</td>\n",
       "      <td>99.788715</td>\n",
       "      <td>48.155485</td>\n",
       "      <td>spcolfsci_256_1</td>\n",
       "      <td>app-20170119210153-0000</td>\n",
       "    </tr>\n",
       "    <tr>\n",
       "      <th>4</th>\n",
       "      <td>256</td>\n",
       "      <td>2</td>\n",
       "      <td>5.398422</td>\n",
       "      <td>100.137922</td>\n",
       "      <td>47.989407</td>\n",
       "      <td>spcolfsci_256_2</td>\n",
       "      <td>app-20170119210557-0000</td>\n",
       "    </tr>\n",
       "    <tr>\n",
       "      <th>5</th>\n",
       "      <td>256</td>\n",
       "      <td>3</td>\n",
       "      <td>5.394899</td>\n",
       "      <td>101.286997</td>\n",
       "      <td>48.043367</td>\n",
       "      <td>spcolfsci_256_3</td>\n",
       "      <td>app-20170119210956-0000</td>\n",
       "    </tr>\n",
       "    <tr>\n",
       "      <th>6</th>\n",
       "      <td>1024</td>\n",
       "      <td>1</td>\n",
       "      <td>5.405507</td>\n",
       "      <td>63.950578</td>\n",
       "      <td>47.001645</td>\n",
       "      <td>spcolfsci_1024_1</td>\n",
       "      <td>app-20170119212058-0000</td>\n",
       "    </tr>\n",
       "    <tr>\n",
       "      <th>7</th>\n",
       "      <td>1024</td>\n",
       "      <td>2</td>\n",
       "      <td>5.405419</td>\n",
       "      <td>61.308205</td>\n",
       "      <td>47.408331</td>\n",
       "      <td>spcolfsci_1024_2</td>\n",
       "      <td>app-20170119212518-0000</td>\n",
       "    </tr>\n",
       "    <tr>\n",
       "      <th>8</th>\n",
       "      <td>1024</td>\n",
       "      <td>3</td>\n",
       "      <td>5.572604</td>\n",
       "      <td>61.105932</td>\n",
       "      <td>46.823276</td>\n",
       "      <td>spcolfsci_1024_3</td>\n",
       "      <td>app-20170119213304-0000</td>\n",
       "    </tr>\n",
       "  </tbody>\n",
       "</table>\n",
       "</div>"
      ],
      "text/plain": [
       "       Cores  Try  Overhead   AdjMatrix   ConnComp       SessionName  \\\n",
       "Index                                                                  \n",
       "0         64    1  5.394496  225.805678  48.119440    spcolfsci_64_1   \n",
       "1         64    2  5.397450  233.837047  48.067829    spcolfsci_64_2   \n",
       "2         64    3  7.751938  167.612077  45.645021    spcolfsci_64_3   \n",
       "3        256    1  5.532979   99.788715  48.155485   spcolfsci_256_1   \n",
       "4        256    2  5.398422  100.137922  47.989407   spcolfsci_256_2   \n",
       "5        256    3  5.394899  101.286997  48.043367   spcolfsci_256_3   \n",
       "6       1024    1  5.405507   63.950578  47.001645  spcolfsci_1024_1   \n",
       "7       1024    2  5.405419   61.308205  47.408331  spcolfsci_1024_2   \n",
       "8       1024    3  5.572604   61.105932  46.823276  spcolfsci_1024_3   \n",
       "\n",
       "                      JsonName  \n",
       "Index                           \n",
       "0      app-20170119202928-0000  \n",
       "1      app-20170119203612-0000  \n",
       "2      app-20170119204755-0000  \n",
       "3      app-20170119210153-0000  \n",
       "4      app-20170119210557-0000  \n",
       "5      app-20170119210956-0000  \n",
       "6      app-20170119212058-0000  \n",
       "7      app-20170119212518-0000  \n",
       "8      app-20170119213304-0000  "
      ]
     },
     "execution_count": 15,
     "metadata": {},
     "output_type": "execute_result"
    }
   ],
   "source": [
    "spsc_lf = pandas.DataFrame.from_csv('Spark/ScipyDist/reports_comet_20_1_2017.csv')\n",
    "spsc_lf"
   ]
  },
  {
   "cell_type": "code",
   "execution_count": 34,
   "metadata": {
    "collapsed": false
   },
   "outputs": [
    {
     "data": {
      "text/html": [
       "<div>\n",
       "<table border=\"1\" class=\"dataframe\">\n",
       "  <thead>\n",
       "    <tr style=\"text-align: right;\">\n",
       "      <th></th>\n",
       "      <th>Pilot-Spark Overhead</th>\n",
       "      <th>Pilot-Spark ExecDist</th>\n",
       "      <th>Pilot-Spark CompExec</th>\n",
       "    </tr>\n",
       "  </thead>\n",
       "  <tbody>\n",
       "    <tr>\n",
       "      <th>64</th>\n",
       "      <td>6.181295</td>\n",
       "      <td>209.084934</td>\n",
       "      <td>47.277430</td>\n",
       "    </tr>\n",
       "    <tr>\n",
       "      <th>256</th>\n",
       "      <td>5.442100</td>\n",
       "      <td>100.404545</td>\n",
       "      <td>48.062753</td>\n",
       "    </tr>\n",
       "    <tr>\n",
       "      <th>1024</th>\n",
       "      <td>5.461177</td>\n",
       "      <td>62.121572</td>\n",
       "      <td>47.077751</td>\n",
       "    </tr>\n",
       "  </tbody>\n",
       "</table>\n",
       "</div>"
      ],
      "text/plain": [
       "      Pilot-Spark Overhead  Pilot-Spark ExecDist  Pilot-Spark CompExec\n",
       "64                6.181295            209.084934             47.277430\n",
       "256               5.442100            100.404545             48.062753\n",
       "1024              5.461177             62.121572             47.077751"
      ]
     },
     "execution_count": 34,
     "metadata": {},
     "output_type": "execute_result"
    }
   ],
   "source": [
    "sp_sc_fl=pandas.DataFrame(columns=['Pilot-Spark Overhead','Pilot-Spark ExecDist','Pilot-Spark CompExec'])\n",
    "overhead = spsc_lf['Overhead'][0:3].mean()\n",
    "adjmatrx = spsc_lf['AdjMatrix'][0:3].mean()\n",
    "conncomp = spsc_lf['ConnComp'][0:3].mean()\n",
    "sp_sc_fl.loc[64] = [overhead,adjmatrx,conncomp]\n",
    "\n",
    "overhead = spsc_lf['Overhead'][3:6].mean()\n",
    "adjmatrx = spsc_lf['AdjMatrix'][3:6].mean()\n",
    "conncomp = spsc_lf['ConnComp'][3:6].mean()\n",
    "sp_sc_fl.loc[256] = [overhead,adjmatrx,conncomp]\n",
    "\n",
    "overhead = spsc_lf['Overhead'][6:9].mean()\n",
    "adjmatrx = spsc_lf['AdjMatrix'][6:9].mean()\n",
    "conncomp = spsc_lf['ConnComp'][6:9].mean()\n",
    "sp_sc_fl.loc[1024] = [overhead,adjmatrx,conncomp]\n",
    "\n",
    "sp_sc_fl"
   ]
  },
  {
   "cell_type": "markdown",
   "metadata": {},
   "source": [
    "# Plotting"
   ]
  },
  {
   "cell_type": "code",
   "execution_count": 25,
   "metadata": {
    "collapsed": false
   },
   "outputs": [
    {
     "name": "stdout",
     "output_type": "stream",
     "text": [
      "     Overhead     ExecDist  DataMove    CompExec\n",
      "64   6.292412  1640.831033  7.083892   95.919802\n",
      "256  9.635476   442.524485  6.956130  110.400523\n",
      "       Overhead   ExecDist  DataMove   CompExec\n",
      "64     6.300298  42.014193  9.346097  73.865654\n",
      "256  125.404087  21.359088  7.504659  72.268781\n"
     ]
    },
    {
     "data": {
      "image/png": "[encoded data removed]",
      "text/plain": [
       "<matplotlib.figure.Figure at 0x7fb7b5fbe290>"
      ]
     },
     "metadata": {},
     "output_type": "display_data"
    }
   ],
   "source": [
    "width=0.25\n",
    "fig, axes = plt.subplots(nrows=1, ncols=1)\n",
    "rp_lf.plot(y=['ExecDist'],kind='bar',stacked=True,ax=axes,sharey=False,sharex=True,width=width,position=1,grid=True,legend=True,log=1)\n",
    "rpsc_lf.plot(y=['ExecDist'],kind='bar',stacked=True,ax=axes,sharey=True,sharex=True,width=width,position=0,grid=True,legend=True,colormap='Paired')\n",
    "axes.legend(['RADICAL-Pilot Adj Matrix Calc',\\\n",
    "             'RADICAL-Pilot Scipy Adj Matrix Calc'],\n",
    "            loc='best')\n",
    "#sp_haus_short_plot.plot(kind='bar',stacked=True,ax=axes,sharey=False,sharex=True,width=width,position=0,grid=True,legend=False,colormap='Paired')\n",
    "#plt.title('Mean Task BreakDown. Small Trajectory, Comet, 12/9/2016')\n",
    "plt.xlabel('Number of Tasks (Cores)')\n",
    "plt.ylabel('Time (secs)')\n",
    "plt.savefig('leafletfinder_rp_scipyAdjM_comet131k.png',dpi=800,bbox_inches='tight')\n",
    "plt.savefig('leafletfinder_rp_scipyAdjM_comet131k.pdf',dpi=800,bbox_inches='tight')\n",
    "print rp_lf\n",
    "print rpsc_lf"
   ]
  },
  {
   "cell_type": "code",
   "execution_count": 62,
   "metadata": {
    "collapsed": false
   },
   "outputs": [
    {
     "data": {
      "text/html": [
       "<div>\n",
       "<table border=\"1\" class=\"dataframe\">\n",
       "  <thead>\n",
       "    <tr style=\"text-align: right;\">\n",
       "      <th></th>\n",
       "      <th>Pilot-Spark Overhead</th>\n",
       "      <th>Pilot-Spark ExecDist</th>\n",
       "      <th>Pilot-Spark CompExec</th>\n",
       "    </tr>\n",
       "  </thead>\n",
       "  <tbody>\n",
       "    <tr>\n",
       "      <th>64</th>\n",
       "      <td>6.181295</td>\n",
       "      <td>209.084934</td>\n",
       "      <td>47.277430</td>\n",
       "    </tr>\n",
       "    <tr>\n",
       "      <th>256</th>\n",
       "      <td>5.442100</td>\n",
       "      <td>100.404545</td>\n",
       "      <td>48.062753</td>\n",
       "    </tr>\n",
       "    <tr>\n",
       "      <th>1024</th>\n",
       "      <td>5.461177</td>\n",
       "      <td>62.121572</td>\n",
       "      <td>47.077751</td>\n",
       "    </tr>\n",
       "  </tbody>\n",
       "</table>\n",
       "</div>"
      ],
      "text/plain": [
       "      Pilot-Spark Overhead  Pilot-Spark ExecDist  Pilot-Spark CompExec\n",
       "64                6.181295            209.084934             47.277430\n",
       "256               5.442100            100.404545             48.062753\n",
       "1024              5.461177             62.121572             47.077751"
      ]
     },
     "execution_count": 62,
     "metadata": {},
     "output_type": "execute_result"
    },
    {
     "data": {
      "image/png": "[encoded data removed]",
      "text/plain": [
       "<matplotlib.figure.Figure at 0x111074490>"
      ]
     },
     "metadata": {},
     "output_type": "display_data"
    }
   ],
   "source": [
    "width=0.25\n",
    "fig, axes = plt.subplots(nrows=1, ncols=1)\n",
    "rpsc_lf.plot(kind='bar',stacked=True,ax=axes,sharey=False,sharex=True,width=width,position=1,grid=True,legend=True)\n",
    "sp_sc_fl.plot(kind='bar',stacked=True,ax=axes,sharey=True,sharex=True,width=width,position=0,grid=True,legend=True,colormap='Paired')\n",
    "#sp_haus_short_plot.plot(kind='bar',stacked=True,ax=axes,sharey=False,sharex=True,width=width,position=0,grid=True,legend=False,colormap='Paired')\n",
    "#plt.title('Mean Task BreakDown. Small Trajectory, Comet, 12/9/2016')\n",
    "plt.xlabel('Number of Tasks (Cores)')\n",
    "plt.ylabel('Time (secs)')\n",
    "axes.legend(loc='upper center', bbox_to_anchor=(0.5, -0.20),\n",
    "          fancybox=True, ncol=2)\n",
    "plt.savefig('lfrp_sparkScipy_comet131k2.png',dpi=800,bbox_inches='tight')\n",
    "plt.savefig('lfrp_sparkScipy_comet131k2.pdf',dpi=800,bbox_inches='tight')\n",
    "sp_sc_fl"
   ]
  },
  {
   "cell_type": "code",
   "execution_count": 60,
   "metadata": {
    "collapsed": false
   },
   "outputs": [
    {
     "data": {
      "text/plain": [
       "'module://ipykernel.pylab.backend_inline'"
      ]
     },
     "execution_count": 60,
     "metadata": {},
     "output_type": "execute_result"
    }
   ],
   "source": [
    "matplotlib.backends.backend"
   ]
  }
 ],
 "metadata": {
  "anaconda-cloud": {},
  "kernelspec": {
   "display_name": "Python [default]",
   "language": "python",
   "name": "python2"
  },
  "language_info": {
   "codemirror_mode": {
    "name": "ipython",
    "version": 2
   },
   "file_extension": ".py",
   "mimetype": "text/x-python",
   "name": "python",
   "nbconvert_exporter": "python",
   "pygments_lexer": "ipython2",
   "version": "2.7.12"
  }
 },
 "nbformat": 4,
 "nbformat_minor": 0
}
