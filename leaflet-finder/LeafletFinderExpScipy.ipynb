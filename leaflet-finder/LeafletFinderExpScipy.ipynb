{
 "cells": [
  {
   "cell_type": "markdown",
   "metadata": {
    "collapsed": true
   },
   "source": [
    "# Introduction\n",
    "\n",
    "This notebook will be used only to analyze data from the third Vanilla execution. The experiment setup is as follows:\n",
    "\n",
    "1. Execution was done on Comet.\n",
    "2. The core count was 16,64,256 cores\n",
    "3. One CU per core\n",
    "4. The calculation was done over 131072 atoms and the whole matrix was calculated.\n",
    "5. The produced matrix was aggregated to a single Unit to calculate the connected components."
   ]
  },
  {
   "cell_type": "code",
   "execution_count": 1,
   "metadata": {
    "collapsed": false
   },
   "outputs": [],
   "source": [
    "%matplotlib inline\n",
    "import numpy as np\n",
    "from matplotlib import pyplot as plt\n",
    "import csv\n",
    "import pandas"
   ]
  },
  {
   "cell_type": "code",
   "execution_count": 2,
   "metadata": {
    "collapsed": true
   },
   "outputs": [],
   "source": [
    "def CsvToPandas(csvfile):\n",
    "    csv_data = list()\n",
    "    for row in csvfile:\n",
    "        if row[0].startswith('unit.'):\n",
    "            csv_data.append(float(row[-2]))\n",
    "    csvdata=np.array(csv_data)\n",
    "    return csvdata.max()"
   ]
  },
  {
   "cell_type": "code",
   "execution_count": 3,
   "metadata": {
    "collapsed": true
   },
   "outputs": [],
   "source": [
    "def SparkLogToDataFrame(filename,path):\n",
    "    import json\n",
    "    import pandas\n",
    "    import numpy as np\n",
    "\n",
    "    columns=['StageID','TaskId','LaunchTime','SchedulerDelay','DeserializeTime','Runtime','ResultSerialization','FinishTime','ResultSize']\n",
    "\n",
    "    stat_file=open(path+filename)\n",
    "    stats=list();\n",
    "    for line in stat_file:\n",
    "        stats.append(json.loads(line))\n",
    "\n",
    "    data=pandas.DataFrame(columns=columns,dtype=np.int64)\n",
    "    data_point = np.zeros((1,9),dtype=np.int64)\n",
    "    for stat in stats:\n",
    "        if stat['Event'] == 'SparkListenerTaskEnd':\n",
    "            data_point[0,0] = int(stat['Stage ID'])\n",
    "            data_point[0,1] = int(stat['Task Info']['Task ID'])\n",
    "            data_point[0,2] = int(stat['Task Info']['Launch Time'])\n",
    "            data_point[0,4] = int(stat['Task Metrics']['Executor Deserialize Time'])\n",
    "            data_point[0,5] = int(stat['Task Metrics']['Executor Run Time'])\n",
    "            data_point[0,6] = int(stat['Task Metrics']['Result Serialization Time'])\n",
    "            data_point[0,7] = int(stat['Task Info']['Finish Time'])\n",
    "            data_point[0,8] = int(stat['Task Metrics']['Result Size'])\n",
    "            data_point[0,3] = data_point[0,7] - (data_point[0,2] + data_point[0,4] \\\n",
    "                                           + data_point[0,5] + data_point[0,6])\n",
    "            data_case = pandas.DataFrame(data_point,columns=columns)\n",
    "            data = data.append(data_case,ignore_index=True)\n",
    "            \n",
    "    return data\n"
   ]
  },
  {
   "cell_type": "code",
   "execution_count": 4,
   "metadata": {
    "collapsed": false
   },
   "outputs": [],
   "source": [
    "def SparkSessionToDataFrame(sessionName,path,appName):\n",
    "    import json\n",
    "    import pandas\n",
    "    import numpy as np\n",
    "\n",
    "    columns=['TaskId','LaunchTime','SchedulerDelay','DeserializeTime','Runtime','ResultSerialization','FinishTime','ResultSize','ReadTime','Exec']\n",
    "    data=pandas.DataFrame(np.zeros((1,10)),columns=columns,dtype=np.int64)\n",
    "    data_point = np.zeros((10,1),dtype=np.int64)\n",
    "    \n",
    "    if appName != 'miss':\n",
    "        appPath = path + sessionName + '/' + appName\n",
    "        print appPath\n",
    "        timings = np.load(path + sessionName + '/timing.npz.npy')\n",
    "\n",
    "        stat_file=open(appPath)\n",
    "        stats=list();\n",
    "        for line in stat_file:\n",
    "            stats.append(json.loads(line))\n",
    "\n",
    "        for stat in stats:\n",
    "            if stat['Event'] == 'SparkListenerTaskEnd':\n",
    "                data_point[0] = int(stat['Task Info']['Task ID'])\n",
    "                data_point[1] = int(stat['Task Info']['Launch Time'])\n",
    "                data_point[3] = int(stat['Task Metrics']['Executor Deserialize Time'])\n",
    "                data_point[4] = int(stat['Task Metrics']['Executor Run Time'])\n",
    "                data_point[5] = int(stat['Task Metrics']['Result Serialization Time'])\n",
    "                data_point[6] = int(stat['Task Info']['Finish Time'])\n",
    "                data_point[7] = int(stat['Task Metrics']['Result Size'])\n",
    "                data_point[2] = data_point[6] - (data_point[1] + data_point[3] \\\n",
    "                                           + data_point[4] + data_point[5])\n",
    "                data_point[8] = timings[data_point[0],1]-timings[data_point[0],0]\n",
    "                data_point[9] = timings[data_point[0],2]-timings[data_point[0],1]\n",
    "                data_case = pandas.DataFrame(data_point.reshape((1,10)),columns=columns)\n",
    "                data = data.append(data_case,ignore_index=True)\n",
    "            \n",
    "    return data"
   ]
  },
  {
   "cell_type": "code",
   "execution_count": 5,
   "metadata": {
    "collapsed": false
   },
   "outputs": [],
   "source": [
    "def SessionToPandas(path,sessionName,cores):\n",
    "    \n",
    "    unit_path = path+sessionName+'/'\n",
    "    \n",
    "    sessionDataFrame = pandas.DataFrame(columns=['Read','Exec','Write'],dtype=np.float)\n",
    "    for i in range(0,cores):\n",
    "        data_point = np.zeros((1,3),dtype=np.float)\n",
    "        stdoutFile = open(unit_path + 'unit.%06i'%i+'/STDOUT')\n",
    "        for line in stdoutFile:\n",
    "            if line.startswith('Data Read:'):\n",
    "                lineList=line.split()\n",
    "                data_point[0,0] = np.float(lineList[2])\n",
    "                data_point[0,1] = np.float(lineList[5])\n",
    "            elif line.startswith('Total Time'):\n",
    "                lineList = line.split()\n",
    "                data_point[0,2] = np.float(lineList[6]) - data_point[0,0] - data_point[0,1]\n",
    "            \n",
    "        sessionDataFrame = sessionDataFrame.append(pandas.DataFrame((data_point),columns=['Read','Exec','Write']),ignore_index=True)\n",
    "            \n",
    "    return sessionDataFrame"
   ]
  },
  {
   "cell_type": "markdown",
   "metadata": {},
   "source": [
    "# 1. Vanilla Experiments"
   ]
  },
  {
   "cell_type": "markdown",
   "metadata": {},
   "source": [
    "## 1.1 Setting up everything"
   ]
  },
  {
   "cell_type": "code",
   "execution_count": 6,
   "metadata": {
    "collapsed": false
   },
   "outputs": [],
   "source": [
    "rp_lf_64_16384_1 = pandas.DataFrame.from_csv('Vanilla/Iteration7/rplfco_64_1.csv',index_col=None)\n",
    "rp_lf_64_16384_2 = pandas.DataFrame.from_csv('Vanilla/Iteration7/rplfco_64_2.csv',index_col=None)\n",
    "rp_lf_64_16384_3 = pandas.DataFrame.from_csv('Vanilla/Iteration7/rplfco_64_3.csv',index_col=None)\n",
    "rp_lf_256_8192_1 = pandas.DataFrame.from_csv('Vanilla/Iteration7/rplfco_256_1.csv',index_col=None)\n",
    "rp_lf_256_8192_2 = pandas.DataFrame.from_csv('Vanilla/Iteration7/rplfco_256_2.csv',index_col=None)\n",
    "rp_lf_256_8192_3 = pandas.DataFrame.from_csv('Vanilla/Iteration7/rplfco_256_3.csv',index_col=None)\n"
   ]
  },
  {
   "cell_type": "code",
   "execution_count": 8,
   "metadata": {
    "collapsed": false
   },
   "outputs": [],
   "source": [
    "rp_lf_64_16384_tmp = pandas.concat([rp_lf_64_16384_1,rp_lf_64_16384_2,rp_lf_64_16384_3],ignore_index=True)\n",
    "rp_lf_256_8192_tmp = pandas.concat([rp_lf_256_8192_1,rp_lf_256_8192_2,rp_lf_256_8192_3],ignore_index=True)"
   ]
  },
  {
   "cell_type": "code",
   "execution_count": 15,
   "metadata": {
    "collapsed": false
   },
   "outputs": [],
   "source": [
    "rp_lf=pandas.DataFrame(columns=['Overhead','ExecDist','DataMove','CompExec'])\n",
    "\n",
    "stageInPending=np.mean([(rp_lf_64_16384_1[0:-1]['StageIn']).max(),\\\n",
    "                        (rp_lf_64_16384_2[0:-1]['StageIn']).max(),\\\n",
    "                        (rp_lf_64_16384_3[0:-1]['StageIn']).max()])\n",
    "StageIn =      np.mean([(rp_lf_64_16384_1[0:-1]['Allocate']-    rp_lf_64_16384_1[0:-1]['StageIn']),\\\n",
    "                        (rp_lf_64_16384_2[0:-1]['Allocate']-    rp_lf_64_16384_2[0:-1]['StageIn']),\\\n",
    "                        (rp_lf_64_16384_3[0:-1]['Allocate']-    rp_lf_64_16384_3[0:-1]['StageIn'])])                 \n",
    "allocate =     np.mean([(rp_lf_64_16384_1[0:-1]['Exec']-        rp_lf_64_16384_1[0:-1]['Allocate']),\\\n",
    "                        (rp_lf_64_16384_2[0:-1]['Exec']-        rp_lf_64_16384_2[0:-1]['Allocate']),\\\n",
    "                        (rp_lf_64_16384_3[0:-1]['Exec']-        rp_lf_64_16384_3[0:-1]['Allocate'])])\n",
    "Exec=          np.mean([(rp_lf_64_16384_1[0:-1]['StageOut']-    rp_lf_64_16384_1[0:-1]['Exec']),\\\n",
    "                        (rp_lf_64_16384_2[0:-1]['StageOut']-    rp_lf_64_16384_2[0:-1]['Exec']),\\\n",
    "                        (rp_lf_64_16384_3[0:-1]['StageOut']-    rp_lf_64_16384_3[0:-1]['Exec'])])      \n",
    "dataMovement = np.mean([(rp_lf_64_16384_1.iloc[64]['Exec']-    (rp_lf_64_16384_1[0:-1]['StageOut'].max())),\\\n",
    "                        (rp_lf_64_16384_2.iloc[64]['Exec']-    (rp_lf_64_16384_2[0:-1]['StageOut'].max())),\\\n",
    "                        (rp_lf_64_16384_3.iloc[64]['Exec']-    (rp_lf_64_16384_3[0:-1]['StageOut'].max()))])\n",
    "connX =        np.mean([(rp_lf_64_16384_1.iloc[64]['StageOut']- rp_lf_64_16384_1.iloc[64]['Exec']),\\\n",
    "                        (rp_lf_64_16384_2.iloc[64]['StageOut']- rp_lf_64_16384_2.iloc[64]['Exec']),\\\n",
    "                        (rp_lf_64_16384_3.iloc[64]['StageOut']- rp_lf_64_16384_3.iloc[64]['Exec'])])\n",
    "rp_lf.loc[64]=np.array([stageInPending+StageIn+allocate,Exec,dataMovement,connX])\n",
    "\n",
    "\n",
    "stageInPending=np.mean([(rp_lf_256_8192_1[0:-1]['StageIn']).max(),\\\n",
    "                        (rp_lf_256_8192_2[0:-1]['StageIn']).max(),\\\n",
    "                        (rp_lf_256_8192_3[0:-1]['StageIn']).max()])\n",
    "StageIn =      np.mean([(rp_lf_256_8192_1[0:-1]['Allocate']-    rp_lf_256_8192_1[0:-1]['StageIn']),\\\n",
    "                        (rp_lf_256_8192_2[0:-1]['Allocate']-    rp_lf_256_8192_2[0:-1]['StageIn']),\\\n",
    "                        (rp_lf_256_8192_3[0:-1]['Allocate']-    rp_lf_256_8192_3[0:-1]['StageIn'])])                 \n",
    "allocate =     np.mean([(rp_lf_256_8192_1[0:-1]['Exec']-        rp_lf_256_8192_1[0:-1]['Allocate']),\\\n",
    "                        (rp_lf_256_8192_2[0:-1]['Exec']-        rp_lf_256_8192_2[0:-1]['Allocate']),\\\n",
    "                        (rp_lf_256_8192_3[0:-1]['Exec']-        rp_lf_256_8192_3[0:-1]['Allocate'])])\n",
    "Exec=          np.mean([(rp_lf_256_8192_1[0:-1]['StageOut']-    rp_lf_256_8192_1[0:-1]['Exec']),\\\n",
    "                        (rp_lf_256_8192_2[0:-1]['StageOut']-    rp_lf_256_8192_2[0:-1]['Exec']),\\\n",
    "                        (rp_lf_256_8192_3[0:-1]['StageOut']-    rp_lf_256_8192_3[0:-1]['Exec'])])      \n",
    "dataMovement = np.mean([(rp_lf_256_8192_1.iloc[256]['Exec']-    (rp_lf_256_8192_1[0:-1]['StageOut'].max())),\\\n",
    "                        (rp_lf_256_8192_2.iloc[256]['Exec']-    (rp_lf_256_8192_2[0:-1]['StageOut'].max())),\\\n",
    "                        (rp_lf_256_8192_3.iloc[256]['Exec']-    (rp_lf_256_8192_3[0:-1]['StageOut'].max()))])\n",
    "connX =        np.mean([(rp_lf_256_8192_1.iloc[256]['StageOut']- rp_lf_256_8192_1.iloc[256]['Exec']),\\\n",
    "                        (rp_lf_256_8192_2.iloc[256]['StageOut']- rp_lf_256_8192_2.iloc[256]['Exec']),\\\n",
    "                        (rp_lf_256_8192_3.iloc[256]['StageOut']- rp_lf_256_8192_3.iloc[256]['Exec'])])\n",
    "rp_lf.loc[256]=np.array([stageInPending+StageIn+allocate,Exec,dataMovement,connX])"
   ]
  },
  {
   "cell_type": "code",
   "execution_count": 16,
   "metadata": {
    "collapsed": true
   },
   "outputs": [],
   "source": [
    "rpsc_lf_64_16384_1 = pandas.DataFrame.from_csv('Vanilla/SciPyIter1/lfscipyvan_64_1.csv',index_col=None)\n",
    "rpsc_lf_64_16384_2 = pandas.DataFrame.from_csv('Vanilla/SciPyIter1/lfscipyvan_64_2.csv',index_col=None)\n",
    "rpsc_lf_64_16384_3 = pandas.DataFrame.from_csv('Vanilla/SciPyIter1/lfscipyvan_64_3.csv',index_col=None)\n",
    "rpsc_lf_256_8192_1 = pandas.DataFrame.from_csv('Vanilla/SciPyIter1/lfscipyvan_256_1.csv',index_col=None)\n",
    "rpsc_lf_256_8192_2 = pandas.DataFrame.from_csv('Vanilla/SciPyIter1/lfscipyvan_256_2.csv',index_col=None)\n",
    "rpsc_lf_256_8192_3 = pandas.DataFrame.from_csv('Vanilla/SciPyIter1/lfscipyvan_256_3.csv',index_col=None)"
   ]
  },
  {
   "cell_type": "code",
   "execution_count": 17,
   "metadata": {
    "collapsed": true
   },
   "outputs": [],
   "source": [
    "rpsc_lf=pandas.DataFrame(columns=['Overhead','ExecDist','DataMove','CompExec'])\n",
    "stageInPending=np.mean([(rpsc_lf_64_16384_1[0:-1]['StageIn']).max(),\\\n",
    "                        (rpsc_lf_64_16384_2[0:-1]['StageIn']).max(),\\\n",
    "                        (rpsc_lf_64_16384_3[0:-1]['StageIn']).max()])\n",
    "StageIn =      np.mean([(rpsc_lf_64_16384_1[0:-1]['Allocate']-    rpsc_lf_64_16384_1[0:-1]['StageIn']),\\\n",
    "                        (rpsc_lf_64_16384_2[0:-1]['Allocate']-    rpsc_lf_64_16384_2[0:-1]['StageIn']),\\\n",
    "                        (rpsc_lf_64_16384_3[0:-1]['Allocate']-    rpsc_lf_64_16384_3[0:-1]['StageIn'])])                 \n",
    "allocate =     np.mean([(rpsc_lf_64_16384_1[0:-1]['Exec']-        rpsc_lf_64_16384_1[0:-1]['Allocate']),\\\n",
    "                        (rpsc_lf_64_16384_2[0:-1]['Exec']-        rpsc_lf_64_16384_2[0:-1]['Allocate']),\\\n",
    "                        (rpsc_lf_64_16384_3[0:-1]['Exec']-        rpsc_lf_64_16384_3[0:-1]['Allocate'])])\n",
    "Exec=          np.mean([(rpsc_lf_64_16384_1[0:-1]['StageOut']-    rpsc_lf_64_16384_1[0:-1]['Exec']),\\\n",
    "                        (rpsc_lf_64_16384_2[0:-1]['StageOut']-    rpsc_lf_64_16384_2[0:-1]['Exec']),\\\n",
    "                        (rpsc_lf_64_16384_3[0:-1]['StageOut']-    rpsc_lf_64_16384_3[0:-1]['Exec'])])      \n",
    "dataMovement = np.mean([(rpsc_lf_64_16384_1.iloc[64]['Exec']-    (rpsc_lf_64_16384_1[0:-1]['StageOut'].max())),\\\n",
    "                        (rpsc_lf_64_16384_2.iloc[64]['Exec']-    (rpsc_lf_64_16384_2[0:-1]['StageOut'].max())),\\\n",
    "                        (rpsc_lf_64_16384_3.iloc[64]['Exec']-    (rpsc_lf_64_16384_3[0:-1]['StageOut'].max()))])\n",
    "connX =        np.mean([(rpsc_lf_64_16384_1.iloc[64]['StageOut']- rpsc_lf_64_16384_1.iloc[64]['Exec']),\\\n",
    "                        (rpsc_lf_64_16384_2.iloc[64]['StageOut']- rpsc_lf_64_16384_2.iloc[64]['Exec']),\\\n",
    "                        (rpsc_lf_64_16384_3.iloc[64]['StageOut']- rpsc_lf_64_16384_3.iloc[64]['Exec'])])\n",
    "rpsc_lf.loc[64]=np.array([stageInPending+StageIn+allocate,Exec,dataMovement,connX])\n",
    "\n",
    "\n",
    "stageInPending=np.mean([(rpsc_lf_256_8192_1[0:-1]['StageIn']).max(),\\\n",
    "                        (rpsc_lf_256_8192_2[0:-1]['StageIn']).max(),\\\n",
    "                        (rpsc_lf_256_8192_3[0:-1]['StageIn']).max()])\n",
    "StageIn =      np.mean([(rpsc_lf_256_8192_1[0:-1]['Allocate']-     rpsc_lf_256_8192_1[0:-1]['StageIn']),\\\n",
    "                        (rpsc_lf_256_8192_2[0:-1]['Allocate']-     rpsc_lf_256_8192_2[0:-1]['StageIn']),\\\n",
    "                        (rpsc_lf_256_8192_3[0:-1]['Allocate']-     rpsc_lf_256_8192_3[0:-1]['StageIn'])])                 \n",
    "allocate =     np.mean([(rpsc_lf_256_8192_1[0:-1]['Exec']-         rpsc_lf_256_8192_1[0:-1]['Allocate']),\\\n",
    "                        (rpsc_lf_256_8192_2[0:-1]['Exec']-         rpsc_lf_256_8192_2[0:-1]['Allocate']),\\\n",
    "                        (rpsc_lf_256_8192_3[0:-1]['Exec']-         rpsc_lf_256_8192_3[0:-1]['Allocate'])])\n",
    "Exec=          np.mean([(rpsc_lf_256_8192_1[0:-1]['StageOut']-     rpsc_lf_256_8192_1[0:-1]['Exec']),\\\n",
    "                        (rpsc_lf_256_8192_2[0:-1]['StageOut']-     rpsc_lf_256_8192_2[0:-1]['Exec']),\\\n",
    "                        (rpsc_lf_256_8192_3[0:-1]['StageOut']-     rpsc_lf_256_8192_3[0:-1]['Exec'])])      \n",
    "dataMovement = np.mean([(rpsc_lf_256_8192_1.iloc[256]['Exec']-    (rpsc_lf_256_8192_1[0:-1]['StageOut'].max())),\\\n",
    "                        (rpsc_lf_256_8192_2.iloc[256]['Exec']-    (rpsc_lf_256_8192_2[0:-1]['StageOut'].max())),\\\n",
    "                        (rpsc_lf_256_8192_3.iloc[256]['Exec']-    (rpsc_lf_256_8192_3[0:-1]['StageOut'].max()))])\n",
    "connX =        np.mean([(rpsc_lf_256_8192_1.iloc[256]['StageOut']- rpsc_lf_256_8192_1.iloc[256]['Exec']),\\\n",
    "                        (rpsc_lf_256_8192_2.iloc[256]['StageOut']- rpsc_lf_256_8192_2.iloc[256]['Exec']),\\\n",
    "                        (rpsc_lf_256_8192_3.iloc[256]['StageOut']- rpsc_lf_256_8192_3.iloc[256]['Exec'])])\n",
    "rpsc_lf.loc[256]=np.array([stageInPending+StageIn+allocate,Exec,dataMovement,connX])"
   ]
  },
  {
   "cell_type": "code",
   "execution_count": null,
   "metadata": {
    "collapsed": true
   },
   "outputs": [],
   "source": [
    "rpsc_lf_256_8192_1"
   ]
  },
  {
   "cell_type": "markdown",
   "metadata": {},
   "source": [
    "## Dataframes for statistics"
   ]
  },
  {
   "cell_type": "markdown",
   "metadata": {},
   "source": [
    "# Spark Experiments"
   ]
  },
  {
   "cell_type": "markdown",
   "metadata": {},
   "source": [
    "# Plotting"
   ]
  },
  {
   "cell_type": "code",
   "execution_count": 25,
   "metadata": {
    "collapsed": false
   },
   "outputs": [
    {
     "name": "stdout",
     "output_type": "stream",
     "text": [
      "     Overhead     ExecDist  DataMove    CompExec\n",
      "64   6.292412  1640.831033  7.083892   95.919802\n",
      "256  9.635476   442.524485  6.956130  110.400523\n",
      "       Overhead   ExecDist  DataMove   CompExec\n",
      "64     6.300298  42.014193  9.346097  73.865654\n",
      "256  125.404087  21.359088  7.504659  72.268781\n"
     ]
    },
    {
     "data": {
      "image/png": "[encoded data removed]",
      "text/plain": [
       "<matplotlib.figure.Figure at 0x7fb7b5fbe290>"
      ]
     },
     "metadata": {},
     "output_type": "display_data"
    }
   ],
   "source": [
    "width=0.25\n",
    "fig, axes = plt.subplots(nrows=1, ncols=1)\n",
    "rp_lf.plot(y=['ExecDist'],kind='bar',stacked=True,ax=axes,sharey=False,sharex=True,width=width,position=1,grid=True,legend=True,log=1)\n",
    "rpsc_lf.plot(y=['ExecDist'],kind='bar',stacked=True,ax=axes,sharey=True,sharex=True,width=width,position=0,grid=True,legend=True,colormap='Paired')\n",
    "axes.legend(['RADICAL-Pilot Adj Matrix Calc',\\\n",
    "             'RADICAL-Pilot Scipy Adj Matrix Calc'],\n",
    "            loc='best')\n",
    "#sp_haus_short_plot.plot(kind='bar',stacked=True,ax=axes,sharey=False,sharex=True,width=width,position=0,grid=True,legend=False,colormap='Paired')\n",
    "#plt.title('Mean Task BreakDown. Small Trajectory, Comet, 12/9/2016')\n",
    "plt.xlabel('Number of Tasks (Cores)')\n",
    "plt.ylabel('Time (secs)')\n",
    "plt.savefig('leafletfinder_rp_scipyAdjM_comet131k.png',dpi=800,bbox_inches='tight')\n",
    "plt.savefig('leafletfinder_rp_scipyAdjM_comet131k.pdf',dpi=800,bbox_inches='tight')\n",
    "print rp_lf\n",
    "print rpsc_lf"
   ]
  },
  {
   "cell_type": "code",
   "execution_count": 145,
   "metadata": {
    "collapsed": false
   },
   "outputs": [
    {
     "data": {
      "image/png": "[encoded data removed]",
      "text/plain": [
       "<matplotlib.figure.Figure at 0x7f6438349810>"
      ]
     },
     "metadata": {},
     "output_type": "display_data"
    }
   ],
   "source": [
    "conncomp=pandas.DataFrame(columns=['Overhead','Read','Execute','Write'])\n",
    "a=np.array([12.958114,45.201289,0.3206963333])\n",
    "conncomp.loc[16]=[rp_lf['CompExec'][16]-a.sum(),a[0],a[1],a[2]]\n",
    "a=np.array([48.425648,45.1263306667,0.3202976667])\n",
    "conncomp.loc[64]=[rp_lf['CompExec'][64]-a.sum(),a[0],a[1],a[2]]\n",
    "a=np.array([63.0545503333,45.221299,0.3227953333])\n",
    "conncomp.loc[256]=[rp_lf['CompExec'][256]-a.sum(),a[0],a[1],a[2]]\n",
    "\n",
    "\n",
    "\n",
    "width=0.25\n",
    "fig, axes = plt.subplots(nrows=1, ncols=1)\n",
    "conncomp.plot(kind='bar',stacked=True,ax=axes,sharey=False,sharex=True,width=width,position=1,grid=True,legend=True)\n",
    "sparkexp['ConnComp'].plot(kind='bar',stacked=True,ax=axes,sharey=True,sharex=True,width=width,position=0,grid=True,legend=True,colormap='Paired')\n",
    "#sp_haus_short_plot.plot(kind='bar',stacked=True,ax=axes,sharey=False,sharex=True,width=width,position=0,grid=True,legend=False,colormap='Paired')\n",
    "plt.title('Connected Components Breadown')\n",
    "axes.legend(['ConnComp Overhead',\\\n",
    "             'ConnComp Read',\n",
    "             'ConnComp Calculate',\n",
    "             'ConnComp Write',\n",
    "             'Spark ConnComp Calc'],\n",
    "            loc='lower center',ncol=2,fontsize=10,borderaxespad=-9)\n",
    "#sp_haus_short_plot.plot(kind='bar',stacked=True,ax=axes,sharey=False,sharex=True,width=width,position=0,grid=True,legend=False,colormap='Paired')\n",
    "#plt.title('Mean Task BreakDown. Small Trajectory, Comet, 12/9/2016')\n",
    "plt.xlabel('Number of Tasks (Cores)')\n",
    "plt.ylabel('Time (secs)')\n",
    "plt.savefig('leafletfinder_rp_spark_comet131kConn.png',dpi=800,bbox_inches='tight')\n"
   ]
  },
  {
   "cell_type": "code",
   "execution_count": 19,
   "metadata": {
    "collapsed": false
   },
   "outputs": [
    {
     "data": {
      "text/plain": [
       "<matplotlib.axes._subplots.AxesSubplot at 0x7f6d762e7590>"
      ]
     },
     "execution_count": 19,
     "metadata": {},
     "output_type": "execute_result"
    },
    {
     "data": {
      "image/png": "[encoded data removed]",
      "text/plain": [
       "<matplotlib.figure.Figure at 0x7f6d76b42e50>"
      ]
     },
     "metadata": {},
     "output_type": "display_data"
    }
   ],
   "source": [
    "width=0.25\n",
    "\n",
    "fig, axes = plt.subplots(nrows=1, ncols=1)\n",
    "rp_haus_short_plot.plot(kind='bar',stacked=True,ax=axes,sharey=False,sharex=True,width=width,position=1,grid=True,legend=False)\n",
    "sp_haus_short_plot.plot(kind='bar',stacked=True,ax=axes,sharey=False,sharex=True,width=width,position=0,grid=True,legend=False,colormap='Paired')\n",
    "plt.title('Mean Task BreakDown. Small Trajectory, Comet, 12/9/2016')\n",
    "plt.xlabel('Number of Units (Cores)')\n",
    "plt.ylabel('Time (secs)')\n",
    "#plt.legend(bbox_to_anchor=(1., 0.30, .50, .102), loc=3,ncol=1, mode=\"expand\", borderaxespad=0.)\n",
    "#plt.text(-0.75,-15,'Average Task execution time for four core counts. 128 trajectories\\n\\\n",
    "#were compared. Each trajectory has 102 frames of 3341 atoms. The execution \\n\\\n",
    "#partitioned the calculation of the distance matrix into the calculation of a\\n\\\n",
    "#number of submatrices (16,64,256,1024).Resource: Comet,Date:12/9/2016')\n",
    "#plt.savefig('MeanTaskBreakDownPower2ShortLargeDataset.pdf',bbox_inches='tight')\n",
    "\n",
    "fig, axes = plt.subplots(nrows=1, ncols=1)\n",
    "rp_haus_short_plot.plot(kind='bar',stacked=True,ax=axes,sharey=False,sharex=True,width=width,position=1,grid=True,legend=True,log=True)\n",
    "sp_haus_short_plot.plot(kind='bar',stacked=True,ax=axes,sharey=False,sharex=True,width=width,position=0,grid=True,legend=True,colormap='Paired',log=True)\n",
    "plt.title('Mean Task BreakDown. Small Trajectory, Comet, 12/9/2016')\n",
    "plt.xlabel('Number of Units (Cores)')\n",
    "plt.ylabel('Time (secs)')\n",
    "plt.legend(bbox_to_anchor=(1., 0.30, .50, .102), loc=3,ncol=1, mode=\"expand\", borderaxespad=0.)\n",
    "#plt.text(-0.75,.1,'Average Task execution time for four core counts. 128 trajectories\\n\\\n",
    "#were compared. Each trajectory has 102 frames of 214 atoms. The execution \\n\\\n",
    "#partitioned the calculation of the distance matrix into the calculation of a\\n\\\n",
    "#number of submatrices (16,64,256,1024).Resource: Comet,Date:12/1/2016')\n",
    "#plt.savefig('LogMeanTaskBreakDownPower2ShortLargeDataset.pdf',bbox_inches='tight')\n",
    "\n",
    "fig, axes = plt.subplots(nrows=1, ncols=1)\n",
    "rp_haus_med_plot.plot(kind='bar',ax=axes,stacked=True,sharey=False,sharex=True,width=width,position=1,grid=True,legend=False)\n",
    "sp_haus_med_plot.plot(kind='bar',ax=axes,stacked=True,sharey=False,sharex=True,width=width,position=0,grid=True,legend=False,colormap='Paired')\n",
    "plt.title('Mean Task BreakDown. Medium Trajectory, Comet, 12/9/2016')\n",
    "plt.xlabel('Number of Units (Cores)')\n",
    "plt.ylabel('Time (secs)')\n",
    "#plt.legend(bbox_to_anchor=(1., 0.30, .50, .102), loc=3,ncol=1, mode=\"expand\", borderaxespad=0.)\n",
    "#plt.text(-0.75,-30,'Average Task execution time for four core counts. 128 trajectories\\n\\\n",
    "#were compared. Each trajectory has 102 frames of 6682 atoms. The execution \\n\\\n",
    "#partitioned the calculation of the distance matrix into the calculation of a\\n\\\n",
    "#number of submatrices (16,64,256,1024).Resource: Comet,Date:12/9/2016')\n",
    "#plt.savefig('MeanTaskBreakDownPower2MedLargeDataset.pdf',bbox_inches='tight')\n",
    "\n",
    "fig, axes = plt.subplots(nrows=1, ncols=1)\n",
    "rp_haus_med_plot.plot(kind='bar',ax=axes,stacked=True,sharey=False,sharex=True,width=width,position=1,grid=True,legend=True,log=True)\n",
    "sp_haus_med_plot.plot(kind='bar',ax=axes,stacked=True,sharey=False,sharex=True,width=width,position=0,grid=True,legend=True,log=True,colormap='Paired')\n",
    "plt.title('Mean Task BreakDown. Medium Trajectory, Comet, 12/9/2016')\n",
    "plt.xlabel('Number of Units (Cores)')\n",
    "plt.ylabel('Time (secs)')\n",
    "plt.legend(bbox_to_anchor=(1., 0.30, .50, .102), loc=3,ncol=1, mode=\"expand\", borderaxespad=0.)\n",
    "#plt.text(-0.75,.1,'Average Task execution time for four core counts. 128 trajectories\\n\\\n",
    "#were compared. Each trajectory has 102 frames of 428 atoms. The execution \\n\\\n",
    "#partitioned the calculation of the distance matrix into the calculation of a\\n\\\n",
    "#number of submatrices (16,64,256,1024).Resource: Comet,Date:12/1/2016')\n",
    "#plt.savefig('LogMeanTaskBreakDownPower2MedLargeDataset.pdf',bbox_inches='tight')\n",
    "\n",
    "fig, axes = plt.subplots(nrows=1, ncols=1)\n",
    "rp_haus_long_plot.plot(kind='bar',stacked=True,ax=axes,sharey=False,sharex=True,grid=True,width=width,position=1,legend=False)\n",
    "sp_haus_long_plot.plot(kind='bar',stacked=True,ax=axes,sharey=False,sharex=True,width=width,position=0,grid=True,legend=False,colormap='Paired')\n",
    "plt.title('Mean Task BreakDown. Large Trajectory, Comet, 12/9/2016')\n",
    "plt.xlabel('Number of Units (Cores)')\n",
    "plt.ylabel('Time (secs)')\n",
    "#plt.legend(bbox_to_anchor=(1., 0.30, .50, .102), loc=3,ncol=1, mode=\"expand\", borderaxespad=0.)\n",
    "#plt.text(-0.75,-55,'Average Task execution time for four core counts. 128 trajectories\\n\\\n",
    "#were compared. Each trajectory has 102 frames of 13364 atoms. The execution \\n\\\n",
    "#partitioned the calculation of the distance matrix into the calculation of a\\n\\\n",
    "#number of submatrices (16,64,256,1024).Resource: Comet,Date:12/9/2016')\n",
    "#plt.savefig('MeanTaskBreakDownPower2LongLargeDataset.pdf',bbox_inches='tight')\n",
    "\n",
    "fig, axes = plt.subplots(nrows=1, ncols=1)\n",
    "rp_haus_long_plot.plot(kind='bar',stacked=True,ax=axes,sharey=False,sharex=True,grid=True,width=width,position=1,legend=True,log=True)\n",
    "sp_haus_long_plot.plot(kind='bar',stacked=True,ax=axes,sharey=False,sharex=True,width=width,position=0,grid=True,legend=True,log=True,colormap='Paired')\n",
    "plt.title('Mean Task BreakDown. Large Trajectory ')\n",
    "plt.xlabel('Number of Units (Cores)')\n",
    "plt.ylabel('Time (secs)')\n",
    "plt.legend(bbox_to_anchor=(1., 0.30, .50, .102), loc=3,ncol=1, mode=\"expand\", borderaxespad=0.)\n",
    "#plt.text(-0.75,.05,'Average Task execution time for four core counts. 128 trajectories\\n\\\n",
    "#were compared. Each trajectory has 102 frames of 856 atoms. The execution \\n\\\n",
    "#partitioned the calculation of the distance matrix into the calculation of a\\n\\\n",
    "#number of submatrices (16,64,256,1024).Resource: Comet,Date:12/1/2016')\n",
    "#plt.savefig('LogMeanTaskBreakDownPower2LongLargeDataset.pdf',bbox_inches='tight')"
   ]
  },
  {
   "cell_type": "code",
   "execution_count": 34,
   "metadata": {
    "collapsed": false
   },
   "outputs": [
    {
     "data": {
      "image/png": "[encoded data removed]",
      "text/plain": [
       "<matplotlib.figure.Figure at 0x7f6d73707390>"
      ]
     },
     "metadata": {},
     "output_type": "display_data"
    }
   ],
   "source": [
    "width=0.25\n",
    "fig, axes = plt.subplots(nrows=3, ncols=1)\n",
    "rp_haus_short_plot.plot(kind='bar',stacked=True,ax=axes[0],sharey=False,sharex=True,width=width,position=1,grid=True,legend=False,log=True)\n",
    "sp_haus_short_plot.plot(kind='bar',stacked=True,ax=axes[0],sharey=False,sharex=True,width=width,position=0,grid=True,legend=False,colormap='Paired',log=True)\n",
    "plt.xlabel('Number of Units (Cores)')\n",
    "plt.ylabel('Time (secs)')\n",
    "\n",
    "rp_haus_med_plot.plot(kind='bar',ax=axes[1],stacked=True,sharey=False,sharex=True,width=width,position=1,grid=True,legend=False,log=True)\n",
    "sp_haus_med_plot.plot(kind='bar',ax=axes[1],stacked=True,sharey=False,sharex=True,width=width,position=0,grid=True,legend=False,log=True,colormap='Paired')\n",
    "\n",
    "rp_haus_long_plot.plot(kind='bar',stacked=True,ax=axes[2],sharey=False,sharex=True,grid=True,width=width,position=1,legend=True,log=True)\n",
    "sp_haus_long_plot.plot(kind='bar',stacked=True,ax=axes[2],sharey=False,sharex=True,width=width,position=0,grid=True,legend=True,log=True,colormap='Paired')\n",
    "#plt.title('Mean Task BreakDown. Large Trajectory ')\n",
    "#plt.xlabel('Number of Units (Cores)')\n",
    "#plt.ylabel('Time (secs)')\n",
    "plt.legend(bbox_to_anchor=(1.,1.20, .50, .102), loc=3,ncol=1, mode=\"expand\", borderaxespad=0.)\n",
    "#plt.text(-0.75,.05,'Average Task execution time for four core counts. 128 trajectories\\n\\\n",
    "#were compared. Each trajectory has 102 frames of 856 atoms. The execution \\n\\\n",
    "#partitioned the calculation of the distance matrix into the calculation of a\\n\\\n",
    "#number of submatrices (16,64,256,1024).Resource: Comet,Date:12/1/2016')\n",
    "plt.savefig('MeanTaskBreakDownPower2LargeDataset.pdf',dpi=800,bbox_inches='tight')\n",
    "plt.savefig('MeanTaskBreakDownPower2LargeDataset.png',dpi=800,bbox_inches='tight')"
   ]
  },
  {
   "cell_type": "code",
   "execution_count": 27,
   "metadata": {
    "collapsed": false
   },
   "outputs": [
    {
     "data": {
      "image/png": "[encoded data removed]",
      "text/plain": [
       "<matplotlib.figure.Figure at 0x7ff903b84450>"
      ]
     },
     "metadata": {},
     "output_type": "display_data"
    }
   ],
   "source": [
    "rp_haus_short_plot=pandas.DataFrame(columns=['Overheads','RADICAL-Pilot Default Execution'])\n",
    "data=[np.mean([rp_haus_16_32_short['StageInPending'][0:16].max(),rp_haus_16_32_short['StageInPending'][16:32].max(),rp_haus_16_32_short['StageInPending'][32:48].max()])\\\n",
    "      +rp_haus_16_32_short['StageInDelay'].mean()+rp_haus_16_32_short['SchedulerDelay'].mean(),\\\n",
    "      rp_haus_16_32_short['Execution'].mean()]\n",
    "rp_haus_short_plot.loc[16]=data\n",
    "data=[np.mean([rp_haus_64_16_short['StageInPending'][0:64].max(),rp_haus_64_16_short['StageInPending'][64:128].max(),rp_haus_64_16_short['StageInPending'][128:192].max()])\\\n",
    "      +rp_haus_64_16_short['StageInDelay'].mean()+rp_haus_64_16_short['SchedulerDelay'].mean(),\\\n",
    "      rp_haus_64_16_short['Execution'].mean()]\n",
    "rp_haus_short_plot.loc[64]=data\n",
    "data=[np.mean([rp_haus_256_8_short['StageInPending'][0:256].max(),rp_haus_256_8_short['StageInPending'][256:512].max(),rp_haus_256_8_short['StageInPending'][512:768].max()])\\\n",
    "      +rp_haus_256_8_short['StageInDelay'].mean()+rp_haus_256_8_short['SchedulerDelay'].mean(),\\\n",
    "      rp_haus_256_8_short['Execution'].mean()]\n",
    "rp_haus_short_plot.loc[256]=data\n",
    "data=[np.mean([rp_haus_1024_4_short['StageInPending'][0:1024].max(),rp_haus_1024_4_short['StageInPending'][1024:2048].max(),rp_haus_1024_4_short['StageInPending'][2048:3072].max()])\\\n",
    "      +rp_haus_1024_4_short['StageInDelay'].mean()+rp_haus_1024_4_short['SchedulerDelay'].mean(),\\\n",
    "      rp_haus_1024_4_short['Execution'].mean()]\n",
    "rp_haus_short_plot.loc[1024]=data\n",
    "\n",
    "sp_haus_short_plot=pandas.DataFrame(columns=['Overheads','RADICAL-Pilot Spark Execution'])\n",
    "data=[5.5,\\\n",
    "      SparkPrExps['Exec'][0:3].mean()/1000]\n",
    "sp_haus_short_plot.loc[16]=data\n",
    "data=[5.5,\\\n",
    "      SparkPrExps['Exec'][3:6].mean()/1000]\n",
    "sp_haus_short_plot.loc[64]=data\n",
    "data=[5.5,\\\n",
    "      SparkPrExps['Exec'][6:9].mean()/1000]\n",
    "sp_haus_short_plot.loc[256]=data\n",
    "data=[5.5,\\\n",
    "      SparkPrExps['Exec'][9:12].mean()/1000]\n",
    "sp_haus_short_plot.loc[1024]=data\n",
    "\n",
    "rp_haus_med_plot=pandas.DataFrame(columns=['Overheads','RADICAL-Pilot Default Execution'])\n",
    "data=[np.mean([rp_haus_16_32_med['StageInPending'][0:16].max(),rp_haus_16_32_med['StageInPending'][16:32].max(),rp_haus_16_32_med['StageInPending'][32:48].max()])\\\n",
    "      +rp_haus_16_32_med['StageInDelay'].mean()+rp_haus_16_32_med['SchedulerDelay'].mean(),\\\n",
    "      rp_haus_16_32_med['Execution'].mean()]\n",
    "rp_haus_med_plot.loc[16]=data\n",
    "data=[np.mean([rp_haus_64_16_med['StageInPending'][0:64].max(),rp_haus_64_16_med['StageInPending'][64:128].max(),rp_haus_64_16_med['StageInPending'][128:192].max()])\\\n",
    "      +rp_haus_64_16_med['StageInDelay'].mean()+rp_haus_64_16_med['SchedulerDelay'].mean(),\\\n",
    "      rp_haus_64_16_med['Execution'].mean()]\n",
    "rp_haus_med_plot.loc[64]=data\n",
    "data=[np.mean([rp_haus_256_8_med['StageInPending'][0:256].max(),rp_haus_256_8_med['StageInPending'][256:512].max(),rp_haus_256_8_med['StageInPending'][512:768].max()])\\\n",
    "      +rp_haus_256_8_med['StageInDelay'].mean()+rp_haus_256_8_med['SchedulerDelay'].mean(),\\\n",
    "      rp_haus_256_8_med['Execution'].mean()]\n",
    "rp_haus_med_plot.loc[256]=data\n",
    "#data=[np.mean([rp_haus_1024_4_med['StageInPending'][0:1024].max(),rp_haus_1024_4_med['StageInPending'][1024:2048].max(),rp_haus_1024_4_med['StageInPending'][2048:3072].max()]),\\\n",
    "#      rp_haus_1024_4_med['StageInDelay'].mean(),\\\n",
    "#      rp_haus_1024_4_med['SchedulerDelay'].mean(),\\\n",
    "#      rp_haus_1024_4_med['Execution'].mean()]\n",
    "rp_haus_med_plot.loc[1024]=[0,0]\n",
    "\n",
    "sp_haus_med_plot=pandas.DataFrame(columns=['Queue Delay','RADICAL-Pilot Spark Execution'])\n",
    "data=[5.5,\\\n",
    "      SparkPrExps['Exec'][12:15].mean()/1000]\n",
    "sp_haus_med_plot.loc[16]=data\n",
    "data=[5.5,\\\n",
    "      SparkPrExps['Exec'][15:18].mean()/1000]\n",
    "sp_haus_med_plot.loc[64]=data\n",
    "data=[5.5,\\\n",
    "      SparkPrExps['Exec'][18:21].mean()/1000]\n",
    "sp_haus_med_plot.loc[256]=data\n",
    "data=[5.5,\\\n",
    "      SparkPrExps['Exec'][21:24].mean()/1000]\n",
    "sp_haus_med_plot.loc[1024]=data\n",
    "\n",
    "rp_haus_long_plot=pandas.DataFrame(columns=['Overheads','RADICAL-Pilot Default Execution'])\n",
    "data=[np.mean([rp_haus_16_32_long['StageInPending'][0:16].max(),rp_haus_16_32_long['StageInPending'][16:32].max(),rp_haus_16_32_long['StageInPending'][32:48].max()])\\\n",
    "      +rp_haus_16_32_long['StageInDelay'].mean()+rp_haus_16_32_long['SchedulerDelay'].mean(),\\\n",
    "      rp_haus_16_32_long['Execution'].mean()]\n",
    "rp_haus_long_plot.loc[16]=data\n",
    "data=[np.mean([rp_haus_64_16_long['StageInPending'][0:64].max(),rp_haus_64_16_long['StageInPending'][64:128].max(),rp_haus_64_16_long['StageInPending'][128:192].max()])\\\n",
    "      +rp_haus_64_16_long['StageInDelay'].mean()+rp_haus_64_16_long['SchedulerDelay'].mean(),\\\n",
    "      rp_haus_64_16_long['Execution'].mean()]\n",
    "rp_haus_long_plot.loc[64]=data\n",
    "data=[np.mean([rp_haus_256_8_long['StageInPending'][0:256].max(),rp_haus_256_8_long['StageInPending'][256:512].max(),rp_haus_256_8_long['StageInPending'][512:768].max()])\\\n",
    "      +rp_haus_256_8_long['StageInDelay'].mean()+rp_haus_256_8_long['SchedulerDelay'].mean(),\\\n",
    "      rp_haus_256_8_long['Execution'].mean()]\n",
    "rp_haus_long_plot.loc[256]=data\n",
    "#data=[np.mean([rp_haus_1024_4_long['StageInPending'][0:1024].max(),rp_haus_1024_4_long['StageInPending'][1024:2048].max(),rp_haus_1024_4_long['StageInPending'][2048:3072].max()]),\\\n",
    "#      rp_haus_1024_4_long['StageInDelay'].mean(),\\\n",
    "#      rp_haus_1024_4_long['SchedulerDelay'].mean(),\\\n",
    "#      rp_haus_1024_4_long['Execution'].mean()]\n",
    "rp_haus_long_plot.loc[1024]=[0,0]\n",
    "\n",
    "sp_haus_long_plot=pandas.DataFrame(columns=['Overheads','RADICAL-Pilot Spark Execution'])\n",
    "data=[5.5,\\\n",
    "      SparkPrExps['Exec'][24:27].mean()/1000]\n",
    "sp_haus_long_plot.loc[16]=data\n",
    "data=[5.5,\\\n",
    "      SparkPrExps['Exec'][27:30].mean()/1000]\n",
    "sp_haus_long_plot.loc[64]=data\n",
    "data=[5.5,\\\n",
    "      SparkPrExps['Exec'][30:33].mean()/1000]\n",
    "sp_haus_long_plot.loc[256]=data\n",
    "data=[5.5,\\\n",
    "      SparkPrExps['Exec'][33:36].mean()/1000]\n",
    "sp_haus_long_plot.loc[1024]=data\n",
    "\n",
    "width=0.25\n",
    "fig, axes = plt.subplots(nrows=3, ncols=1)\n",
    "rp_haus_short_plot.plot(kind='bar',stacked=True,ax=axes[0],sharey=True,sharex=True,width=width,position=1,grid=True,legend=False)\n",
    "sp_haus_short_plot.plot(kind='bar',stacked=True,ax=axes[0],sharey=True,sharex=True,width=width,position=0,grid=True,legend=False,colormap='Paired')\n",
    "plt.xlabel('Number of Units (Cores)')\n",
    "rp_haus_med_plot.plot(kind='bar',ax=axes[1],stacked=True,sharey=True,sharex=True,width=width,position=1,grid=True,legend=False)\n",
    "sp_haus_med_plot.plot(kind='bar',ax=axes[1],stacked=True,sharey=True,sharex=True,width=width,position=0,grid=True,legend=False,colormap='Paired')\n",
    "\n",
    "rp_haus_long_plot.plot(kind='bar',stacked=True,ax=axes[2],sharey=True,sharex=True,grid=True,width=width,position=1,legend=False)\n",
    "sp_haus_long_plot.plot(kind='bar',stacked=True,ax=axes[2],sharey=True,sharex=True,width=width,position=0,grid=True,legend=False,colormap='Paired')\n",
    "#plt.title('Mean Task BreakDown. Large Trajectory ')\n",
    "#plt.xlabel('Number of Units (Cores)')\n",
    "plt.ylabel('Time (secs)')\n",
    "axes[0].text(2.8, 450, r'Small', fontsize=15)\n",
    "axes[1].text(2.8, 900, r'Medium', fontsize=15)\n",
    "axes[2].text(2.8, 2000, r'Large', fontsize=15)\n",
    "#plt.text(-0.75,.05,'Average Task execution time for four core counts. 128 trajectories\\n\\\n",
    "#were compared. Each trajectory has 102 frames of 856 atoms. The execution \\n\\\n",
    "#partitioned the calculation of the distance matrix into the calculation of a\\n\\\n",
    "#number of submatrices (16,64,256,1024).Resource: Comet,Date:12/1/2016')\n",
    "#plt.savefig('MeanTaskBreakDownPower2LargeDataset.pdf',dpi=800,bbox_inches='tight')\n",
    "plt.savefig('PresMeanTaskBreakDownPower2LargeDataset.png',dpi=800,bbox_inches='tight')\n"
   ]
  },
  {
   "cell_type": "code",
   "execution_count": 47,
   "metadata": {
    "collapsed": false
   },
   "outputs": [
    {
     "data": {
      "image/png": "[encoded data removed]",
      "text/plain": [
       "<matplotlib.figure.Figure at 0x7ff5ec7f3050>"
      ]
     },
     "metadata": {},
     "output_type": "display_data"
    }
   ],
   "source": [
    "sp_haus_short_plot2=pandas.DataFrame(columns=['RP-Spark DataInit','Spark Scheduling','Spark Execution','Spark StageOut','RP-Spark Write'])\n",
    "data=[SparkPrExps['DataInit'][0:3].mean()/1000,\\\n",
    "      spco_schedulerdelay_short_aa[0,0],\\\n",
    "      spco_execution_short_aa[0,0],\\\n",
    "      spco_stageout_short_aa[0,0],\\\n",
    "      SparkPrExps['Write'][0:3].mean()/1000]\n",
    "sp_haus_short_plot2.loc[16]=data\n",
    "data=[SparkPrExps['DataInit'][3:6].mean()/1000,\\\n",
    "      spco_schedulerdelay_short_aa[1,0],\\\n",
    "      spco_execution_short_aa[1,0],\\\n",
    "      spco_stageout_short_aa[1,0],\\\n",
    "      SparkPrExps['Write'][3:6].mean()/1000]\n",
    "sp_haus_short_plot2.loc[64]=data\n",
    "data=[SparkPrExps['DataInit'][6:9].mean()/1000,\\\n",
    "      spco_schedulerdelay_short_aa[2,0],\\\n",
    "      spco_execution_short_aa[2,0],\\\n",
    "      spco_stageout_short_aa[2,0],\\\n",
    "      SparkPrExps['Write'][6:9].mean()/1000]\n",
    "sp_haus_short_plot2.loc[256]=data\n",
    "data=[SparkPrExps['DataInit'][9:12].mean()/1000,\\\n",
    "      spco_schedulerdelay_short_aa[3,0],\\\n",
    "      spco_execution_short_aa[3,0],\\\n",
    "      spco_stageout_short_aa[3,0],\\\n",
    "      SparkPrExps['Write'][9:12].mean()/1000]\n",
    "sp_haus_short_plot2.loc[1024]=data\n",
    "\n",
    "sp_haus_med_plot2=pandas.DataFrame(columns=['RP-Spark DataInit','Spark Scheduling','Spark Execution','Spark StageOut','RP-Spark Write'])\n",
    "data=[SparkPrExps['DataInit'][12:15].mean()/1000,\\\n",
    "      spco_schedulerdelay_med_aa[0,0],\\\n",
    "      spco_execution_med_aa[0,0],\\\n",
    "      spco_stageout_med_aa[0,0],\\\n",
    "      SparkPrExps['Write'][12:15].mean()/1000]\n",
    "sp_haus_med_plot2.loc[16]=data\n",
    "data=[SparkPrExps['DataInit'][15:18].mean()/1000,\\\n",
    "      spco_schedulerdelay_med_aa[1,0],\\\n",
    "      spco_execution_med_aa[1,0],\\\n",
    "      spco_stageout_med_aa[1,0],\\\n",
    "      SparkPrExps['Write'][15:18].mean()/1000]\n",
    "sp_haus_med_plot2.loc[64]=data\n",
    "data=[SparkPrExps['DataInit'][18:21].mean()/1000,\\\n",
    "      spco_schedulerdelay_med_aa[2,0],\\\n",
    "      spco_execution_med_aa[2,0],\\\n",
    "      spco_stageout_med_aa[2,0],\\\n",
    "      SparkPrExps['Write'][18:21].mean()/1000]\n",
    "sp_haus_med_plot2.loc[256]=data\n",
    "data=[SparkPrExps['DataInit'][21:24].mean()/1000,\\\n",
    "      spco_schedulerdelay_med_aa[3,0],\\\n",
    "      spco_execution_med_aa[3,0],\\\n",
    "      spco_stageout_med_aa[3,0],\\\n",
    "      SparkPrExps['Write'][21:24].mean()/1000]\n",
    "sp_haus_med_plot2.loc[1024]=data\n",
    "\n",
    "\n",
    "sp_haus_long_plot2=pandas.DataFrame(columns=['RP-Spark DataInit','Spark Scheduling','Spark Execution','Spark StageOut','RP-Spark Write'])\n",
    "data=[SparkPrExps['DataInit'][24:27].mean()/1000,\\\n",
    "      spco_schedulerdelay_long_aa[0,0],\\\n",
    "      spco_execution_long_aa[0,0],\\\n",
    "      spco_stageout_long_aa[0,0],\\\n",
    "      SparkPrExps['Write'][24:27].mean()/1000]\n",
    "sp_haus_long_plot2.loc[16]=data\n",
    "data=[SparkPrExps['DataInit'][27:30].mean()/1000,\\\n",
    "      spco_schedulerdelay_long_aa[1,0],\\\n",
    "      spco_execution_long_aa[1,0],\\\n",
    "      spco_stageout_long_aa[1,0],\\\n",
    "      SparkPrExps['Write'][27:30].mean()/1000]\n",
    "sp_haus_long_plot2.loc[64]=data\n",
    "data=[SparkPrExps['DataInit'][30:33].mean()/1000,\\\n",
    "      spco_schedulerdelay_long_aa[2,0],\\\n",
    "      spco_execution_long_aa[2,0],\\\n",
    "      spco_stageout_long_aa[2,0],\\\n",
    "      SparkPrExps['Write'][30:33].mean()/1000]\n",
    "sp_haus_long_plot2.loc[256]=data\n",
    "data=[SparkPrExps['DataInit'][33:36].mean()/1000,\\\n",
    "      spco_schedulerdelay_long_aa[3,0],\\\n",
    "      spco_execution_long_aa[3,0],\\\n",
    "      spco_stageout_long_aa[3,0],\\\n",
    "      SparkPrExps['Write'][33:36].mean()/1000]\n",
    "sp_haus_long_plot2.loc[1024]=data\n",
    "\n",
    "\n",
    "width=0.25\n",
    "fig, axes = plt.subplots(nrows=3, ncols=1)\n",
    "#sp_haus_short_plot2.plot(kind='bar',stacked=True,ax=axes[0],sharey=False,sharex=True,width=width,grid=True,legend=False)\n",
    "#sp_haus_short_plot.plot(kind='bar',stacked=True,ax=axes,sharey=False,sharex=True,width=width,position=0,grid=True,legend=False,colormap='Paired')\n",
    "#plt.title('Mean Task BreakDown. Small Trajectory, Comet, 12/9/2016')\n",
    "#plt.xlabel('Number of Units (Cores)')\n",
    "#plt.ylabel('Time (secs)')\n",
    "#plt.legend(bbox_to_anchor=(1., 0.30, .50, .102), loc=3,ncol=1, mode=\"expand\", borderaxespad=0.)\n",
    "#plt.text(-0.75,-15,'Average Task execution time for four core counts. 128 trajectories\\n\\\n",
    "#were compared. Each trajectory has 102 frames of 3341 atoms. The execution \\n\\\n",
    "#partitioned the calculation of the distance matrix into the calculation of a\\n\\\n",
    "#number of submatrices (16,64,256,1024).Resource: Comet,Date:12/9/2016')\n",
    "#plt.savefig('MeanTaskBreakDownPower2ShortLargeDataset.pdf',bbox_inches='tight')\n",
    "\n",
    "#fig, axes = plt.subplots(nrows=1, ncols=1)\n",
    "sp_haus_short_plot2.plot(kind='bar',stacked=True,ax=axes[0],sharey=False,sharex=True,width=width,grid=True,legend=False,log=True)\n",
    "#sp_haus_short_plot.plot(kind='bar',stacked=True,ax=axes,sharey=False,sharex=True,width=width,position=0,grid=True,legend=True,colormap='Paired',log=True)\n",
    "#plt.title('Mean Task BreakDown. Small Trajectory, Comet, 12/9/2016')\n",
    "#plt.xlabel('Number of Units (Cores)')\n",
    "#plt.ylabel('Time (secs)')\n",
    "#plt.legend(bbox_to_anchor=(1., 0.30, .50, .102), loc=3,ncol=1, mode=\"expand\", borderaxespad=0.)\n",
    "#plt.text(-0.75,.1,'Average Task execution time for four core counts. 128 trajectories\\n\\\n",
    "#were compared. Each trajectory has 102 frames of 214 atoms. The execution \\n\\\n",
    "#partitioned the calculation of the distance matrix into the calculation of a\\n\\\n",
    "#number of submatrices (16,64,256,1024).Resource: Comet,Date:12/1/2016')\n",
    "#plt.savefig('LogMeanTaskBreakDownPower2ShortLargeDataset.pdf',bbox_inches='tight')\n",
    "\n",
    "#fig, axes = plt.subplots(nrows=1, ncols=1)\n",
    "#sp_haus_med_plot2.plot(kind='bar',ax=axes,stacked=True,sharey=False,sharex=True,width=width,grid=True,legend=False)\n",
    "#sp_haus_med_plot.plot(kind='bar',ax=axes,stacked=True,sharey=False,sharex=True,width=width,position=0,grid=True,legend=False,colormap='Paired')\n",
    "#plt.title('Mean Task BreakDown. Medium Trajectory, Comet, 12/9/2016')\n",
    "#plt.xlabel('Number of Units (Cores)')\n",
    "#plt.ylabel('Time (secs)')\n",
    "#plt.legend(bbox_to_anchor=(1., 0.30, .50, .102), loc=3,ncol=1, mode=\"expand\", borderaxespad=0.)\n",
    "#plt.text(-0.75,-30,'Average Task execution time for four core counts. 128 trajectories\\n\\\n",
    "#were compared. Each trajectory has 102 frames of 6682 atoms. The execution \\n\\\n",
    "#partitioned the calculation of the distance matrix into the calculation of a\\n\\\n",
    "#number of submatrices (16,64,256,1024).Resource: Comet,Date:12/9/2016')\n",
    "#plt.savefig('MeanTaskBreakDownPower2MedLargeDataset.pdf',bbox_inches='tight')\n",
    "\n",
    "#fig, axes = plt.subplots(nrows=1, ncols=1)\n",
    "sp_haus_med_plot2.plot(kind='bar',ax=axes[1],stacked=True,sharey=False,sharex=True,width=width,grid=True,legend=False,log=True)\n",
    "#sp_haus_med_plot.plot(kind='bar',ax=axes,stacked=True,sharey=False,sharex=True,width=width,position=0,grid=True,legend=True,log=True,colormap='Paired')\n",
    "#plt.title('Mean Task BreakDown. Medium Trajectory, Comet, 12/9/2016')\n",
    "#plt.xlabel('Number of Units (Cores)')\n",
    "#plt.ylabel('Time (secs)')\n",
    "#plt.legend(bbox_to_anchor=(1., 0.30, .50, .102), loc=3,ncol=1, mode=\"expand\", borderaxespad=0.)\n",
    "#plt.text(-0.75,.1,'Average Task execution time for four core counts. 128 trajectories\\n\\\n",
    "#were compared. Each trajectory has 102 frames of 428 atoms. The execution \\n\\\n",
    "#partitioned the calculation of the distance matrix into the calculation of a\\n\\\n",
    "#number of submatrices (16,64,256,1024).Resource: Comet,Date:12/1/2016')\n",
    "#plt.savefig('LogMeanTaskBreakDownPower2MedLargeDataset.pdf',bbox_inches='tight')\n",
    "\n",
    "#fig, axes = plt.subplots(nrows=1, ncols=1)\n",
    "#sp_haus_long_plot2.plot(kind='bar',stacked=True,ax=axes[1],sharey=False,sharex=True,grid=True,width=width,legend=False)\n",
    "#sp_haus_long_plot.plot(kind='bar',stacked=True,ax=axes,sharey=False,sharex=True,width=width,position=0,grid=True,legend=False,colormap='Paired')\n",
    "#plt.title('Mean Task BreakDown. Large Trajectory, Comet, 12/9/2016')\n",
    "#plt.xlabel('Number of Units (Cores)')\n",
    "#plt.ylabel('Time (secs)')\n",
    "#plt.legend(bbox_to_anchor=(1., 0.30, .50, .102), loc=3,ncol=1, mode=\"expand\", borderaxespad=0.)\n",
    "#plt.text(-0.75,-55,'Average Task execution time for four core counts. 128 trajectories\\n\\\n",
    "#were compared. Each trajectory has 102 frames of 13364 atoms. The execution \\n\\\n",
    "#partitioned the calculation of the distance matrix into the calculation of a\\n\\\n",
    "#number of submatrices (16,64,256,1024).Resource: Comet,Date:12/9/2016')\n",
    "#plt.savefig('MeanTaskBreakDownPower2LongLargeDataset.pdf',bbox_inches='tight')\n",
    "\n",
    "#fig, axes = plt.subplots(nrows=1, ncols=1)\n",
    "sp_haus_long_plot2.plot(kind='bar',stacked=True,ax=axes[2],sharey=False,sharex=True,grid=True,width=width,legend=True,log=True)\n",
    "#sp_haus_long_plot.plot(kind='bar',stacked=True,ax=axes,sharey=False,sharex=True,width=width,position=0,grid=True,legend=True,log=True,colormap='Paired')\n",
    "#plt.title('Mean Task BreakDown. Large Trajectory ')\n",
    "plt.xlabel('Number of Units (Cores)')\n",
    "plt.ylabel('Time (secs)')\n",
    "plt.legend(bbox_to_anchor=(1., 0.30, .50, .102), loc=3,ncol=1, mode=\"expand\", borderaxespad=0.)\n",
    "#plt.text(-0.75,.05,'Average Task execution time for four core counts. 128 trajectories\\n\\\n",
    "#were compared. Each trajectory has 102 frames of 856 atoms. The execution \\n\\\n",
    "#partitioned the calculation of the distance matrix into the calculation of a\\n\\\n",
    "#number of submatrices (16,64,256,1024).Resource: Comet,Date:12/1/2016')\n",
    "plt.savefig('SparkLogMeanTaskBreakDownLargeDataset.png',dpi=800,bbox_inches='tight')"
   ]
  },
  {
   "cell_type": "code",
   "execution_count": 112,
   "metadata": {
    "collapsed": false
   },
   "outputs": [
    {
     "name": "stdout",
     "output_type": "stream",
     "text": [
      "1.51731835346e-08\n",
      "2.80328727967e-09\n"
     ]
    }
   ],
   "source": [
    "rp_haus_short_plot=pandas.DataFrame(columns=['StageInPending','StageInPendingStd','StageInDelay','StageInDelayStd','SchedulerDelay','SchedulerDelayStd','Execution','ExecutionStd'])\n",
    "data=[rp_haus_16_32_short['StageInPending'].mean(),\\\n",
    "      rp_haus_16_32_short['StageInPending'].std(),\\\n",
    "      rp_haus_16_32_short['StageInDelay'].mean(),\\\n",
    "      rp_haus_16_32_short['StageInDelay'].std(),\\\n",
    "      rp_haus_16_32_short['SchedulerDelay'].mean(),\\\n",
    "      rp_haus_16_32_short['SchedulerDelay'].std(),\\\n",
    "      rp_haus_16_32_short['Execution'].mean(),\\\n",
    "      rp_haus_16_32_short['Execution'].std()]\n",
    "rp_haus_short_plot.loc[16]=data\n",
    "data=[rp_haus_64_16_short['StageInPending'].mean(),\\\n",
    "      rp_haus_64_16_short['StageInPending'].std(),\\\n",
    "      rp_haus_64_16_short['StageInDelay'].mean(),\\\n",
    "      rp_haus_64_16_short['StageInDelay'].std(),\\\n",
    "      rp_haus_64_16_short['SchedulerDelay'].mean(),\\\n",
    "      rp_haus_64_16_short['SchedulerDelay'].std(),\\\n",
    "      rp_haus_64_16_short['Execution'].mean(),\\\n",
    "      rp_haus_64_16_short['Execution'].std()]\n",
    "rp_haus_short_plot.loc[64]=data\n",
    "data=[rp_haus_256_8_short['StageInPending'].mean(),\\\n",
    "      rp_haus_256_8_short['StageInPending'].std(),\\\n",
    "      rp_haus_256_8_short['StageInDelay'].mean(),\\\n",
    "      rp_haus_256_8_short['StageInDelay'].std(),\\\n",
    "      rp_haus_256_8_short['SchedulerDelay'].mean(),\\\n",
    "      rp_haus_256_8_short['SchedulerDelay'].std(),\\\n",
    "      rp_haus_256_8_short['Execution'].mean(),\\\n",
    "      rp_haus_256_8_short['Execution'].std()]\n",
    "rp_haus_short_plot.loc[256]=data\n",
    "data=[rp_haus_1024_4_short['StageInPending'].mean(),\\\n",
    "      rp_haus_1024_4_short['StageInPending'].std(),\\\n",
    "      rp_haus_1024_4_short['StageInDelay'].mean(),\\\n",
    "      rp_haus_1024_4_short['StageInDelay'].std(),\\\n",
    "      rp_haus_1024_4_short['SchedulerDelay'].mean(),\\\n",
    "      rp_haus_1024_4_short['SchedulerDelay'].std(),\\\n",
    "      rp_haus_1024_4_short['Execution'].mean(),\\\n",
    "      rp_haus_1024_4_short['Execution'].std()]\n",
    "rp_haus_short_plot.loc[1024]=data\n",
    "\n",
    "rp_haus_med_plot=pandas.DataFrame(columns=['StageInPending','StageInPendingStd','StageInDelay','StageInDelayStd','SchedulerDelay','SchedulerDelayStd','Execution','ExecutionStd'])\n",
    "data=[rp_haus_16_32_med['StageInPending'].mean(),\\\n",
    "      rp_haus_16_32_med['StageInPending'].std(),\\\n",
    "      rp_haus_16_32_med['StageInDelay'].mean(),\\\n",
    "      rp_haus_16_32_med['StageInDelay'].std(),\\\n",
    "      rp_haus_16_32_med['SchedulerDelay'].mean(),\\\n",
    "      rp_haus_16_32_med['SchedulerDelay'].std(),\\\n",
    "      rp_haus_16_32_med['Execution'].mean(),\\\n",
    "      rp_haus_16_32_med['Execution'].std()]\n",
    "rp_haus_med_plot.loc[16]=data\n",
    "data=[rp_haus_64_16_med['StageInPending'].mean(),\\\n",
    "      rp_haus_64_16_med['StageInPending'].std(),\\\n",
    "      rp_haus_64_16_med['StageInDelay'].mean(),\\\n",
    "      rp_haus_64_16_med['StageInDelay'].std(),\\\n",
    "      rp_haus_64_16_med['SchedulerDelay'].mean(),\\\n",
    "      rp_haus_64_16_med['SchedulerDelay'].std(),\\\n",
    "      rp_haus_64_16_med['Execution'].mean(),\\\n",
    "      rp_haus_64_16_med['Execution'].std()]\n",
    "rp_haus_med_plot.loc[64]=data\n",
    "data=[rp_haus_256_8_med['StageInPending'].mean(),\\\n",
    "      rp_haus_256_8_med['StageInPending'].std(),\\\n",
    "      rp_haus_256_8_med['StageInDelay'].mean(),\\\n",
    "      rp_haus_256_8_med['StageInDelay'].std(),\\\n",
    "      rp_haus_256_8_med['SchedulerDelay'].mean(),\\\n",
    "      rp_haus_256_8_med['SchedulerDelay'].std(),\\\n",
    "      rp_haus_256_8_med['Execution'].mean(),\\\n",
    "      rp_haus_256_8_med['Execution'].std()]\n",
    "rp_haus_med_plot.loc[256]=data\n",
    "data=[rp_haus_1024_4_med['StageInPending'].mean(),\\\n",
    "      rp_haus_1024_4_med['StageInPending'].std(),\\\n",
    "      rp_haus_1024_4_med['StageInDelay'].mean(),\\\n",
    "      rp_haus_1024_4_med['StageInDelay'].std(),\\\n",
    "      rp_haus_1024_4_med['SchedulerDelay'].mean(),\\\n",
    "      rp_haus_1024_4_med['SchedulerDelay'].std(),\\\n",
    "      rp_haus_1024_4_med['Execution'].mean(),\\\n",
    "      rp_haus_1024_4_med['Execution'].std()]\n",
    "rp_haus_med_plot.loc[1024]=data\n",
    "\n",
    "rp_haus_long_plot=pandas.DataFrame(columns=['StageInPending','StageInPendingStd','StageInDelay','StageInDelayStd','SchedulerDelay','SchedulerDelayStd','Execution','ExecutionStd'])\n",
    "data=[rp_haus_16_32_long['StageInPending'].mean(),\\\n",
    "      rp_haus_16_32_long['StageInPending'].std(),\\\n",
    "      rp_haus_16_32_long['StageInDelay'].mean(),\\\n",
    "      rp_haus_16_32_long['StageInDelay'].std(),\\\n",
    "      rp_haus_16_32_long['SchedulerDelay'].mean(),\\\n",
    "      rp_haus_16_32_long['SchedulerDelay'].std(),\\\n",
    "      rp_haus_16_32_long['Execution'].mean(),\\\n",
    "      rp_haus_16_32_long['Execution'].std()]\n",
    "rp_haus_long_plot.loc[16]=data\n",
    "data=[rp_haus_64_16_long['StageInPending'].mean(),\\\n",
    "      rp_haus_64_16_long['StageInPending'].std(),\\\n",
    "      rp_haus_64_16_long['StageInDelay'].mean(),\\\n",
    "      rp_haus_64_16_long['StageInDelay'].std(),\\\n",
    "      rp_haus_64_16_long['SchedulerDelay'].mean(),\\\n",
    "      rp_haus_64_16_long['SchedulerDelay'].std(),\\\n",
    "      rp_haus_64_16_long['Execution'].mean(),\\\n",
    "      rp_haus_64_16_long['Execution'].std()]\n",
    "rp_haus_long_plot.loc[64]=data\n",
    "data=[rp_haus_256_8_long['StageInPending'].mean(),\\\n",
    "      rp_haus_256_8_long['StageInPending'].std(),\\\n",
    "      rp_haus_256_8_long['StageInDelay'].mean(),\\\n",
    "      rp_haus_256_8_long['StageInDelay'].std(),\\\n",
    "      rp_haus_256_8_long['SchedulerDelay'].mean(),\\\n",
    "      rp_haus_256_8_long['SchedulerDelay'].std(),\\\n",
    "      rp_haus_256_8_long['Execution'].mean(),\\\n",
    "      rp_haus_256_8_long['Execution'].std()]\n",
    "rp_haus_long_plot.loc[256]=data\n",
    "data=[rp_haus_1024_4_long['StageInPending'].mean(),\\\n",
    "      rp_haus_1024_4_long['StageInPending'].std(),\\\n",
    "      rp_haus_1024_4_long['StageInDelay'].mean(),\\\n",
    "      rp_haus_1024_4_long['StageInDelay'].std(),\\\n",
    "      rp_haus_1024_4_long['SchedulerDelay'].mean(),\\\n",
    "      rp_haus_1024_4_long['SchedulerDelay'].std(),\\\n",
    "      rp_haus_1024_4_long['Execution'].mean(),\\\n",
    "      rp_haus_1024_4_long['Execution'].std()]\n",
    "rp_haus_long_plot.loc[1024]=data\n",
    "\n",
    "rp_haus_short_plot.to_csv('ydatashort.csv')\n",
    "rp_haus_med_plot.to_csv('ydatamed.csv')\n",
    "rp_haus_long_plot.to_csv('ydatalong.csv')\n",
    "\n",
    "xdatashort = np.array([32*102,16*102,8*102,4*102])\n",
    "xdatamed   = np.array([32*102,16*102,8*102,4*102])\n",
    "xdatalong  = np.array([32*102,16*102,8*102,4*102])\n",
    "\n",
    "ydatashort = rp_haus_short_plot['Execution'].as_matrix()\n",
    "ydatamed = rp_haus_med_plot['Execution'].as_matrix()\n",
    "ydatalong = rp_haus_long_plot['Execution'].as_matrix()\n",
    "np.save('ydatashort.npy',ydatashort)\n",
    "np.save('ydatamed.npy',ydatamed)\n",
    "np.save('ydatalong.npy',ydatalong)\n",
    "\n",
    "a_short = np.divide(np.divide(ydatashort,np.power(xdatashort,2)),214)\n",
    "a_med = np.divide(np.divide(ydatamed,np.power(xdatamed,2)),428)\n",
    "a_long = np.divide(np.divide(ydatalong,np.power(xdatalong,2)),856)\n",
    "\n",
    "print np.mean([a_short,a_med,a_long])\n",
    "print np.std([a_short,a_med,a_long])\n"
   ]
  },
  {
   "cell_type": "code",
   "execution_count": 47,
   "metadata": {
    "collapsed": false
   },
   "outputs": [
    {
     "data": {
      "image/png": "[encoded data removed]",
      "text/plain": [
       "<matplotlib.figure.Figure at 0x7fba58b49750>"
      ]
     },
     "metadata": {},
     "output_type": "display_data"
    }
   ],
   "source": [
    "bar_l = np.arange(6)\n",
    "width=0.20\n",
    "a=plt.figure()\n",
    "plt.title('Mean Task BreakDown')\n",
    "plt.subplot(3, 1, 1)\n",
    "#Stage IN\n",
    "plt.bar(bar_l,[rp_haus_21_32_short['StageInDelay'].mean(),\\\n",
    "               rp_haus_36_24_short['StageInDelay'].mean(),\\\n",
    "               rp_haus_78_16_short['StageInDelay'].mean(),\\\n",
    "               rp_haus_136_12_short['StageInDelay'].mean(),\\\n",
    "               rp_haus_300_8_short['StageInDelay'].mean(),\\\n",
    "               rp_haus_528_6_short['StageInDelay'].mean()],\n",
    "        width,alpha=1.0,\n",
    "        label='StageIn RP',color='r')\n",
    "\n",
    "plt.bar(bar_l+width,spco_stagein_short_ca,\n",
    "        width,alpha=1.0,\n",
    "        hatch='//',\n",
    "        label='StageIn SPark',color='r')\n",
    "\n",
    "# Scheduling\n",
    "plt.bar(bar_l,[rp_haus_21_32_short['SchedulerDelay'].mean(),\\\n",
    "               rp_haus_36_24_short['SchedulerDelay'].mean(),\\\n",
    "               rp_haus_78_16_short['SchedulerDelay'].mean(),\\\n",
    "               rp_haus_136_12_short['SchedulerDelay'].mean(),\\\n",
    "               rp_haus_300_8_short['SchedulerDelay'].mean(),\\\n",
    "               rp_haus_528_6_short['SchedulerDelay'].mean()],\n",
    "        width,alpha=1.0,bottom=[rp_haus_21_32_short['StageInDelay'].mean(),\\\n",
    "               rp_haus_36_24_short['StageInDelay'].mean(),\\\n",
    "               rp_haus_78_16_short['StageInDelay'].mean(),\\\n",
    "               rp_haus_136_12_short['StageInDelay'].mean(),\\\n",
    "               rp_haus_300_8_short['StageInDelay'].mean(),\\\n",
    "               rp_haus_528_6_short['StageInDelay'].mean()],\n",
    "        label='Scheduler RP',color='g')\n",
    "\n",
    "plt.bar(bar_l+width,spco_schedulerdelay_short_ca,\n",
    "        width,alpha=1.0,bottom=spco_stagein_short_ca,\n",
    "        hatch='//',label='Scheduler Spark',color='g')\n",
    "\n",
    "# Executing\n",
    "plt.bar(bar_l,[rp_haus_21_32_short['Execution'].mean(),\\\n",
    "               rp_haus_36_24_short['Execution'].mean(),\\\n",
    "               rp_haus_78_16_short['Execution'].mean(),\\\n",
    "               rp_haus_136_12_short['Execution'].mean(),\\\n",
    "               rp_haus_300_8_short['Execution'].mean(),\\\n",
    "               rp_haus_528_6_short['Execution'].mean()],\n",
    "        width,alpha=0.5,\n",
    "        bottom=[rp_haus_21_32_short['SchedulerDelay'].mean()+rp_haus_21_32_short['StageInDelay'].mean(),\\\n",
    "                rp_haus_36_24_short['SchedulerDelay'].mean()+rp_haus_36_24_short['StageInDelay'].mean(),\\\n",
    "                rp_haus_78_16_short['SchedulerDelay'].mean()+rp_haus_78_16_short['StageInDelay'].mean(),\\\n",
    "                rp_haus_136_12_short['SchedulerDelay'].mean()+rp_haus_136_12_short['StageInDelay'].mean(),\\\n",
    "                rp_haus_300_8_short['SchedulerDelay'].mean()+rp_haus_300_8_short['StageInDelay'].mean(),\\\n",
    "                rp_haus_528_6_short['SchedulerDelay'].mean()+rp_haus_528_6_short['StageInDelay'].mean()],\n",
    "        label='Execution RP')\n",
    "\n",
    "plt.bar(bar_l+width,spco_execution_short_ca,\n",
    "        width,alpha=0.5,\n",
    "        bottom=spco_stagein_short_ca+spco_schedulerdelay_short_ca,\n",
    "        hatch='//',\n",
    "        label='Execution Spark')\n",
    "\n",
    "# Stage out and Finalization\n",
    "lgd = plt.legend(bbox_to_anchor=(1.05, 1), loc=2, borderaxespad=0.)\n",
    "plt.xticks(bar_l + width, ('21', '36', '78', '136', '300','528'))\n",
    "\n",
    "\n",
    "plt.subplot(3, 1, 2)\n",
    "# Stage In\n",
    "\n",
    "plt.bar(bar_l,[rp_haus_21_32_med['StageInDelay'].mean(),\\\n",
    "               rp_haus_36_24_med['StageInDelay'].mean(),\\\n",
    "               rp_haus_78_16_med['StageInDelay'].mean(),\\\n",
    "               rp_haus_136_12_med['StageInDelay'].mean(),\\\n",
    "               rp_haus_300_8_med['StageInDelay'].mean(),\\\n",
    "               rp_haus_528_6_med['StageInDelay'].mean()],\n",
    "        width,alpha=1.0,\n",
    "        label='StageIn',color='r')\n",
    "\n",
    "plt.bar(bar_l+width,spco_stagein_med_ca,\n",
    "        width,alpha=1.0,\n",
    "        hatch='//',\n",
    "        label='StageIn',color='r')\n",
    "\n",
    "# Scheduling Delay\n",
    "plt.bar(bar_l,[rp_haus_21_32_med['SchedulerDelay'].mean(),\\\n",
    "               rp_haus_36_24_med['SchedulerDelay'].mean(),\\\n",
    "               rp_haus_78_16_med['SchedulerDelay'].mean(),\\\n",
    "               rp_haus_136_12_med['SchedulerDelay'].mean(),\\\n",
    "               rp_haus_300_8_med['SchedulerDelay'].mean(),\\\n",
    "               rp_haus_528_6_med['SchedulerDelay'].mean()],\n",
    "        width,alpha=1.0,bottom=[rp_haus_21_32_med['StageInDelay'].mean(),\\\n",
    "               rp_haus_36_24_med['StageInDelay'].mean(),\\\n",
    "               rp_haus_78_16_med['StageInDelay'].mean(),\\\n",
    "               rp_haus_136_12_med['StageInDelay'].mean(),\\\n",
    "               rp_haus_300_8_med['StageInDelay'].mean(),\\\n",
    "               rp_haus_528_6_med['StageInDelay'].mean()],\n",
    "        label='Scheduler',color='g')\n",
    "\n",
    "plt.bar(bar_l+width,spco_schedulerdelay_med_ca,\n",
    "        width,alpha=1.0,bottom=spco_stagein_med_ca,\n",
    "        hatch='//',label='Scheduler',color='g')\n",
    "\n",
    "# Execution \n",
    "plt.bar(bar_l,[rp_haus_21_32_med['Execution'].mean(),\\\n",
    "               rp_haus_36_24_med['Execution'].mean(),\\\n",
    "               rp_haus_78_16_med['Execution'].mean(),\\\n",
    "               rp_haus_136_12_med['Execution'].mean(),\\\n",
    "               rp_haus_300_8_med['Execution'].mean(),\\\n",
    "               rp_haus_528_6_med['Execution'].mean()],\n",
    "        width,alpha=0.5,\n",
    "        bottom=[rp_haus_21_32_med['SchedulerDelay'].mean()+rp_haus_21_32_med['StageInDelay'].mean(),\\\n",
    "                rp_haus_36_24_med['SchedulerDelay'].mean()+rp_haus_36_24_med['StageInDelay'].mean(),\\\n",
    "                rp_haus_78_16_med['SchedulerDelay'].mean()+rp_haus_78_16_med['StageInDelay'].mean(),\\\n",
    "                rp_haus_136_12_med['SchedulerDelay'].mean()+rp_haus_136_12_med['StageInDelay'].mean(),\\\n",
    "                rp_haus_300_8_med['SchedulerDelay'].mean()+rp_haus_300_8_med['StageInDelay'].mean(),\\\n",
    "                rp_haus_528_6_med['SchedulerDelay'].mean()+rp_haus_528_6_med['StageInDelay'].mean()],\n",
    "        label='Execution')\n",
    "\n",
    "plt.bar(bar_l+width,spco_execution_med_ca,\n",
    "        width,alpha=0.5,\n",
    "        bottom=spco_stagein_med_ca+spco_schedulerdelay_med_ca,\n",
    "        hatch='//',\n",
    "        label='Execution Spark')\n",
    "\n",
    "# Stage Out\n",
    "plt.xticks(bar_l + width, ('21', '36', '78', '136', '300','528'))\n",
    "plt.subplot(3, 1, 3)\n",
    "\n",
    "# Stage In\n",
    "plt.bar(bar_l,[rp_haus_21_32_long['StageInDelay'].mean(),\\\n",
    "               rp_haus_36_24_long['StageInDelay'].mean(),\\\n",
    "               rp_haus_78_16_long['StageInDelay'].mean(),\\\n",
    "               rp_haus_136_12_long['StageInDelay'].mean(),\\\n",
    "               rp_haus_300_8_long['StageInDelay'].mean(),\\\n",
    "               rp_haus_528_6_long['StageInDelay'].mean()],\n",
    "        width,alpha=1.0,\n",
    "        label='StageIn',color='r')\n",
    "\n",
    "plt.bar(bar_l+width,spco_stagein_long_ca,\n",
    "        width,alpha=1.0,\n",
    "        hatch='//',\n",
    "        label='StageIn',color='r')\n",
    "\n",
    "#Scheduling Delay\n",
    "plt.bar(bar_l,[rp_haus_21_32_long['SchedulerDelay'].mean(),\\\n",
    "               rp_haus_36_24_long['SchedulerDelay'].mean(),\\\n",
    "               rp_haus_78_16_long['SchedulerDelay'].mean(),\\\n",
    "               rp_haus_136_12_long['SchedulerDelay'].mean(),\\\n",
    "               rp_haus_300_8_long['SchedulerDelay'].mean(),\\\n",
    "               rp_haus_528_6_long['SchedulerDelay'].mean()],\n",
    "        width,alpha=1.0,bottom=[rp_haus_21_32_long['StageInDelay'].mean(),\\\n",
    "               rp_haus_36_24_long['StageInDelay'].mean(),\\\n",
    "               rp_haus_78_16_long['StageInDelay'].mean(),\\\n",
    "               rp_haus_136_12_long['StageInDelay'].mean(),\\\n",
    "               rp_haus_300_8_long['StageInDelay'].mean(),\\\n",
    "               rp_haus_528_6_long['StageInDelay'].mean()],\n",
    "        label='Scheduler',color='g')\n",
    "\n",
    "plt.bar(bar_l+width,spco_schedulerdelay_long_ca,\n",
    "        width,alpha=1.0,bottom=spco_stagein_long_ca,\n",
    "        hatch='//',label='Scheduler',color='g')\n",
    "\n",
    "# Execution\n",
    "plt.bar(bar_l,[rp_haus_21_32_long['Execution'].mean(),\\\n",
    "               rp_haus_36_24_long['Execution'].mean(),\\\n",
    "               rp_haus_78_16_long['Execution'].mean(),\\\n",
    "               rp_haus_136_12_long['Execution'].mean(),\\\n",
    "               rp_haus_300_8_long['Execution'].mean(),\\\n",
    "               rp_haus_528_6_long['Execution'].mean()],\n",
    "        width,alpha=0.5,\n",
    "        bottom=[rp_haus_21_32_long['SchedulerDelay'].mean()+rp_haus_21_32_long['StageInDelay'].mean(),\\\n",
    "                rp_haus_36_24_long['SchedulerDelay'].mean()+rp_haus_36_24_long['StageInDelay'].mean(),\\\n",
    "                rp_haus_78_16_long['SchedulerDelay'].mean()+rp_haus_78_16_long['StageInDelay'].mean(),\\\n",
    "                rp_haus_136_12_long['SchedulerDelay'].mean()+rp_haus_136_12_long['StageInDelay'].mean(),\\\n",
    "                rp_haus_300_8_long['SchedulerDelay'].mean()+rp_haus_300_8_long['StageInDelay'].mean(),\\\n",
    "                rp_haus_528_6_long['SchedulerDelay'].mean()+rp_haus_528_6_long['StageInDelay'].mean()],\n",
    "        label='Execution')\n",
    "\n",
    "plt.bar(bar_l+width,spco_execution_long_ca,\n",
    "        width,alpha=0.5,\n",
    "        bottom=spco_stagein_long_ca+spco_schedulerdelay_long_ca,\n",
    "        hatch='//',\n",
    "        label='Execution')\n",
    "\n",
    "# Stage Out\n",
    "plt.savefig('MeanTaskBreakDownPr.pdf',bbox_extra_artists=(lgd,),bbox_inches='tight')"
   ]
  },
  {
   "cell_type": "code",
   "execution_count": 27,
   "metadata": {
    "collapsed": false
   },
   "outputs": [
    {
     "name": "stdout",
     "output_type": "stream",
     "text": [
      "[ 0.90663967  0.97442828  0.4732941   0.24708537  0.17977268  0.07048679]\n",
      "[ 42.09187662  25.70340247  11.45205818   7.08370761   3.24401828\n",
      "   1.85761192]\n",
      "[ 0.01168024  0.00794572  0.00187899  0.00179123  0.00188875  0.05985468]\n",
      "        Read       Exec     Write\n",
      "0   1.161243  47.568997  0.015729\n",
      "1   1.047776  48.703286  0.021018\n",
      "2   1.315634  19.553040  0.002992\n",
      "3   1.323230  47.664695  0.047324\n",
      "4   0.898327  49.244150  0.013827\n",
      "5   0.599272  45.745034  0.024901\n",
      "6   0.960855  47.427330  0.002385\n",
      "7   1.006272  37.957969  0.003809\n",
      "8   0.674757  48.121838  0.004966\n",
      "9   1.086013  48.602706  0.019085\n",
      "10  0.337305  23.107362  0.011167\n",
      "11  0.947801  19.130270  0.004002\n",
      "12  0.814154  48.301719  0.014514\n",
      "13  0.503514  49.125861  0.018708\n",
      "14  1.135889  44.942722  0.005400\n",
      "15  0.899491  49.281482  0.002089\n",
      "16  0.718640  47.800309  0.004729\n",
      "17  1.272572  44.394270  0.002635\n",
      "18  0.260076  49.170970  0.002874\n",
      "19  1.207253  44.952808  0.007362\n",
      "20  0.869359  23.132591  0.015769\n"
     ]
    }
   ],
   "source": [
    "haus_med_read = np.array([haus_21_32_med_exec_detail['Read'].mean(),\\\n",
    "                          haus_36_24_med_exec_detail['Read'].mean(),\\\n",
    "                          haus_78_16_med_exec_detail['Read'].mean(),\\\n",
    "                         haus_136_12_med_exec_detail['Read'].mean(),\\\n",
    "                          haus_300_8_med_exec_detail['Read'].mean(),\\\n",
    "                          haus_528_6_med_exec_detail['Read'].mean()])\n",
    "\n",
    "haus_med_exec = np.array([haus_21_32_med_exec_detail['Exec'].mean(),\\\n",
    "                          haus_36_24_med_exec_detail['Exec'].mean(),\\\n",
    "                          haus_78_16_med_exec_detail['Exec'].mean(),\\\n",
    "                         haus_136_12_med_exec_detail['Exec'].mean(),\\\n",
    "                          haus_300_8_med_exec_detail['Exec'].mean(),\\\n",
    "                          haus_528_6_med_exec_detail['Exec'].mean()])\n",
    "\n",
    "haus_med_write = np.array([haus_21_32_med_exec_detail['Write'].mean(),\\\n",
    "                           haus_36_24_med_exec_detail['Write'].mean(),\\\n",
    "                           haus_78_16_med_exec_detail['Write'].mean(),\\\n",
    "                           haus_136_12_med_exec_detail['Write'].mean(),\\\n",
    "                           haus_300_8_med_exec_detail['Write'].mean(),\\\n",
    "                           haus_528_6_med_exec_detail['Write'].mean()])\n",
    "\n",
    "print haus_med_read\n",
    "print haus_med_exec\n",
    "print haus_med_write\n",
    "print haus_21_32_med_exec_detail"
   ]
  },
  {
   "cell_type": "code",
   "execution_count": 52,
   "metadata": {
    "collapsed": false
   },
   "outputs": [
    {
     "data": {
      "image/png": "[encoded data removed]",
      "text/plain": [
       "<matplotlib.figure.Figure at 0x7f118afd3450>"
      ]
     },
     "metadata": {},
     "output_type": "display_data"
    },
    {
     "data": {
      "image/png": "[encoded data removed]",
      "text/plain": [
       "<matplotlib.figure.Figure at 0x7f118baf4a90>"
      ]
     },
     "metadata": {},
     "output_type": "display_data"
    },
    {
     "data": {
      "image/png": "[encoded data removed]",
      "text/plain": [
       "<matplotlib.figure.Figure at 0x7f118bbeb6d0>"
      ]
     },
     "metadata": {},
     "output_type": "display_data"
    }
   ],
   "source": [
    "bar_l = np.arange(6)\n",
    "width=0.20\n",
    "a=plt.figure()\n",
    "plt.title('Mean Task BreakDown')\n",
    "plt.subplot(4, 1, 1)\n",
    "#Stage IN\n",
    "plt.bar(bar_l,[rp_haus_21_32_short['StageInDelay'].mean(),\\\n",
    "               rp_haus_36_24_short['StageInDelay'].mean(),\\\n",
    "               rp_haus_78_16_short['StageInDelay'].mean(),\\\n",
    "               rp_haus_136_12_short['StageInDelay'].mean(),\\\n",
    "               rp_haus_300_8_short['StageInDelay'].mean(),\\\n",
    "               rp_haus_528_6_short['StageInDelay'].mean()],\n",
    "        width,alpha=1.0,log=1,\n",
    "        label='StageIn RP',color='r')\n",
    "\n",
    "#plt.bar(bar_l+width,spco_stagein_short_ca,\n",
    "#        width,alpha=1.0,\n",
    "#        hatch='//',log=1,\n",
    "#        label='StageIn Spark',color='r')\n",
    "lgd1 = plt.legend(bbox_to_anchor=(1.05, 1), loc=2, borderaxespad=0.)\n",
    "\n",
    "# Scheduling\n",
    "plt.subplot(4, 1, 2)\n",
    "plt.bar(bar_l,[rp_haus_21_32_short['SchedulerDelay'].mean(),\\\n",
    "               rp_haus_36_24_short['SchedulerDelay'].mean(),\\\n",
    "               rp_haus_78_16_short['SchedulerDelay'].mean(),\\\n",
    "               rp_haus_136_12_short['SchedulerDelay'].mean(),\\\n",
    "               rp_haus_300_8_short['SchedulerDelay'].mean(),\\\n",
    "               rp_haus_528_6_short['SchedulerDelay'].mean()],\n",
    "        width,alpha=1.0,label='Scheduler RP',color='g',log=1)\n",
    "\n",
    "plt.bar(bar_l+width,spco_schedulerdelay_short_ca,\n",
    "        width,alpha=1.0,log=1,\n",
    "        hatch='//',label='Scheduler Spark',color='g')\n",
    "lgd2 = plt.legend(bbox_to_anchor=(1.05, 1), loc=2, borderaxespad=0.)\n",
    "\n",
    "# Executing\n",
    "plt.subplot(4, 1, 3)\n",
    "haus_short_read = [haus_21_32_short_exec_detail['Read'].mean(),\\\n",
    "                   haus_36_24_short_exec_detail['Read'].mean(),\\\n",
    "                   haus_78_16_short_exec_detail['Read'].mean(),\\\n",
    "                   haus_136_12_short_exec_detail['Read'].mean(),\\\n",
    "                   haus_300_8_short_exec_detail['Read'].mean()]\n",
    "\n",
    "haus_short_exec = [haus_21_32_short_exec_detail['Exec'].mean(),\\\n",
    "                   haus_36_24_short_exec_detail['Exec'].mean(),\\\n",
    "                   haus_78_16_short_exec_detail['Exec'].mean(),\\\n",
    "                   haus_136_12_short_exec_detail['Exec'].mean(),\\\n",
    "                   haus_300_8_short_exec_detail['Exec'].mean()]\n",
    "\n",
    "plt.bar(bar_l,[rp_haus_21_32_short['Execution'].mean(),\\\n",
    "               rp_haus_36_24_short['Execution'].mean(),\\\n",
    "               rp_haus_78_16_short['Execution'].mean(),\\\n",
    "               rp_haus_136_12_short['Execution'].mean(),\\\n",
    "               rp_haus_300_8_short['Execution'].mean(),\\\n",
    "               rp_haus_528_6_short['Execution'].mean()],\n",
    "        width,alpha=0.5,log=1,\n",
    "        label='Execution RP')\n",
    "\n",
    "plt.bar(bar_l+width,spco_execution_short_ca,\n",
    "        width,alpha=0.5,\n",
    "        hatch='//',log=1,\n",
    "        label='Execution Spark')\n",
    "lgd3 = plt.legend(bbox_to_anchor=(1.05, 1), loc=2, borderaxespad=0.)\n",
    "\n",
    "# Stage out and Finalization\n",
    "plt.subplot(4, 1, 4)\n",
    "plt.bar(bar_l,[rp_haus_21_32_short['StageOut'].mean(),\\\n",
    "               rp_haus_36_24_short['StageOut'].mean(),\\\n",
    "               rp_haus_78_16_short['StageOut'].mean(),\\\n",
    "               rp_haus_136_12_short['StageOut'].mean(),\\\n",
    "               rp_haus_300_8_short['StageOut'].mean(),\\\n",
    "               rp_haus_528_6_short['StageOut'].mean()],\n",
    "        width,alpha=1.0,log=1,\n",
    "        label='Stageout RP',color='orange')\n",
    "\n",
    "plt.bar(bar_l+width,spco_stageout_short_ca,\n",
    "        width,alpha=1.0,log=1,\n",
    "        hatch='//',label='Stageout Spark',color='orange')\n",
    "lgd4 = plt.legend(bbox_to_anchor=(1.05, 1), loc=2, borderaxespad=0.)\n",
    "plt.xticks(bar_l + width, ('21', '36', '78', '136', '300','528'))\n",
    "plt.savefig('DetailedMeanTaskBreakDownShortPr.pdf',bbox_extra_artists=(lgd1,lgd2,lgd3,lgd4,),bbox_inches='tight')\n",
    "bar_l = np.arange(6)\n",
    "plt.figure()\n",
    "# Stage In\n",
    "plt.subplot(4, 1, 1)\n",
    "plt.bar(bar_l,[rp_haus_21_32_med['StageInDelay'].mean(),\\\n",
    "               rp_haus_36_24_med['StageInDelay'].mean(),\\\n",
    "               rp_haus_78_16_med['StageInDelay'].mean(),\\\n",
    "               rp_haus_136_12_med['StageInDelay'].mean(),\\\n",
    "               rp_haus_300_8_med['StageInDelay'].mean(),\\\n",
    "               rp_haus_528_6_med['StageInDelay'].mean()],\n",
    "        width,alpha=1.0,\n",
    "        label='StageIn RP',color='r')\n",
    "\n",
    "plt.bar(bar_l+width,spco_stagein_med_ca,\n",
    "        width,alpha=1.0,\n",
    "        hatch='//',log=1,\n",
    "        label='StageIn Spark',color='r')\n",
    "lgd1 = plt.legend(bbox_to_anchor=(1.05, 1), loc=2, borderaxespad=0.)\n",
    "# Scheduling Delay\n",
    "plt.subplot(4, 1, 2)\n",
    "plt.bar(bar_l,[rp_haus_21_32_med['SchedulerDelay'].mean(),\\\n",
    "               rp_haus_36_24_med['SchedulerDelay'].mean(),\\\n",
    "               rp_haus_78_16_med['SchedulerDelay'].mean(),\\\n",
    "               rp_haus_136_12_med['SchedulerDelay'].mean(),\\\n",
    "               rp_haus_300_8_med['SchedulerDelay'].mean(),\\\n",
    "               rp_haus_528_6_med['SchedulerDelay'].mean()],\n",
    "        width,alpha=1.0,log=1,label='Scheduler RP',color='g')\n",
    "\n",
    "plt.bar(bar_l+width,spco_schedulerdelay_med_ca,\n",
    "        width,alpha=1.0,log=1,\n",
    "        hatch='//',label='Scheduler Spark',color='g')\n",
    "\n",
    "lgd2 = plt.legend(bbox_to_anchor=(1.05, 1), loc=2, borderaxespad=0.)\n",
    "# Execution \n",
    "plt.subplot(4, 1, 3)\n",
    "plt.bar(bar_l,[rp_haus_21_32_med['Execution'].mean(),\\\n",
    "               rp_haus_36_24_med['Execution'].mean(),\\\n",
    "               rp_haus_78_16_med['Execution'].mean(),\\\n",
    "               rp_haus_136_12_med['Execution'].mean(),\\\n",
    "               rp_haus_300_8_med['Execution'].mean(),\\\n",
    "               rp_haus_528_6_med['Execution'].mean()],\n",
    "        width,alpha=0.5,log=1,\n",
    "        label='Execution RP')\n",
    "\n",
    "plt.bar(bar_l+width,spco_execution_med_ca,\n",
    "        width,alpha=0.5,\n",
    "        hatch='//',log=1,\n",
    "        label='Execution Spark')\n",
    "\n",
    "lgd3 = plt.legend(bbox_to_anchor=(1.05, 1), loc=2, borderaxespad=0.)\n",
    "# Stage Out\n",
    "plt.subplot(4, 1, 4)\n",
    "plt.bar(bar_l,[rp_haus_21_32_med['StageOut'].mean(),\\\n",
    "               rp_haus_36_24_med['StageOut'].mean(),\\\n",
    "               rp_haus_78_16_med['StageOut'].mean(),\\\n",
    "               rp_haus_136_12_med['StageOut'].mean(),\\\n",
    "               rp_haus_300_8_med['StageOut'].mean(),\\\n",
    "               rp_haus_528_6_med['StageOut'].mean()],\n",
    "        width,alpha=1.0,log=1,\n",
    "        label='Stageout RP',color='orange')\n",
    "\n",
    "plt.bar(bar_l+width,spco_stageout_med_ca,\n",
    "        width,alpha=1.0,log=1,\n",
    "        hatch='//',label='Stageout Spark',color='orange')\n",
    "\n",
    "lgd4 = plt.legend(bbox_to_anchor=(1.05, 1), loc=2, borderaxespad=0.)\n",
    "\n",
    "plt.xticks(bar_l + width, ('21', '36', '78', '136', '300','528'))\n",
    "plt.savefig('DetailedMeanTaskBreakDownMedPr.pdf',bbox_extra_artists=(lgd1,lgd2,lgd3,lgd4,),bbox_inches='tight')\n",
    "\n",
    "plt.figure()\n",
    "# Stage In\n",
    "plt.subplot(4, 1, 1)\n",
    "plt.bar(bar_l,[rp_haus_21_32_long['StageInDelay'].mean(),\\\n",
    "               rp_haus_36_24_long['StageInDelay'].mean(),\\\n",
    "               rp_haus_78_16_long['StageInDelay'].mean(),\\\n",
    "               rp_haus_136_12_long['StageInDelay'].mean(),\\\n",
    "               rp_haus_300_8_long['StageInDelay'].mean(),\\\n",
    "               rp_haus_528_6_long['StageInDelay'].mean()],\n",
    "        width,alpha=1.0,log=1,\n",
    "        label='StageIn RP',color='r')\n",
    "\n",
    "plt.bar(bar_l+width,spco_stagein_long_ca,\n",
    "        width,alpha=1.0,\n",
    "        hatch='//',log=1,\n",
    "        label='StageIn Spark',color='r')\n",
    "lgd1 = plt.legend(bbox_to_anchor=(1.05, 1), loc=2, borderaxespad=0.)\n",
    "\n",
    "#Scheduling Delay\n",
    "plt.subplot(4, 1, 2)\n",
    "plt.bar(bar_l,[rp_haus_21_32_long['SchedulerDelay'].mean(),\\\n",
    "               rp_haus_36_24_long['SchedulerDelay'].mean(),\\\n",
    "               rp_haus_78_16_long['SchedulerDelay'].mean(),\\\n",
    "               rp_haus_136_12_long['SchedulerDelay'].mean(),\\\n",
    "               rp_haus_300_8_long['SchedulerDelay'].mean(),\\\n",
    "               rp_haus_528_6_long['SchedulerDelay'].mean()],\n",
    "        width,alpha=1.0,log=1,\n",
    "        label='Scheduler RP',color='g')\n",
    "\n",
    "plt.bar(bar_l+width,spco_schedulerdelay_long_ca,\n",
    "        width,alpha=1.0,\n",
    "        hatch='//',label='Scheduler Spark',color='g')\n",
    "lgd2 = plt.legend(bbox_to_anchor=(1.05, 1), loc=2, borderaxespad=0.)\n",
    "\n",
    "# Execution\n",
    "plt.subplot(4, 1, 3)\n",
    "plt.bar(bar_l,[rp_haus_21_32_long['Execution'].mean(),\\\n",
    "               rp_haus_36_24_long['Execution'].mean(),\\\n",
    "               rp_haus_78_16_long['Execution'].mean(),\\\n",
    "               rp_haus_136_12_long['Execution'].mean(),\\\n",
    "               rp_haus_300_8_long['Execution'].mean(),\\\n",
    "               rp_haus_528_6_long['Execution'].mean()],\n",
    "        width,alpha=0.5,log=1,\n",
    "        label='Execution RP')\n",
    "\n",
    "plt.bar(bar_l+width,spco_execution_long_ca,\n",
    "        width,alpha=0.5,\n",
    "        hatch='//',log=1,\n",
    "        label='Execution Spark')\n",
    "\n",
    "lgd3 = plt.legend(bbox_to_anchor=(1.05, 1), loc=2, borderaxespad=0.)\n",
    "# Stage Out\n",
    "plt.subplot(4, 1, 4)\n",
    "plt.bar(bar_l,[rp_haus_21_32_long['StageOut'].mean(),\\\n",
    "               rp_haus_36_24_long['StageOut'].mean(),\\\n",
    "               rp_haus_78_16_long['StageOut'].mean(),\\\n",
    "               rp_haus_136_12_long['StageOut'].mean(),\\\n",
    "               rp_haus_300_8_long['StageOut'].mean(),\\\n",
    "               rp_haus_528_6_long['StageOut'].mean()],\n",
    "        width,alpha=1.0,log=1,\n",
    "        hatch='\\\\',label='Stageout RP',color='orange')\n",
    "\n",
    "plt.bar(bar_l+width,spco_stageout_long_ca,\n",
    "        width,alpha=1.0,log=1,\n",
    "        hatch='//',label='Stageout Spark ',color='orange')\n",
    "plt.xticks(bar_l + width, ('21', '36', '78', '136', '300','528'))\n",
    "lgd4 = plt.legend(bbox_to_anchor=(1.05, 1), loc=2, borderaxespad=0.)\n",
    "plt.savefig('DetailedMeanTaskBreakDownLongPr.pdf',bbox_extra_artists=(lgd1,lgd2,lgd3,lgd4,),bbox_inches='tight')"
   ]
  },
  {
   "cell_type": "code",
   "execution_count": null,
   "metadata": {
    "collapsed": true
   },
   "outputs": [],
   "source": [
    "print rp_haus_overall\n",
    "rp_haus_overall['Mean'][0:5].plot.bar(yerr=rp_haus_overall['Std'])"
   ]
  },
  {
   "cell_type": "markdown",
   "metadata": {
    "collapsed": true
   },
   "source": [
    "# Analysis and Modeling"
   ]
  },
  {
   "cell_type": "markdown",
   "metadata": {},
   "source": [
    "## Definitions"
   ]
  },
  {
   "cell_type": "markdown",
   "metadata": {},
   "source": [
    "$N_I$: Number of Input files\n",
    "\n",
    "$S_I$: Size of each file\n",
    "\n",
    "$k$: Number of tasks\n",
    "\n",
    "$N_O$: Number of Output files\n",
    "\n",
    "$S_O$: Size of each file\n",
    "\n",
    "$\\alpha$: the coefficient of Staging In\n",
    "\n",
    "$\\beta$: the coefficient of the Scheduling delay\n",
    "\n",
    "$\\gamma$: the coefficient of the Execution\n",
    "\n",
    "$\\delta$: the coefficient of the Staging Out"
   ]
  },
  {
   "cell_type": "markdown",
   "metadata": {},
   "source": [
    "## General Analysis"
   ]
  },
  {
   "cell_type": "markdown",
   "metadata": {},
   "source": [
    "The execution model can be easily broken to different parts.  First part of the model is data StageIn. In case of RADICAL-Pilot StageIn is rather easy to undeerstand. In case of Spark, I consider as StageIn the part of the code that is written before partitioning the data. Second part is the time need to schedule a task. Third is the actual execution of the task, which can be broken further more to read, exec and write. Finally, the last part of the model is the time necessary to stage out the data. In case of RADICAL-Pilot it is easy to understand. In Spark, I consider as the time needed from the time that all tasks have returned their data until the end of the script.\n",
    "\n",
    "Essentially, the model will look like:\n",
    "\n",
    "$$T=\\alpha(N_I S_I)+\\beta\\frac{k(k+1)}{2}+\\gamma Y+\\delta\\Big{(}N_O S_O + \\frac{k(k+1)}{2}\\Big{)}$$\n",
    "\n",
    "$Y$ is the tme of the execution of the task.\n"
   ]
  },
  {
   "cell_type": "markdown",
   "metadata": {
    "collapsed": true
   },
   "source": [
    "## Analysis of Task Execution"
   ]
  },
  {
   "cell_type": "markdown",
   "metadata": {},
   "source": [
    "That is dependent to the number of trajectories being processed and the number of points in each trajectory. Let $T_N$ be the number of trajectories per task and $T_S$ the size of each trajectory, i.e. the number of points.Thus, the above execution time can be\n",
    "\n",
    "$$Y = (T_N T_S)r+{T_N}^2 dH +{T_N}^2 w$$"
   ]
  },
  {
   "cell_type": "markdown",
   "metadata": {},
   "source": [
    "Let $dH$ be the time to calculate the Hausdorff distance between two trajectories. The following algorithm describes it in pseudocode. The description will help the following analysis\n",
    "\n",
    "Let $T_1$ and $T_2$ be the two trajectories\n",
    "\n",
    "For $\\forall t_1\\in T_1$ do:\n",
    "\n",
    "&nbsp;&nbsp;For $\\forall t_2\\in T_2$ do:\n",
    "\n",
    "&nbsp;&nbsp;&nbsp;&nbsp;Append in $D_1$ d($t_1, t_2$)\n",
    "\n",
    "&nbsp;&nbsp;EndDo\n",
    "\n",
    "&nbsp;&nbsp;D = max($D_1$)\n",
    "\n",
    "EndFor\n",
    "\n",
    "$N_1$=max(D)\n",
    "\n",
    "For $\\forall t_2\\in T_2$ do:\n",
    "\n",
    "&nbsp;&nbsp;For $\\forall t_1\\in T_1$ do:\n",
    "\n",
    "&nbsp;&nbsp;&nbsp;&nbsp;Append in $D_2$ d($t_2, t_1$);\n",
    "\n",
    "&nbsp;&nbsp;EndDo\n",
    "\n",
    "&nbsp;&nbsp;D = max($D_2$)\n",
    "\n",
    "EndFor\n",
    "\n",
    "$N_2$=max(D)\n",
    "\n",
    "Return max($N_1, N_2$)\n",
    "\n",
    "\n",
    "Thus $dH$ is $$dH =\\mathcal{O}({T_S}^2) + T_S \\mathcal{O}(T_S) + \\mathcal{O}({T_S}^2) + T_S \\mathcal{O}(T_S)$$\n"
   ]
  },
  {
   "cell_type": "markdown",
   "metadata": {
    "collapsed": true
   },
   "source": [
    "## System Solving"
   ]
  },
  {
   "cell_type": "markdown",
   "metadata": {},
   "source": [
    "C is the coefficient vector. y is the total execution times and A will be the matrix that holds the several values. The calculations will happen for CA short and it will verifythe other 2.\n",
    "\n",
    "Also, simple division will be done between the known values end their respective time to check "
   ]
  },
  {
   "cell_type": "markdown",
   "metadata": {},
   "source": [
    "### RP fitting"
   ]
  },
  {
   "cell_type": "markdown",
   "metadata": {},
   "source": [
    "#### Small Data set"
   ]
  },
  {
   "cell_type": "code",
   "execution_count": 29,
   "metadata": {
    "collapsed": false
   },
   "outputs": [
    {
     "name": "stdout",
     "output_type": "stream",
     "text": [
      "[ 20.83152014  12.18815162   6.06983352   3.94762929]\n",
      "[[  5.44000000e+03   2.10000000e+01   2.07635511e+01   2.10000000e+01]\n",
      " [  4.08000000e+03   3.60000000e+01   1.21358488e+01   3.60000000e+01]\n",
      " [  2.72000000e+03   7.80000000e+01   6.03011796e+00   7.80000000e+01]\n",
      " [  2.04000000e+03   1.36000000e+02   3.91804321e+00   1.36000000e+02]]\n",
      "[  1.35982738e-05   9.88078551e+11   9.99759894e-01  -9.88078551e+11]\n"
     ]
    }
   ],
   "source": [
    "y=np.array([rp_haus_21_32_short['TotalTime'].mean(),\\\n",
    "            rp_haus_36_24_short['TotalTime'].mean(),\\\n",
    "            rp_haus_78_16_short['TotalTime'].mean(),\\\n",
    "            rp_haus_136_12_short['TotalTime'].mean()])\n",
    "print y\n",
    "A = np.array(([64*85,21,rp_haus_21_32_short['Execution'].mean(),21],\n",
    "              [48*85,36,rp_haus_36_24_short['Execution'].mean(),36],\n",
    "              [32*85,78,rp_haus_78_16_short['Execution'].mean(),78],\n",
    "              [24*85,136,rp_haus_136_12_short['Execution'].mean(),136]))\n",
    "print A\n",
    "C = np.linalg.solve(A, y)\n",
    "print C"
   ]
  },
  {
   "cell_type": "code",
   "execution_count": 30,
   "metadata": {
    "collapsed": false
   },
   "outputs": [
    {
     "name": "stdout",
     "output_type": "stream",
     "text": [
      "Small: Predicted Total Time 300 tasks: 2.19505713407 Actual Mean Total Time: 2.38752645466 Error: 0.192469320591\n",
      "Small: Predicted Total Time 528 tasks: 1.26865175492 Actual Mean Total Time: 1.61307469131 Error: 0.344422936393\n"
     ]
    }
   ],
   "source": [
    "a = np.array([16*85,300,rp_haus_300_8_short['Execution'].mean(),300])\n",
    "\n",
    "test1 = np.inner(a,C)\n",
    "\n",
    "print 'Small: Predicted Total Time 300 tasks:',test1,'Actual Mean Total Time:',rp_haus_300_8_short['TotalTime'].mean(), 'Error:',rp_haus_300_8_short['TotalTime'].mean()-test1\n",
    "\n",
    "a = np.array([12*85,528,rp_haus_528_6_short['Execution'].mean(),528])\n",
    "\n",
    "test1 = np.inner(a,C)\n",
    "\n",
    "print 'Small: Predicted Total Time 528 tasks:',test1,'Actual Mean Total Time:',rp_haus_528_6_short['TotalTime'].mean(), 'Error:',rp_haus_528_6_short['TotalTime'].mean()-test1\n"
   ]
  },
  {
   "cell_type": "markdown",
   "metadata": {},
   "source": [
    "#### Medium Dataset"
   ]
  },
  {
   "cell_type": "code",
   "execution_count": 31,
   "metadata": {
    "collapsed": false
   },
   "outputs": [
    {
     "name": "stdout",
     "output_type": "stream",
     "text": [
      "Medium: Predicted Total Time 21 tasks: 33.3136668993 Actual Mean Total Time: 33.3253119711 Error: 0.0116450718086\n",
      "Medium: Predicted Total Time 36 tasks: 22.2328782699 Actual Mean Total Time: 22.2469520392 Error: 0.0140737693618\n",
      "Medium: Predicted Total Time 78 tasks: 10.8452443487 Actual Mean Total Time: 10.8571666795 Error: 0.0119223308157\n",
      "Medium: Predicted Total Time 136 tasks: 6.8738059856 Actual Mean Total Time: 6.88058625833 Error: 0.00678027273885\n",
      "Medium: Predicted Total Time 300 tasks: 3.63918139191 Actual Mean Total Time: 3.67618065543 Error: 0.0369992635193\n",
      "Medium: Predicted Total Time 528 tasks: 2.40475870352 Actual Mean Total Time: 3.23822765489 Error: 0.833468951372\n"
     ]
    }
   ],
   "source": [
    "a = np.array([64*85,21,rp_haus_21_32_med['Execution'].mean(),21])\n",
    "\n",
    "test1 = np.inner(a,C)\n",
    "\n",
    "print 'Medium: Predicted Total Time 21 tasks:',test1,'Actual Mean Total Time:',rp_haus_21_32_med['TotalTime'].mean(), 'Error:',rp_haus_21_32_med['TotalTime'].mean()-test1\n",
    "\n",
    "a = np.array([48*85,36,rp_haus_36_24_med['Execution'].mean(),36])\n",
    "\n",
    "test1 = np.inner(a,C)\n",
    "\n",
    "print 'Medium: Predicted Total Time 36 tasks:',test1,'Actual Mean Total Time:',rp_haus_36_24_med['TotalTime'].mean(), 'Error:',rp_haus_36_24_med['TotalTime'].mean()-test1\n",
    "\n",
    "a = np.array([32*85,78,rp_haus_78_16_med['Execution'].mean(),78])\n",
    "\n",
    "test1 = np.inner(a,C)\n",
    "\n",
    "print 'Medium: Predicted Total Time 78 tasks:',test1,'Actual Mean Total Time:',rp_haus_78_16_med['TotalTime'].mean(), 'Error:',rp_haus_78_16_med['TotalTime'].mean()-test1\n",
    "\n",
    "a = np.array([24*85,136,rp_haus_136_12_med['Execution'].mean(),136])\n",
    "\n",
    "test1 = np.inner(a,C)\n",
    "\n",
    "print 'Medium: Predicted Total Time 136 tasks:',test1,'Actual Mean Total Time:',rp_haus_136_12_med['TotalTime'].mean(), 'Error:',rp_haus_136_12_med['TotalTime'].mean()-test1\n",
    "\n",
    "a = np.array([16*85,300,rp_haus_300_8_med['Execution'].mean(),300])\n",
    "\n",
    "test1 = np.inner(a,C)\n",
    "\n",
    "print 'Medium: Predicted Total Time 300 tasks:',test1,'Actual Mean Total Time:',rp_haus_300_8_med['TotalTime'].mean(), 'Error:',rp_haus_300_8_med['TotalTime'].mean()-test1\n",
    "\n",
    "a = np.array([12*85,528,rp_haus_528_6_med['Execution'].mean(),528])\n",
    "\n",
    "test1 = np.inner(a,C)\n",
    "\n",
    "print 'Medium: Predicted Total Time 528 tasks:',test1,'Actual Mean Total Time:',rp_haus_528_6_med['TotalTime'].mean(), 'Error:',rp_haus_528_6_med['TotalTime'].mean()-test1"
   ]
  },
  {
   "cell_type": "markdown",
   "metadata": {},
   "source": [
    "#### Large Dataset"
   ]
  },
  {
   "cell_type": "code",
   "execution_count": 32,
   "metadata": {
    "collapsed": false
   },
   "outputs": [
    {
     "name": "stdout",
     "output_type": "stream",
     "text": [
      "Long: Predicted Total Time 21 tasks: 43.8873638582 Actual Mean Total Time: 43.8923199669 Error: 0.00495610872072\n",
      "Long: Predicted Total Time 36 tasks: 30.9028212926 Actual Mean Total Time: 30.9349148759 Error: 0.0320935833527\n",
      "Long: Predicted Total Time 78 tasks: 17.1266483406 Actual Mean Total Time: 17.1459104994 Error: 0.0192621588231\n",
      "Long: Predicted Total Time 136 tasks: 11.1204478449 Actual Mean Total Time: 11.1351985826 Error: 0.0147507377432\n",
      "Long: Predicted Total Time 300 tasks: 4.34514286961 Actual Mean Total Time: 5.26987538991 Error: 0.924732520303\n",
      "Long: Predicted Total Time 528 tasks: 4.34051945651 Actual Mean Total Time: 5.26987538991 Error: 0.929355933395\n"
     ]
    }
   ],
   "source": [
    "a = np.array([64*85,21,rp_haus_21_32_long['Execution'].mean(),21])\n",
    "\n",
    "test1 = np.inner(a,C)\n",
    "\n",
    "print 'Long: Predicted Total Time 21 tasks:',test1,'Actual Mean Total Time:',rp_haus_21_32_long['TotalTime'].mean(), 'Error:',rp_haus_21_32_long['TotalTime'].mean()-test1\n",
    "\n",
    "a = np.array([48*85,36,rp_haus_36_24_long['Execution'].mean(),36])\n",
    "\n",
    "test1 = np.inner(a,C)\n",
    "\n",
    "print 'Long: Predicted Total Time 36 tasks:',test1,'Actual Mean Total Time:',rp_haus_36_24_long['TotalTime'].mean(), 'Error:',rp_haus_36_24_long['TotalTime'].mean()-test1\n",
    "\n",
    "a = np.array([32*85,78,rp_haus_78_16_long['Execution'].mean(),78])\n",
    "\n",
    "test1 = np.inner(a,C)\n",
    "\n",
    "print 'Long: Predicted Total Time 78 tasks:',test1,'Actual Mean Total Time:',rp_haus_78_16_long['TotalTime'].mean(), 'Error:',rp_haus_78_16_long['TotalTime'].mean()-test1\n",
    "\n",
    "a = np.array([24*85,136,rp_haus_136_12_long['Execution'].mean(),136])\n",
    "\n",
    "test1 = np.inner(a,C)\n",
    "\n",
    "print 'Long: Predicted Total Time 136 tasks:',test1,'Actual Mean Total Time:',rp_haus_136_12_long['TotalTime'].mean(), 'Error:',rp_haus_136_12_long['TotalTime'].mean()-test1\n",
    "\n",
    "a = np.array([16*85,300,rp_haus_300_8_long['Execution'].mean(),300])\n",
    "\n",
    "test1 = np.inner(a,C)\n",
    "\n",
    "print 'Long: Predicted Total Time 300 tasks:',test1,'Actual Mean Total Time:',rp_haus_300_8_long['TotalTime'].mean(), 'Error:',rp_haus_300_8_long['TotalTime'].mean()-test1\n",
    "\n",
    "a = np.array([12*85,528,rp_haus_528_6_long['Execution'].mean(),528])\n",
    "\n",
    "test1 = np.inner(a,C)\n",
    "\n",
    "print 'Long: Predicted Total Time 528 tasks:',test1,'Actual Mean Total Time:',rp_haus_528_6_long['TotalTime'].mean(), 'Error:',rp_haus_528_6_long['TotalTime'].mean()-test1"
   ]
  },
  {
   "cell_type": "markdown",
   "metadata": {},
   "source": [
    "### Spark fitting"
   ]
  },
  {
   "cell_type": "markdown",
   "metadata": {},
   "source": [
    "#### Small Dataset"
   ]
  },
  {
   "cell_type": "code",
   "execution_count": 259,
   "metadata": {
    "collapsed": false
   },
   "outputs": [
    {
     "name": "stdout",
     "output_type": "stream",
     "text": [
      "Trajectory Read: 8.4\n",
      "Scheduling Delay: 11.5657272727\n",
      "Task REW: 5.68579734848\n",
      "Total Task Life: 17.2515246212\n",
      "\n",
      "Read + Task Life: 21.394\n",
      "Spark Script Time minus (Read+Task Life): 24.276\n",
      "5.26987538991\n"
     ]
    },
    {
     "data": {
      "text/plain": [
       "[<matplotlib.lines.Line2D at 0xf5fa5c0>]"
      ]
     },
     "execution_count": 259,
     "metadata": {},
     "output_type": "execute_result"
    },
    {
     "data": {
      "image/png": "[encoded data removed]",
      "text/plain": [
       "<matplotlib.figure.Figure at 0xe37e898>"
      ]
     },
     "metadata": {},
     "output_type": "display_data"
    }
   ],
   "source": [
    "print 'Trajectory Read:', SparkExps['DataInit'][53]\n",
    "print 'Scheduling Delay:', SparkExps['appData'][53]['SchedulerDelay'].mean()/1000\n",
    "print 'Task REW:',(SparkExps['appData'][53]['Runtime']+SparkExps['appData'][53]['DeserializeTime']+SparkExps['appData'][53]['ResultSerialization']).mean()/1000\n",
    "print 'Total Task Life:',((SparkExps['appData'][53]['FinishTime'] - SparkExps['appData'][53]['LaunchTime']).mean()/1000)\n",
    "print ''\n",
    "print  'Read + Task Life:',(SparkExps['DataInit'][53] + \\\n",
    "      ((SparkExps['appData'][53]['FinishTime'][284]-SparkExps['appData'][53]['LaunchTime'][346]).mean()/1000))\n",
    "print 'Spark Script Time - (Read+Task Life):',SparkExps['TotalTime'][53]-(SparkExps['DataInit'][53] + \\\n",
    "      ((SparkExps['appData'][53]['FinishTime'][284]-SparkExps['appData'][53]['LaunchTime'][346]).mean()/1000))\n",
    "\n",
    "print 'RADICAL-Pilot Mean CU:', rp_haus_528_6_long['TotalTime'].mean()\n",
    "\n",
    "plt.plot(SparkExps['appData'][53]['LaunchTime']/1000,'b*')\n",
    "plt.plot(SparkExps['appData'][53]['FinishTime']/1000,'r*')"
   ]
  },
  {
   "cell_type": "code",
   "execution_count": 172,
   "metadata": {
    "collapsed": false
   },
   "outputs": [
    {
     "name": "stdout",
     "output_type": "stream",
     "text": [
      "[  1.73986914e-07   1.65912569e-02   9.13465024e-01   3.40745254e-04]\n",
      "Small: Predicted Total Time 300 tasks: 30.6275976993 Actual Mean Total Time: 26.0 Error: -4.62759769929\n"
     ]
    }
   ],
   "source": [
    "y=np.array([(spco_stageout_short_ca+spco_stagein_short_ca+spco_schedulerdelay_short_ca+spco_execution_short_ca)[0].mean(),\\\n",
    "            (spco_stageout_short_ca+spco_stagein_short_ca+spco_schedulerdelay_short_ca+spco_execution_short_ca)[1].mean(),\\\n",
    "            (spco_stageout_short_ca+spco_stagein_short_ca+spco_schedulerdelay_short_ca+spco_execution_short_ca)[2].mean(),\\\n",
    "            (spco_stageout_short_ca+spco_stagein_short_ca+spco_schedulerdelay_short_ca+spco_execution_short_ca)[3].mean()])\n",
    "\n",
    "\n",
    "A = np.array(([48555744,21,spco_execution_short_ca[0],294992/21 + 21],\n",
    "              [48555744,36,spco_execution_short_ca[1],294992/36 + 36],\n",
    "              [48555744,78,spco_execution_short_ca[2],294992/78 + 78],\n",
    "              [48555744,136,spco_execution_short_ca[3],294992/136 + 136]))\n",
    "\n",
    "D = np.linalg.solve(A, y)\n",
    "print D\n",
    "a = np.array([48555744,300,spco_execution_short_ca[0],294912/21 + 21])\n",
    "\n",
    "test1 = np.inner(a,D)\n",
    "\n",
    "print 'Small: Predicted Total Time 300 tasks:',test1,'Actual Mean Total Time:',(spco_stageout_short_ca+spco_stagein_short_ca+spco_schedulerdelay_short_ca+spco_execution_short_ca)[0].mean(), 'Error:',(spco_stageout_short_ca+spco_stagein_short_ca+spco_schedulerdelay_short_ca+spco_execution_short_ca)[0].mean()-test1\n",
    "\n",
    "\n"
   ]
  },
  {
   "cell_type": "code",
   "execution_count": 166,
   "metadata": {
    "collapsed": false
   },
   "outputs": [
    {
     "name": "stdout",
     "output_type": "stream",
     "text": [
      "Small: Predicted Total Time 300 tasks: 17.0306673126 Actual Mean Total Time: 24.6666666667 Error: 1.96933268741\n",
      "Small: Predicted Total Time 528 tasks: 20.0541413234 Actual Mean Total Time: 28.0 Error: 1.94585867656\n"
     ]
    }
   ],
   "source": [
    "a = np.array([48555744,300,spco_execution_short_ca[4],294912/300+300])\n",
    "\n",
    "test1 = np.inner(a,D)\n",
    "\n",
    "print 'Small: Predicted Total Time 300 tasks:',test1,'Actual Mean Total Time:',(spco_stageout_short_ca+spco_stagein_short_ca+spco_schedulerdelay_short_ca+spco_execution_short_ca)[4].mean(), 'Error:',SparkExps['TotalTime'][12:15].mean()-test1\n",
    "\n",
    "a = np.array([48555744,528,spco_execution_short_ca[5],294912/528+528])\n",
    "\n",
    "test1 = np.inner(a,D)\n",
    "\n",
    "print 'Small: Predicted Total Time 528 tasks:',test1,'Actual Mean Total Time:',(spco_stageout_short_ca+spco_stagein_short_ca+spco_schedulerdelay_short_ca+spco_execution_short_ca)[5].mean(), 'Error:',SparkExps['TotalTime'][15:18].mean()-test1"
   ]
  },
  {
   "cell_type": "code",
   "execution_count": 150,
   "metadata": {
    "collapsed": false
   },
   "outputs": [
    {
     "name": "stdout",
     "output_type": "stream",
     "text": [
      "Medium: Predicted Total Time 21 tasks: 118.819239748 Actual Mean Total Time: 35.3333333333 Error: -83.4859064144\n",
      "Medium: Predicted Total Time 36 tasks: 108.524012292 Actual Mean Total Time: 22.6666666667 Error: -86.2770602526\n",
      "Medium: Predicted Total Time 78 tasks: 103.26024404 Actual Mean Total Time: 10.8571666795 Error: -92.4030773608\n",
      "Medium: Predicted Total Time 136 tasks: 103.924102453 Actual Mean Total Time: 6.88058625833 Error: -97.0435161948\n",
      "Medium: Predicted Total Time 300 tasks: 109.329720293 Actual Mean Total Time: 3.67618065543 Error: -105.653539637\n",
      "Medium: Predicted Total Time 528 tasks: 120.853325224 Actual Mean Total Time: 3.23822765489 Error: -117.615097569\n"
     ]
    }
   ],
   "source": [
    "a = np.array([97111488,21,spco_execution_med_ca[0].mean(),294912])\n",
    "\n",
    "test1 = np.inner(a,D)\n",
    "\n",
    "print 'Medium: Predicted Total Time 21 tasks:',test1,'Actual Mean Total Time:',SparkExps['TotalTime'][18:21].mean(), 'Error:',SparkExps['TotalTime'][18:21].mean()-test1\n",
    "\n",
    "a = np.array([97111488,36,spco_execution_med_ca[1],294912])\n",
    "\n",
    "test1 = np.inner(a,D)\n",
    "\n",
    "print 'Medium: Predicted Total Time 36 tasks:',test1,'Actual Mean Total Time:',SparkExps['TotalTime'][21:24].mean(), 'Error:',rp_haus_36_24_med['TotalTime'].mean()-test1\n",
    "\n",
    "a = np.array([97111488,78,spco_execution_med_ca[2],294912])\n",
    "\n",
    "test1 = np.inner(a,D)\n",
    "\n",
    "print 'Medium: Predicted Total Time 78 tasks:',test1,'Actual Mean Total Time:',rp_haus_78_16_med['TotalTime'].mean(), 'Error:',rp_haus_78_16_med['TotalTime'].mean()-test1\n",
    "\n",
    "a = np.array([97111488,136,spco_execution_med_ca[3],294912])\n",
    "\n",
    "test1 = np.inner(a,D)\n",
    "\n",
    "print 'Medium: Predicted Total Time 136 tasks:',test1,'Actual Mean Total Time:',rp_haus_136_12_med['TotalTime'].mean(), 'Error:',rp_haus_136_12_med['TotalTime'].mean()-test1\n",
    "\n",
    "a = np.array([97111488,300,spco_execution_med_ca[4],294912])\n",
    "\n",
    "test1 = np.inner(a,D)\n",
    "\n",
    "print 'Medium: Predicted Total Time 300 tasks:',test1,'Actual Mean Total Time:',rp_haus_300_8_med['TotalTime'].mean(), 'Error:',rp_haus_300_8_med['TotalTime'].mean()-test1\n",
    "\n",
    "a = np.array([97111488,528,spco_execution_med_ca[5],294912])\n",
    "\n",
    "test1 = np.inner(a,D)\n",
    "\n",
    "print 'Medium: Predicted Total Time 528 tasks:',test1,'Actual Mean Total Time:',rp_haus_528_6_med['TotalTime'].mean(), 'Error:',rp_haus_528_6_med['TotalTime'].mean()-test1"
   ]
  },
  {
   "cell_type": "markdown",
   "metadata": {},
   "source": [
    "### CU Arrival Time Fit"
   ]
  },
  {
   "cell_type": "code",
   "execution_count": 86,
   "metadata": {
    "collapsed": false
   },
   "outputs": [
    {
     "data": {
      "text/plain": [
       "(array([ 0.01313076,  7.66860076]),\n",
       " array([ 2.51813803]),\n",
       " 2,\n",
       " array([ 1057.57536549,     1.5317637 ]))"
      ]
     },
     "execution_count": 86,
     "metadata": {},
     "output_type": "execute_result"
    },
    {
     "data": {
      "image/png": "[encoded data removed]",
      "text/plain": [
       "<matplotlib.figure.Figure at 0x7fda4c3e1c50>"
      ]
     },
     "metadata": {},
     "output_type": "display_data"
    }
   ],
   "source": [
    "Arrival16 = np.mean([rp_haus_16_32_short_aa_1['StageIn'].max(),rp_haus_16_32_short_aa_2['StageIn'].max(),rp_haus_16_32_short_aa_3['StageIn'].max(),rp_haus_16_32_med_aa_1['StageIn'].max(),rp_haus_16_32_med_aa_2['StageIn'].max(),rp_haus_16_32_med_aa_3['StageIn'].max(),rp_haus_16_32_long_aa_1['StageIn'].max(),rp_haus_16_32_long_aa_2['StageIn'].max(),rp_haus_16_32_long_aa_3['StageIn'].max()])\n",
    "Arrival64 = np.mean([rp_haus_64_16_short_aa_1['StageIn'].max(),rp_haus_64_16_short_aa_2['StageIn'].max(),rp_haus_64_16_short_aa_3['StageIn'].max(),rp_haus_64_16_med_aa_1['StageIn'].max(),rp_haus_64_16_med_aa_2['StageIn'].max(),rp_haus_64_16_med_aa_3['StageIn'].max(),rp_haus_64_16_long_aa_1['StageIn'].max(),rp_haus_64_16_long_aa_2['StageIn'].max(),rp_haus_64_16_long_aa_3['StageIn'].max()])\n",
    "Arrival256 = np.mean([rp_haus_256_8_short_aa_1['StageIn'].max(),rp_haus_256_8_short_aa_2['StageIn'].max(),rp_haus_256_8_short_aa_3['StageIn'].max(),rp_haus_256_8_med_aa_1['StageIn'].max(),rp_haus_256_8_med_aa_2['StageIn'].max(),rp_haus_256_8_med_aa_3['StageIn'].max(),rp_haus_256_8_long_aa_1['StageIn'].max(),rp_haus_256_8_long_aa_2['StageIn'].max(),rp_haus_256_8_long_aa_3['StageIn'].max()])\n",
    "Arrival1024 = np.mean([rp_haus_1024_4_short_aa_1['StageIn'].max(),rp_haus_1024_4_short_aa_2['StageIn'].max(),rp_haus_1024_4_short_aa_3['StageIn'].max(),rp_haus_1024_4_med_aa_1['StageIn'].max(),rp_haus_1024_4_med_aa_2['StageIn'].max(),rp_haus_1024_4_med_aa_3['StageIn'].max(),rp_haus_1024_4_long_aa_1['StageIn'].max(),rp_haus_1024_4_long_aa_2['StageIn'].max(),rp_haus_1024_4_long_aa_3['StageIn'].max()])\n",
    "\n",
    "ydata = np.array([Arrival16,Arrival64,Arrival256,Arrival1024])\n",
    "xdata = np.array([16,64,256,1024])\n",
    "\n",
    "plt.scatter(xdata,ydata)\n",
    "\n",
    "A2=np.vstack([xdata, np.ones((len(xdata),))]).T\n",
    "b3=np.linalg.lstsq(A2,ydata)\n",
    "plt.plot(xdata,b3[0][0]*xdata+b3[0][1])\n",
    "b3"
   ]
  }
 ],
 "metadata": {
  "anaconda-cloud": {},
  "kernelspec": {
   "display_name": "Python [default]",
   "language": "python",
   "name": "python2"
  },
  "language_info": {
   "codemirror_mode": {
    "name": "ipython",
    "version": 2
   },
   "file_extension": ".py",
   "mimetype": "text/x-python",
   "name": "python",
   "nbconvert_exporter": "python",
   "pygments_lexer": "ipython2",
   "version": "2.7.12"
  }
 },
 "nbformat": 4,
 "nbformat_minor": 0
}
