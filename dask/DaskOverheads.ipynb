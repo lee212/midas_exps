{
 "cells": [
  {
   "cell_type": "code",
   "execution_count": 1,
   "metadata": {
    "collapsed": false,
    "deletable": true,
    "editable": true
   },
   "outputs": [
    {
     "data": {
      "text/html": [
       "<style>.container { width:100% !important; }</style>"
      ],
      "text/plain": [
       "<IPython.core.display.HTML object>"
      ]
     },
     "metadata": {},
     "output_type": "display_data"
    }
   ],
   "source": [
    "%matplotlib inline\n",
    "import numpy as np\n",
    "import matplotlib.pyplot as plt\n",
    "import pandas\n",
    "\n",
    "from IPython.core.display import display, HTML\n",
    "display(HTML(\"<style>.container { width:100% !important; }</style>\"))"
   ]
  },
  {
   "cell_type": "code",
   "execution_count": 2,
   "metadata": {
    "collapsed": false,
    "deletable": true,
    "editable": true
   },
   "outputs": [],
   "source": [
    "def ExecutionTimes(profiles):\n",
    "    delays = np.array([])\n",
    "    for profile in profiles:\n",
    "        start_times = profile[1]\n",
    "        times = start_times[:,1]-start_times[:,0]\n",
    "        times = times.sum()\n",
    "        overhead = profile[0][1]-profile[0][0]-times\n",
    "        delays = np.append(delays,[overhead,times])\n",
    "        \n",
    "    return delays\n",
    "\n",
    "def SchedulerDelayDist(profiles,measure='start'):\n",
    "    delays = np.array([])\n",
    "    if measure == 'end':\n",
    "        index = 1\n",
    "    else:\n",
    "        index = 0\n",
    "    \n",
    "    for profile in profiles:\n",
    "        times = profile[1][:,index]\n",
    "        times.sort()\n",
    "        times = times-times[0]\n",
    "        delays = np.append(delays,times)\n",
    "    \n",
    "    return delays\n"
   ]
  },
  {
   "cell_type": "code",
   "execution_count": 3,
   "metadata": {
    "collapsed": false
   },
   "outputs": [
    {
     "name": "stdout",
     "output_type": "stream",
     "text": [
      "[ 65.07927251   9.34350038]\n"
     ]
    }
   ],
   "source": [
    "a=np.load('Comet/1node20procs/timings_1p_01.npz.npy')\n",
    "b =ExecutionTimes([a])\n",
    "print b\n"
   ]
  },
  {
   "cell_type": "code",
   "execution_count": 4,
   "metadata": {
    "collapsed": false
   },
   "outputs": [],
   "source": [
    "# Dask Distributed Comet 24 cores\n",
    "Cprofiles24_dist_1p_1=list()\n",
    "Cprofiles24_dist_2p_1=list()\n",
    "Cprofiles24_dist_3p_1=list()\n",
    "Cprofiles24_dist_4p_1=list()\n",
    "Cprofiles24_dist_6p_1=list()\n",
    "Cprofiles24_dist_8p_1=list()\n",
    "Cprofiles24_dist_12p_1=list()\n",
    "Cprofiles24_dist_24p_1=list()\n",
    "\n",
    "Cprofiles24_dist_1p_2=list()\n",
    "Cprofiles24_dist_2p_2=list()\n",
    "Cprofiles24_dist_3p_2=list()\n",
    "Cprofiles24_dist_4p_2=list()\n",
    "Cprofiles24_dist_6p_2=list()\n",
    "Cprofiles24_dist_8p_2=list()\n",
    "Cprofiles24_dist_12p_2=list()\n",
    "Cprofiles24_dist_24p_2=list()\n",
    "\n",
    "Cprofiles24_dist_1p_3=list()\n",
    "Cprofiles24_dist_2p_3=list()\n",
    "Cprofiles24_dist_3p_3=list()\n",
    "Cprofiles24_dist_4p_3=list()\n",
    "Cprofiles24_dist_6p_3=list()\n",
    "Cprofiles24_dist_8p_3=list()\n",
    "Cprofiles24_dist_12p_3=list()\n",
    "Cprofiles24_dist_24p_3=list()\n",
    "\n",
    "Cprofiles24_dist_1p_4=list()\n",
    "Cprofiles24_dist_2p_4=list()\n",
    "Cprofiles24_dist_3p_4=list()\n",
    "Cprofiles24_dist_4p_4=list()\n",
    "Cprofiles24_dist_6p_4=list()\n",
    "Cprofiles24_dist_8p_4=list()\n",
    "Cprofiles24_dist_12p_4=list()\n",
    "Cprofiles24_dist_24p_4=list()\n",
    "\n",
    "\n",
    "for i in range(0,10):\n",
    "    Cprofiles24_dist_1p_1.append(np.load('Comet/1node24procs/timings_1p_%02d.npz.npy'%(i+1)))\n",
    "    Cprofiles24_dist_2p_1.append(np.load('Comet/1node24procs/timings_2p_%02d.npz.npy'%(i+1)))\n",
    "    Cprofiles24_dist_3p_1.append(np.load('Comet/1node24procs/timings_3p_%02d.npz.npy'%(i+1)))\n",
    "    Cprofiles24_dist_4p_1.append(np.load('Comet/1node24procs/timings_4p_%02d.npz.npy'%(i+1)))\n",
    "    Cprofiles24_dist_6p_1.append(np.load('Comet/1node24procs/timings_6p_%02d.npz.npy'%(i+1)))\n",
    "    Cprofiles24_dist_8p_1.append(np.load('Comet/1node24procs/timings_8p_%02d.npz.npy'%(i+1)))\n",
    "    Cprofiles24_dist_12p_1.append(np.load('Comet/1node24procs/timings_12p_%02d.npz.npy'%(i+1)))\n",
    "    Cprofiles24_dist_24p_1.append(np.load('Comet/1node24procs/timings_24p_%02d.npz.npy'%(i+1)))\n",
    "\n",
    "for i in range(0,10):\n",
    "    Cprofiles24_dist_1p_2.append(np.load('Comet/2nodes24procs/timings_1p_%02d.npz.npy'%(i+1)))\n",
    "    Cprofiles24_dist_2p_2.append(np.load('Comet/2nodes24procs/timings_2p_%02d.npz.npy'%(i+1)))\n",
    "    Cprofiles24_dist_3p_2.append(np.load('Comet/2nodes24procs/timings_3p_%02d.npz.npy'%(i+1)))\n",
    "    Cprofiles24_dist_4p_2.append(np.load('Comet/2nodes24procs/timings_4p_%02d.npz.npy'%(i+1)))\n",
    "    Cprofiles24_dist_6p_2.append(np.load('Comet/2nodes24procs/timings_6p_%02d.npz.npy'%(i+1)))\n",
    "    Cprofiles24_dist_8p_2.append(np.load('Comet/2nodes24procs/timings_8p_%02d.npz.npy'%(i+1)))\n",
    "    Cprofiles24_dist_12p_2.append(np.load('Comet/2nodes24procs/timings_12p_%02d.npz.npy'%(i+1)))\n",
    "    Cprofiles24_dist_24p_2.append(np.load('Comet/2nodes24procs/timings_24p_%02d.npz.npy'%(i+1)))\n",
    "\n",
    "for i in range(0,10):\n",
    "    Cprofiles24_dist_1p_3.append(np.load('Comet/3nodes24procs/timings_1p_%02d.npz.npy'%(i+1)))\n",
    "    Cprofiles24_dist_2p_3.append(np.load('Comet/3nodes24procs/timings_2p_%02d.npz.npy'%(i+1)))\n",
    "    Cprofiles24_dist_3p_3.append(np.load('Comet/3nodes24procs/timings_3p_%02d.npz.npy'%(i+1)))\n",
    "    Cprofiles24_dist_4p_3.append(np.load('Comet/3nodes24procs/timings_4p_%02d.npz.npy'%(i+1)))\n",
    "    Cprofiles24_dist_6p_3.append(np.load('Comet/3nodes24procs/timings_6p_%02d.npz.npy'%(i+1)))\n",
    "    Cprofiles24_dist_8p_3.append(np.load('Comet/3nodes24procs/timings_8p_%02d.npz.npy'%(i+1)))\n",
    "    Cprofiles24_dist_12p_3.append(np.load('Comet/3nodes24procs/timings_12p_%02d.npz.npy'%(i+1)))\n",
    "    Cprofiles24_dist_24p_3.append(np.load('Comet/3nodes24procs/timings_24p_%02d.npz.npy'%(i+1)))\n",
    "\n",
    "for i in range(0,10):\n",
    "    Cprofiles24_dist_1p_4.append(np.load('Comet/4nodes24procs/timings_1p_%02d.npz.npy'%(i+1)))\n",
    "    Cprofiles24_dist_2p_4.append(np.load('Comet/4nodes24procs/timings_2p_%02d.npz.npy'%(i+1)))\n",
    "    Cprofiles24_dist_3p_4.append(np.load('Comet/4nodes24procs/timings_3p_%02d.npz.npy'%(i+1)))\n",
    "    Cprofiles24_dist_4p_4.append(np.load('Comet/4nodes24procs/timings_4p_%02d.npz.npy'%(i+1)))\n",
    "    Cprofiles24_dist_6p_4.append(np.load('Comet/4nodes24procs/timings_6p_%02d.npz.npy'%(i+1)))\n",
    "    Cprofiles24_dist_8p_4.append(np.load('Comet/4nodes24procs/timings_8p_%02d.npz.npy'%(i+1)))\n",
    "    Cprofiles24_dist_12p_4.append(np.load('Comet/4nodes24procs/timings_12p_%02d.npz.npy'%(i+1)))\n",
    "    Cprofiles24_dist_24p_4.append(np.load('Comet/4nodes24procs/timings_24p_%02d.npz.npy'%(i+1)))"
   ]
  },
  {
   "cell_type": "code",
   "execution_count": 5,
   "metadata": {
    "collapsed": true
   },
   "outputs": [],
   "source": [
    "# Dask Distributed SuperMic\n",
    "Sprofiles_dist_1p_1=list()\n",
    "Sprofiles_dist_2p_1=list()\n",
    "Sprofiles_dist_4p_1=list()\n",
    "Sprofiles_dist_5p_1=list()\n",
    "Sprofiles_dist_10p_1=list()\n",
    "Sprofiles_dist_20p_1=list()\n",
    "\n",
    "Sprofiles_dist_1p_2=list()\n",
    "Sprofiles_dist_2p_2=list()\n",
    "Sprofiles_dist_4p_2=list()\n",
    "Sprofiles_dist_5p_2=list()\n",
    "Sprofiles_dist_10p_2=list()\n",
    "Sprofiles_dist_20p_2=list()\n",
    "\n",
    "Sprofiles_dist_1p_3=list()\n",
    "Sprofiles_dist_2p_3=list()\n",
    "Sprofiles_dist_4p_3=list()\n",
    "Sprofiles_dist_5p_3=list()\n",
    "Sprofiles_dist_10p_3=list()\n",
    "Sprofiles_dist_20p_3=list()\n",
    "\n",
    "Sprofiles_dist_1p_4=list()\n",
    "Sprofiles_dist_2p_4=list()\n",
    "Sprofiles_dist_4p_4=list()\n",
    "Sprofiles_dist_5p_4=list()\n",
    "Sprofiles_dist_10p_4=list()\n",
    "Sprofiles_dist_20p_4=list()\n",
    "\n",
    "\n",
    "for i in range(0,10):\n",
    "    Sprofiles_dist_1p_1.append(np.load('SuperMic/1node/timings_1p_%02d.npz.npy'%(i+1)))\n",
    "    Sprofiles_dist_2p_1.append(np.load('SuperMic/1node/timings_2p_%02d.npz.npy'%(i+1)))\n",
    "    Sprofiles_dist_4p_1.append(np.load('SuperMic/1node/timings_4p_%02d.npz.npy'%(i+1)))\n",
    "    Sprofiles_dist_5p_1.append(np.load('SuperMic/1node/timings_5p_%02d.npz.npy'%(i+1)))\n",
    "    Sprofiles_dist_10p_1.append(np.load('SuperMic/1node/timings_10p_%02d.npz.npy'%(i+1)))\n",
    "    Sprofiles_dist_20p_1.append(np.load('SuperMic/1node/timings_20p_%02d.npz.npy'%(i+1)))\n",
    "    \n",
    "for i in range(0,10):\n",
    "    Sprofiles_dist_1p_2.append(np.load('SuperMic/2nodes/timings_1p_%02d.npz.npy'%(i+1)))\n",
    "    Sprofiles_dist_2p_2.append(np.load('SuperMic/2nodes/timings_2p_%02d.npz.npy'%(i+1)))\n",
    "    Sprofiles_dist_4p_2.append(np.load('SuperMic/2nodes/timings_4p_%02d.npz.npy'%(i+1)))\n",
    "    Sprofiles_dist_5p_2.append(np.load('SuperMic/2nodes/timings_5p_%02d.npz.npy'%(i+1)))\n",
    "    Sprofiles_dist_10p_2.append(np.load('SuperMic/2nodes/timings_10p_%02d.npz.npy'%(i+1)))\n",
    "    Sprofiles_dist_20p_2.append(np.load('SuperMic/2nodes/timings_20p_%02d.npz.npy'%(i+1)))\n",
    "\n",
    "for i in range(0,10):\n",
    "    Sprofiles_dist_1p_3.append(np.load('SuperMic/3nodes/timings_1p_%02d.npz.npy'%(i+1)))\n",
    "    Sprofiles_dist_2p_3.append(np.load('SuperMic/3nodes/timings_2p_%02d.npz.npy'%(i+1)))\n",
    "    Sprofiles_dist_4p_3.append(np.load('SuperMic/3nodes/timings_4p_%02d.npz.npy'%(i+1)))\n",
    "    Sprofiles_dist_5p_3.append(np.load('SuperMic/3nodes/timings_5p_%02d.npz.npy'%(i+1)))\n",
    "    Sprofiles_dist_10p_3.append(np.load('SuperMic/3nodes/timings_10p_%02d.npz.npy'%(i+1)))\n",
    "    Sprofiles_dist_20p_3.append(np.load('SuperMic/3nodes/timings_20p_%02d.npz.npy'%(i+1)))\n",
    "\n",
    "for i in range(0,10):\n",
    "    Sprofiles_dist_1p_4.append(np.load('SuperMic/4nodes/timings_1p_%02d.npz.npy'%(i+1)))\n",
    "    Sprofiles_dist_2p_4.append(np.load('SuperMic/4nodes/timings_2p_%02d.npz.npy'%(i+1)))\n",
    "    Sprofiles_dist_4p_4.append(np.load('SuperMic/4nodes/timings_4p_%02d.npz.npy'%(i+1)))\n",
    "    Sprofiles_dist_5p_4.append(np.load('SuperMic/4nodes/timings_5p_%02d.npz.npy'%(i+1)))\n",
    "    Sprofiles_dist_10p_4.append(np.load('SuperMic/4nodes/timings_10p_%02d.npz.npy'%(i+1)))\n",
    "    Sprofiles_dist_20p_4.append(np.load('SuperMic/4nodes/timings_20p_%02d.npz.npy'%(i+1)))\n"
   ]
  },
  {
   "cell_type": "code",
   "execution_count": 6,
   "metadata": {
    "collapsed": false
   },
   "outputs": [],
   "source": [
    "# Dask Distributed Comet 24 procs\n",
    "DistHistC24_1p_1 = ExecutionTimes(Cprofiles24_dist_1p_1).reshape(10,2)\n",
    "DistHistC24_2p_1 = ExecutionTimes(Cprofiles24_dist_2p_1).reshape(10,2)\n",
    "DistHistC24_3p_1 = ExecutionTimes(Cprofiles24_dist_3p_1).reshape(10,2)\n",
    "DistHistC24_4p_1 = ExecutionTimes(Cprofiles24_dist_4p_1).reshape(10,2)\n",
    "DistHistC24_6p_1 = ExecutionTimes(Cprofiles24_dist_6p_1).reshape(10,2)\n",
    "DistHistC24_8p_1 = ExecutionTimes(Cprofiles24_dist_8p_1).reshape(10,2)\n",
    "DistHistC24_12p_1 = ExecutionTimes(Cprofiles24_dist_12p_1).reshape(10,2)\n",
    "DistHistC24_24p_1 = ExecutionTimes(Cprofiles24_dist_24p_1).reshape(10,2)\n",
    "\n",
    "DistHistC24_1p_2 = ExecutionTimes(Cprofiles24_dist_1p_2).reshape(10,2)\n",
    "DistHistC24_2p_2 = ExecutionTimes(Cprofiles24_dist_2p_2).reshape(10,2)\n",
    "DistHistC24_3p_2 = ExecutionTimes(Cprofiles24_dist_3p_2).reshape(10,2)\n",
    "DistHistC24_4p_2 = ExecutionTimes(Cprofiles24_dist_4p_2).reshape(10,2)\n",
    "DistHistC24_6p_2 = ExecutionTimes(Cprofiles24_dist_6p_2).reshape(10,2)\n",
    "DistHistC24_8p_2 = ExecutionTimes(Cprofiles24_dist_8p_2).reshape(10,2)\n",
    "DistHistC24_12p_2 = ExecutionTimes(Cprofiles24_dist_12p_2).reshape(10,2)\n",
    "DistHistC24_24p_2 = ExecutionTimes(Cprofiles24_dist_24p_2).reshape(10,2)\n",
    "\n",
    "DistHistC24_1p_3 = ExecutionTimes(Cprofiles24_dist_1p_3).reshape(10,2)\n",
    "DistHistC24_2p_3 = ExecutionTimes(Cprofiles24_dist_2p_3).reshape(10,2)\n",
    "DistHistC24_3p_3 = ExecutionTimes(Cprofiles24_dist_3p_3).reshape(10,2)\n",
    "DistHistC24_4p_3 = ExecutionTimes(Cprofiles24_dist_4p_3).reshape(10,2)\n",
    "DistHistC24_6p_3 = ExecutionTimes(Cprofiles24_dist_6p_3).reshape(10,2)\n",
    "DistHistC24_8p_3 = ExecutionTimes(Cprofiles24_dist_8p_3).reshape(10,2)\n",
    "DistHistC24_12p_3 = ExecutionTimes(Cprofiles24_dist_12p_3).reshape(10,2)\n",
    "DistHistC24_24p_3 = ExecutionTimes(Cprofiles24_dist_24p_3).reshape(10,2)\n",
    "\n",
    "DistHistC24_1p_4 = ExecutionTimes(Cprofiles24_dist_1p_4).reshape(10,2)\n",
    "DistHistC24_2p_4 = ExecutionTimes(Cprofiles24_dist_2p_4).reshape(10,2)\n",
    "DistHistC24_3p_4 = ExecutionTimes(Cprofiles24_dist_3p_4).reshape(10,2)\n",
    "DistHistC24_4p_4 = ExecutionTimes(Cprofiles24_dist_4p_4).reshape(10,2)\n",
    "DistHistC24_6p_4 = ExecutionTimes(Cprofiles24_dist_6p_4).reshape(10,2)\n",
    "DistHistC24_8p_4 = ExecutionTimes(Cprofiles24_dist_8p_4).reshape(10,2)\n",
    "DistHistC24_12p_4 = ExecutionTimes(Cprofiles24_dist_12p_4).reshape(10,2)\n",
    "DistHistC24_24p_4 = ExecutionTimes(Cprofiles24_dist_24p_4).reshape(10,2)\n"
   ]
  },
  {
   "cell_type": "code",
   "execution_count": 7,
   "metadata": {
    "collapsed": true
   },
   "outputs": [],
   "source": [
    "# Dask Distributed SuperMic\n",
    "DistHistS_1p_1 = ExecutionTimes(Sprofiles_dist_1p_1).reshape(10,2)\n",
    "DistHistS_2p_1 = ExecutionTimes(Sprofiles_dist_2p_1).reshape(10,2)\n",
    "DistHistS_4p_1 = ExecutionTimes(Sprofiles_dist_4p_1).reshape(10,2)\n",
    "DistHistS_5p_1 = ExecutionTimes(Sprofiles_dist_5p_1).reshape(10,2)\n",
    "DistHistS_10p_1 = ExecutionTimes(Sprofiles_dist_10p_1).reshape(10,2)\n",
    "DistHistS_20p_1 = ExecutionTimes(Sprofiles_dist_20p_1).reshape(10,2)\n",
    "\n",
    "DistHistS_1p_2 = ExecutionTimes(Sprofiles_dist_1p_2).reshape(10,2)\n",
    "DistHistS_2p_2 = ExecutionTimes(Sprofiles_dist_2p_2).reshape(10,2)\n",
    "DistHistS_4p_2 = ExecutionTimes(Sprofiles_dist_4p_2).reshape(10,2)\n",
    "DistHistS_5p_2 = ExecutionTimes(Sprofiles_dist_5p_2).reshape(10,2)\n",
    "DistHistS_10p_2 = ExecutionTimes(Sprofiles_dist_10p_2).reshape(10,2)\n",
    "DistHistS_20p_2 = ExecutionTimes(Sprofiles_dist_20p_2).reshape(10,2)\n",
    "\n",
    "DistHistS_1p_3 = ExecutionTimes(Sprofiles_dist_1p_3).reshape(10,2)\n",
    "DistHistS_2p_3 = ExecutionTimes(Sprofiles_dist_2p_3).reshape(10,2)\n",
    "DistHistS_4p_3 = ExecutionTimes(Sprofiles_dist_4p_3).reshape(10,2)\n",
    "DistHistS_5p_3 = ExecutionTimes(Sprofiles_dist_5p_3).reshape(10,2)\n",
    "DistHistS_10p_3 = ExecutionTimes(Sprofiles_dist_10p_3).reshape(10,2)\n",
    "DistHistS_20p_3 = ExecutionTimes(Sprofiles_dist_20p_3).reshape(10,2)\n",
    "\n",
    "DistHistS_1p_4 = ExecutionTimes(Sprofiles_dist_1p_4).reshape(10,2)\n",
    "DistHistS_2p_4 = ExecutionTimes(Sprofiles_dist_2p_4).reshape(10,2)\n",
    "DistHistS_4p_4 = ExecutionTimes(Sprofiles_dist_4p_4).reshape(10,2)\n",
    "DistHistS_5p_4 = ExecutionTimes(Sprofiles_dist_5p_4).reshape(10,2)\n",
    "DistHistS_10p_4 = ExecutionTimes(Sprofiles_dist_10p_4).reshape(10,2)\n",
    "DistHistS_20p_4 = ExecutionTimes(Sprofiles_dist_20p_4).reshape(10,2)\n"
   ]
  },
  {
   "cell_type": "code",
   "execution_count": null,
   "metadata": {
    "collapsed": false,
    "deletable": true,
    "editable": true
   },
   "outputs": [
    {
     "data": {
      "image/png": "[encoded data removed]",
      "text/plain": [
       "<matplotlib.figure.Figure at 0x10e5d6110>"
      ]
     },
     "metadata": {},
     "output_type": "display_data"
    }
   ],
   "source": [
    "plt.figure()\n",
    "plt.plot(range(1,5),[DistHistS_1p_1[0].mean(),DistHistS_1p_2[0].mean(),DistHistS_1p_3[0].mean(),DistHistS_1p_4[0].mean()],label='1 Workers Proc')\n",
    "plt.plot(range(1,5),[DistHistS_2p_1[0].mean(),DistHistS_2p_2[0].mean(),DistHistS_2p_3[0].mean(),DistHistS_2p_4[0].mean()],label='2 Workers Proc')\n",
    "plt.plot(range(1,5),[DistHistS_4p_1[0].mean(),DistHistS_4p_2[0].mean(),DistHistS_4p_3[0].mean(),DistHistS_4p_4[0].mean()],label='4 Workers Proc')\n",
    "plt.plot(range(1,5),[DistHistS_5p_1[0].mean(),DistHistS_5p_2[0].mean(),DistHistS_5p_3[0].mean(),DistHistS_5p_4[0].mean()],label='5 Workers Proc')\n",
    "plt.plot(range(1,5),[DistHistS_10p_1[0].mean(),DistHistS_10p_2[0].mean(),DistHistS_10p_3[0].mean(),DistHistS_10p_4[0].mean()],label='10 Workers Proc')\n",
    "plt.plot(range(1,5),[DistHistS_20p_1[0].mean(),DistHistS_20p_2[0].mean(),DistHistS_20p_3[0].mean(),DistHistS_20p_4[0].mean()],label='20 Workers Proc')\n",
    "plt.title('Dask Overhead vs Number of Nodes\\nper number of worker processes per node\\nSuperMic,100000 tasks.')\n",
    "plt.xlabel('Nodes')\n",
    "plt.xticks([1,2,3,4])\n",
    "plt.ylabel('Time (sec)')\n",
    "plt.legend()\n",
    "plt.savefig('DaskOverHead100KSuperMic.png',dpi=800)\n"
   ]
  },
  {
   "cell_type": "code",
   "execution_count": null,
   "metadata": {
    "collapsed": false,
    "scrolled": false
   },
   "outputs": [],
   "source": [
    "plt.figure()\n",
    "plt.plot(range(1,5),[DistHistC24_1p_1[0].mean(),DistHistC24_1p_2[0].mean(),DistHistC24_1p_3[0].mean(),DistHistC24_1p_4[0].mean()],label='1 Workers Proc')\n",
    "plt.plot(range(1,5),[DistHistC24_2p_1[0].mean(),DistHistC24_2p_2[0].mean(),DistHistC24_2p_3[0].mean(),DistHistC24_2p_4[0].mean()],label='2 Workers Proc')\n",
    "plt.plot(range(1,5),[DistHistC24_3p_1[0].mean(),DistHistC24_3p_2[0].mean(),DistHistC24_3p_3[0].mean(),DistHistC24_2p_4[0].mean()],label='3 Workers Proc')\n",
    "plt.plot(range(1,5),[DistHistC24_4p_1[0].mean(),DistHistC24_4p_2[0].mean(),DistHistC24_4p_3[0].mean(),DistHistC24_4p_4[0].mean()],label='4 Workers Proc')\n",
    "plt.plot(range(1,5),[DistHistC24_6p_1[0].mean(),DistHistC24_6p_2[0].mean(),DistHistC24_6p_3[0].mean(),DistHistC24_6p_4[0].mean()],label='6 Workers Proc')\n",
    "plt.plot(range(1,5),[DistHistC24_8p_1[0].mean(),DistHistC24_8p_2[0].mean(),DistHistC24_8p_3[0].mean(),DistHistC24_8p_4[0].mean()],label='8 Workers Proc')\n",
    "plt.plot(range(1,5),[DistHistC24_12p_1[0].mean(),DistHistC24_12p_2[0].mean(),DistHistC24_12p_3[0].mean(),DistHistC24_12p_4[0].mean()],label='12 Workers Proc')\n",
    "plt.plot(range(1,5),[DistHistC24_24p_1[0].mean(),DistHistC24_24p_2[0].mean(),DistHistC24_24p_3[0].mean(),DistHistC24_24p_4[0].mean()],label='24 Workers Proc')\n",
    "plt.title('Dask Overhead vs Number of Nodes\\nper number of worker processes per node\\nComet,100000 tasks.')\n",
    "plt.xlabel('Nodes')\n",
    "plt.xticks([1,2,3,4])\n",
    "plt.ylabel('Time (sec)')\n",
    "plt.legend()\n",
    "plt.savefig('DaskOverHead100KComet.png',dpi=800)"
   ]
  }
 ],
 "metadata": {
  "kernelspec": {
   "display_name": "Python 2",
   "language": "python",
   "name": "python2"
  },
  "language_info": {
   "codemirror_mode": {
    "name": "ipython",
    "version": 2
   },
   "file_extension": ".py",
   "mimetype": "text/x-python",
   "name": "python",
   "nbconvert_exporter": "python",
   "pygments_lexer": "ipython2",
   "version": "2.7.13"
  }
 },
 "nbformat": 4,
 "nbformat_minor": 2
}
