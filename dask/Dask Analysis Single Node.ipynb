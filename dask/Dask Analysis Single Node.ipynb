{
 "cells": [
  {
   "cell_type": "code",
   "execution_count": 2,
   "metadata": {
    "collapsed": false,
    "deletable": true,
    "editable": true
   },
   "outputs": [],
   "source": [
    "%matplotlib inline\n",
    "import numpy as np\n",
    "import matplotlib.pyplot as plt\n",
    "import pandas\n"
   ]
  },
  {
   "cell_type": "code",
   "execution_count": 35,
   "metadata": {
    "collapsed": true,
    "deletable": true,
    "editable": true
   },
   "outputs": [],
   "source": [
    "def DaskProfReader(filename):\n",
    "    filename = open(filename,'r')\n",
    "    timestamps=list()\n",
    "    for line in filename:\n",
    "        for item in line.split():\n",
    "            if item.startswith('start_time'):\n",
    "                timestamp1=float(item.split('=')[1].split(',')[0])\n",
    "            elif item.startswith('end_time'):\n",
    "                timestamp2=float(item.split('=')[1].split(',')[0])\n",
    "        timestamps.append([timestamp1,timestamp2])\n",
    "    \n",
    "    filename.close()\n",
    "    \n",
    "    return np.array(timestamps)\n",
    "    "
   ]
  },
  {
   "cell_type": "code",
   "execution_count": 3,
   "metadata": {
    "collapsed": true,
    "deletable": true,
    "editable": true
   },
   "outputs": [],
   "source": [
    "# Dask Distributed\n",
    "profiles_dist=list()\n",
    "\n",
    "for i in range(0,10):\n",
    "    profiles_dist.append(np.load('Stampede/timings_16_1_%02d.npz.npy'%(i+1)))"
   ]
  },
  {
   "cell_type": "code",
   "execution_count": 36,
   "metadata": {
    "collapsed": false,
    "deletable": true,
    "editable": true,
    "scrolled": false
   },
   "outputs": [],
   "source": [
    "# Dask Multiprocessing\n",
    "profiles_multi=list()\n",
    "\n",
    "for i in range(0,10):\n",
    "    profiles_multi.append(DaskProfReader('Stampede/multiproc_prof%02d'%i))"
   ]
  },
  {
   "cell_type": "code",
   "execution_count": 37,
   "metadata": {
    "collapsed": true
   },
   "outputs": [],
   "source": [
    "# Dask Threading\n",
    "profiles_thread=list()\n",
    "\n",
    "for i in range(0,10):\n",
    "    profiles_thread.append(DaskProfReader('Stampede/threaded_prof%02d'%i))"
   ]
  },
  {
   "cell_type": "code",
   "execution_count": 38,
   "metadata": {
    "collapsed": false
   },
   "outputs": [
    {
     "name": "stdout",
     "output_type": "stream",
     "text": [
      "Dask Analysis Single Node.ipynb  \u001b[34mStampede\u001b[m\u001b[m/\r\n",
      "README.md\r\n"
     ]
    }
   ],
   "source": []
  },
  {
   "cell_type": "code",
   "execution_count": 29,
   "metadata": {
    "collapsed": false
   },
   "outputs": [
    {
     "data": {
      "text/plain": [
       "60.073337078094482"
      ]
     },
     "execution_count": 29,
     "metadata": {},
     "output_type": "execute_result"
    }
   ],
   "source": []
  }
 ],
 "metadata": {
  "kernelspec": {
   "display_name": "Python 2",
   "language": "python",
   "name": "python2"
  },
  "language_info": {
   "codemirror_mode": {
    "name": "ipython",
    "version": 2
   },
   "file_extension": ".py",
   "mimetype": "text/x-python",
   "name": "python",
   "nbconvert_exporter": "python",
   "pygments_lexer": "ipython2",
   "version": "2.7.13"
  }
 },
 "nbformat": 4,
 "nbformat_minor": 2
}
