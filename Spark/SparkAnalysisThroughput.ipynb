{
 "cells": [
  {
   "cell_type": "code",
   "execution_count": 1,
   "metadata": {
    "collapsed": false,
    "deletable": true,
    "editable": true
   },
   "outputs": [],
   "source": [
    "%matplotlib inline\n",
    "import numpy as np\n",
    "import matplotlib.pyplot as plt\n",
    "import pandas\n"
   ]
  },
  {
   "cell_type": "code",
   "execution_count": 2,
   "metadata": {
    "collapsed": true
   },
   "outputs": [],
   "source": [
    "import numpy as np\n",
    "import pandas as pd\n",
    "\n",
    "def PandasListToArray(DataFrames):\n",
    "    exps = len(DataFrames)\n",
    "    array  = np.zeros((exps,DataFrames[0]['LaunchTime'].count()))\n",
    "    \n",
    "    for i in range(0,exps):\n",
    "        exp = DataFrames[i]['LaunchTime'].values\n",
    "        exp.sort()\n",
    "        exp = (exp - exp[0])/1000\n",
    "        array[i,:] = exp\n",
    "    \n",
    "    return array\n",
    "        \n",
    "\n",
    "def TaskPerSecHist(array):\n",
    "    exps = array.shape[0]\n",
    "    temp = list()\n",
    "    maxlen=0\n",
    "    for i in range(0,exps):\n",
    "        c =[0]\n",
    "        sec =1\n",
    "        for j in range(1,array.shape[1]):\n",
    "            if array[i,j-1]<sec:\n",
    "                c[sec-1]+=1\n",
    "            else:\n",
    "                sec+=1\n",
    "                c.append(1)\n",
    "        if len(c)> maxlen:\n",
    "            maxlen=len(c)\n",
    "        temp.append(c)\n",
    "        \n",
    "    hists = np.zeros((exps,maxlen))\n",
    "    for i in range(0,exps):\n",
    "        hists[i,0:len(temp[i])]=temp[i]\n",
    "    \n",
    "    return hists"
   ]
  },
  {
   "cell_type": "code",
   "execution_count": 3,
   "metadata": {
    "collapsed": true,
    "deletable": true,
    "editable": true
   },
   "outputs": [],
   "source": [
    "profiles_spark_16=list()\n",
    "profiles_spark_32=list()\n",
    "profiles_spark_48=list()\n",
    "profiles_spark_64=list()\n",
    "for i in range(0,10):\n",
    "    profiles_spark_16.append(pd.DataFrame.from_csv('SparkThroughput/Exp1nodeS%02d.csv'%(i)))\n",
    "    profiles_spark_32.append(pd.DataFrame.from_csv('SparkThroughput/Exp2nodeS%02d.csv'%(i)))\n",
    "    profiles_spark_48.append(pd.DataFrame.from_csv('SparkThroughput/Exp3nodeS%02d.csv'%(i)))\n",
    "    profiles_spark_64.append(pd.DataFrame.from_csv('SparkThroughput/Exp4nodeS%02d.csv'%(i)))"
   ]
  },
  {
   "cell_type": "code",
   "execution_count": 4,
   "metadata": {
    "collapsed": true
   },
   "outputs": [],
   "source": [
    "prof_16_array = PandasListToArray(profiles_spark_16)\n",
    "prof_32_array = PandasListToArray(profiles_spark_32)\n",
    "prof_48_array = PandasListToArray(profiles_spark_48)\n",
    "prof_64_array = PandasListToArray(profiles_spark_64)"
   ]
  },
  {
   "cell_type": "code",
   "execution_count": 5,
   "metadata": {
    "collapsed": true
   },
   "outputs": [],
   "source": [
    "throughput_16 = TaskPerSecHist(prof_16_array)\n",
    "throughput_32 = TaskPerSecHist(prof_32_array)\n",
    "throughput_48 = TaskPerSecHist(prof_48_array)\n",
    "throughput_64 = TaskPerSecHist(prof_64_array)"
   ]
  },
  {
   "cell_type": "code",
   "execution_count": 6,
   "metadata": {
    "collapsed": false
   },
   "outputs": [
    {
     "data": {
      "image/png": "[encoded data removed]",
      "text/plain": [
       "<matplotlib.figure.Figure at 0x1144913d0>"
      ]
     },
     "metadata": {},
     "output_type": "display_data"
    }
   ],
   "source": [
    "plt.figure()\n",
    "plt.errorbar(range(0,throughput_16.shape[1]),throughput_16.mean(0),yerr=throughput_16.std(0),label='1 node')\n",
    "plt.errorbar(range(0,throughput_32.shape[1]),throughput_32.mean(0),yerr=throughput_32.std(0),label='2 nodes')\n",
    "plt.errorbar(range(0,throughput_48.shape[1]),throughput_48.mean(0),yerr=throughput_48.std(0),label='3 nodes')\n",
    "plt.errorbar(range(0,throughput_64.shape[1]),throughput_64.mean(0),yerr=throughput_64.std(0),label='4 nodes')\n",
    "plt.legend()\n",
    "plt.title('Spark Task Throughput versus Number of Nodes.\\nStampede.')\n",
    "plt.ylabel('Tasks')\n",
    "plt.xlabel('Time (secs)')\n",
    "plt.savefig('SparkThroughputvsNodes.pdf',dpi=800,bbox_inches='tight')\n",
    "plt.savefig('SparkThroughputvsNodes.png',dpi=800,bbox_inches='tight')"
   ]
  }
 ],
 "metadata": {
  "kernelspec": {
   "display_name": "Python 2",
   "language": "python",
   "name": "python2"
  },
  "language_info": {
   "codemirror_mode": {
    "name": "ipython",
    "version": 2
   },
   "file_extension": ".py",
   "mimetype": "text/x-python",
   "name": "python",
   "nbconvert_exporter": "python",
   "pygments_lexer": "ipython2",
   "version": "2.7.13"
  }
 },
 "nbformat": 4,
 "nbformat_minor": 2
}
